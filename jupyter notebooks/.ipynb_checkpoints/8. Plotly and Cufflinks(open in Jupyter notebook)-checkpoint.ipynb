{
 "cells": [
  {
   "cell_type": "markdown",
   "metadata": {},
   "source": [
    "___\n",
    "\n",
    "<a href='http://www.pieriandata.com'> <img src='../Pierian_Data_Logo.png' /></a>\n",
    "___\n",
    "# Plotly and Cufflinks"
   ]
  },
  {
   "cell_type": "markdown",
   "metadata": {},
   "source": [
    "Plotly is a library that allows you to create interactive plots that you can use in dashboards or websites (you can save them as html files or static images).\n",
    "\n",
    "## Installation\n",
    "\n",
    "In order for this all to work, you'll need to install plotly and cufflinks to call plots directly off of a pandas dataframe. These libraries are not currently available through **conda** but are available through **pip**. Install the libraries at your command line/terminal using:\n",
    "\n",
    "    pip install plotly\n",
    "    pip install cufflinks\n",
    "\n",
    "** NOTE: Make sure you only have one installation of Python on your computer when you do this, otherwise the installation may not work. **\n",
    "\n",
    "## Imports and Set-up"
   ]
  },
  {
   "cell_type": "code",
   "execution_count": 1,
   "metadata": {},
   "outputs": [],
   "source": [
    "import pandas as pd\n",
    "import numpy as np\n",
    "%matplotlib inline"
   ]
  },
  {
   "cell_type": "code",
   "execution_count": 3,
   "metadata": {},
   "outputs": [
    {
     "name": "stdout",
     "output_type": "stream",
     "text": [
      "Collecting plotly\n",
      "  Using cached plotly-5.9.0-py2.py3-none-any.whl (15.2 MB)\n",
      "Requirement already satisfied: tenacity>=6.2.0 in /Users/kdadash/anaconda3/lib/python3.8/site-packages (from plotly) (8.0.1)\n",
      "Installing collected packages: plotly\n",
      "Successfully installed plotly-5.9.0\n"
     ]
    }
   ],
   "source": [
    "!pip install plotly"
   ]
  },
  {
   "cell_type": "code",
   "execution_count": 4,
   "metadata": {},
   "outputs": [
    {
     "name": "stdout",
     "output_type": "stream",
     "text": [
      "Requirement already satisfied: cufflinks in /Users/kdadash/anaconda3/lib/python3.8/site-packages (0.17.3)\n",
      "Requirement already satisfied: plotly>=4.1.1 in /Users/kdadash/anaconda3/lib/python3.8/site-packages (from cufflinks) (5.9.0)\n",
      "Requirement already satisfied: colorlover>=0.2.1 in /Users/kdadash/anaconda3/lib/python3.8/site-packages (from cufflinks) (0.3.0)\n",
      "Requirement already satisfied: numpy>=1.9.2 in /Users/kdadash/anaconda3/lib/python3.8/site-packages (from cufflinks) (1.19.5)\n",
      "Requirement already satisfied: ipython>=5.3.0 in /Users/kdadash/anaconda3/lib/python3.8/site-packages (from cufflinks) (7.18.1)\n",
      "Requirement already satisfied: setuptools>=34.4.1 in /Users/kdadash/anaconda3/lib/python3.8/site-packages (from cufflinks) (50.3.0.post20201006)\n",
      "Requirement already satisfied: six>=1.9.0 in /Users/kdadash/anaconda3/lib/python3.8/site-packages (from cufflinks) (1.15.0)\n",
      "Requirement already satisfied: pandas>=0.19.2 in /Users/kdadash/anaconda3/lib/python3.8/site-packages (from cufflinks) (1.1.3)\n",
      "Requirement already satisfied: ipywidgets>=7.0.0 in /Users/kdadash/anaconda3/lib/python3.8/site-packages (from cufflinks) (7.5.1)\n",
      "Requirement already satisfied: tenacity>=6.2.0 in /Users/kdadash/anaconda3/lib/python3.8/site-packages (from plotly>=4.1.1->cufflinks) (8.0.1)\n",
      "Requirement already satisfied: traitlets>=4.2 in /Users/kdadash/anaconda3/lib/python3.8/site-packages (from ipython>=5.3.0->cufflinks) (5.0.5)\n",
      "Requirement already satisfied: backcall in /Users/kdadash/anaconda3/lib/python3.8/site-packages (from ipython>=5.3.0->cufflinks) (0.2.0)\n",
      "Requirement already satisfied: pygments in /Users/kdadash/anaconda3/lib/python3.8/site-packages (from ipython>=5.3.0->cufflinks) (2.7.1)\n",
      "Requirement already satisfied: decorator in /Users/kdadash/anaconda3/lib/python3.8/site-packages (from ipython>=5.3.0->cufflinks) (4.4.2)\n",
      "Requirement already satisfied: prompt-toolkit!=3.0.0,!=3.0.1,<3.1.0,>=2.0.0 in /Users/kdadash/anaconda3/lib/python3.8/site-packages (from ipython>=5.3.0->cufflinks) (3.0.8)\n",
      "Requirement already satisfied: jedi>=0.10 in /Users/kdadash/anaconda3/lib/python3.8/site-packages (from ipython>=5.3.0->cufflinks) (0.17.1)\n",
      "Requirement already satisfied: pexpect>4.3; sys_platform != \"win32\" in /Users/kdadash/anaconda3/lib/python3.8/site-packages (from ipython>=5.3.0->cufflinks) (4.8.0)\n",
      "Requirement already satisfied: appnope; sys_platform == \"darwin\" in /Users/kdadash/anaconda3/lib/python3.8/site-packages (from ipython>=5.3.0->cufflinks) (0.1.0)\n",
      "Requirement already satisfied: pickleshare in /Users/kdadash/anaconda3/lib/python3.8/site-packages (from ipython>=5.3.0->cufflinks) (0.7.5)\n",
      "Requirement already satisfied: python-dateutil>=2.7.3 in /Users/kdadash/anaconda3/lib/python3.8/site-packages (from pandas>=0.19.2->cufflinks) (2.8.1)\n",
      "Requirement already satisfied: pytz>=2017.2 in /Users/kdadash/anaconda3/lib/python3.8/site-packages (from pandas>=0.19.2->cufflinks) (2020.1)\n",
      "Requirement already satisfied: nbformat>=4.2.0 in /Users/kdadash/anaconda3/lib/python3.8/site-packages (from ipywidgets>=7.0.0->cufflinks) (5.0.8)\n",
      "Requirement already satisfied: ipykernel>=4.5.1 in /Users/kdadash/anaconda3/lib/python3.8/site-packages (from ipywidgets>=7.0.0->cufflinks) (5.3.4)\n",
      "Requirement already satisfied: widgetsnbextension~=3.5.0 in /Users/kdadash/anaconda3/lib/python3.8/site-packages (from ipywidgets>=7.0.0->cufflinks) (3.5.1)\n",
      "Requirement already satisfied: ipython-genutils in /Users/kdadash/anaconda3/lib/python3.8/site-packages (from traitlets>=4.2->ipython>=5.3.0->cufflinks) (0.2.0)\n",
      "Requirement already satisfied: wcwidth in /Users/kdadash/anaconda3/lib/python3.8/site-packages (from prompt-toolkit!=3.0.0,!=3.0.1,<3.1.0,>=2.0.0->ipython>=5.3.0->cufflinks) (0.2.5)\n",
      "Requirement already satisfied: parso<0.8.0,>=0.7.0 in /Users/kdadash/anaconda3/lib/python3.8/site-packages (from jedi>=0.10->ipython>=5.3.0->cufflinks) (0.7.0)\n",
      "Requirement already satisfied: ptyprocess>=0.5 in /Users/kdadash/anaconda3/lib/python3.8/site-packages (from pexpect>4.3; sys_platform != \"win32\"->ipython>=5.3.0->cufflinks) (0.6.0)\n",
      "Requirement already satisfied: jupyter-core in /Users/kdadash/anaconda3/lib/python3.8/site-packages (from nbformat>=4.2.0->ipywidgets>=7.0.0->cufflinks) (4.6.3)\n",
      "Requirement already satisfied: jsonschema!=2.5.0,>=2.4 in /Users/kdadash/anaconda3/lib/python3.8/site-packages (from nbformat>=4.2.0->ipywidgets>=7.0.0->cufflinks) (3.2.0)\n",
      "Requirement already satisfied: jupyter-client in /Users/kdadash/anaconda3/lib/python3.8/site-packages (from ipykernel>=4.5.1->ipywidgets>=7.0.0->cufflinks) (6.1.7)\n",
      "Requirement already satisfied: tornado>=4.2 in /Users/kdadash/anaconda3/lib/python3.8/site-packages (from ipykernel>=4.5.1->ipywidgets>=7.0.0->cufflinks) (6.0.4)\n",
      "Requirement already satisfied: notebook>=4.4.1 in /Users/kdadash/anaconda3/lib/python3.8/site-packages (from widgetsnbextension~=3.5.0->ipywidgets>=7.0.0->cufflinks) (6.1.4)\n",
      "Requirement already satisfied: attrs>=17.4.0 in /Users/kdadash/anaconda3/lib/python3.8/site-packages (from jsonschema!=2.5.0,>=2.4->nbformat>=4.2.0->ipywidgets>=7.0.0->cufflinks) (20.2.0)\n",
      "Requirement already satisfied: pyrsistent>=0.14.0 in /Users/kdadash/anaconda3/lib/python3.8/site-packages (from jsonschema!=2.5.0,>=2.4->nbformat>=4.2.0->ipywidgets>=7.0.0->cufflinks) (0.17.3)\n",
      "Requirement already satisfied: pyzmq>=13 in /Users/kdadash/anaconda3/lib/python3.8/site-packages (from jupyter-client->ipykernel>=4.5.1->ipywidgets>=7.0.0->cufflinks) (19.0.2)\n",
      "Requirement already satisfied: Send2Trash in /Users/kdadash/anaconda3/lib/python3.8/site-packages (from notebook>=4.4.1->widgetsnbextension~=3.5.0->ipywidgets>=7.0.0->cufflinks) (1.5.0)\n",
      "Requirement already satisfied: terminado>=0.8.3 in /Users/kdadash/anaconda3/lib/python3.8/site-packages (from notebook>=4.4.1->widgetsnbextension~=3.5.0->ipywidgets>=7.0.0->cufflinks) (0.9.1)\n",
      "Requirement already satisfied: prometheus-client in /Users/kdadash/anaconda3/lib/python3.8/site-packages (from notebook>=4.4.1->widgetsnbextension~=3.5.0->ipywidgets>=7.0.0->cufflinks) (0.8.0)\n",
      "Requirement already satisfied: jinja2 in /Users/kdadash/anaconda3/lib/python3.8/site-packages (from notebook>=4.4.1->widgetsnbextension~=3.5.0->ipywidgets>=7.0.0->cufflinks) (2.11.2)\n",
      "Requirement already satisfied: argon2-cffi in /Users/kdadash/anaconda3/lib/python3.8/site-packages (from notebook>=4.4.1->widgetsnbextension~=3.5.0->ipywidgets>=7.0.0->cufflinks) (20.1.0)\n",
      "Requirement already satisfied: nbconvert in /Users/kdadash/anaconda3/lib/python3.8/site-packages (from notebook>=4.4.1->widgetsnbextension~=3.5.0->ipywidgets>=7.0.0->cufflinks) (6.0.7)\n",
      "Requirement already satisfied: MarkupSafe>=0.23 in /Users/kdadash/anaconda3/lib/python3.8/site-packages (from jinja2->notebook>=4.4.1->widgetsnbextension~=3.5.0->ipywidgets>=7.0.0->cufflinks) (1.1.1)\n",
      "Requirement already satisfied: cffi>=1.0.0 in /Users/kdadash/anaconda3/lib/python3.8/site-packages (from argon2-cffi->notebook>=4.4.1->widgetsnbextension~=3.5.0->ipywidgets>=7.0.0->cufflinks) (1.14.3)\n",
      "Requirement already satisfied: mistune<2,>=0.8.1 in /Users/kdadash/anaconda3/lib/python3.8/site-packages (from nbconvert->notebook>=4.4.1->widgetsnbextension~=3.5.0->ipywidgets>=7.0.0->cufflinks) (0.8.4)\n",
      "Requirement already satisfied: nbclient<0.6.0,>=0.5.0 in /Users/kdadash/anaconda3/lib/python3.8/site-packages (from nbconvert->notebook>=4.4.1->widgetsnbextension~=3.5.0->ipywidgets>=7.0.0->cufflinks) (0.5.1)\n",
      "Requirement already satisfied: jupyterlab-pygments in /Users/kdadash/anaconda3/lib/python3.8/site-packages (from nbconvert->notebook>=4.4.1->widgetsnbextension~=3.5.0->ipywidgets>=7.0.0->cufflinks) (0.1.2)\n",
      "Requirement already satisfied: entrypoints>=0.2.2 in /Users/kdadash/anaconda3/lib/python3.8/site-packages (from nbconvert->notebook>=4.4.1->widgetsnbextension~=3.5.0->ipywidgets>=7.0.0->cufflinks) (0.3)\n",
      "Requirement already satisfied: bleach in /Users/kdadash/anaconda3/lib/python3.8/site-packages (from nbconvert->notebook>=4.4.1->widgetsnbextension~=3.5.0->ipywidgets>=7.0.0->cufflinks) (3.2.1)\n",
      "Requirement already satisfied: testpath in /Users/kdadash/anaconda3/lib/python3.8/site-packages (from nbconvert->notebook>=4.4.1->widgetsnbextension~=3.5.0->ipywidgets>=7.0.0->cufflinks) (0.4.4)\n",
      "Requirement already satisfied: defusedxml in /Users/kdadash/anaconda3/lib/python3.8/site-packages (from nbconvert->notebook>=4.4.1->widgetsnbextension~=3.5.0->ipywidgets>=7.0.0->cufflinks) (0.6.0)\n",
      "Requirement already satisfied: pandocfilters>=1.4.1 in /Users/kdadash/anaconda3/lib/python3.8/site-packages (from nbconvert->notebook>=4.4.1->widgetsnbextension~=3.5.0->ipywidgets>=7.0.0->cufflinks) (1.4.2)\n",
      "Requirement already satisfied: pycparser in /Users/kdadash/anaconda3/lib/python3.8/site-packages (from cffi>=1.0.0->argon2-cffi->notebook>=4.4.1->widgetsnbextension~=3.5.0->ipywidgets>=7.0.0->cufflinks) (2.20)\n",
      "Requirement already satisfied: async-generator in /Users/kdadash/anaconda3/lib/python3.8/site-packages (from nbclient<0.6.0,>=0.5.0->nbconvert->notebook>=4.4.1->widgetsnbextension~=3.5.0->ipywidgets>=7.0.0->cufflinks) (1.10)\n",
      "Requirement already satisfied: nest-asyncio in /Users/kdadash/anaconda3/lib/python3.8/site-packages (from nbclient<0.6.0,>=0.5.0->nbconvert->notebook>=4.4.1->widgetsnbextension~=3.5.0->ipywidgets>=7.0.0->cufflinks) (1.4.1)\n",
      "Requirement already satisfied: packaging in /Users/kdadash/anaconda3/lib/python3.8/site-packages (from bleach->nbconvert->notebook>=4.4.1->widgetsnbextension~=3.5.0->ipywidgets>=7.0.0->cufflinks) (20.4)\n",
      "Requirement already satisfied: webencodings in /Users/kdadash/anaconda3/lib/python3.8/site-packages (from bleach->nbconvert->notebook>=4.4.1->widgetsnbextension~=3.5.0->ipywidgets>=7.0.0->cufflinks) (0.5.1)\n",
      "Requirement already satisfied: pyparsing>=2.0.2 in /Users/kdadash/anaconda3/lib/python3.8/site-packages (from packaging->bleach->nbconvert->notebook>=4.4.1->widgetsnbextension~=3.5.0->ipywidgets>=7.0.0->cufflinks) (2.4.7)\n"
     ]
    }
   ],
   "source": [
    "!pip install cufflinks"
   ]
  },
  {
   "cell_type": "code",
   "execution_count": 5,
   "metadata": {},
   "outputs": [
    {
     "name": "stdout",
     "output_type": "stream",
     "text": [
      "Requirement already satisfied: chart-studio in /Users/kdadash/anaconda3/lib/python3.8/site-packages (1.1.0)\n",
      "Requirement already satisfied: retrying>=1.3.3 in /Users/kdadash/anaconda3/lib/python3.8/site-packages (from chart-studio) (1.3.3)\n",
      "Requirement already satisfied: plotly in /Users/kdadash/anaconda3/lib/python3.8/site-packages (from chart-studio) (5.9.0)\n",
      "Requirement already satisfied: six in /Users/kdadash/anaconda3/lib/python3.8/site-packages (from chart-studio) (1.15.0)\n",
      "Requirement already satisfied: requests in /Users/kdadash/anaconda3/lib/python3.8/site-packages (from chart-studio) (2.24.0)\n",
      "Requirement already satisfied: tenacity>=6.2.0 in /Users/kdadash/anaconda3/lib/python3.8/site-packages (from plotly->chart-studio) (8.0.1)\n",
      "Requirement already satisfied: certifi>=2017.4.17 in /Users/kdadash/anaconda3/lib/python3.8/site-packages (from requests->chart-studio) (2022.6.15)\n",
      "Requirement already satisfied: idna<3,>=2.5 in /Users/kdadash/anaconda3/lib/python3.8/site-packages (from requests->chart-studio) (2.10)\n",
      "Requirement already satisfied: urllib3!=1.25.0,!=1.25.1,<1.26,>=1.21.1 in /Users/kdadash/anaconda3/lib/python3.8/site-packages (from requests->chart-studio) (1.25.11)\n",
      "Requirement already satisfied: chardet<4,>=3.0.2 in /Users/kdadash/anaconda3/lib/python3.8/site-packages (from requests->chart-studio) (3.0.4)\n"
     ]
    }
   ],
   "source": [
    "!pip install chart-studio"
   ]
  },
  {
   "cell_type": "code",
   "execution_count": 6,
   "metadata": {},
   "outputs": [
    {
     "name": "stdout",
     "output_type": "stream",
     "text": [
      "5.9.0\n"
     ]
    }
   ],
   "source": [
    "from plotly import __version__\n",
    "from plotly.offline import download_plotlyjs, init_notebook_mode, plot, iplot\n",
    "\n",
    "print(__version__) # requires version >= 1.9.0"
   ]
  },
  {
   "cell_type": "code",
   "execution_count": 7,
   "metadata": {},
   "outputs": [],
   "source": [
    "import cufflinks as cf"
   ]
  },
  {
   "cell_type": "code",
   "execution_count": 8,
   "metadata": {},
   "outputs": [
    {
     "data": {
      "text/html": [
       "        <script type=\"text/javascript\">\n",
       "        window.PlotlyConfig = {MathJaxConfig: 'local'};\n",
       "        if (window.MathJax && window.MathJax.Hub && window.MathJax.Hub.Config) {window.MathJax.Hub.Config({SVG: {font: \"STIX-Web\"}});}\n",
       "        if (typeof require !== 'undefined') {\n",
       "        require.undef(\"plotly\");\n",
       "        requirejs.config({\n",
       "            paths: {\n",
       "                'plotly': ['https://cdn.plot.ly/plotly-2.12.1.min']\n",
       "            }\n",
       "        });\n",
       "        require(['plotly'], function(Plotly) {\n",
       "            window._Plotly = Plotly;\n",
       "        });\n",
       "        }\n",
       "        </script>\n",
       "        "
      ]
     },
     "metadata": {},
     "output_type": "display_data"
    }
   ],
   "source": [
    "# For Notebooks\n",
    "init_notebook_mode(connected=True)"
   ]
  },
  {
   "cell_type": "code",
   "execution_count": 9,
   "metadata": {},
   "outputs": [
    {
     "data": {
      "text/html": [
       "        <script type=\"text/javascript\">\n",
       "        window.PlotlyConfig = {MathJaxConfig: 'local'};\n",
       "        if (window.MathJax && window.MathJax.Hub && window.MathJax.Hub.Config) {window.MathJax.Hub.Config({SVG: {font: \"STIX-Web\"}});}\n",
       "        if (typeof require !== 'undefined') {\n",
       "        require.undef(\"plotly\");\n",
       "        requirejs.config({\n",
       "            paths: {\n",
       "                'plotly': ['https://cdn.plot.ly/plotly-2.12.1.min']\n",
       "            }\n",
       "        });\n",
       "        require(['plotly'], function(Plotly) {\n",
       "            window._Plotly = Plotly;\n",
       "        });\n",
       "        }\n",
       "        </script>\n",
       "        "
      ]
     },
     "metadata": {},
     "output_type": "display_data"
    }
   ],
   "source": [
    "# For offline use\n",
    "cf.go_offline()"
   ]
  },
  {
   "cell_type": "markdown",
   "metadata": {},
   "source": [
    "### Fake Data"
   ]
  },
  {
   "cell_type": "code",
   "execution_count": 10,
   "metadata": {},
   "outputs": [],
   "source": [
    "df = pd.DataFrame(np.random.randn(100,4),columns='A B C D'.split())"
   ]
  },
  {
   "cell_type": "code",
   "execution_count": 11,
   "metadata": {},
   "outputs": [
    {
     "data": {
      "text/html": [
       "<div>\n",
       "<style scoped>\n",
       "    .dataframe tbody tr th:only-of-type {\n",
       "        vertical-align: middle;\n",
       "    }\n",
       "\n",
       "    .dataframe tbody tr th {\n",
       "        vertical-align: top;\n",
       "    }\n",
       "\n",
       "    .dataframe thead th {\n",
       "        text-align: right;\n",
       "    }\n",
       "</style>\n",
       "<table border=\"1\" class=\"dataframe\">\n",
       "  <thead>\n",
       "    <tr style=\"text-align: right;\">\n",
       "      <th></th>\n",
       "      <th>A</th>\n",
       "      <th>B</th>\n",
       "      <th>C</th>\n",
       "      <th>D</th>\n",
       "    </tr>\n",
       "  </thead>\n",
       "  <tbody>\n",
       "    <tr>\n",
       "      <th>0</th>\n",
       "      <td>0.106004</td>\n",
       "      <td>0.476943</td>\n",
       "      <td>-0.740778</td>\n",
       "      <td>-0.113293</td>\n",
       "    </tr>\n",
       "    <tr>\n",
       "      <th>1</th>\n",
       "      <td>0.207492</td>\n",
       "      <td>-0.100191</td>\n",
       "      <td>-2.370788</td>\n",
       "      <td>-1.357438</td>\n",
       "    </tr>\n",
       "    <tr>\n",
       "      <th>2</th>\n",
       "      <td>-1.039338</td>\n",
       "      <td>0.611359</td>\n",
       "      <td>0.770538</td>\n",
       "      <td>1.922045</td>\n",
       "    </tr>\n",
       "    <tr>\n",
       "      <th>3</th>\n",
       "      <td>-0.683693</td>\n",
       "      <td>-0.807037</td>\n",
       "      <td>-0.198233</td>\n",
       "      <td>-2.459575</td>\n",
       "    </tr>\n",
       "    <tr>\n",
       "      <th>4</th>\n",
       "      <td>0.371241</td>\n",
       "      <td>0.276398</td>\n",
       "      <td>0.337144</td>\n",
       "      <td>0.227998</td>\n",
       "    </tr>\n",
       "  </tbody>\n",
       "</table>\n",
       "</div>"
      ],
      "text/plain": [
       "          A         B         C         D\n",
       "0  0.106004  0.476943 -0.740778 -0.113293\n",
       "1  0.207492 -0.100191 -2.370788 -1.357438\n",
       "2 -1.039338  0.611359  0.770538  1.922045\n",
       "3 -0.683693 -0.807037 -0.198233 -2.459575\n",
       "4  0.371241  0.276398  0.337144  0.227998"
      ]
     },
     "execution_count": 11,
     "metadata": {},
     "output_type": "execute_result"
    }
   ],
   "source": [
    "df.head()"
   ]
  },
  {
   "cell_type": "code",
   "execution_count": 12,
   "metadata": {},
   "outputs": [],
   "source": [
    "df2 = pd.DataFrame({'Category':['A','B','C'],'Values':[32,43,50]})"
   ]
  },
  {
   "cell_type": "code",
   "execution_count": 13,
   "metadata": {},
   "outputs": [
    {
     "data": {
      "text/html": [
       "<div>\n",
       "<style scoped>\n",
       "    .dataframe tbody tr th:only-of-type {\n",
       "        vertical-align: middle;\n",
       "    }\n",
       "\n",
       "    .dataframe tbody tr th {\n",
       "        vertical-align: top;\n",
       "    }\n",
       "\n",
       "    .dataframe thead th {\n",
       "        text-align: right;\n",
       "    }\n",
       "</style>\n",
       "<table border=\"1\" class=\"dataframe\">\n",
       "  <thead>\n",
       "    <tr style=\"text-align: right;\">\n",
       "      <th></th>\n",
       "      <th>Category</th>\n",
       "      <th>Values</th>\n",
       "    </tr>\n",
       "  </thead>\n",
       "  <tbody>\n",
       "    <tr>\n",
       "      <th>0</th>\n",
       "      <td>A</td>\n",
       "      <td>32</td>\n",
       "    </tr>\n",
       "    <tr>\n",
       "      <th>1</th>\n",
       "      <td>B</td>\n",
       "      <td>43</td>\n",
       "    </tr>\n",
       "    <tr>\n",
       "      <th>2</th>\n",
       "      <td>C</td>\n",
       "      <td>50</td>\n",
       "    </tr>\n",
       "  </tbody>\n",
       "</table>\n",
       "</div>"
      ],
      "text/plain": [
       "  Category  Values\n",
       "0        A      32\n",
       "1        B      43\n",
       "2        C      50"
      ]
     },
     "execution_count": 13,
     "metadata": {},
     "output_type": "execute_result"
    }
   ],
   "source": [
    "df2.head()"
   ]
  },
  {
   "cell_type": "markdown",
   "metadata": {},
   "source": [
    "## Using Cufflinks and iplot()\n",
    "\n",
    "* scatter\n",
    "* bar\n",
    "* box\n",
    "* spread\n",
    "* ratio\n",
    "* heatmap\n",
    "* surface\n",
    "* histogram\n",
    "* bubble"
   ]
  },
  {
   "cell_type": "code",
   "execution_count": 23,
   "metadata": {},
   "outputs": [
    {
     "data": {
      "application/vnd.plotly.v1+json": {
       "config": {
        "linkText": "Export to plot.ly",
        "plotlyServerURL": "https://plot.ly",
        "showLink": true
       },
       "data": [
        {
         "line": {
          "color": "rgba(255, 153, 51, 1.0)",
          "dash": "solid",
          "shape": "linear",
          "width": 1.3
         },
         "mode": "lines",
         "name": "A",
         "text": "",
         "type": "scatter",
         "x": [
          0,
          1,
          2,
          3,
          4,
          5,
          6,
          7,
          8,
          9,
          10,
          11,
          12,
          13,
          14,
          15,
          16,
          17,
          18,
          19,
          20,
          21,
          22,
          23,
          24,
          25,
          26,
          27,
          28,
          29,
          30,
          31,
          32,
          33,
          34,
          35,
          36,
          37,
          38,
          39,
          40,
          41,
          42,
          43,
          44,
          45,
          46,
          47,
          48,
          49,
          50,
          51,
          52,
          53,
          54,
          55,
          56,
          57,
          58,
          59,
          60,
          61,
          62,
          63,
          64,
          65,
          66,
          67,
          68,
          69,
          70,
          71,
          72,
          73,
          74,
          75,
          76,
          77,
          78,
          79,
          80,
          81,
          82,
          83,
          84,
          85,
          86,
          87,
          88,
          89,
          90,
          91,
          92,
          93,
          94,
          95,
          96,
          97,
          98,
          99
         ],
         "y": [
          0.10600372573935532,
          0.20749207561513944,
          -1.0393378694469475,
          -0.6836932422094264,
          0.3712406633159747,
          1.8227241947210773,
          -2.262207151026445,
          -1.8970460309624753,
          1.2286043953391381,
          -0.3574193062297222,
          -1.7377734024170408,
          0.5197339233321271,
          -0.06788953602198554,
          -0.40191529592914244,
          -0.43370818219860896,
          -1.1661124908327158,
          1.1909206075148222,
          0.4388735027552563,
          0.03078096636690785,
          1.9362836769431646,
          -0.37075561956492736,
          -0.22921069296146732,
          0.5688691041798098,
          -1.7056023477568323,
          0.07570934350096442,
          0.9263520986244222,
          2.110174197159889,
          0.07056773563634443,
          -1.3740931235677463,
          0.9831289227755879,
          -0.6120200206186656,
          0.15666800087062727,
          -0.01844629565827913,
          -1.4108549888033666,
          -1.0840512483666251,
          0.15007307789236096,
          0.1562200550680007,
          0.6715655265118765,
          -2.5833248405455964,
          -0.9396192348953979,
          0.30327683434061165,
          -0.017701326490219854,
          0.9946009238039645,
          -2.047910052190914,
          0.35534195799578105,
          0.7309389442237206,
          -0.018911812240188265,
          0.5258877279467146,
          -0.7578060225979669,
          0.021273816181194286,
          0.6076296020031607,
          -0.5912050505425559,
          0.6267086559935164,
          2.2603470912323167,
          -0.40959760922837896,
          -1.0999662078027865,
          -1.7244320790470604,
          0.6185762285561729,
          1.215949179679514,
          0.512677421517591,
          1.1468696837108043,
          0.07780582086841593,
          0.3581086513672768,
          1.101114232910788,
          -0.816159235634712,
          1.620708418607869,
          0.050085042836158146,
          0.933719368820452,
          -1.923699435336341,
          0.8298418569096968,
          -0.31898033207002435,
          -1.629422634794213,
          0.7937285580426178,
          -1.141487628713606,
          1.0324380703636866,
          1.6275267747285445,
          1.8828615027230835,
          -1.3108896433586812,
          -0.6231178037822507,
          -0.1514895671878934,
          0.4884180261113317,
          -1.244530345881232,
          -1.7586800032751404,
          0.3293062297921215,
          0.7329470338986954,
          1.9479456523338359,
          0.665343553005202,
          -0.6797658495124682,
          -1.4603444616505636,
          -0.5061330022052487,
          1.3255130564272948,
          1.2819616135045893,
          -0.03846990574957462,
          -1.0597436840005086,
          1.0970280388504754,
          -1.0605874226275647,
          -0.5625504969934049,
          1.3758715701554394,
          -0.30022048190267414,
          -1.297072370793922
         ]
        },
        {
         "line": {
          "color": "rgba(55, 128, 191, 1.0)",
          "dash": "solid",
          "shape": "linear",
          "width": 1.3
         },
         "mode": "lines",
         "name": "B",
         "text": "",
         "type": "scatter",
         "x": [
          0,
          1,
          2,
          3,
          4,
          5,
          6,
          7,
          8,
          9,
          10,
          11,
          12,
          13,
          14,
          15,
          16,
          17,
          18,
          19,
          20,
          21,
          22,
          23,
          24,
          25,
          26,
          27,
          28,
          29,
          30,
          31,
          32,
          33,
          34,
          35,
          36,
          37,
          38,
          39,
          40,
          41,
          42,
          43,
          44,
          45,
          46,
          47,
          48,
          49,
          50,
          51,
          52,
          53,
          54,
          55,
          56,
          57,
          58,
          59,
          60,
          61,
          62,
          63,
          64,
          65,
          66,
          67,
          68,
          69,
          70,
          71,
          72,
          73,
          74,
          75,
          76,
          77,
          78,
          79,
          80,
          81,
          82,
          83,
          84,
          85,
          86,
          87,
          88,
          89,
          90,
          91,
          92,
          93,
          94,
          95,
          96,
          97,
          98,
          99
         ],
         "y": [
          0.4769431026012106,
          -0.10019126128842715,
          0.6113592162515342,
          -0.8070370418018528,
          0.2763978925358597,
          -0.10720355844112409,
          -0.5903615969727316,
          -0.13055421428039032,
          1.2693444378168242,
          0.8529892166991166,
          0.9325210127082194,
          -0.24958114969826484,
          0.13236018337252933,
          -0.5761867920069248,
          -0.2190615071806342,
          0.6637069422788028,
          0.18305818053502448,
          2.6808423224478246,
          -1.0654428571490364,
          -0.8291462865638127,
          0.054494391458582106,
          -1.2023837369074832,
          1.070784285243506,
          0.15962997085686725,
          0.25054171463418734,
          0.9451835521587554,
          1.430558994837546,
          -0.49260223389592717,
          0.10123049379232833,
          -1.4435471051098858,
          -0.6193153315070554,
          -1.156930328544975,
          -0.8826196284045719,
          1.0009977260930587,
          0.4544280710439374,
          -0.9688836385097156,
          1.4773761326737302,
          1.3773454164431693,
          1.1084251339689797,
          0.5651450676087367,
          0.1387848864141628,
          1.4264525785172326,
          -0.37757980864992063,
          0.6202853071456437,
          0.18004419237638297,
          2.129096335269589,
          0.04973451721719641,
          1.2394810276706119,
          0.8193637123020554,
          -0.05317134097489851,
          -0.24664799954484715,
          0.5331418669922314,
          1.3214390503174918,
          0.5236888999215038,
          0.23287917717351467,
          0.6006932090430144,
          1.0862840410571686,
          2.660470685844886,
          0.6515793111509729,
          0.3884324324252398,
          0.20721984859051978,
          -0.25002746247732804,
          1.153674982774516,
          0.9335273660013991,
          -0.349515394552551,
          1.5247358336307832,
          2.4143324819372887,
          1.2502741563615987,
          0.0893496287677241,
          3.034968760018631,
          -0.13304108425193012,
          -1.0038447287093142,
          -1.9660690740070852,
          -0.7380463039444887,
          -0.48913647757759166,
          -0.49736309395632505,
          -0.8922475224765966,
          1.177202339988743,
          0.1338660112203844,
          -0.18265674871739768,
          -0.929224229936402,
          0.6001450586623118,
          -1.3613736551788942,
          0.18138237038600677,
          -0.704074249023333,
          0.889338266253846,
          -0.7980933887078092,
          -0.6261537265622374,
          -0.6335248289426914,
          0.7543574951401341,
          -0.3631892656708778,
          -0.8037506822775732,
          0.23490382806972052,
          1.5398650558233888,
          -0.40383975283133766,
          0.67976087105031,
          -0.34859922135264265,
          1.441292826564418,
          -0.6637472409501192,
          0.9535293591259538
         ]
        },
        {
         "line": {
          "color": "rgba(50, 171, 96, 1.0)",
          "dash": "solid",
          "shape": "linear",
          "width": 1.3
         },
         "mode": "lines",
         "name": "C",
         "text": "",
         "type": "scatter",
         "x": [
          0,
          1,
          2,
          3,
          4,
          5,
          6,
          7,
          8,
          9,
          10,
          11,
          12,
          13,
          14,
          15,
          16,
          17,
          18,
          19,
          20,
          21,
          22,
          23,
          24,
          25,
          26,
          27,
          28,
          29,
          30,
          31,
          32,
          33,
          34,
          35,
          36,
          37,
          38,
          39,
          40,
          41,
          42,
          43,
          44,
          45,
          46,
          47,
          48,
          49,
          50,
          51,
          52,
          53,
          54,
          55,
          56,
          57,
          58,
          59,
          60,
          61,
          62,
          63,
          64,
          65,
          66,
          67,
          68,
          69,
          70,
          71,
          72,
          73,
          74,
          75,
          76,
          77,
          78,
          79,
          80,
          81,
          82,
          83,
          84,
          85,
          86,
          87,
          88,
          89,
          90,
          91,
          92,
          93,
          94,
          95,
          96,
          97,
          98,
          99
         ],
         "y": [
          -0.740778391991077,
          -2.370788299131107,
          0.7705383216088945,
          -0.19823348254001646,
          0.337144393926387,
          -1.3791425684188143,
          0.9439135984128443,
          -1.7840069262341565,
          -0.3283589566067014,
          0.27107259678388174,
          -0.52425125745666,
          0.7385277060960397,
          -0.28241985290436455,
          0.09185725180659102,
          -0.6374861032981809,
          0.37612443404262297,
          0.19759112389177616,
          -1.4332242149976573,
          1.3041313529957643,
          -0.6700098547565597,
          0.8894132050046223,
          1.5259894128331706,
          1.5386910927864714,
          -0.6436919441576353,
          -0.543224218405429,
          0.9991337105958998,
          -0.04801985723525086,
          -0.258367778084267,
          -1.1276404414733174,
          2.725048673075478,
          2.029889742123843,
          -0.46460398854707086,
          -2.1345629460174274,
          0.4459347473133101,
          -0.9049059200357235,
          -2.4114186017782964,
          -1.0962268537649613,
          -0.3778240877249083,
          -0.24039646959993588,
          -1.0463591501115126,
          0.5256490146744969,
          0.33058340853715795,
          0.5846204810221787,
          0.002537022393166431,
          -0.09962215676863742,
          1.4447931181853835,
          0.8426728029581986,
          -1.1361817746625766,
          -0.008968394296665034,
          -0.48781204739486184,
          -0.9123215487337352,
          0.32638912950065835,
          -1.088452259433391,
          0.3173869202896083,
          1.69623724745932,
          -2.0824030478825604,
          0.5519254928488927,
          -0.21934847437350616,
          -0.23902776953629853,
          -0.08654459645164335,
          -2.553277039412643,
          0.1104212805491668,
          -0.7073137841830324,
          -2.865956399416514,
          2.241798588434314,
          0.9983683175266186,
          0.21542665538163305,
          0.9991409057372067,
          0.4419141165472592,
          -0.6333445679930504,
          0.8685954977918708,
          0.4056039746691071,
          0.3524190223013191,
          0.48706349465423615,
          -0.25308813918752876,
          -0.5222210505923375,
          -0.015278130373235426,
          0.5124490432368057,
          0.030975532679304512,
          -1.9305640851420303,
          0.8503886615191434,
          -0.7804448455150669,
          0.14443567782294806,
          -0.09092402921847724,
          -0.4887299581588676,
          -0.5287159719970687,
          -1.2703303662773027,
          -0.16503576003179435,
          0.46048813949652057,
          0.6976144180888608,
          0.405403328004903,
          -0.07909064803112702,
          0.675114373489502,
          1.0764557614830252,
          0.7901433020900879,
          -0.43326872231950847,
          -0.44467071332079094,
          -1.6627832294168092,
          -0.7145759651543581,
          -0.386882271891978
         ]
        },
        {
         "line": {
          "color": "rgba(128, 0, 128, 1.0)",
          "dash": "solid",
          "shape": "linear",
          "width": 1.3
         },
         "mode": "lines",
         "name": "D",
         "text": "",
         "type": "scatter",
         "x": [
          0,
          1,
          2,
          3,
          4,
          5,
          6,
          7,
          8,
          9,
          10,
          11,
          12,
          13,
          14,
          15,
          16,
          17,
          18,
          19,
          20,
          21,
          22,
          23,
          24,
          25,
          26,
          27,
          28,
          29,
          30,
          31,
          32,
          33,
          34,
          35,
          36,
          37,
          38,
          39,
          40,
          41,
          42,
          43,
          44,
          45,
          46,
          47,
          48,
          49,
          50,
          51,
          52,
          53,
          54,
          55,
          56,
          57,
          58,
          59,
          60,
          61,
          62,
          63,
          64,
          65,
          66,
          67,
          68,
          69,
          70,
          71,
          72,
          73,
          74,
          75,
          76,
          77,
          78,
          79,
          80,
          81,
          82,
          83,
          84,
          85,
          86,
          87,
          88,
          89,
          90,
          91,
          92,
          93,
          94,
          95,
          96,
          97,
          98,
          99
         ],
         "y": [
          -0.11329342116274008,
          -1.3574377750489648,
          1.9220449619482292,
          -2.459575173476962,
          0.22799790532202172,
          -0.6330919663247148,
          0.6577347410618968,
          -1.636811758240445,
          0.24254381752850562,
          -0.19871070045933223,
          0.06705022148339189,
          -0.8071860394487,
          1.0255169386400966,
          0.9163675724429156,
          -0.36297287807831025,
          0.5938245988004833,
          1.9616114818187456,
          1.2219187270279168,
          1.89159323245367,
          0.9252585461058572,
          -0.06849918911132674,
          -1.7449934717307074,
          -1.1204986606457699,
          0.4109899560906177,
          -0.7595748608958052,
          -0.26830483787800213,
          -0.07202709747021875,
          0.050654569645124436,
          -0.24072185895746046,
          -1.7568108619039302,
          1.8725808472966645,
          -0.008680308534701371,
          1.623380280545073,
          0.11317833450631196,
          -0.6695896037160816,
          1.4761587780318361,
          0.6375767126016454,
          -0.5801213714353558,
          0.9270673557079773,
          -1.4718028175674562,
          1.097696666925897,
          -1.8117956205685124,
          0.7848247435000166,
          -0.29100051106013647,
          0.8846838193112712,
          1.4844705701154899,
          1.1689770690035524,
          -1.16528111485165,
          -1.4934832626778773,
          -1.1810178426436153,
          -1.2216892294024275,
          -1.036259552786968,
          0.41626215551337675,
          -1.0659658119394881,
          2.7405016615912112,
          0.2308666485169981,
          -0.7864739853800282,
          0.1379059787072001,
          1.2868607547453876,
          -0.28481278530242604,
          0.732481925255684,
          0.8308152091040132,
          0.06236128711802095,
          -0.19430247449342214,
          1.1073076493162546,
          -0.669804072634468,
          1.4792233884506674,
          0.41961258474089974,
          0.6215167378919153,
          -0.40231521782114515,
          -0.3632484923100821,
          0.1185430684370369,
          -0.2774648519849218,
          -0.3020128974515804,
          -0.3971863004040808,
          1.6287897391266177,
          0.8751625396431753,
          -0.40117917355624305,
          -1.581383232106049,
          -1.2374617413623668,
          2.110745170760792,
          -0.9500063721048858,
          0.58099951949188,
          1.0333897687603022,
          2.3639580399261573,
          -0.7304198843562436,
          -0.6005134255179924,
          -0.439250418717468,
          -0.9401157117773762,
          -1.627107684998559,
          -1.465614492985098,
          2.0313600741972158,
          0.3282335563938324,
          0.5101670130193007,
          0.7585699580260642,
          0.46536300832395544,
          1.5583869371530814,
          -0.7308106991026216,
          2.9587196981584105,
          -0.4296792353062852
         ]
        }
       ],
       "layout": {
        "legend": {
         "bgcolor": "#F5F6F9",
         "font": {
          "color": "#4D5663"
         }
        },
        "paper_bgcolor": "#F5F6F9",
        "plot_bgcolor": "#F5F6F9",
        "template": {
         "data": {
          "bar": [
           {
            "error_x": {
             "color": "#2a3f5f"
            },
            "error_y": {
             "color": "#2a3f5f"
            },
            "marker": {
             "line": {
              "color": "#E5ECF6",
              "width": 0.5
             },
             "pattern": {
              "fillmode": "overlay",
              "size": 10,
              "solidity": 0.2
             }
            },
            "type": "bar"
           }
          ],
          "barpolar": [
           {
            "marker": {
             "line": {
              "color": "#E5ECF6",
              "width": 0.5
             },
             "pattern": {
              "fillmode": "overlay",
              "size": 10,
              "solidity": 0.2
             }
            },
            "type": "barpolar"
           }
          ],
          "carpet": [
           {
            "aaxis": {
             "endlinecolor": "#2a3f5f",
             "gridcolor": "white",
             "linecolor": "white",
             "minorgridcolor": "white",
             "startlinecolor": "#2a3f5f"
            },
            "baxis": {
             "endlinecolor": "#2a3f5f",
             "gridcolor": "white",
             "linecolor": "white",
             "minorgridcolor": "white",
             "startlinecolor": "#2a3f5f"
            },
            "type": "carpet"
           }
          ],
          "choropleth": [
           {
            "colorbar": {
             "outlinewidth": 0,
             "ticks": ""
            },
            "type": "choropleth"
           }
          ],
          "contour": [
           {
            "colorbar": {
             "outlinewidth": 0,
             "ticks": ""
            },
            "colorscale": [
             [
              0,
              "#0d0887"
             ],
             [
              0.1111111111111111,
              "#46039f"
             ],
             [
              0.2222222222222222,
              "#7201a8"
             ],
             [
              0.3333333333333333,
              "#9c179e"
             ],
             [
              0.4444444444444444,
              "#bd3786"
             ],
             [
              0.5555555555555556,
              "#d8576b"
             ],
             [
              0.6666666666666666,
              "#ed7953"
             ],
             [
              0.7777777777777778,
              "#fb9f3a"
             ],
             [
              0.8888888888888888,
              "#fdca26"
             ],
             [
              1,
              "#f0f921"
             ]
            ],
            "type": "contour"
           }
          ],
          "contourcarpet": [
           {
            "colorbar": {
             "outlinewidth": 0,
             "ticks": ""
            },
            "type": "contourcarpet"
           }
          ],
          "heatmap": [
           {
            "colorbar": {
             "outlinewidth": 0,
             "ticks": ""
            },
            "colorscale": [
             [
              0,
              "#0d0887"
             ],
             [
              0.1111111111111111,
              "#46039f"
             ],
             [
              0.2222222222222222,
              "#7201a8"
             ],
             [
              0.3333333333333333,
              "#9c179e"
             ],
             [
              0.4444444444444444,
              "#bd3786"
             ],
             [
              0.5555555555555556,
              "#d8576b"
             ],
             [
              0.6666666666666666,
              "#ed7953"
             ],
             [
              0.7777777777777778,
              "#fb9f3a"
             ],
             [
              0.8888888888888888,
              "#fdca26"
             ],
             [
              1,
              "#f0f921"
             ]
            ],
            "type": "heatmap"
           }
          ],
          "heatmapgl": [
           {
            "colorbar": {
             "outlinewidth": 0,
             "ticks": ""
            },
            "colorscale": [
             [
              0,
              "#0d0887"
             ],
             [
              0.1111111111111111,
              "#46039f"
             ],
             [
              0.2222222222222222,
              "#7201a8"
             ],
             [
              0.3333333333333333,
              "#9c179e"
             ],
             [
              0.4444444444444444,
              "#bd3786"
             ],
             [
              0.5555555555555556,
              "#d8576b"
             ],
             [
              0.6666666666666666,
              "#ed7953"
             ],
             [
              0.7777777777777778,
              "#fb9f3a"
             ],
             [
              0.8888888888888888,
              "#fdca26"
             ],
             [
              1,
              "#f0f921"
             ]
            ],
            "type": "heatmapgl"
           }
          ],
          "histogram": [
           {
            "marker": {
             "pattern": {
              "fillmode": "overlay",
              "size": 10,
              "solidity": 0.2
             }
            },
            "type": "histogram"
           }
          ],
          "histogram2d": [
           {
            "colorbar": {
             "outlinewidth": 0,
             "ticks": ""
            },
            "colorscale": [
             [
              0,
              "#0d0887"
             ],
             [
              0.1111111111111111,
              "#46039f"
             ],
             [
              0.2222222222222222,
              "#7201a8"
             ],
             [
              0.3333333333333333,
              "#9c179e"
             ],
             [
              0.4444444444444444,
              "#bd3786"
             ],
             [
              0.5555555555555556,
              "#d8576b"
             ],
             [
              0.6666666666666666,
              "#ed7953"
             ],
             [
              0.7777777777777778,
              "#fb9f3a"
             ],
             [
              0.8888888888888888,
              "#fdca26"
             ],
             [
              1,
              "#f0f921"
             ]
            ],
            "type": "histogram2d"
           }
          ],
          "histogram2dcontour": [
           {
            "colorbar": {
             "outlinewidth": 0,
             "ticks": ""
            },
            "colorscale": [
             [
              0,
              "#0d0887"
             ],
             [
              0.1111111111111111,
              "#46039f"
             ],
             [
              0.2222222222222222,
              "#7201a8"
             ],
             [
              0.3333333333333333,
              "#9c179e"
             ],
             [
              0.4444444444444444,
              "#bd3786"
             ],
             [
              0.5555555555555556,
              "#d8576b"
             ],
             [
              0.6666666666666666,
              "#ed7953"
             ],
             [
              0.7777777777777778,
              "#fb9f3a"
             ],
             [
              0.8888888888888888,
              "#fdca26"
             ],
             [
              1,
              "#f0f921"
             ]
            ],
            "type": "histogram2dcontour"
           }
          ],
          "mesh3d": [
           {
            "colorbar": {
             "outlinewidth": 0,
             "ticks": ""
            },
            "type": "mesh3d"
           }
          ],
          "parcoords": [
           {
            "line": {
             "colorbar": {
              "outlinewidth": 0,
              "ticks": ""
             }
            },
            "type": "parcoords"
           }
          ],
          "pie": [
           {
            "automargin": true,
            "type": "pie"
           }
          ],
          "scatter": [
           {
            "fillpattern": {
             "fillmode": "overlay",
             "size": 10,
             "solidity": 0.2
            },
            "type": "scatter"
           }
          ],
          "scatter3d": [
           {
            "line": {
             "colorbar": {
              "outlinewidth": 0,
              "ticks": ""
             }
            },
            "marker": {
             "colorbar": {
              "outlinewidth": 0,
              "ticks": ""
             }
            },
            "type": "scatter3d"
           }
          ],
          "scattercarpet": [
           {
            "marker": {
             "colorbar": {
              "outlinewidth": 0,
              "ticks": ""
             }
            },
            "type": "scattercarpet"
           }
          ],
          "scattergeo": [
           {
            "marker": {
             "colorbar": {
              "outlinewidth": 0,
              "ticks": ""
             }
            },
            "type": "scattergeo"
           }
          ],
          "scattergl": [
           {
            "marker": {
             "colorbar": {
              "outlinewidth": 0,
              "ticks": ""
             }
            },
            "type": "scattergl"
           }
          ],
          "scattermapbox": [
           {
            "marker": {
             "colorbar": {
              "outlinewidth": 0,
              "ticks": ""
             }
            },
            "type": "scattermapbox"
           }
          ],
          "scatterpolar": [
           {
            "marker": {
             "colorbar": {
              "outlinewidth": 0,
              "ticks": ""
             }
            },
            "type": "scatterpolar"
           }
          ],
          "scatterpolargl": [
           {
            "marker": {
             "colorbar": {
              "outlinewidth": 0,
              "ticks": ""
             }
            },
            "type": "scatterpolargl"
           }
          ],
          "scatterternary": [
           {
            "marker": {
             "colorbar": {
              "outlinewidth": 0,
              "ticks": ""
             }
            },
            "type": "scatterternary"
           }
          ],
          "surface": [
           {
            "colorbar": {
             "outlinewidth": 0,
             "ticks": ""
            },
            "colorscale": [
             [
              0,
              "#0d0887"
             ],
             [
              0.1111111111111111,
              "#46039f"
             ],
             [
              0.2222222222222222,
              "#7201a8"
             ],
             [
              0.3333333333333333,
              "#9c179e"
             ],
             [
              0.4444444444444444,
              "#bd3786"
             ],
             [
              0.5555555555555556,
              "#d8576b"
             ],
             [
              0.6666666666666666,
              "#ed7953"
             ],
             [
              0.7777777777777778,
              "#fb9f3a"
             ],
             [
              0.8888888888888888,
              "#fdca26"
             ],
             [
              1,
              "#f0f921"
             ]
            ],
            "type": "surface"
           }
          ],
          "table": [
           {
            "cells": {
             "fill": {
              "color": "#EBF0F8"
             },
             "line": {
              "color": "white"
             }
            },
            "header": {
             "fill": {
              "color": "#C8D4E3"
             },
             "line": {
              "color": "white"
             }
            },
            "type": "table"
           }
          ]
         },
         "layout": {
          "annotationdefaults": {
           "arrowcolor": "#2a3f5f",
           "arrowhead": 0,
           "arrowwidth": 1
          },
          "autotypenumbers": "strict",
          "coloraxis": {
           "colorbar": {
            "outlinewidth": 0,
            "ticks": ""
           }
          },
          "colorscale": {
           "diverging": [
            [
             0,
             "#8e0152"
            ],
            [
             0.1,
             "#c51b7d"
            ],
            [
             0.2,
             "#de77ae"
            ],
            [
             0.3,
             "#f1b6da"
            ],
            [
             0.4,
             "#fde0ef"
            ],
            [
             0.5,
             "#f7f7f7"
            ],
            [
             0.6,
             "#e6f5d0"
            ],
            [
             0.7,
             "#b8e186"
            ],
            [
             0.8,
             "#7fbc41"
            ],
            [
             0.9,
             "#4d9221"
            ],
            [
             1,
             "#276419"
            ]
           ],
           "sequential": [
            [
             0,
             "#0d0887"
            ],
            [
             0.1111111111111111,
             "#46039f"
            ],
            [
             0.2222222222222222,
             "#7201a8"
            ],
            [
             0.3333333333333333,
             "#9c179e"
            ],
            [
             0.4444444444444444,
             "#bd3786"
            ],
            [
             0.5555555555555556,
             "#d8576b"
            ],
            [
             0.6666666666666666,
             "#ed7953"
            ],
            [
             0.7777777777777778,
             "#fb9f3a"
            ],
            [
             0.8888888888888888,
             "#fdca26"
            ],
            [
             1,
             "#f0f921"
            ]
           ],
           "sequentialminus": [
            [
             0,
             "#0d0887"
            ],
            [
             0.1111111111111111,
             "#46039f"
            ],
            [
             0.2222222222222222,
             "#7201a8"
            ],
            [
             0.3333333333333333,
             "#9c179e"
            ],
            [
             0.4444444444444444,
             "#bd3786"
            ],
            [
             0.5555555555555556,
             "#d8576b"
            ],
            [
             0.6666666666666666,
             "#ed7953"
            ],
            [
             0.7777777777777778,
             "#fb9f3a"
            ],
            [
             0.8888888888888888,
             "#fdca26"
            ],
            [
             1,
             "#f0f921"
            ]
           ]
          },
          "colorway": [
           "#636efa",
           "#EF553B",
           "#00cc96",
           "#ab63fa",
           "#FFA15A",
           "#19d3f3",
           "#FF6692",
           "#B6E880",
           "#FF97FF",
           "#FECB52"
          ],
          "font": {
           "color": "#2a3f5f"
          },
          "geo": {
           "bgcolor": "white",
           "lakecolor": "white",
           "landcolor": "#E5ECF6",
           "showlakes": true,
           "showland": true,
           "subunitcolor": "white"
          },
          "hoverlabel": {
           "align": "left"
          },
          "hovermode": "closest",
          "mapbox": {
           "style": "light"
          },
          "paper_bgcolor": "white",
          "plot_bgcolor": "#E5ECF6",
          "polar": {
           "angularaxis": {
            "gridcolor": "white",
            "linecolor": "white",
            "ticks": ""
           },
           "bgcolor": "#E5ECF6",
           "radialaxis": {
            "gridcolor": "white",
            "linecolor": "white",
            "ticks": ""
           }
          },
          "scene": {
           "xaxis": {
            "backgroundcolor": "#E5ECF6",
            "gridcolor": "white",
            "gridwidth": 2,
            "linecolor": "white",
            "showbackground": true,
            "ticks": "",
            "zerolinecolor": "white"
           },
           "yaxis": {
            "backgroundcolor": "#E5ECF6",
            "gridcolor": "white",
            "gridwidth": 2,
            "linecolor": "white",
            "showbackground": true,
            "ticks": "",
            "zerolinecolor": "white"
           },
           "zaxis": {
            "backgroundcolor": "#E5ECF6",
            "gridcolor": "white",
            "gridwidth": 2,
            "linecolor": "white",
            "showbackground": true,
            "ticks": "",
            "zerolinecolor": "white"
           }
          },
          "shapedefaults": {
           "line": {
            "color": "#2a3f5f"
           }
          },
          "ternary": {
           "aaxis": {
            "gridcolor": "white",
            "linecolor": "white",
            "ticks": ""
           },
           "baxis": {
            "gridcolor": "white",
            "linecolor": "white",
            "ticks": ""
           },
           "bgcolor": "#E5ECF6",
           "caxis": {
            "gridcolor": "white",
            "linecolor": "white",
            "ticks": ""
           }
          },
          "title": {
           "x": 0.05
          },
          "xaxis": {
           "automargin": true,
           "gridcolor": "white",
           "linecolor": "white",
           "ticks": "",
           "title": {
            "standoff": 15
           },
           "zerolinecolor": "white",
           "zerolinewidth": 2
          },
          "yaxis": {
           "automargin": true,
           "gridcolor": "white",
           "linecolor": "white",
           "ticks": "",
           "title": {
            "standoff": 15
           },
           "zerolinecolor": "white",
           "zerolinewidth": 2
          }
         }
        },
        "title": {
         "font": {
          "color": "#4D5663"
         }
        },
        "xaxis": {
         "gridcolor": "#E1E5ED",
         "showgrid": true,
         "tickfont": {
          "color": "#4D5663"
         },
         "title": {
          "font": {
           "color": "#4D5663"
          },
          "text": ""
         },
         "zerolinecolor": "#E1E5ED"
        },
        "yaxis": {
         "gridcolor": "#E1E5ED",
         "showgrid": true,
         "tickfont": {
          "color": "#4D5663"
         },
         "title": {
          "font": {
           "color": "#4D5663"
          },
          "text": ""
         },
         "zerolinecolor": "#E1E5ED"
        }
       }
      },
      "text/html": [
       "<div>                            <div id=\"29008389-8ba4-4c4d-9cf3-ae8d07ff5454\" class=\"plotly-graph-div\" style=\"height:525px; width:100%;\"></div>            <script type=\"text/javascript\">                require([\"plotly\"], function(Plotly) {                    window.PLOTLYENV=window.PLOTLYENV || {};\n",
       "                    window.PLOTLYENV.BASE_URL='https://plot.ly';                                    if (document.getElementById(\"29008389-8ba4-4c4d-9cf3-ae8d07ff5454\")) {                    Plotly.newPlot(                        \"29008389-8ba4-4c4d-9cf3-ae8d07ff5454\",                        [{\"line\":{\"color\":\"rgba(255, 153, 51, 1.0)\",\"dash\":\"solid\",\"shape\":\"linear\",\"width\":1.3},\"mode\":\"lines\",\"name\":\"A\",\"text\":\"\",\"x\":[0,1,2,3,4,5,6,7,8,9,10,11,12,13,14,15,16,17,18,19,20,21,22,23,24,25,26,27,28,29,30,31,32,33,34,35,36,37,38,39,40,41,42,43,44,45,46,47,48,49,50,51,52,53,54,55,56,57,58,59,60,61,62,63,64,65,66,67,68,69,70,71,72,73,74,75,76,77,78,79,80,81,82,83,84,85,86,87,88,89,90,91,92,93,94,95,96,97,98,99],\"y\":[0.10600372573935532,0.20749207561513944,-1.0393378694469475,-0.6836932422094264,0.3712406633159747,1.8227241947210773,-2.262207151026445,-1.8970460309624753,1.2286043953391381,-0.3574193062297222,-1.7377734024170408,0.5197339233321271,-0.06788953602198554,-0.40191529592914244,-0.43370818219860896,-1.1661124908327158,1.1909206075148222,0.4388735027552563,0.03078096636690785,1.9362836769431646,-0.37075561956492736,-0.22921069296146732,0.5688691041798098,-1.7056023477568323,0.07570934350096442,0.9263520986244222,2.110174197159889,0.07056773563634443,-1.3740931235677463,0.9831289227755879,-0.6120200206186656,0.15666800087062727,-0.01844629565827913,-1.4108549888033666,-1.0840512483666251,0.15007307789236096,0.1562200550680007,0.6715655265118765,-2.5833248405455964,-0.9396192348953979,0.30327683434061165,-0.017701326490219854,0.9946009238039645,-2.047910052190914,0.35534195799578105,0.7309389442237206,-0.018911812240188265,0.5258877279467146,-0.7578060225979669,0.021273816181194286,0.6076296020031607,-0.5912050505425559,0.6267086559935164,2.2603470912323167,-0.40959760922837896,-1.0999662078027865,-1.7244320790470604,0.6185762285561729,1.215949179679514,0.512677421517591,1.1468696837108043,0.07780582086841593,0.3581086513672768,1.101114232910788,-0.816159235634712,1.620708418607869,0.050085042836158146,0.933719368820452,-1.923699435336341,0.8298418569096968,-0.31898033207002435,-1.629422634794213,0.7937285580426178,-1.141487628713606,1.0324380703636866,1.6275267747285445,1.8828615027230835,-1.3108896433586812,-0.6231178037822507,-0.1514895671878934,0.4884180261113317,-1.244530345881232,-1.7586800032751404,0.3293062297921215,0.7329470338986954,1.9479456523338359,0.665343553005202,-0.6797658495124682,-1.4603444616505636,-0.5061330022052487,1.3255130564272948,1.2819616135045893,-0.03846990574957462,-1.0597436840005086,1.0970280388504754,-1.0605874226275647,-0.5625504969934049,1.3758715701554394,-0.30022048190267414,-1.297072370793922],\"type\":\"scatter\"},{\"line\":{\"color\":\"rgba(55, 128, 191, 1.0)\",\"dash\":\"solid\",\"shape\":\"linear\",\"width\":1.3},\"mode\":\"lines\",\"name\":\"B\",\"text\":\"\",\"x\":[0,1,2,3,4,5,6,7,8,9,10,11,12,13,14,15,16,17,18,19,20,21,22,23,24,25,26,27,28,29,30,31,32,33,34,35,36,37,38,39,40,41,42,43,44,45,46,47,48,49,50,51,52,53,54,55,56,57,58,59,60,61,62,63,64,65,66,67,68,69,70,71,72,73,74,75,76,77,78,79,80,81,82,83,84,85,86,87,88,89,90,91,92,93,94,95,96,97,98,99],\"y\":[0.4769431026012106,-0.10019126128842715,0.6113592162515342,-0.8070370418018528,0.2763978925358597,-0.10720355844112409,-0.5903615969727316,-0.13055421428039032,1.2693444378168242,0.8529892166991166,0.9325210127082194,-0.24958114969826484,0.13236018337252933,-0.5761867920069248,-0.2190615071806342,0.6637069422788028,0.18305818053502448,2.6808423224478246,-1.0654428571490364,-0.8291462865638127,0.054494391458582106,-1.2023837369074832,1.070784285243506,0.15962997085686725,0.25054171463418734,0.9451835521587554,1.430558994837546,-0.49260223389592717,0.10123049379232833,-1.4435471051098858,-0.6193153315070554,-1.156930328544975,-0.8826196284045719,1.0009977260930587,0.4544280710439374,-0.9688836385097156,1.4773761326737302,1.3773454164431693,1.1084251339689797,0.5651450676087367,0.1387848864141628,1.4264525785172326,-0.37757980864992063,0.6202853071456437,0.18004419237638297,2.129096335269589,0.04973451721719641,1.2394810276706119,0.8193637123020554,-0.05317134097489851,-0.24664799954484715,0.5331418669922314,1.3214390503174918,0.5236888999215038,0.23287917717351467,0.6006932090430144,1.0862840410571686,2.660470685844886,0.6515793111509729,0.3884324324252398,0.20721984859051978,-0.25002746247732804,1.153674982774516,0.9335273660013991,-0.349515394552551,1.5247358336307832,2.4143324819372887,1.2502741563615987,0.0893496287677241,3.034968760018631,-0.13304108425193012,-1.0038447287093142,-1.9660690740070852,-0.7380463039444887,-0.48913647757759166,-0.49736309395632505,-0.8922475224765966,1.177202339988743,0.1338660112203844,-0.18265674871739768,-0.929224229936402,0.6001450586623118,-1.3613736551788942,0.18138237038600677,-0.704074249023333,0.889338266253846,-0.7980933887078092,-0.6261537265622374,-0.6335248289426914,0.7543574951401341,-0.3631892656708778,-0.8037506822775732,0.23490382806972052,1.5398650558233888,-0.40383975283133766,0.67976087105031,-0.34859922135264265,1.441292826564418,-0.6637472409501192,0.9535293591259538],\"type\":\"scatter\"},{\"line\":{\"color\":\"rgba(50, 171, 96, 1.0)\",\"dash\":\"solid\",\"shape\":\"linear\",\"width\":1.3},\"mode\":\"lines\",\"name\":\"C\",\"text\":\"\",\"x\":[0,1,2,3,4,5,6,7,8,9,10,11,12,13,14,15,16,17,18,19,20,21,22,23,24,25,26,27,28,29,30,31,32,33,34,35,36,37,38,39,40,41,42,43,44,45,46,47,48,49,50,51,52,53,54,55,56,57,58,59,60,61,62,63,64,65,66,67,68,69,70,71,72,73,74,75,76,77,78,79,80,81,82,83,84,85,86,87,88,89,90,91,92,93,94,95,96,97,98,99],\"y\":[-0.740778391991077,-2.370788299131107,0.7705383216088945,-0.19823348254001646,0.337144393926387,-1.3791425684188143,0.9439135984128443,-1.7840069262341565,-0.3283589566067014,0.27107259678388174,-0.52425125745666,0.7385277060960397,-0.28241985290436455,0.09185725180659102,-0.6374861032981809,0.37612443404262297,0.19759112389177616,-1.4332242149976573,1.3041313529957643,-0.6700098547565597,0.8894132050046223,1.5259894128331706,1.5386910927864714,-0.6436919441576353,-0.543224218405429,0.9991337105958998,-0.04801985723525086,-0.258367778084267,-1.1276404414733174,2.725048673075478,2.029889742123843,-0.46460398854707086,-2.1345629460174274,0.4459347473133101,-0.9049059200357235,-2.4114186017782964,-1.0962268537649613,-0.3778240877249083,-0.24039646959993588,-1.0463591501115126,0.5256490146744969,0.33058340853715795,0.5846204810221787,0.002537022393166431,-0.09962215676863742,1.4447931181853835,0.8426728029581986,-1.1361817746625766,-0.008968394296665034,-0.48781204739486184,-0.9123215487337352,0.32638912950065835,-1.088452259433391,0.3173869202896083,1.69623724745932,-2.0824030478825604,0.5519254928488927,-0.21934847437350616,-0.23902776953629853,-0.08654459645164335,-2.553277039412643,0.1104212805491668,-0.7073137841830324,-2.865956399416514,2.241798588434314,0.9983683175266186,0.21542665538163305,0.9991409057372067,0.4419141165472592,-0.6333445679930504,0.8685954977918708,0.4056039746691071,0.3524190223013191,0.48706349465423615,-0.25308813918752876,-0.5222210505923375,-0.015278130373235426,0.5124490432368057,0.030975532679304512,-1.9305640851420303,0.8503886615191434,-0.7804448455150669,0.14443567782294806,-0.09092402921847724,-0.4887299581588676,-0.5287159719970687,-1.2703303662773027,-0.16503576003179435,0.46048813949652057,0.6976144180888608,0.405403328004903,-0.07909064803112702,0.675114373489502,1.0764557614830252,0.7901433020900879,-0.43326872231950847,-0.44467071332079094,-1.6627832294168092,-0.7145759651543581,-0.386882271891978],\"type\":\"scatter\"},{\"line\":{\"color\":\"rgba(128, 0, 128, 1.0)\",\"dash\":\"solid\",\"shape\":\"linear\",\"width\":1.3},\"mode\":\"lines\",\"name\":\"D\",\"text\":\"\",\"x\":[0,1,2,3,4,5,6,7,8,9,10,11,12,13,14,15,16,17,18,19,20,21,22,23,24,25,26,27,28,29,30,31,32,33,34,35,36,37,38,39,40,41,42,43,44,45,46,47,48,49,50,51,52,53,54,55,56,57,58,59,60,61,62,63,64,65,66,67,68,69,70,71,72,73,74,75,76,77,78,79,80,81,82,83,84,85,86,87,88,89,90,91,92,93,94,95,96,97,98,99],\"y\":[-0.11329342116274008,-1.3574377750489648,1.9220449619482292,-2.459575173476962,0.22799790532202172,-0.6330919663247148,0.6577347410618968,-1.636811758240445,0.24254381752850562,-0.19871070045933223,0.06705022148339189,-0.8071860394487,1.0255169386400966,0.9163675724429156,-0.36297287807831025,0.5938245988004833,1.9616114818187456,1.2219187270279168,1.89159323245367,0.9252585461058572,-0.06849918911132674,-1.7449934717307074,-1.1204986606457699,0.4109899560906177,-0.7595748608958052,-0.26830483787800213,-0.07202709747021875,0.050654569645124436,-0.24072185895746046,-1.7568108619039302,1.8725808472966645,-0.008680308534701371,1.623380280545073,0.11317833450631196,-0.6695896037160816,1.4761587780318361,0.6375767126016454,-0.5801213714353558,0.9270673557079773,-1.4718028175674562,1.097696666925897,-1.8117956205685124,0.7848247435000166,-0.29100051106013647,0.8846838193112712,1.4844705701154899,1.1689770690035524,-1.16528111485165,-1.4934832626778773,-1.1810178426436153,-1.2216892294024275,-1.036259552786968,0.41626215551337675,-1.0659658119394881,2.7405016615912112,0.2308666485169981,-0.7864739853800282,0.1379059787072001,1.2868607547453876,-0.28481278530242604,0.732481925255684,0.8308152091040132,0.06236128711802095,-0.19430247449342214,1.1073076493162546,-0.669804072634468,1.4792233884506674,0.41961258474089974,0.6215167378919153,-0.40231521782114515,-0.3632484923100821,0.1185430684370369,-0.2774648519849218,-0.3020128974515804,-0.3971863004040808,1.6287897391266177,0.8751625396431753,-0.40117917355624305,-1.581383232106049,-1.2374617413623668,2.110745170760792,-0.9500063721048858,0.58099951949188,1.0333897687603022,2.3639580399261573,-0.7304198843562436,-0.6005134255179924,-0.439250418717468,-0.9401157117773762,-1.627107684998559,-1.465614492985098,2.0313600741972158,0.3282335563938324,0.5101670130193007,0.7585699580260642,0.46536300832395544,1.5583869371530814,-0.7308106991026216,2.9587196981584105,-0.4296792353062852],\"type\":\"scatter\"}],                        {\"legend\":{\"bgcolor\":\"#F5F6F9\",\"font\":{\"color\":\"#4D5663\"}},\"paper_bgcolor\":\"#F5F6F9\",\"plot_bgcolor\":\"#F5F6F9\",\"template\":{\"data\":{\"barpolar\":[{\"marker\":{\"line\":{\"color\":\"#E5ECF6\",\"width\":0.5},\"pattern\":{\"fillmode\":\"overlay\",\"size\":10,\"solidity\":0.2}},\"type\":\"barpolar\"}],\"bar\":[{\"error_x\":{\"color\":\"#2a3f5f\"},\"error_y\":{\"color\":\"#2a3f5f\"},\"marker\":{\"line\":{\"color\":\"#E5ECF6\",\"width\":0.5},\"pattern\":{\"fillmode\":\"overlay\",\"size\":10,\"solidity\":0.2}},\"type\":\"bar\"}],\"carpet\":[{\"aaxis\":{\"endlinecolor\":\"#2a3f5f\",\"gridcolor\":\"white\",\"linecolor\":\"white\",\"minorgridcolor\":\"white\",\"startlinecolor\":\"#2a3f5f\"},\"baxis\":{\"endlinecolor\":\"#2a3f5f\",\"gridcolor\":\"white\",\"linecolor\":\"white\",\"minorgridcolor\":\"white\",\"startlinecolor\":\"#2a3f5f\"},\"type\":\"carpet\"}],\"choropleth\":[{\"colorbar\":{\"outlinewidth\":0,\"ticks\":\"\"},\"type\":\"choropleth\"}],\"contourcarpet\":[{\"colorbar\":{\"outlinewidth\":0,\"ticks\":\"\"},\"type\":\"contourcarpet\"}],\"contour\":[{\"colorbar\":{\"outlinewidth\":0,\"ticks\":\"\"},\"colorscale\":[[0.0,\"#0d0887\"],[0.1111111111111111,\"#46039f\"],[0.2222222222222222,\"#7201a8\"],[0.3333333333333333,\"#9c179e\"],[0.4444444444444444,\"#bd3786\"],[0.5555555555555556,\"#d8576b\"],[0.6666666666666666,\"#ed7953\"],[0.7777777777777778,\"#fb9f3a\"],[0.8888888888888888,\"#fdca26\"],[1.0,\"#f0f921\"]],\"type\":\"contour\"}],\"heatmapgl\":[{\"colorbar\":{\"outlinewidth\":0,\"ticks\":\"\"},\"colorscale\":[[0.0,\"#0d0887\"],[0.1111111111111111,\"#46039f\"],[0.2222222222222222,\"#7201a8\"],[0.3333333333333333,\"#9c179e\"],[0.4444444444444444,\"#bd3786\"],[0.5555555555555556,\"#d8576b\"],[0.6666666666666666,\"#ed7953\"],[0.7777777777777778,\"#fb9f3a\"],[0.8888888888888888,\"#fdca26\"],[1.0,\"#f0f921\"]],\"type\":\"heatmapgl\"}],\"heatmap\":[{\"colorbar\":{\"outlinewidth\":0,\"ticks\":\"\"},\"colorscale\":[[0.0,\"#0d0887\"],[0.1111111111111111,\"#46039f\"],[0.2222222222222222,\"#7201a8\"],[0.3333333333333333,\"#9c179e\"],[0.4444444444444444,\"#bd3786\"],[0.5555555555555556,\"#d8576b\"],[0.6666666666666666,\"#ed7953\"],[0.7777777777777778,\"#fb9f3a\"],[0.8888888888888888,\"#fdca26\"],[1.0,\"#f0f921\"]],\"type\":\"heatmap\"}],\"histogram2dcontour\":[{\"colorbar\":{\"outlinewidth\":0,\"ticks\":\"\"},\"colorscale\":[[0.0,\"#0d0887\"],[0.1111111111111111,\"#46039f\"],[0.2222222222222222,\"#7201a8\"],[0.3333333333333333,\"#9c179e\"],[0.4444444444444444,\"#bd3786\"],[0.5555555555555556,\"#d8576b\"],[0.6666666666666666,\"#ed7953\"],[0.7777777777777778,\"#fb9f3a\"],[0.8888888888888888,\"#fdca26\"],[1.0,\"#f0f921\"]],\"type\":\"histogram2dcontour\"}],\"histogram2d\":[{\"colorbar\":{\"outlinewidth\":0,\"ticks\":\"\"},\"colorscale\":[[0.0,\"#0d0887\"],[0.1111111111111111,\"#46039f\"],[0.2222222222222222,\"#7201a8\"],[0.3333333333333333,\"#9c179e\"],[0.4444444444444444,\"#bd3786\"],[0.5555555555555556,\"#d8576b\"],[0.6666666666666666,\"#ed7953\"],[0.7777777777777778,\"#fb9f3a\"],[0.8888888888888888,\"#fdca26\"],[1.0,\"#f0f921\"]],\"type\":\"histogram2d\"}],\"histogram\":[{\"marker\":{\"pattern\":{\"fillmode\":\"overlay\",\"size\":10,\"solidity\":0.2}},\"type\":\"histogram\"}],\"mesh3d\":[{\"colorbar\":{\"outlinewidth\":0,\"ticks\":\"\"},\"type\":\"mesh3d\"}],\"parcoords\":[{\"line\":{\"colorbar\":{\"outlinewidth\":0,\"ticks\":\"\"}},\"type\":\"parcoords\"}],\"pie\":[{\"automargin\":true,\"type\":\"pie\"}],\"scatter3d\":[{\"line\":{\"colorbar\":{\"outlinewidth\":0,\"ticks\":\"\"}},\"marker\":{\"colorbar\":{\"outlinewidth\":0,\"ticks\":\"\"}},\"type\":\"scatter3d\"}],\"scattercarpet\":[{\"marker\":{\"colorbar\":{\"outlinewidth\":0,\"ticks\":\"\"}},\"type\":\"scattercarpet\"}],\"scattergeo\":[{\"marker\":{\"colorbar\":{\"outlinewidth\":0,\"ticks\":\"\"}},\"type\":\"scattergeo\"}],\"scattergl\":[{\"marker\":{\"colorbar\":{\"outlinewidth\":0,\"ticks\":\"\"}},\"type\":\"scattergl\"}],\"scattermapbox\":[{\"marker\":{\"colorbar\":{\"outlinewidth\":0,\"ticks\":\"\"}},\"type\":\"scattermapbox\"}],\"scatterpolargl\":[{\"marker\":{\"colorbar\":{\"outlinewidth\":0,\"ticks\":\"\"}},\"type\":\"scatterpolargl\"}],\"scatterpolar\":[{\"marker\":{\"colorbar\":{\"outlinewidth\":0,\"ticks\":\"\"}},\"type\":\"scatterpolar\"}],\"scatter\":[{\"fillpattern\":{\"fillmode\":\"overlay\",\"size\":10,\"solidity\":0.2},\"type\":\"scatter\"}],\"scatterternary\":[{\"marker\":{\"colorbar\":{\"outlinewidth\":0,\"ticks\":\"\"}},\"type\":\"scatterternary\"}],\"surface\":[{\"colorbar\":{\"outlinewidth\":0,\"ticks\":\"\"},\"colorscale\":[[0.0,\"#0d0887\"],[0.1111111111111111,\"#46039f\"],[0.2222222222222222,\"#7201a8\"],[0.3333333333333333,\"#9c179e\"],[0.4444444444444444,\"#bd3786\"],[0.5555555555555556,\"#d8576b\"],[0.6666666666666666,\"#ed7953\"],[0.7777777777777778,\"#fb9f3a\"],[0.8888888888888888,\"#fdca26\"],[1.0,\"#f0f921\"]],\"type\":\"surface\"}],\"table\":[{\"cells\":{\"fill\":{\"color\":\"#EBF0F8\"},\"line\":{\"color\":\"white\"}},\"header\":{\"fill\":{\"color\":\"#C8D4E3\"},\"line\":{\"color\":\"white\"}},\"type\":\"table\"}]},\"layout\":{\"annotationdefaults\":{\"arrowcolor\":\"#2a3f5f\",\"arrowhead\":0,\"arrowwidth\":1},\"autotypenumbers\":\"strict\",\"coloraxis\":{\"colorbar\":{\"outlinewidth\":0,\"ticks\":\"\"}},\"colorscale\":{\"diverging\":[[0,\"#8e0152\"],[0.1,\"#c51b7d\"],[0.2,\"#de77ae\"],[0.3,\"#f1b6da\"],[0.4,\"#fde0ef\"],[0.5,\"#f7f7f7\"],[0.6,\"#e6f5d0\"],[0.7,\"#b8e186\"],[0.8,\"#7fbc41\"],[0.9,\"#4d9221\"],[1,\"#276419\"]],\"sequential\":[[0.0,\"#0d0887\"],[0.1111111111111111,\"#46039f\"],[0.2222222222222222,\"#7201a8\"],[0.3333333333333333,\"#9c179e\"],[0.4444444444444444,\"#bd3786\"],[0.5555555555555556,\"#d8576b\"],[0.6666666666666666,\"#ed7953\"],[0.7777777777777778,\"#fb9f3a\"],[0.8888888888888888,\"#fdca26\"],[1.0,\"#f0f921\"]],\"sequentialminus\":[[0.0,\"#0d0887\"],[0.1111111111111111,\"#46039f\"],[0.2222222222222222,\"#7201a8\"],[0.3333333333333333,\"#9c179e\"],[0.4444444444444444,\"#bd3786\"],[0.5555555555555556,\"#d8576b\"],[0.6666666666666666,\"#ed7953\"],[0.7777777777777778,\"#fb9f3a\"],[0.8888888888888888,\"#fdca26\"],[1.0,\"#f0f921\"]]},\"colorway\":[\"#636efa\",\"#EF553B\",\"#00cc96\",\"#ab63fa\",\"#FFA15A\",\"#19d3f3\",\"#FF6692\",\"#B6E880\",\"#FF97FF\",\"#FECB52\"],\"font\":{\"color\":\"#2a3f5f\"},\"geo\":{\"bgcolor\":\"white\",\"lakecolor\":\"white\",\"landcolor\":\"#E5ECF6\",\"showlakes\":true,\"showland\":true,\"subunitcolor\":\"white\"},\"hoverlabel\":{\"align\":\"left\"},\"hovermode\":\"closest\",\"mapbox\":{\"style\":\"light\"},\"paper_bgcolor\":\"white\",\"plot_bgcolor\":\"#E5ECF6\",\"polar\":{\"angularaxis\":{\"gridcolor\":\"white\",\"linecolor\":\"white\",\"ticks\":\"\"},\"bgcolor\":\"#E5ECF6\",\"radialaxis\":{\"gridcolor\":\"white\",\"linecolor\":\"white\",\"ticks\":\"\"}},\"scene\":{\"xaxis\":{\"backgroundcolor\":\"#E5ECF6\",\"gridcolor\":\"white\",\"gridwidth\":2,\"linecolor\":\"white\",\"showbackground\":true,\"ticks\":\"\",\"zerolinecolor\":\"white\"},\"yaxis\":{\"backgroundcolor\":\"#E5ECF6\",\"gridcolor\":\"white\",\"gridwidth\":2,\"linecolor\":\"white\",\"showbackground\":true,\"ticks\":\"\",\"zerolinecolor\":\"white\"},\"zaxis\":{\"backgroundcolor\":\"#E5ECF6\",\"gridcolor\":\"white\",\"gridwidth\":2,\"linecolor\":\"white\",\"showbackground\":true,\"ticks\":\"\",\"zerolinecolor\":\"white\"}},\"shapedefaults\":{\"line\":{\"color\":\"#2a3f5f\"}},\"ternary\":{\"aaxis\":{\"gridcolor\":\"white\",\"linecolor\":\"white\",\"ticks\":\"\"},\"baxis\":{\"gridcolor\":\"white\",\"linecolor\":\"white\",\"ticks\":\"\"},\"bgcolor\":\"#E5ECF6\",\"caxis\":{\"gridcolor\":\"white\",\"linecolor\":\"white\",\"ticks\":\"\"}},\"title\":{\"x\":0.05},\"xaxis\":{\"automargin\":true,\"gridcolor\":\"white\",\"linecolor\":\"white\",\"ticks\":\"\",\"title\":{\"standoff\":15},\"zerolinecolor\":\"white\",\"zerolinewidth\":2},\"yaxis\":{\"automargin\":true,\"gridcolor\":\"white\",\"linecolor\":\"white\",\"ticks\":\"\",\"title\":{\"standoff\":15},\"zerolinecolor\":\"white\",\"zerolinewidth\":2}}},\"title\":{\"font\":{\"color\":\"#4D5663\"}},\"xaxis\":{\"gridcolor\":\"#E1E5ED\",\"showgrid\":true,\"tickfont\":{\"color\":\"#4D5663\"},\"title\":{\"font\":{\"color\":\"#4D5663\"},\"text\":\"\"},\"zerolinecolor\":\"#E1E5ED\"},\"yaxis\":{\"gridcolor\":\"#E1E5ED\",\"showgrid\":true,\"tickfont\":{\"color\":\"#4D5663\"},\"title\":{\"font\":{\"color\":\"#4D5663\"},\"text\":\"\"},\"zerolinecolor\":\"#E1E5ED\"}},                        {\"showLink\": true, \"linkText\": \"Export to plot.ly\", \"plotlyServerURL\": \"https://plot.ly\", \"responsive\": true}                    ).then(function(){\n",
       "                            \n",
       "var gd = document.getElementById('29008389-8ba4-4c4d-9cf3-ae8d07ff5454');\n",
       "var x = new MutationObserver(function (mutations, observer) {{\n",
       "        var display = window.getComputedStyle(gd).display;\n",
       "        if (!display || display === 'none') {{\n",
       "            console.log([gd, 'removed!']);\n",
       "            Plotly.purge(gd);\n",
       "            observer.disconnect();\n",
       "        }}\n",
       "}});\n",
       "\n",
       "// Listen for the removal of the full notebook cells\n",
       "var notebookContainer = gd.closest('#notebook-container');\n",
       "if (notebookContainer) {{\n",
       "    x.observe(notebookContainer, {childList: true});\n",
       "}}\n",
       "\n",
       "// Listen for the clearing of the current output cell\n",
       "var outputEl = gd.closest('.output');\n",
       "if (outputEl) {{\n",
       "    x.observe(outputEl, {childList: true});\n",
       "}}\n",
       "\n",
       "                        })                };                });            </script>        </div>"
      ]
     },
     "metadata": {},
     "output_type": "display_data"
    }
   ],
   "source": [
    "df.iplot()"
   ]
  },
  {
   "cell_type": "markdown",
   "metadata": {},
   "source": [
    "## Scatter"
   ]
  },
  {
   "cell_type": "code",
   "execution_count": 14,
   "metadata": {},
   "outputs": [
    {
     "data": {
      "application/vnd.plotly.v1+json": {
       "config": {
        "linkText": "Export to plot.ly",
        "plotlyServerURL": "https://plot.ly",
        "showLink": true
       },
       "data": [
        {
         "line": {
          "color": "rgba(255, 153, 51, 1.0)",
          "dash": "solid",
          "shape": "linear",
          "width": 1.3
         },
         "marker": {
          "size": 10,
          "symbol": "circle"
         },
         "mode": "markers",
         "name": "B",
         "text": "",
         "type": "scatter",
         "x": [
          0.10600372573935532,
          0.20749207561513944,
          -1.0393378694469475,
          -0.6836932422094264,
          0.3712406633159747,
          1.8227241947210773,
          -2.262207151026445,
          -1.8970460309624753,
          1.2286043953391381,
          -0.3574193062297222,
          -1.7377734024170408,
          0.5197339233321271,
          -0.06788953602198554,
          -0.40191529592914244,
          -0.43370818219860896,
          -1.1661124908327158,
          1.1909206075148222,
          0.4388735027552563,
          0.03078096636690785,
          1.9362836769431646,
          -0.37075561956492736,
          -0.22921069296146732,
          0.5688691041798098,
          -1.7056023477568323,
          0.07570934350096442,
          0.9263520986244222,
          2.110174197159889,
          0.07056773563634443,
          -1.3740931235677463,
          0.9831289227755879,
          -0.6120200206186656,
          0.15666800087062727,
          -0.01844629565827913,
          -1.4108549888033666,
          -1.0840512483666251,
          0.15007307789236096,
          0.1562200550680007,
          0.6715655265118765,
          -2.5833248405455964,
          -0.9396192348953979,
          0.30327683434061165,
          -0.017701326490219854,
          0.9946009238039645,
          -2.047910052190914,
          0.35534195799578105,
          0.7309389442237206,
          -0.018911812240188265,
          0.5258877279467146,
          -0.7578060225979669,
          0.021273816181194286,
          0.6076296020031607,
          -0.5912050505425559,
          0.6267086559935164,
          2.2603470912323167,
          -0.40959760922837896,
          -1.0999662078027865,
          -1.7244320790470604,
          0.6185762285561729,
          1.215949179679514,
          0.512677421517591,
          1.1468696837108043,
          0.07780582086841593,
          0.3581086513672768,
          1.101114232910788,
          -0.816159235634712,
          1.620708418607869,
          0.050085042836158146,
          0.933719368820452,
          -1.923699435336341,
          0.8298418569096968,
          -0.31898033207002435,
          -1.629422634794213,
          0.7937285580426178,
          -1.141487628713606,
          1.0324380703636866,
          1.6275267747285445,
          1.8828615027230835,
          -1.3108896433586812,
          -0.6231178037822507,
          -0.1514895671878934,
          0.4884180261113317,
          -1.244530345881232,
          -1.7586800032751404,
          0.3293062297921215,
          0.7329470338986954,
          1.9479456523338359,
          0.665343553005202,
          -0.6797658495124682,
          -1.4603444616505636,
          -0.5061330022052487,
          1.3255130564272948,
          1.2819616135045893,
          -0.03846990574957462,
          -1.0597436840005086,
          1.0970280388504754,
          -1.0605874226275647,
          -0.5625504969934049,
          1.3758715701554394,
          -0.30022048190267414,
          -1.297072370793922
         ],
         "y": [
          0.4769431026012106,
          -0.10019126128842715,
          0.6113592162515342,
          -0.8070370418018528,
          0.2763978925358597,
          -0.10720355844112409,
          -0.5903615969727316,
          -0.13055421428039032,
          1.2693444378168242,
          0.8529892166991166,
          0.9325210127082194,
          -0.24958114969826484,
          0.13236018337252933,
          -0.5761867920069248,
          -0.2190615071806342,
          0.6637069422788028,
          0.18305818053502448,
          2.6808423224478246,
          -1.0654428571490364,
          -0.8291462865638127,
          0.054494391458582106,
          -1.2023837369074832,
          1.070784285243506,
          0.15962997085686725,
          0.25054171463418734,
          0.9451835521587554,
          1.430558994837546,
          -0.49260223389592717,
          0.10123049379232833,
          -1.4435471051098858,
          -0.6193153315070554,
          -1.156930328544975,
          -0.8826196284045719,
          1.0009977260930587,
          0.4544280710439374,
          -0.9688836385097156,
          1.4773761326737302,
          1.3773454164431693,
          1.1084251339689797,
          0.5651450676087367,
          0.1387848864141628,
          1.4264525785172326,
          -0.37757980864992063,
          0.6202853071456437,
          0.18004419237638297,
          2.129096335269589,
          0.04973451721719641,
          1.2394810276706119,
          0.8193637123020554,
          -0.05317134097489851,
          -0.24664799954484715,
          0.5331418669922314,
          1.3214390503174918,
          0.5236888999215038,
          0.23287917717351467,
          0.6006932090430144,
          1.0862840410571686,
          2.660470685844886,
          0.6515793111509729,
          0.3884324324252398,
          0.20721984859051978,
          -0.25002746247732804,
          1.153674982774516,
          0.9335273660013991,
          -0.349515394552551,
          1.5247358336307832,
          2.4143324819372887,
          1.2502741563615987,
          0.0893496287677241,
          3.034968760018631,
          -0.13304108425193012,
          -1.0038447287093142,
          -1.9660690740070852,
          -0.7380463039444887,
          -0.48913647757759166,
          -0.49736309395632505,
          -0.8922475224765966,
          1.177202339988743,
          0.1338660112203844,
          -0.18265674871739768,
          -0.929224229936402,
          0.6001450586623118,
          -1.3613736551788942,
          0.18138237038600677,
          -0.704074249023333,
          0.889338266253846,
          -0.7980933887078092,
          -0.6261537265622374,
          -0.6335248289426914,
          0.7543574951401341,
          -0.3631892656708778,
          -0.8037506822775732,
          0.23490382806972052,
          1.5398650558233888,
          -0.40383975283133766,
          0.67976087105031,
          -0.34859922135264265,
          1.441292826564418,
          -0.6637472409501192,
          0.9535293591259538
         ]
        }
       ],
       "layout": {
        "legend": {
         "bgcolor": "#F5F6F9",
         "font": {
          "color": "#4D5663"
         }
        },
        "paper_bgcolor": "#F5F6F9",
        "plot_bgcolor": "#F5F6F9",
        "template": {
         "data": {
          "bar": [
           {
            "error_x": {
             "color": "#2a3f5f"
            },
            "error_y": {
             "color": "#2a3f5f"
            },
            "marker": {
             "line": {
              "color": "#E5ECF6",
              "width": 0.5
             },
             "pattern": {
              "fillmode": "overlay",
              "size": 10,
              "solidity": 0.2
             }
            },
            "type": "bar"
           }
          ],
          "barpolar": [
           {
            "marker": {
             "line": {
              "color": "#E5ECF6",
              "width": 0.5
             },
             "pattern": {
              "fillmode": "overlay",
              "size": 10,
              "solidity": 0.2
             }
            },
            "type": "barpolar"
           }
          ],
          "carpet": [
           {
            "aaxis": {
             "endlinecolor": "#2a3f5f",
             "gridcolor": "white",
             "linecolor": "white",
             "minorgridcolor": "white",
             "startlinecolor": "#2a3f5f"
            },
            "baxis": {
             "endlinecolor": "#2a3f5f",
             "gridcolor": "white",
             "linecolor": "white",
             "minorgridcolor": "white",
             "startlinecolor": "#2a3f5f"
            },
            "type": "carpet"
           }
          ],
          "choropleth": [
           {
            "colorbar": {
             "outlinewidth": 0,
             "ticks": ""
            },
            "type": "choropleth"
           }
          ],
          "contour": [
           {
            "colorbar": {
             "outlinewidth": 0,
             "ticks": ""
            },
            "colorscale": [
             [
              0,
              "#0d0887"
             ],
             [
              0.1111111111111111,
              "#46039f"
             ],
             [
              0.2222222222222222,
              "#7201a8"
             ],
             [
              0.3333333333333333,
              "#9c179e"
             ],
             [
              0.4444444444444444,
              "#bd3786"
             ],
             [
              0.5555555555555556,
              "#d8576b"
             ],
             [
              0.6666666666666666,
              "#ed7953"
             ],
             [
              0.7777777777777778,
              "#fb9f3a"
             ],
             [
              0.8888888888888888,
              "#fdca26"
             ],
             [
              1,
              "#f0f921"
             ]
            ],
            "type": "contour"
           }
          ],
          "contourcarpet": [
           {
            "colorbar": {
             "outlinewidth": 0,
             "ticks": ""
            },
            "type": "contourcarpet"
           }
          ],
          "heatmap": [
           {
            "colorbar": {
             "outlinewidth": 0,
             "ticks": ""
            },
            "colorscale": [
             [
              0,
              "#0d0887"
             ],
             [
              0.1111111111111111,
              "#46039f"
             ],
             [
              0.2222222222222222,
              "#7201a8"
             ],
             [
              0.3333333333333333,
              "#9c179e"
             ],
             [
              0.4444444444444444,
              "#bd3786"
             ],
             [
              0.5555555555555556,
              "#d8576b"
             ],
             [
              0.6666666666666666,
              "#ed7953"
             ],
             [
              0.7777777777777778,
              "#fb9f3a"
             ],
             [
              0.8888888888888888,
              "#fdca26"
             ],
             [
              1,
              "#f0f921"
             ]
            ],
            "type": "heatmap"
           }
          ],
          "heatmapgl": [
           {
            "colorbar": {
             "outlinewidth": 0,
             "ticks": ""
            },
            "colorscale": [
             [
              0,
              "#0d0887"
             ],
             [
              0.1111111111111111,
              "#46039f"
             ],
             [
              0.2222222222222222,
              "#7201a8"
             ],
             [
              0.3333333333333333,
              "#9c179e"
             ],
             [
              0.4444444444444444,
              "#bd3786"
             ],
             [
              0.5555555555555556,
              "#d8576b"
             ],
             [
              0.6666666666666666,
              "#ed7953"
             ],
             [
              0.7777777777777778,
              "#fb9f3a"
             ],
             [
              0.8888888888888888,
              "#fdca26"
             ],
             [
              1,
              "#f0f921"
             ]
            ],
            "type": "heatmapgl"
           }
          ],
          "histogram": [
           {
            "marker": {
             "pattern": {
              "fillmode": "overlay",
              "size": 10,
              "solidity": 0.2
             }
            },
            "type": "histogram"
           }
          ],
          "histogram2d": [
           {
            "colorbar": {
             "outlinewidth": 0,
             "ticks": ""
            },
            "colorscale": [
             [
              0,
              "#0d0887"
             ],
             [
              0.1111111111111111,
              "#46039f"
             ],
             [
              0.2222222222222222,
              "#7201a8"
             ],
             [
              0.3333333333333333,
              "#9c179e"
             ],
             [
              0.4444444444444444,
              "#bd3786"
             ],
             [
              0.5555555555555556,
              "#d8576b"
             ],
             [
              0.6666666666666666,
              "#ed7953"
             ],
             [
              0.7777777777777778,
              "#fb9f3a"
             ],
             [
              0.8888888888888888,
              "#fdca26"
             ],
             [
              1,
              "#f0f921"
             ]
            ],
            "type": "histogram2d"
           }
          ],
          "histogram2dcontour": [
           {
            "colorbar": {
             "outlinewidth": 0,
             "ticks": ""
            },
            "colorscale": [
             [
              0,
              "#0d0887"
             ],
             [
              0.1111111111111111,
              "#46039f"
             ],
             [
              0.2222222222222222,
              "#7201a8"
             ],
             [
              0.3333333333333333,
              "#9c179e"
             ],
             [
              0.4444444444444444,
              "#bd3786"
             ],
             [
              0.5555555555555556,
              "#d8576b"
             ],
             [
              0.6666666666666666,
              "#ed7953"
             ],
             [
              0.7777777777777778,
              "#fb9f3a"
             ],
             [
              0.8888888888888888,
              "#fdca26"
             ],
             [
              1,
              "#f0f921"
             ]
            ],
            "type": "histogram2dcontour"
           }
          ],
          "mesh3d": [
           {
            "colorbar": {
             "outlinewidth": 0,
             "ticks": ""
            },
            "type": "mesh3d"
           }
          ],
          "parcoords": [
           {
            "line": {
             "colorbar": {
              "outlinewidth": 0,
              "ticks": ""
             }
            },
            "type": "parcoords"
           }
          ],
          "pie": [
           {
            "automargin": true,
            "type": "pie"
           }
          ],
          "scatter": [
           {
            "fillpattern": {
             "fillmode": "overlay",
             "size": 10,
             "solidity": 0.2
            },
            "type": "scatter"
           }
          ],
          "scatter3d": [
           {
            "line": {
             "colorbar": {
              "outlinewidth": 0,
              "ticks": ""
             }
            },
            "marker": {
             "colorbar": {
              "outlinewidth": 0,
              "ticks": ""
             }
            },
            "type": "scatter3d"
           }
          ],
          "scattercarpet": [
           {
            "marker": {
             "colorbar": {
              "outlinewidth": 0,
              "ticks": ""
             }
            },
            "type": "scattercarpet"
           }
          ],
          "scattergeo": [
           {
            "marker": {
             "colorbar": {
              "outlinewidth": 0,
              "ticks": ""
             }
            },
            "type": "scattergeo"
           }
          ],
          "scattergl": [
           {
            "marker": {
             "colorbar": {
              "outlinewidth": 0,
              "ticks": ""
             }
            },
            "type": "scattergl"
           }
          ],
          "scattermapbox": [
           {
            "marker": {
             "colorbar": {
              "outlinewidth": 0,
              "ticks": ""
             }
            },
            "type": "scattermapbox"
           }
          ],
          "scatterpolar": [
           {
            "marker": {
             "colorbar": {
              "outlinewidth": 0,
              "ticks": ""
             }
            },
            "type": "scatterpolar"
           }
          ],
          "scatterpolargl": [
           {
            "marker": {
             "colorbar": {
              "outlinewidth": 0,
              "ticks": ""
             }
            },
            "type": "scatterpolargl"
           }
          ],
          "scatterternary": [
           {
            "marker": {
             "colorbar": {
              "outlinewidth": 0,
              "ticks": ""
             }
            },
            "type": "scatterternary"
           }
          ],
          "surface": [
           {
            "colorbar": {
             "outlinewidth": 0,
             "ticks": ""
            },
            "colorscale": [
             [
              0,
              "#0d0887"
             ],
             [
              0.1111111111111111,
              "#46039f"
             ],
             [
              0.2222222222222222,
              "#7201a8"
             ],
             [
              0.3333333333333333,
              "#9c179e"
             ],
             [
              0.4444444444444444,
              "#bd3786"
             ],
             [
              0.5555555555555556,
              "#d8576b"
             ],
             [
              0.6666666666666666,
              "#ed7953"
             ],
             [
              0.7777777777777778,
              "#fb9f3a"
             ],
             [
              0.8888888888888888,
              "#fdca26"
             ],
             [
              1,
              "#f0f921"
             ]
            ],
            "type": "surface"
           }
          ],
          "table": [
           {
            "cells": {
             "fill": {
              "color": "#EBF0F8"
             },
             "line": {
              "color": "white"
             }
            },
            "header": {
             "fill": {
              "color": "#C8D4E3"
             },
             "line": {
              "color": "white"
             }
            },
            "type": "table"
           }
          ]
         },
         "layout": {
          "annotationdefaults": {
           "arrowcolor": "#2a3f5f",
           "arrowhead": 0,
           "arrowwidth": 1
          },
          "autotypenumbers": "strict",
          "coloraxis": {
           "colorbar": {
            "outlinewidth": 0,
            "ticks": ""
           }
          },
          "colorscale": {
           "diverging": [
            [
             0,
             "#8e0152"
            ],
            [
             0.1,
             "#c51b7d"
            ],
            [
             0.2,
             "#de77ae"
            ],
            [
             0.3,
             "#f1b6da"
            ],
            [
             0.4,
             "#fde0ef"
            ],
            [
             0.5,
             "#f7f7f7"
            ],
            [
             0.6,
             "#e6f5d0"
            ],
            [
             0.7,
             "#b8e186"
            ],
            [
             0.8,
             "#7fbc41"
            ],
            [
             0.9,
             "#4d9221"
            ],
            [
             1,
             "#276419"
            ]
           ],
           "sequential": [
            [
             0,
             "#0d0887"
            ],
            [
             0.1111111111111111,
             "#46039f"
            ],
            [
             0.2222222222222222,
             "#7201a8"
            ],
            [
             0.3333333333333333,
             "#9c179e"
            ],
            [
             0.4444444444444444,
             "#bd3786"
            ],
            [
             0.5555555555555556,
             "#d8576b"
            ],
            [
             0.6666666666666666,
             "#ed7953"
            ],
            [
             0.7777777777777778,
             "#fb9f3a"
            ],
            [
             0.8888888888888888,
             "#fdca26"
            ],
            [
             1,
             "#f0f921"
            ]
           ],
           "sequentialminus": [
            [
             0,
             "#0d0887"
            ],
            [
             0.1111111111111111,
             "#46039f"
            ],
            [
             0.2222222222222222,
             "#7201a8"
            ],
            [
             0.3333333333333333,
             "#9c179e"
            ],
            [
             0.4444444444444444,
             "#bd3786"
            ],
            [
             0.5555555555555556,
             "#d8576b"
            ],
            [
             0.6666666666666666,
             "#ed7953"
            ],
            [
             0.7777777777777778,
             "#fb9f3a"
            ],
            [
             0.8888888888888888,
             "#fdca26"
            ],
            [
             1,
             "#f0f921"
            ]
           ]
          },
          "colorway": [
           "#636efa",
           "#EF553B",
           "#00cc96",
           "#ab63fa",
           "#FFA15A",
           "#19d3f3",
           "#FF6692",
           "#B6E880",
           "#FF97FF",
           "#FECB52"
          ],
          "font": {
           "color": "#2a3f5f"
          },
          "geo": {
           "bgcolor": "white",
           "lakecolor": "white",
           "landcolor": "#E5ECF6",
           "showlakes": true,
           "showland": true,
           "subunitcolor": "white"
          },
          "hoverlabel": {
           "align": "left"
          },
          "hovermode": "closest",
          "mapbox": {
           "style": "light"
          },
          "paper_bgcolor": "white",
          "plot_bgcolor": "#E5ECF6",
          "polar": {
           "angularaxis": {
            "gridcolor": "white",
            "linecolor": "white",
            "ticks": ""
           },
           "bgcolor": "#E5ECF6",
           "radialaxis": {
            "gridcolor": "white",
            "linecolor": "white",
            "ticks": ""
           }
          },
          "scene": {
           "xaxis": {
            "backgroundcolor": "#E5ECF6",
            "gridcolor": "white",
            "gridwidth": 2,
            "linecolor": "white",
            "showbackground": true,
            "ticks": "",
            "zerolinecolor": "white"
           },
           "yaxis": {
            "backgroundcolor": "#E5ECF6",
            "gridcolor": "white",
            "gridwidth": 2,
            "linecolor": "white",
            "showbackground": true,
            "ticks": "",
            "zerolinecolor": "white"
           },
           "zaxis": {
            "backgroundcolor": "#E5ECF6",
            "gridcolor": "white",
            "gridwidth": 2,
            "linecolor": "white",
            "showbackground": true,
            "ticks": "",
            "zerolinecolor": "white"
           }
          },
          "shapedefaults": {
           "line": {
            "color": "#2a3f5f"
           }
          },
          "ternary": {
           "aaxis": {
            "gridcolor": "white",
            "linecolor": "white",
            "ticks": ""
           },
           "baxis": {
            "gridcolor": "white",
            "linecolor": "white",
            "ticks": ""
           },
           "bgcolor": "#E5ECF6",
           "caxis": {
            "gridcolor": "white",
            "linecolor": "white",
            "ticks": ""
           }
          },
          "title": {
           "x": 0.05
          },
          "xaxis": {
           "automargin": true,
           "gridcolor": "white",
           "linecolor": "white",
           "ticks": "",
           "title": {
            "standoff": 15
           },
           "zerolinecolor": "white",
           "zerolinewidth": 2
          },
          "yaxis": {
           "automargin": true,
           "gridcolor": "white",
           "linecolor": "white",
           "ticks": "",
           "title": {
            "standoff": 15
           },
           "zerolinecolor": "white",
           "zerolinewidth": 2
          }
         }
        },
        "title": {
         "font": {
          "color": "#4D5663"
         }
        },
        "xaxis": {
         "gridcolor": "#E1E5ED",
         "showgrid": true,
         "tickfont": {
          "color": "#4D5663"
         },
         "title": {
          "font": {
           "color": "#4D5663"
          },
          "text": ""
         },
         "zerolinecolor": "#E1E5ED"
        },
        "yaxis": {
         "gridcolor": "#E1E5ED",
         "showgrid": true,
         "tickfont": {
          "color": "#4D5663"
         },
         "title": {
          "font": {
           "color": "#4D5663"
          },
          "text": ""
         },
         "zerolinecolor": "#E1E5ED"
        }
       }
      },
      "text/html": [
       "<div>                            <div id=\"58a36aa7-3d30-4801-87cb-b9fa3d6c54de\" class=\"plotly-graph-div\" style=\"height:525px; width:100%;\"></div>            <script type=\"text/javascript\">                require([\"plotly\"], function(Plotly) {                    window.PLOTLYENV=window.PLOTLYENV || {};\n",
       "                    window.PLOTLYENV.BASE_URL='https://plot.ly';                                    if (document.getElementById(\"58a36aa7-3d30-4801-87cb-b9fa3d6c54de\")) {                    Plotly.newPlot(                        \"58a36aa7-3d30-4801-87cb-b9fa3d6c54de\",                        [{\"line\":{\"color\":\"rgba(255, 153, 51, 1.0)\",\"dash\":\"solid\",\"shape\":\"linear\",\"width\":1.3},\"marker\":{\"size\":10,\"symbol\":\"circle\"},\"mode\":\"markers\",\"name\":\"B\",\"text\":\"\",\"x\":[0.10600372573935532,0.20749207561513944,-1.0393378694469475,-0.6836932422094264,0.3712406633159747,1.8227241947210773,-2.262207151026445,-1.8970460309624753,1.2286043953391381,-0.3574193062297222,-1.7377734024170408,0.5197339233321271,-0.06788953602198554,-0.40191529592914244,-0.43370818219860896,-1.1661124908327158,1.1909206075148222,0.4388735027552563,0.03078096636690785,1.9362836769431646,-0.37075561956492736,-0.22921069296146732,0.5688691041798098,-1.7056023477568323,0.07570934350096442,0.9263520986244222,2.110174197159889,0.07056773563634443,-1.3740931235677463,0.9831289227755879,-0.6120200206186656,0.15666800087062727,-0.01844629565827913,-1.4108549888033666,-1.0840512483666251,0.15007307789236096,0.1562200550680007,0.6715655265118765,-2.5833248405455964,-0.9396192348953979,0.30327683434061165,-0.017701326490219854,0.9946009238039645,-2.047910052190914,0.35534195799578105,0.7309389442237206,-0.018911812240188265,0.5258877279467146,-0.7578060225979669,0.021273816181194286,0.6076296020031607,-0.5912050505425559,0.6267086559935164,2.2603470912323167,-0.40959760922837896,-1.0999662078027865,-1.7244320790470604,0.6185762285561729,1.215949179679514,0.512677421517591,1.1468696837108043,0.07780582086841593,0.3581086513672768,1.101114232910788,-0.816159235634712,1.620708418607869,0.050085042836158146,0.933719368820452,-1.923699435336341,0.8298418569096968,-0.31898033207002435,-1.629422634794213,0.7937285580426178,-1.141487628713606,1.0324380703636866,1.6275267747285445,1.8828615027230835,-1.3108896433586812,-0.6231178037822507,-0.1514895671878934,0.4884180261113317,-1.244530345881232,-1.7586800032751404,0.3293062297921215,0.7329470338986954,1.9479456523338359,0.665343553005202,-0.6797658495124682,-1.4603444616505636,-0.5061330022052487,1.3255130564272948,1.2819616135045893,-0.03846990574957462,-1.0597436840005086,1.0970280388504754,-1.0605874226275647,-0.5625504969934049,1.3758715701554394,-0.30022048190267414,-1.297072370793922],\"y\":[0.4769431026012106,-0.10019126128842715,0.6113592162515342,-0.8070370418018528,0.2763978925358597,-0.10720355844112409,-0.5903615969727316,-0.13055421428039032,1.2693444378168242,0.8529892166991166,0.9325210127082194,-0.24958114969826484,0.13236018337252933,-0.5761867920069248,-0.2190615071806342,0.6637069422788028,0.18305818053502448,2.6808423224478246,-1.0654428571490364,-0.8291462865638127,0.054494391458582106,-1.2023837369074832,1.070784285243506,0.15962997085686725,0.25054171463418734,0.9451835521587554,1.430558994837546,-0.49260223389592717,0.10123049379232833,-1.4435471051098858,-0.6193153315070554,-1.156930328544975,-0.8826196284045719,1.0009977260930587,0.4544280710439374,-0.9688836385097156,1.4773761326737302,1.3773454164431693,1.1084251339689797,0.5651450676087367,0.1387848864141628,1.4264525785172326,-0.37757980864992063,0.6202853071456437,0.18004419237638297,2.129096335269589,0.04973451721719641,1.2394810276706119,0.8193637123020554,-0.05317134097489851,-0.24664799954484715,0.5331418669922314,1.3214390503174918,0.5236888999215038,0.23287917717351467,0.6006932090430144,1.0862840410571686,2.660470685844886,0.6515793111509729,0.3884324324252398,0.20721984859051978,-0.25002746247732804,1.153674982774516,0.9335273660013991,-0.349515394552551,1.5247358336307832,2.4143324819372887,1.2502741563615987,0.0893496287677241,3.034968760018631,-0.13304108425193012,-1.0038447287093142,-1.9660690740070852,-0.7380463039444887,-0.48913647757759166,-0.49736309395632505,-0.8922475224765966,1.177202339988743,0.1338660112203844,-0.18265674871739768,-0.929224229936402,0.6001450586623118,-1.3613736551788942,0.18138237038600677,-0.704074249023333,0.889338266253846,-0.7980933887078092,-0.6261537265622374,-0.6335248289426914,0.7543574951401341,-0.3631892656708778,-0.8037506822775732,0.23490382806972052,1.5398650558233888,-0.40383975283133766,0.67976087105031,-0.34859922135264265,1.441292826564418,-0.6637472409501192,0.9535293591259538],\"type\":\"scatter\"}],                        {\"legend\":{\"bgcolor\":\"#F5F6F9\",\"font\":{\"color\":\"#4D5663\"}},\"paper_bgcolor\":\"#F5F6F9\",\"plot_bgcolor\":\"#F5F6F9\",\"template\":{\"data\":{\"barpolar\":[{\"marker\":{\"line\":{\"color\":\"#E5ECF6\",\"width\":0.5},\"pattern\":{\"fillmode\":\"overlay\",\"size\":10,\"solidity\":0.2}},\"type\":\"barpolar\"}],\"bar\":[{\"error_x\":{\"color\":\"#2a3f5f\"},\"error_y\":{\"color\":\"#2a3f5f\"},\"marker\":{\"line\":{\"color\":\"#E5ECF6\",\"width\":0.5},\"pattern\":{\"fillmode\":\"overlay\",\"size\":10,\"solidity\":0.2}},\"type\":\"bar\"}],\"carpet\":[{\"aaxis\":{\"endlinecolor\":\"#2a3f5f\",\"gridcolor\":\"white\",\"linecolor\":\"white\",\"minorgridcolor\":\"white\",\"startlinecolor\":\"#2a3f5f\"},\"baxis\":{\"endlinecolor\":\"#2a3f5f\",\"gridcolor\":\"white\",\"linecolor\":\"white\",\"minorgridcolor\":\"white\",\"startlinecolor\":\"#2a3f5f\"},\"type\":\"carpet\"}],\"choropleth\":[{\"colorbar\":{\"outlinewidth\":0,\"ticks\":\"\"},\"type\":\"choropleth\"}],\"contourcarpet\":[{\"colorbar\":{\"outlinewidth\":0,\"ticks\":\"\"},\"type\":\"contourcarpet\"}],\"contour\":[{\"colorbar\":{\"outlinewidth\":0,\"ticks\":\"\"},\"colorscale\":[[0.0,\"#0d0887\"],[0.1111111111111111,\"#46039f\"],[0.2222222222222222,\"#7201a8\"],[0.3333333333333333,\"#9c179e\"],[0.4444444444444444,\"#bd3786\"],[0.5555555555555556,\"#d8576b\"],[0.6666666666666666,\"#ed7953\"],[0.7777777777777778,\"#fb9f3a\"],[0.8888888888888888,\"#fdca26\"],[1.0,\"#f0f921\"]],\"type\":\"contour\"}],\"heatmapgl\":[{\"colorbar\":{\"outlinewidth\":0,\"ticks\":\"\"},\"colorscale\":[[0.0,\"#0d0887\"],[0.1111111111111111,\"#46039f\"],[0.2222222222222222,\"#7201a8\"],[0.3333333333333333,\"#9c179e\"],[0.4444444444444444,\"#bd3786\"],[0.5555555555555556,\"#d8576b\"],[0.6666666666666666,\"#ed7953\"],[0.7777777777777778,\"#fb9f3a\"],[0.8888888888888888,\"#fdca26\"],[1.0,\"#f0f921\"]],\"type\":\"heatmapgl\"}],\"heatmap\":[{\"colorbar\":{\"outlinewidth\":0,\"ticks\":\"\"},\"colorscale\":[[0.0,\"#0d0887\"],[0.1111111111111111,\"#46039f\"],[0.2222222222222222,\"#7201a8\"],[0.3333333333333333,\"#9c179e\"],[0.4444444444444444,\"#bd3786\"],[0.5555555555555556,\"#d8576b\"],[0.6666666666666666,\"#ed7953\"],[0.7777777777777778,\"#fb9f3a\"],[0.8888888888888888,\"#fdca26\"],[1.0,\"#f0f921\"]],\"type\":\"heatmap\"}],\"histogram2dcontour\":[{\"colorbar\":{\"outlinewidth\":0,\"ticks\":\"\"},\"colorscale\":[[0.0,\"#0d0887\"],[0.1111111111111111,\"#46039f\"],[0.2222222222222222,\"#7201a8\"],[0.3333333333333333,\"#9c179e\"],[0.4444444444444444,\"#bd3786\"],[0.5555555555555556,\"#d8576b\"],[0.6666666666666666,\"#ed7953\"],[0.7777777777777778,\"#fb9f3a\"],[0.8888888888888888,\"#fdca26\"],[1.0,\"#f0f921\"]],\"type\":\"histogram2dcontour\"}],\"histogram2d\":[{\"colorbar\":{\"outlinewidth\":0,\"ticks\":\"\"},\"colorscale\":[[0.0,\"#0d0887\"],[0.1111111111111111,\"#46039f\"],[0.2222222222222222,\"#7201a8\"],[0.3333333333333333,\"#9c179e\"],[0.4444444444444444,\"#bd3786\"],[0.5555555555555556,\"#d8576b\"],[0.6666666666666666,\"#ed7953\"],[0.7777777777777778,\"#fb9f3a\"],[0.8888888888888888,\"#fdca26\"],[1.0,\"#f0f921\"]],\"type\":\"histogram2d\"}],\"histogram\":[{\"marker\":{\"pattern\":{\"fillmode\":\"overlay\",\"size\":10,\"solidity\":0.2}},\"type\":\"histogram\"}],\"mesh3d\":[{\"colorbar\":{\"outlinewidth\":0,\"ticks\":\"\"},\"type\":\"mesh3d\"}],\"parcoords\":[{\"line\":{\"colorbar\":{\"outlinewidth\":0,\"ticks\":\"\"}},\"type\":\"parcoords\"}],\"pie\":[{\"automargin\":true,\"type\":\"pie\"}],\"scatter3d\":[{\"line\":{\"colorbar\":{\"outlinewidth\":0,\"ticks\":\"\"}},\"marker\":{\"colorbar\":{\"outlinewidth\":0,\"ticks\":\"\"}},\"type\":\"scatter3d\"}],\"scattercarpet\":[{\"marker\":{\"colorbar\":{\"outlinewidth\":0,\"ticks\":\"\"}},\"type\":\"scattercarpet\"}],\"scattergeo\":[{\"marker\":{\"colorbar\":{\"outlinewidth\":0,\"ticks\":\"\"}},\"type\":\"scattergeo\"}],\"scattergl\":[{\"marker\":{\"colorbar\":{\"outlinewidth\":0,\"ticks\":\"\"}},\"type\":\"scattergl\"}],\"scattermapbox\":[{\"marker\":{\"colorbar\":{\"outlinewidth\":0,\"ticks\":\"\"}},\"type\":\"scattermapbox\"}],\"scatterpolargl\":[{\"marker\":{\"colorbar\":{\"outlinewidth\":0,\"ticks\":\"\"}},\"type\":\"scatterpolargl\"}],\"scatterpolar\":[{\"marker\":{\"colorbar\":{\"outlinewidth\":0,\"ticks\":\"\"}},\"type\":\"scatterpolar\"}],\"scatter\":[{\"fillpattern\":{\"fillmode\":\"overlay\",\"size\":10,\"solidity\":0.2},\"type\":\"scatter\"}],\"scatterternary\":[{\"marker\":{\"colorbar\":{\"outlinewidth\":0,\"ticks\":\"\"}},\"type\":\"scatterternary\"}],\"surface\":[{\"colorbar\":{\"outlinewidth\":0,\"ticks\":\"\"},\"colorscale\":[[0.0,\"#0d0887\"],[0.1111111111111111,\"#46039f\"],[0.2222222222222222,\"#7201a8\"],[0.3333333333333333,\"#9c179e\"],[0.4444444444444444,\"#bd3786\"],[0.5555555555555556,\"#d8576b\"],[0.6666666666666666,\"#ed7953\"],[0.7777777777777778,\"#fb9f3a\"],[0.8888888888888888,\"#fdca26\"],[1.0,\"#f0f921\"]],\"type\":\"surface\"}],\"table\":[{\"cells\":{\"fill\":{\"color\":\"#EBF0F8\"},\"line\":{\"color\":\"white\"}},\"header\":{\"fill\":{\"color\":\"#C8D4E3\"},\"line\":{\"color\":\"white\"}},\"type\":\"table\"}]},\"layout\":{\"annotationdefaults\":{\"arrowcolor\":\"#2a3f5f\",\"arrowhead\":0,\"arrowwidth\":1},\"autotypenumbers\":\"strict\",\"coloraxis\":{\"colorbar\":{\"outlinewidth\":0,\"ticks\":\"\"}},\"colorscale\":{\"diverging\":[[0,\"#8e0152\"],[0.1,\"#c51b7d\"],[0.2,\"#de77ae\"],[0.3,\"#f1b6da\"],[0.4,\"#fde0ef\"],[0.5,\"#f7f7f7\"],[0.6,\"#e6f5d0\"],[0.7,\"#b8e186\"],[0.8,\"#7fbc41\"],[0.9,\"#4d9221\"],[1,\"#276419\"]],\"sequential\":[[0.0,\"#0d0887\"],[0.1111111111111111,\"#46039f\"],[0.2222222222222222,\"#7201a8\"],[0.3333333333333333,\"#9c179e\"],[0.4444444444444444,\"#bd3786\"],[0.5555555555555556,\"#d8576b\"],[0.6666666666666666,\"#ed7953\"],[0.7777777777777778,\"#fb9f3a\"],[0.8888888888888888,\"#fdca26\"],[1.0,\"#f0f921\"]],\"sequentialminus\":[[0.0,\"#0d0887\"],[0.1111111111111111,\"#46039f\"],[0.2222222222222222,\"#7201a8\"],[0.3333333333333333,\"#9c179e\"],[0.4444444444444444,\"#bd3786\"],[0.5555555555555556,\"#d8576b\"],[0.6666666666666666,\"#ed7953\"],[0.7777777777777778,\"#fb9f3a\"],[0.8888888888888888,\"#fdca26\"],[1.0,\"#f0f921\"]]},\"colorway\":[\"#636efa\",\"#EF553B\",\"#00cc96\",\"#ab63fa\",\"#FFA15A\",\"#19d3f3\",\"#FF6692\",\"#B6E880\",\"#FF97FF\",\"#FECB52\"],\"font\":{\"color\":\"#2a3f5f\"},\"geo\":{\"bgcolor\":\"white\",\"lakecolor\":\"white\",\"landcolor\":\"#E5ECF6\",\"showlakes\":true,\"showland\":true,\"subunitcolor\":\"white\"},\"hoverlabel\":{\"align\":\"left\"},\"hovermode\":\"closest\",\"mapbox\":{\"style\":\"light\"},\"paper_bgcolor\":\"white\",\"plot_bgcolor\":\"#E5ECF6\",\"polar\":{\"angularaxis\":{\"gridcolor\":\"white\",\"linecolor\":\"white\",\"ticks\":\"\"},\"bgcolor\":\"#E5ECF6\",\"radialaxis\":{\"gridcolor\":\"white\",\"linecolor\":\"white\",\"ticks\":\"\"}},\"scene\":{\"xaxis\":{\"backgroundcolor\":\"#E5ECF6\",\"gridcolor\":\"white\",\"gridwidth\":2,\"linecolor\":\"white\",\"showbackground\":true,\"ticks\":\"\",\"zerolinecolor\":\"white\"},\"yaxis\":{\"backgroundcolor\":\"#E5ECF6\",\"gridcolor\":\"white\",\"gridwidth\":2,\"linecolor\":\"white\",\"showbackground\":true,\"ticks\":\"\",\"zerolinecolor\":\"white\"},\"zaxis\":{\"backgroundcolor\":\"#E5ECF6\",\"gridcolor\":\"white\",\"gridwidth\":2,\"linecolor\":\"white\",\"showbackground\":true,\"ticks\":\"\",\"zerolinecolor\":\"white\"}},\"shapedefaults\":{\"line\":{\"color\":\"#2a3f5f\"}},\"ternary\":{\"aaxis\":{\"gridcolor\":\"white\",\"linecolor\":\"white\",\"ticks\":\"\"},\"baxis\":{\"gridcolor\":\"white\",\"linecolor\":\"white\",\"ticks\":\"\"},\"bgcolor\":\"#E5ECF6\",\"caxis\":{\"gridcolor\":\"white\",\"linecolor\":\"white\",\"ticks\":\"\"}},\"title\":{\"x\":0.05},\"xaxis\":{\"automargin\":true,\"gridcolor\":\"white\",\"linecolor\":\"white\",\"ticks\":\"\",\"title\":{\"standoff\":15},\"zerolinecolor\":\"white\",\"zerolinewidth\":2},\"yaxis\":{\"automargin\":true,\"gridcolor\":\"white\",\"linecolor\":\"white\",\"ticks\":\"\",\"title\":{\"standoff\":15},\"zerolinecolor\":\"white\",\"zerolinewidth\":2}}},\"title\":{\"font\":{\"color\":\"#4D5663\"}},\"xaxis\":{\"gridcolor\":\"#E1E5ED\",\"showgrid\":true,\"tickfont\":{\"color\":\"#4D5663\"},\"title\":{\"font\":{\"color\":\"#4D5663\"},\"text\":\"\"},\"zerolinecolor\":\"#E1E5ED\"},\"yaxis\":{\"gridcolor\":\"#E1E5ED\",\"showgrid\":true,\"tickfont\":{\"color\":\"#4D5663\"},\"title\":{\"font\":{\"color\":\"#4D5663\"},\"text\":\"\"},\"zerolinecolor\":\"#E1E5ED\"}},                        {\"showLink\": true, \"linkText\": \"Export to plot.ly\", \"plotlyServerURL\": \"https://plot.ly\", \"responsive\": true}                    ).then(function(){\n",
       "                            \n",
       "var gd = document.getElementById('58a36aa7-3d30-4801-87cb-b9fa3d6c54de');\n",
       "var x = new MutationObserver(function (mutations, observer) {{\n",
       "        var display = window.getComputedStyle(gd).display;\n",
       "        if (!display || display === 'none') {{\n",
       "            console.log([gd, 'removed!']);\n",
       "            Plotly.purge(gd);\n",
       "            observer.disconnect();\n",
       "        }}\n",
       "}});\n",
       "\n",
       "// Listen for the removal of the full notebook cells\n",
       "var notebookContainer = gd.closest('#notebook-container');\n",
       "if (notebookContainer) {{\n",
       "    x.observe(notebookContainer, {childList: true});\n",
       "}}\n",
       "\n",
       "// Listen for the clearing of the current output cell\n",
       "var outputEl = gd.closest('.output');\n",
       "if (outputEl) {{\n",
       "    x.observe(outputEl, {childList: true});\n",
       "}}\n",
       "\n",
       "                        })                };                });            </script>        </div>"
      ]
     },
     "metadata": {},
     "output_type": "display_data"
    }
   ],
   "source": [
    "df.iplot(kind='scatter',x='A',y='B',mode='markers',size=10)"
   ]
  },
  {
   "cell_type": "markdown",
   "metadata": {},
   "source": [
    "## Bar Plots"
   ]
  },
  {
   "cell_type": "code",
   "execution_count": 15,
   "metadata": {},
   "outputs": [
    {
     "data": {
      "application/vnd.plotly.v1+json": {
       "config": {
        "linkText": "Export to plot.ly",
        "plotlyServerURL": "https://plot.ly",
        "showLink": true
       },
       "data": [
        {
         "marker": {
          "color": "rgba(255, 153, 51, 0.6)",
          "line": {
           "color": "rgba(255, 153, 51, 1.0)",
           "width": 1
          }
         },
         "name": "Values",
         "orientation": "v",
         "text": "",
         "type": "bar",
         "x": [
          "A",
          "B",
          "C"
         ],
         "y": [
          32,
          43,
          50
         ]
        }
       ],
       "layout": {
        "legend": {
         "bgcolor": "#F5F6F9",
         "font": {
          "color": "#4D5663"
         }
        },
        "paper_bgcolor": "#F5F6F9",
        "plot_bgcolor": "#F5F6F9",
        "template": {
         "data": {
          "bar": [
           {
            "error_x": {
             "color": "#2a3f5f"
            },
            "error_y": {
             "color": "#2a3f5f"
            },
            "marker": {
             "line": {
              "color": "#E5ECF6",
              "width": 0.5
             },
             "pattern": {
              "fillmode": "overlay",
              "size": 10,
              "solidity": 0.2
             }
            },
            "type": "bar"
           }
          ],
          "barpolar": [
           {
            "marker": {
             "line": {
              "color": "#E5ECF6",
              "width": 0.5
             },
             "pattern": {
              "fillmode": "overlay",
              "size": 10,
              "solidity": 0.2
             }
            },
            "type": "barpolar"
           }
          ],
          "carpet": [
           {
            "aaxis": {
             "endlinecolor": "#2a3f5f",
             "gridcolor": "white",
             "linecolor": "white",
             "minorgridcolor": "white",
             "startlinecolor": "#2a3f5f"
            },
            "baxis": {
             "endlinecolor": "#2a3f5f",
             "gridcolor": "white",
             "linecolor": "white",
             "minorgridcolor": "white",
             "startlinecolor": "#2a3f5f"
            },
            "type": "carpet"
           }
          ],
          "choropleth": [
           {
            "colorbar": {
             "outlinewidth": 0,
             "ticks": ""
            },
            "type": "choropleth"
           }
          ],
          "contour": [
           {
            "colorbar": {
             "outlinewidth": 0,
             "ticks": ""
            },
            "colorscale": [
             [
              0,
              "#0d0887"
             ],
             [
              0.1111111111111111,
              "#46039f"
             ],
             [
              0.2222222222222222,
              "#7201a8"
             ],
             [
              0.3333333333333333,
              "#9c179e"
             ],
             [
              0.4444444444444444,
              "#bd3786"
             ],
             [
              0.5555555555555556,
              "#d8576b"
             ],
             [
              0.6666666666666666,
              "#ed7953"
             ],
             [
              0.7777777777777778,
              "#fb9f3a"
             ],
             [
              0.8888888888888888,
              "#fdca26"
             ],
             [
              1,
              "#f0f921"
             ]
            ],
            "type": "contour"
           }
          ],
          "contourcarpet": [
           {
            "colorbar": {
             "outlinewidth": 0,
             "ticks": ""
            },
            "type": "contourcarpet"
           }
          ],
          "heatmap": [
           {
            "colorbar": {
             "outlinewidth": 0,
             "ticks": ""
            },
            "colorscale": [
             [
              0,
              "#0d0887"
             ],
             [
              0.1111111111111111,
              "#46039f"
             ],
             [
              0.2222222222222222,
              "#7201a8"
             ],
             [
              0.3333333333333333,
              "#9c179e"
             ],
             [
              0.4444444444444444,
              "#bd3786"
             ],
             [
              0.5555555555555556,
              "#d8576b"
             ],
             [
              0.6666666666666666,
              "#ed7953"
             ],
             [
              0.7777777777777778,
              "#fb9f3a"
             ],
             [
              0.8888888888888888,
              "#fdca26"
             ],
             [
              1,
              "#f0f921"
             ]
            ],
            "type": "heatmap"
           }
          ],
          "heatmapgl": [
           {
            "colorbar": {
             "outlinewidth": 0,
             "ticks": ""
            },
            "colorscale": [
             [
              0,
              "#0d0887"
             ],
             [
              0.1111111111111111,
              "#46039f"
             ],
             [
              0.2222222222222222,
              "#7201a8"
             ],
             [
              0.3333333333333333,
              "#9c179e"
             ],
             [
              0.4444444444444444,
              "#bd3786"
             ],
             [
              0.5555555555555556,
              "#d8576b"
             ],
             [
              0.6666666666666666,
              "#ed7953"
             ],
             [
              0.7777777777777778,
              "#fb9f3a"
             ],
             [
              0.8888888888888888,
              "#fdca26"
             ],
             [
              1,
              "#f0f921"
             ]
            ],
            "type": "heatmapgl"
           }
          ],
          "histogram": [
           {
            "marker": {
             "pattern": {
              "fillmode": "overlay",
              "size": 10,
              "solidity": 0.2
             }
            },
            "type": "histogram"
           }
          ],
          "histogram2d": [
           {
            "colorbar": {
             "outlinewidth": 0,
             "ticks": ""
            },
            "colorscale": [
             [
              0,
              "#0d0887"
             ],
             [
              0.1111111111111111,
              "#46039f"
             ],
             [
              0.2222222222222222,
              "#7201a8"
             ],
             [
              0.3333333333333333,
              "#9c179e"
             ],
             [
              0.4444444444444444,
              "#bd3786"
             ],
             [
              0.5555555555555556,
              "#d8576b"
             ],
             [
              0.6666666666666666,
              "#ed7953"
             ],
             [
              0.7777777777777778,
              "#fb9f3a"
             ],
             [
              0.8888888888888888,
              "#fdca26"
             ],
             [
              1,
              "#f0f921"
             ]
            ],
            "type": "histogram2d"
           }
          ],
          "histogram2dcontour": [
           {
            "colorbar": {
             "outlinewidth": 0,
             "ticks": ""
            },
            "colorscale": [
             [
              0,
              "#0d0887"
             ],
             [
              0.1111111111111111,
              "#46039f"
             ],
             [
              0.2222222222222222,
              "#7201a8"
             ],
             [
              0.3333333333333333,
              "#9c179e"
             ],
             [
              0.4444444444444444,
              "#bd3786"
             ],
             [
              0.5555555555555556,
              "#d8576b"
             ],
             [
              0.6666666666666666,
              "#ed7953"
             ],
             [
              0.7777777777777778,
              "#fb9f3a"
             ],
             [
              0.8888888888888888,
              "#fdca26"
             ],
             [
              1,
              "#f0f921"
             ]
            ],
            "type": "histogram2dcontour"
           }
          ],
          "mesh3d": [
           {
            "colorbar": {
             "outlinewidth": 0,
             "ticks": ""
            },
            "type": "mesh3d"
           }
          ],
          "parcoords": [
           {
            "line": {
             "colorbar": {
              "outlinewidth": 0,
              "ticks": ""
             }
            },
            "type": "parcoords"
           }
          ],
          "pie": [
           {
            "automargin": true,
            "type": "pie"
           }
          ],
          "scatter": [
           {
            "fillpattern": {
             "fillmode": "overlay",
             "size": 10,
             "solidity": 0.2
            },
            "type": "scatter"
           }
          ],
          "scatter3d": [
           {
            "line": {
             "colorbar": {
              "outlinewidth": 0,
              "ticks": ""
             }
            },
            "marker": {
             "colorbar": {
              "outlinewidth": 0,
              "ticks": ""
             }
            },
            "type": "scatter3d"
           }
          ],
          "scattercarpet": [
           {
            "marker": {
             "colorbar": {
              "outlinewidth": 0,
              "ticks": ""
             }
            },
            "type": "scattercarpet"
           }
          ],
          "scattergeo": [
           {
            "marker": {
             "colorbar": {
              "outlinewidth": 0,
              "ticks": ""
             }
            },
            "type": "scattergeo"
           }
          ],
          "scattergl": [
           {
            "marker": {
             "colorbar": {
              "outlinewidth": 0,
              "ticks": ""
             }
            },
            "type": "scattergl"
           }
          ],
          "scattermapbox": [
           {
            "marker": {
             "colorbar": {
              "outlinewidth": 0,
              "ticks": ""
             }
            },
            "type": "scattermapbox"
           }
          ],
          "scatterpolar": [
           {
            "marker": {
             "colorbar": {
              "outlinewidth": 0,
              "ticks": ""
             }
            },
            "type": "scatterpolar"
           }
          ],
          "scatterpolargl": [
           {
            "marker": {
             "colorbar": {
              "outlinewidth": 0,
              "ticks": ""
             }
            },
            "type": "scatterpolargl"
           }
          ],
          "scatterternary": [
           {
            "marker": {
             "colorbar": {
              "outlinewidth": 0,
              "ticks": ""
             }
            },
            "type": "scatterternary"
           }
          ],
          "surface": [
           {
            "colorbar": {
             "outlinewidth": 0,
             "ticks": ""
            },
            "colorscale": [
             [
              0,
              "#0d0887"
             ],
             [
              0.1111111111111111,
              "#46039f"
             ],
             [
              0.2222222222222222,
              "#7201a8"
             ],
             [
              0.3333333333333333,
              "#9c179e"
             ],
             [
              0.4444444444444444,
              "#bd3786"
             ],
             [
              0.5555555555555556,
              "#d8576b"
             ],
             [
              0.6666666666666666,
              "#ed7953"
             ],
             [
              0.7777777777777778,
              "#fb9f3a"
             ],
             [
              0.8888888888888888,
              "#fdca26"
             ],
             [
              1,
              "#f0f921"
             ]
            ],
            "type": "surface"
           }
          ],
          "table": [
           {
            "cells": {
             "fill": {
              "color": "#EBF0F8"
             },
             "line": {
              "color": "white"
             }
            },
            "header": {
             "fill": {
              "color": "#C8D4E3"
             },
             "line": {
              "color": "white"
             }
            },
            "type": "table"
           }
          ]
         },
         "layout": {
          "annotationdefaults": {
           "arrowcolor": "#2a3f5f",
           "arrowhead": 0,
           "arrowwidth": 1
          },
          "autotypenumbers": "strict",
          "coloraxis": {
           "colorbar": {
            "outlinewidth": 0,
            "ticks": ""
           }
          },
          "colorscale": {
           "diverging": [
            [
             0,
             "#8e0152"
            ],
            [
             0.1,
             "#c51b7d"
            ],
            [
             0.2,
             "#de77ae"
            ],
            [
             0.3,
             "#f1b6da"
            ],
            [
             0.4,
             "#fde0ef"
            ],
            [
             0.5,
             "#f7f7f7"
            ],
            [
             0.6,
             "#e6f5d0"
            ],
            [
             0.7,
             "#b8e186"
            ],
            [
             0.8,
             "#7fbc41"
            ],
            [
             0.9,
             "#4d9221"
            ],
            [
             1,
             "#276419"
            ]
           ],
           "sequential": [
            [
             0,
             "#0d0887"
            ],
            [
             0.1111111111111111,
             "#46039f"
            ],
            [
             0.2222222222222222,
             "#7201a8"
            ],
            [
             0.3333333333333333,
             "#9c179e"
            ],
            [
             0.4444444444444444,
             "#bd3786"
            ],
            [
             0.5555555555555556,
             "#d8576b"
            ],
            [
             0.6666666666666666,
             "#ed7953"
            ],
            [
             0.7777777777777778,
             "#fb9f3a"
            ],
            [
             0.8888888888888888,
             "#fdca26"
            ],
            [
             1,
             "#f0f921"
            ]
           ],
           "sequentialminus": [
            [
             0,
             "#0d0887"
            ],
            [
             0.1111111111111111,
             "#46039f"
            ],
            [
             0.2222222222222222,
             "#7201a8"
            ],
            [
             0.3333333333333333,
             "#9c179e"
            ],
            [
             0.4444444444444444,
             "#bd3786"
            ],
            [
             0.5555555555555556,
             "#d8576b"
            ],
            [
             0.6666666666666666,
             "#ed7953"
            ],
            [
             0.7777777777777778,
             "#fb9f3a"
            ],
            [
             0.8888888888888888,
             "#fdca26"
            ],
            [
             1,
             "#f0f921"
            ]
           ]
          },
          "colorway": [
           "#636efa",
           "#EF553B",
           "#00cc96",
           "#ab63fa",
           "#FFA15A",
           "#19d3f3",
           "#FF6692",
           "#B6E880",
           "#FF97FF",
           "#FECB52"
          ],
          "font": {
           "color": "#2a3f5f"
          },
          "geo": {
           "bgcolor": "white",
           "lakecolor": "white",
           "landcolor": "#E5ECF6",
           "showlakes": true,
           "showland": true,
           "subunitcolor": "white"
          },
          "hoverlabel": {
           "align": "left"
          },
          "hovermode": "closest",
          "mapbox": {
           "style": "light"
          },
          "paper_bgcolor": "white",
          "plot_bgcolor": "#E5ECF6",
          "polar": {
           "angularaxis": {
            "gridcolor": "white",
            "linecolor": "white",
            "ticks": ""
           },
           "bgcolor": "#E5ECF6",
           "radialaxis": {
            "gridcolor": "white",
            "linecolor": "white",
            "ticks": ""
           }
          },
          "scene": {
           "xaxis": {
            "backgroundcolor": "#E5ECF6",
            "gridcolor": "white",
            "gridwidth": 2,
            "linecolor": "white",
            "showbackground": true,
            "ticks": "",
            "zerolinecolor": "white"
           },
           "yaxis": {
            "backgroundcolor": "#E5ECF6",
            "gridcolor": "white",
            "gridwidth": 2,
            "linecolor": "white",
            "showbackground": true,
            "ticks": "",
            "zerolinecolor": "white"
           },
           "zaxis": {
            "backgroundcolor": "#E5ECF6",
            "gridcolor": "white",
            "gridwidth": 2,
            "linecolor": "white",
            "showbackground": true,
            "ticks": "",
            "zerolinecolor": "white"
           }
          },
          "shapedefaults": {
           "line": {
            "color": "#2a3f5f"
           }
          },
          "ternary": {
           "aaxis": {
            "gridcolor": "white",
            "linecolor": "white",
            "ticks": ""
           },
           "baxis": {
            "gridcolor": "white",
            "linecolor": "white",
            "ticks": ""
           },
           "bgcolor": "#E5ECF6",
           "caxis": {
            "gridcolor": "white",
            "linecolor": "white",
            "ticks": ""
           }
          },
          "title": {
           "x": 0.05
          },
          "xaxis": {
           "automargin": true,
           "gridcolor": "white",
           "linecolor": "white",
           "ticks": "",
           "title": {
            "standoff": 15
           },
           "zerolinecolor": "white",
           "zerolinewidth": 2
          },
          "yaxis": {
           "automargin": true,
           "gridcolor": "white",
           "linecolor": "white",
           "ticks": "",
           "title": {
            "standoff": 15
           },
           "zerolinecolor": "white",
           "zerolinewidth": 2
          }
         }
        },
        "title": {
         "font": {
          "color": "#4D5663"
         }
        },
        "xaxis": {
         "gridcolor": "#E1E5ED",
         "showgrid": true,
         "tickfont": {
          "color": "#4D5663"
         },
         "title": {
          "font": {
           "color": "#4D5663"
          },
          "text": ""
         },
         "zerolinecolor": "#E1E5ED"
        },
        "yaxis": {
         "gridcolor": "#E1E5ED",
         "showgrid": true,
         "tickfont": {
          "color": "#4D5663"
         },
         "title": {
          "font": {
           "color": "#4D5663"
          },
          "text": ""
         },
         "zerolinecolor": "#E1E5ED"
        }
       }
      },
      "text/html": [
       "<div>                            <div id=\"f7f45da8-90ea-4abf-b788-94353c7d969a\" class=\"plotly-graph-div\" style=\"height:525px; width:100%;\"></div>            <script type=\"text/javascript\">                require([\"plotly\"], function(Plotly) {                    window.PLOTLYENV=window.PLOTLYENV || {};\n",
       "                    window.PLOTLYENV.BASE_URL='https://plot.ly';                                    if (document.getElementById(\"f7f45da8-90ea-4abf-b788-94353c7d969a\")) {                    Plotly.newPlot(                        \"f7f45da8-90ea-4abf-b788-94353c7d969a\",                        [{\"marker\":{\"color\":\"rgba(255, 153, 51, 0.6)\",\"line\":{\"color\":\"rgba(255, 153, 51, 1.0)\",\"width\":1}},\"name\":\"Values\",\"orientation\":\"v\",\"text\":\"\",\"x\":[\"A\",\"B\",\"C\"],\"y\":[32,43,50],\"type\":\"bar\"}],                        {\"legend\":{\"bgcolor\":\"#F5F6F9\",\"font\":{\"color\":\"#4D5663\"}},\"paper_bgcolor\":\"#F5F6F9\",\"plot_bgcolor\":\"#F5F6F9\",\"template\":{\"data\":{\"barpolar\":[{\"marker\":{\"line\":{\"color\":\"#E5ECF6\",\"width\":0.5},\"pattern\":{\"fillmode\":\"overlay\",\"size\":10,\"solidity\":0.2}},\"type\":\"barpolar\"}],\"bar\":[{\"error_x\":{\"color\":\"#2a3f5f\"},\"error_y\":{\"color\":\"#2a3f5f\"},\"marker\":{\"line\":{\"color\":\"#E5ECF6\",\"width\":0.5},\"pattern\":{\"fillmode\":\"overlay\",\"size\":10,\"solidity\":0.2}},\"type\":\"bar\"}],\"carpet\":[{\"aaxis\":{\"endlinecolor\":\"#2a3f5f\",\"gridcolor\":\"white\",\"linecolor\":\"white\",\"minorgridcolor\":\"white\",\"startlinecolor\":\"#2a3f5f\"},\"baxis\":{\"endlinecolor\":\"#2a3f5f\",\"gridcolor\":\"white\",\"linecolor\":\"white\",\"minorgridcolor\":\"white\",\"startlinecolor\":\"#2a3f5f\"},\"type\":\"carpet\"}],\"choropleth\":[{\"colorbar\":{\"outlinewidth\":0,\"ticks\":\"\"},\"type\":\"choropleth\"}],\"contourcarpet\":[{\"colorbar\":{\"outlinewidth\":0,\"ticks\":\"\"},\"type\":\"contourcarpet\"}],\"contour\":[{\"colorbar\":{\"outlinewidth\":0,\"ticks\":\"\"},\"colorscale\":[[0.0,\"#0d0887\"],[0.1111111111111111,\"#46039f\"],[0.2222222222222222,\"#7201a8\"],[0.3333333333333333,\"#9c179e\"],[0.4444444444444444,\"#bd3786\"],[0.5555555555555556,\"#d8576b\"],[0.6666666666666666,\"#ed7953\"],[0.7777777777777778,\"#fb9f3a\"],[0.8888888888888888,\"#fdca26\"],[1.0,\"#f0f921\"]],\"type\":\"contour\"}],\"heatmapgl\":[{\"colorbar\":{\"outlinewidth\":0,\"ticks\":\"\"},\"colorscale\":[[0.0,\"#0d0887\"],[0.1111111111111111,\"#46039f\"],[0.2222222222222222,\"#7201a8\"],[0.3333333333333333,\"#9c179e\"],[0.4444444444444444,\"#bd3786\"],[0.5555555555555556,\"#d8576b\"],[0.6666666666666666,\"#ed7953\"],[0.7777777777777778,\"#fb9f3a\"],[0.8888888888888888,\"#fdca26\"],[1.0,\"#f0f921\"]],\"type\":\"heatmapgl\"}],\"heatmap\":[{\"colorbar\":{\"outlinewidth\":0,\"ticks\":\"\"},\"colorscale\":[[0.0,\"#0d0887\"],[0.1111111111111111,\"#46039f\"],[0.2222222222222222,\"#7201a8\"],[0.3333333333333333,\"#9c179e\"],[0.4444444444444444,\"#bd3786\"],[0.5555555555555556,\"#d8576b\"],[0.6666666666666666,\"#ed7953\"],[0.7777777777777778,\"#fb9f3a\"],[0.8888888888888888,\"#fdca26\"],[1.0,\"#f0f921\"]],\"type\":\"heatmap\"}],\"histogram2dcontour\":[{\"colorbar\":{\"outlinewidth\":0,\"ticks\":\"\"},\"colorscale\":[[0.0,\"#0d0887\"],[0.1111111111111111,\"#46039f\"],[0.2222222222222222,\"#7201a8\"],[0.3333333333333333,\"#9c179e\"],[0.4444444444444444,\"#bd3786\"],[0.5555555555555556,\"#d8576b\"],[0.6666666666666666,\"#ed7953\"],[0.7777777777777778,\"#fb9f3a\"],[0.8888888888888888,\"#fdca26\"],[1.0,\"#f0f921\"]],\"type\":\"histogram2dcontour\"}],\"histogram2d\":[{\"colorbar\":{\"outlinewidth\":0,\"ticks\":\"\"},\"colorscale\":[[0.0,\"#0d0887\"],[0.1111111111111111,\"#46039f\"],[0.2222222222222222,\"#7201a8\"],[0.3333333333333333,\"#9c179e\"],[0.4444444444444444,\"#bd3786\"],[0.5555555555555556,\"#d8576b\"],[0.6666666666666666,\"#ed7953\"],[0.7777777777777778,\"#fb9f3a\"],[0.8888888888888888,\"#fdca26\"],[1.0,\"#f0f921\"]],\"type\":\"histogram2d\"}],\"histogram\":[{\"marker\":{\"pattern\":{\"fillmode\":\"overlay\",\"size\":10,\"solidity\":0.2}},\"type\":\"histogram\"}],\"mesh3d\":[{\"colorbar\":{\"outlinewidth\":0,\"ticks\":\"\"},\"type\":\"mesh3d\"}],\"parcoords\":[{\"line\":{\"colorbar\":{\"outlinewidth\":0,\"ticks\":\"\"}},\"type\":\"parcoords\"}],\"pie\":[{\"automargin\":true,\"type\":\"pie\"}],\"scatter3d\":[{\"line\":{\"colorbar\":{\"outlinewidth\":0,\"ticks\":\"\"}},\"marker\":{\"colorbar\":{\"outlinewidth\":0,\"ticks\":\"\"}},\"type\":\"scatter3d\"}],\"scattercarpet\":[{\"marker\":{\"colorbar\":{\"outlinewidth\":0,\"ticks\":\"\"}},\"type\":\"scattercarpet\"}],\"scattergeo\":[{\"marker\":{\"colorbar\":{\"outlinewidth\":0,\"ticks\":\"\"}},\"type\":\"scattergeo\"}],\"scattergl\":[{\"marker\":{\"colorbar\":{\"outlinewidth\":0,\"ticks\":\"\"}},\"type\":\"scattergl\"}],\"scattermapbox\":[{\"marker\":{\"colorbar\":{\"outlinewidth\":0,\"ticks\":\"\"}},\"type\":\"scattermapbox\"}],\"scatterpolargl\":[{\"marker\":{\"colorbar\":{\"outlinewidth\":0,\"ticks\":\"\"}},\"type\":\"scatterpolargl\"}],\"scatterpolar\":[{\"marker\":{\"colorbar\":{\"outlinewidth\":0,\"ticks\":\"\"}},\"type\":\"scatterpolar\"}],\"scatter\":[{\"fillpattern\":{\"fillmode\":\"overlay\",\"size\":10,\"solidity\":0.2},\"type\":\"scatter\"}],\"scatterternary\":[{\"marker\":{\"colorbar\":{\"outlinewidth\":0,\"ticks\":\"\"}},\"type\":\"scatterternary\"}],\"surface\":[{\"colorbar\":{\"outlinewidth\":0,\"ticks\":\"\"},\"colorscale\":[[0.0,\"#0d0887\"],[0.1111111111111111,\"#46039f\"],[0.2222222222222222,\"#7201a8\"],[0.3333333333333333,\"#9c179e\"],[0.4444444444444444,\"#bd3786\"],[0.5555555555555556,\"#d8576b\"],[0.6666666666666666,\"#ed7953\"],[0.7777777777777778,\"#fb9f3a\"],[0.8888888888888888,\"#fdca26\"],[1.0,\"#f0f921\"]],\"type\":\"surface\"}],\"table\":[{\"cells\":{\"fill\":{\"color\":\"#EBF0F8\"},\"line\":{\"color\":\"white\"}},\"header\":{\"fill\":{\"color\":\"#C8D4E3\"},\"line\":{\"color\":\"white\"}},\"type\":\"table\"}]},\"layout\":{\"annotationdefaults\":{\"arrowcolor\":\"#2a3f5f\",\"arrowhead\":0,\"arrowwidth\":1},\"autotypenumbers\":\"strict\",\"coloraxis\":{\"colorbar\":{\"outlinewidth\":0,\"ticks\":\"\"}},\"colorscale\":{\"diverging\":[[0,\"#8e0152\"],[0.1,\"#c51b7d\"],[0.2,\"#de77ae\"],[0.3,\"#f1b6da\"],[0.4,\"#fde0ef\"],[0.5,\"#f7f7f7\"],[0.6,\"#e6f5d0\"],[0.7,\"#b8e186\"],[0.8,\"#7fbc41\"],[0.9,\"#4d9221\"],[1,\"#276419\"]],\"sequential\":[[0.0,\"#0d0887\"],[0.1111111111111111,\"#46039f\"],[0.2222222222222222,\"#7201a8\"],[0.3333333333333333,\"#9c179e\"],[0.4444444444444444,\"#bd3786\"],[0.5555555555555556,\"#d8576b\"],[0.6666666666666666,\"#ed7953\"],[0.7777777777777778,\"#fb9f3a\"],[0.8888888888888888,\"#fdca26\"],[1.0,\"#f0f921\"]],\"sequentialminus\":[[0.0,\"#0d0887\"],[0.1111111111111111,\"#46039f\"],[0.2222222222222222,\"#7201a8\"],[0.3333333333333333,\"#9c179e\"],[0.4444444444444444,\"#bd3786\"],[0.5555555555555556,\"#d8576b\"],[0.6666666666666666,\"#ed7953\"],[0.7777777777777778,\"#fb9f3a\"],[0.8888888888888888,\"#fdca26\"],[1.0,\"#f0f921\"]]},\"colorway\":[\"#636efa\",\"#EF553B\",\"#00cc96\",\"#ab63fa\",\"#FFA15A\",\"#19d3f3\",\"#FF6692\",\"#B6E880\",\"#FF97FF\",\"#FECB52\"],\"font\":{\"color\":\"#2a3f5f\"},\"geo\":{\"bgcolor\":\"white\",\"lakecolor\":\"white\",\"landcolor\":\"#E5ECF6\",\"showlakes\":true,\"showland\":true,\"subunitcolor\":\"white\"},\"hoverlabel\":{\"align\":\"left\"},\"hovermode\":\"closest\",\"mapbox\":{\"style\":\"light\"},\"paper_bgcolor\":\"white\",\"plot_bgcolor\":\"#E5ECF6\",\"polar\":{\"angularaxis\":{\"gridcolor\":\"white\",\"linecolor\":\"white\",\"ticks\":\"\"},\"bgcolor\":\"#E5ECF6\",\"radialaxis\":{\"gridcolor\":\"white\",\"linecolor\":\"white\",\"ticks\":\"\"}},\"scene\":{\"xaxis\":{\"backgroundcolor\":\"#E5ECF6\",\"gridcolor\":\"white\",\"gridwidth\":2,\"linecolor\":\"white\",\"showbackground\":true,\"ticks\":\"\",\"zerolinecolor\":\"white\"},\"yaxis\":{\"backgroundcolor\":\"#E5ECF6\",\"gridcolor\":\"white\",\"gridwidth\":2,\"linecolor\":\"white\",\"showbackground\":true,\"ticks\":\"\",\"zerolinecolor\":\"white\"},\"zaxis\":{\"backgroundcolor\":\"#E5ECF6\",\"gridcolor\":\"white\",\"gridwidth\":2,\"linecolor\":\"white\",\"showbackground\":true,\"ticks\":\"\",\"zerolinecolor\":\"white\"}},\"shapedefaults\":{\"line\":{\"color\":\"#2a3f5f\"}},\"ternary\":{\"aaxis\":{\"gridcolor\":\"white\",\"linecolor\":\"white\",\"ticks\":\"\"},\"baxis\":{\"gridcolor\":\"white\",\"linecolor\":\"white\",\"ticks\":\"\"},\"bgcolor\":\"#E5ECF6\",\"caxis\":{\"gridcolor\":\"white\",\"linecolor\":\"white\",\"ticks\":\"\"}},\"title\":{\"x\":0.05},\"xaxis\":{\"automargin\":true,\"gridcolor\":\"white\",\"linecolor\":\"white\",\"ticks\":\"\",\"title\":{\"standoff\":15},\"zerolinecolor\":\"white\",\"zerolinewidth\":2},\"yaxis\":{\"automargin\":true,\"gridcolor\":\"white\",\"linecolor\":\"white\",\"ticks\":\"\",\"title\":{\"standoff\":15},\"zerolinecolor\":\"white\",\"zerolinewidth\":2}}},\"title\":{\"font\":{\"color\":\"#4D5663\"}},\"xaxis\":{\"gridcolor\":\"#E1E5ED\",\"showgrid\":true,\"tickfont\":{\"color\":\"#4D5663\"},\"title\":{\"font\":{\"color\":\"#4D5663\"},\"text\":\"\"},\"zerolinecolor\":\"#E1E5ED\"},\"yaxis\":{\"gridcolor\":\"#E1E5ED\",\"showgrid\":true,\"tickfont\":{\"color\":\"#4D5663\"},\"title\":{\"font\":{\"color\":\"#4D5663\"},\"text\":\"\"},\"zerolinecolor\":\"#E1E5ED\"}},                        {\"showLink\": true, \"linkText\": \"Export to plot.ly\", \"plotlyServerURL\": \"https://plot.ly\", \"responsive\": true}                    ).then(function(){\n",
       "                            \n",
       "var gd = document.getElementById('f7f45da8-90ea-4abf-b788-94353c7d969a');\n",
       "var x = new MutationObserver(function (mutations, observer) {{\n",
       "        var display = window.getComputedStyle(gd).display;\n",
       "        if (!display || display === 'none') {{\n",
       "            console.log([gd, 'removed!']);\n",
       "            Plotly.purge(gd);\n",
       "            observer.disconnect();\n",
       "        }}\n",
       "}});\n",
       "\n",
       "// Listen for the removal of the full notebook cells\n",
       "var notebookContainer = gd.closest('#notebook-container');\n",
       "if (notebookContainer) {{\n",
       "    x.observe(notebookContainer, {childList: true});\n",
       "}}\n",
       "\n",
       "// Listen for the clearing of the current output cell\n",
       "var outputEl = gd.closest('.output');\n",
       "if (outputEl) {{\n",
       "    x.observe(outputEl, {childList: true});\n",
       "}}\n",
       "\n",
       "                        })                };                });            </script>        </div>"
      ]
     },
     "metadata": {},
     "output_type": "display_data"
    }
   ],
   "source": [
    "df2.iplot(kind='bar',x='Category',y='Values')"
   ]
  },
  {
   "cell_type": "code",
   "execution_count": 16,
   "metadata": {},
   "outputs": [
    {
     "data": {
      "application/vnd.plotly.v1+json": {
       "config": {
        "linkText": "Export to plot.ly",
        "plotlyServerURL": "https://plot.ly",
        "showLink": true
       },
       "data": [
        {
         "marker": {
          "color": "rgba(255, 153, 51, 0.6)",
          "line": {
           "color": "rgba(255, 153, 51, 1.0)",
           "width": 1
          }
         },
         "name": "None",
         "orientation": "v",
         "text": "",
         "type": "bar",
         "x": [
          "A",
          "B",
          "C",
          "D"
         ],
         "y": [
          100,
          100,
          100,
          100
         ]
        }
       ],
       "layout": {
        "legend": {
         "bgcolor": "#F5F6F9",
         "font": {
          "color": "#4D5663"
         }
        },
        "paper_bgcolor": "#F5F6F9",
        "plot_bgcolor": "#F5F6F9",
        "template": {
         "data": {
          "bar": [
           {
            "error_x": {
             "color": "#2a3f5f"
            },
            "error_y": {
             "color": "#2a3f5f"
            },
            "marker": {
             "line": {
              "color": "#E5ECF6",
              "width": 0.5
             },
             "pattern": {
              "fillmode": "overlay",
              "size": 10,
              "solidity": 0.2
             }
            },
            "type": "bar"
           }
          ],
          "barpolar": [
           {
            "marker": {
             "line": {
              "color": "#E5ECF6",
              "width": 0.5
             },
             "pattern": {
              "fillmode": "overlay",
              "size": 10,
              "solidity": 0.2
             }
            },
            "type": "barpolar"
           }
          ],
          "carpet": [
           {
            "aaxis": {
             "endlinecolor": "#2a3f5f",
             "gridcolor": "white",
             "linecolor": "white",
             "minorgridcolor": "white",
             "startlinecolor": "#2a3f5f"
            },
            "baxis": {
             "endlinecolor": "#2a3f5f",
             "gridcolor": "white",
             "linecolor": "white",
             "minorgridcolor": "white",
             "startlinecolor": "#2a3f5f"
            },
            "type": "carpet"
           }
          ],
          "choropleth": [
           {
            "colorbar": {
             "outlinewidth": 0,
             "ticks": ""
            },
            "type": "choropleth"
           }
          ],
          "contour": [
           {
            "colorbar": {
             "outlinewidth": 0,
             "ticks": ""
            },
            "colorscale": [
             [
              0,
              "#0d0887"
             ],
             [
              0.1111111111111111,
              "#46039f"
             ],
             [
              0.2222222222222222,
              "#7201a8"
             ],
             [
              0.3333333333333333,
              "#9c179e"
             ],
             [
              0.4444444444444444,
              "#bd3786"
             ],
             [
              0.5555555555555556,
              "#d8576b"
             ],
             [
              0.6666666666666666,
              "#ed7953"
             ],
             [
              0.7777777777777778,
              "#fb9f3a"
             ],
             [
              0.8888888888888888,
              "#fdca26"
             ],
             [
              1,
              "#f0f921"
             ]
            ],
            "type": "contour"
           }
          ],
          "contourcarpet": [
           {
            "colorbar": {
             "outlinewidth": 0,
             "ticks": ""
            },
            "type": "contourcarpet"
           }
          ],
          "heatmap": [
           {
            "colorbar": {
             "outlinewidth": 0,
             "ticks": ""
            },
            "colorscale": [
             [
              0,
              "#0d0887"
             ],
             [
              0.1111111111111111,
              "#46039f"
             ],
             [
              0.2222222222222222,
              "#7201a8"
             ],
             [
              0.3333333333333333,
              "#9c179e"
             ],
             [
              0.4444444444444444,
              "#bd3786"
             ],
             [
              0.5555555555555556,
              "#d8576b"
             ],
             [
              0.6666666666666666,
              "#ed7953"
             ],
             [
              0.7777777777777778,
              "#fb9f3a"
             ],
             [
              0.8888888888888888,
              "#fdca26"
             ],
             [
              1,
              "#f0f921"
             ]
            ],
            "type": "heatmap"
           }
          ],
          "heatmapgl": [
           {
            "colorbar": {
             "outlinewidth": 0,
             "ticks": ""
            },
            "colorscale": [
             [
              0,
              "#0d0887"
             ],
             [
              0.1111111111111111,
              "#46039f"
             ],
             [
              0.2222222222222222,
              "#7201a8"
             ],
             [
              0.3333333333333333,
              "#9c179e"
             ],
             [
              0.4444444444444444,
              "#bd3786"
             ],
             [
              0.5555555555555556,
              "#d8576b"
             ],
             [
              0.6666666666666666,
              "#ed7953"
             ],
             [
              0.7777777777777778,
              "#fb9f3a"
             ],
             [
              0.8888888888888888,
              "#fdca26"
             ],
             [
              1,
              "#f0f921"
             ]
            ],
            "type": "heatmapgl"
           }
          ],
          "histogram": [
           {
            "marker": {
             "pattern": {
              "fillmode": "overlay",
              "size": 10,
              "solidity": 0.2
             }
            },
            "type": "histogram"
           }
          ],
          "histogram2d": [
           {
            "colorbar": {
             "outlinewidth": 0,
             "ticks": ""
            },
            "colorscale": [
             [
              0,
              "#0d0887"
             ],
             [
              0.1111111111111111,
              "#46039f"
             ],
             [
              0.2222222222222222,
              "#7201a8"
             ],
             [
              0.3333333333333333,
              "#9c179e"
             ],
             [
              0.4444444444444444,
              "#bd3786"
             ],
             [
              0.5555555555555556,
              "#d8576b"
             ],
             [
              0.6666666666666666,
              "#ed7953"
             ],
             [
              0.7777777777777778,
              "#fb9f3a"
             ],
             [
              0.8888888888888888,
              "#fdca26"
             ],
             [
              1,
              "#f0f921"
             ]
            ],
            "type": "histogram2d"
           }
          ],
          "histogram2dcontour": [
           {
            "colorbar": {
             "outlinewidth": 0,
             "ticks": ""
            },
            "colorscale": [
             [
              0,
              "#0d0887"
             ],
             [
              0.1111111111111111,
              "#46039f"
             ],
             [
              0.2222222222222222,
              "#7201a8"
             ],
             [
              0.3333333333333333,
              "#9c179e"
             ],
             [
              0.4444444444444444,
              "#bd3786"
             ],
             [
              0.5555555555555556,
              "#d8576b"
             ],
             [
              0.6666666666666666,
              "#ed7953"
             ],
             [
              0.7777777777777778,
              "#fb9f3a"
             ],
             [
              0.8888888888888888,
              "#fdca26"
             ],
             [
              1,
              "#f0f921"
             ]
            ],
            "type": "histogram2dcontour"
           }
          ],
          "mesh3d": [
           {
            "colorbar": {
             "outlinewidth": 0,
             "ticks": ""
            },
            "type": "mesh3d"
           }
          ],
          "parcoords": [
           {
            "line": {
             "colorbar": {
              "outlinewidth": 0,
              "ticks": ""
             }
            },
            "type": "parcoords"
           }
          ],
          "pie": [
           {
            "automargin": true,
            "type": "pie"
           }
          ],
          "scatter": [
           {
            "fillpattern": {
             "fillmode": "overlay",
             "size": 10,
             "solidity": 0.2
            },
            "type": "scatter"
           }
          ],
          "scatter3d": [
           {
            "line": {
             "colorbar": {
              "outlinewidth": 0,
              "ticks": ""
             }
            },
            "marker": {
             "colorbar": {
              "outlinewidth": 0,
              "ticks": ""
             }
            },
            "type": "scatter3d"
           }
          ],
          "scattercarpet": [
           {
            "marker": {
             "colorbar": {
              "outlinewidth": 0,
              "ticks": ""
             }
            },
            "type": "scattercarpet"
           }
          ],
          "scattergeo": [
           {
            "marker": {
             "colorbar": {
              "outlinewidth": 0,
              "ticks": ""
             }
            },
            "type": "scattergeo"
           }
          ],
          "scattergl": [
           {
            "marker": {
             "colorbar": {
              "outlinewidth": 0,
              "ticks": ""
             }
            },
            "type": "scattergl"
           }
          ],
          "scattermapbox": [
           {
            "marker": {
             "colorbar": {
              "outlinewidth": 0,
              "ticks": ""
             }
            },
            "type": "scattermapbox"
           }
          ],
          "scatterpolar": [
           {
            "marker": {
             "colorbar": {
              "outlinewidth": 0,
              "ticks": ""
             }
            },
            "type": "scatterpolar"
           }
          ],
          "scatterpolargl": [
           {
            "marker": {
             "colorbar": {
              "outlinewidth": 0,
              "ticks": ""
             }
            },
            "type": "scatterpolargl"
           }
          ],
          "scatterternary": [
           {
            "marker": {
             "colorbar": {
              "outlinewidth": 0,
              "ticks": ""
             }
            },
            "type": "scatterternary"
           }
          ],
          "surface": [
           {
            "colorbar": {
             "outlinewidth": 0,
             "ticks": ""
            },
            "colorscale": [
             [
              0,
              "#0d0887"
             ],
             [
              0.1111111111111111,
              "#46039f"
             ],
             [
              0.2222222222222222,
              "#7201a8"
             ],
             [
              0.3333333333333333,
              "#9c179e"
             ],
             [
              0.4444444444444444,
              "#bd3786"
             ],
             [
              0.5555555555555556,
              "#d8576b"
             ],
             [
              0.6666666666666666,
              "#ed7953"
             ],
             [
              0.7777777777777778,
              "#fb9f3a"
             ],
             [
              0.8888888888888888,
              "#fdca26"
             ],
             [
              1,
              "#f0f921"
             ]
            ],
            "type": "surface"
           }
          ],
          "table": [
           {
            "cells": {
             "fill": {
              "color": "#EBF0F8"
             },
             "line": {
              "color": "white"
             }
            },
            "header": {
             "fill": {
              "color": "#C8D4E3"
             },
             "line": {
              "color": "white"
             }
            },
            "type": "table"
           }
          ]
         },
         "layout": {
          "annotationdefaults": {
           "arrowcolor": "#2a3f5f",
           "arrowhead": 0,
           "arrowwidth": 1
          },
          "autotypenumbers": "strict",
          "coloraxis": {
           "colorbar": {
            "outlinewidth": 0,
            "ticks": ""
           }
          },
          "colorscale": {
           "diverging": [
            [
             0,
             "#8e0152"
            ],
            [
             0.1,
             "#c51b7d"
            ],
            [
             0.2,
             "#de77ae"
            ],
            [
             0.3,
             "#f1b6da"
            ],
            [
             0.4,
             "#fde0ef"
            ],
            [
             0.5,
             "#f7f7f7"
            ],
            [
             0.6,
             "#e6f5d0"
            ],
            [
             0.7,
             "#b8e186"
            ],
            [
             0.8,
             "#7fbc41"
            ],
            [
             0.9,
             "#4d9221"
            ],
            [
             1,
             "#276419"
            ]
           ],
           "sequential": [
            [
             0,
             "#0d0887"
            ],
            [
             0.1111111111111111,
             "#46039f"
            ],
            [
             0.2222222222222222,
             "#7201a8"
            ],
            [
             0.3333333333333333,
             "#9c179e"
            ],
            [
             0.4444444444444444,
             "#bd3786"
            ],
            [
             0.5555555555555556,
             "#d8576b"
            ],
            [
             0.6666666666666666,
             "#ed7953"
            ],
            [
             0.7777777777777778,
             "#fb9f3a"
            ],
            [
             0.8888888888888888,
             "#fdca26"
            ],
            [
             1,
             "#f0f921"
            ]
           ],
           "sequentialminus": [
            [
             0,
             "#0d0887"
            ],
            [
             0.1111111111111111,
             "#46039f"
            ],
            [
             0.2222222222222222,
             "#7201a8"
            ],
            [
             0.3333333333333333,
             "#9c179e"
            ],
            [
             0.4444444444444444,
             "#bd3786"
            ],
            [
             0.5555555555555556,
             "#d8576b"
            ],
            [
             0.6666666666666666,
             "#ed7953"
            ],
            [
             0.7777777777777778,
             "#fb9f3a"
            ],
            [
             0.8888888888888888,
             "#fdca26"
            ],
            [
             1,
             "#f0f921"
            ]
           ]
          },
          "colorway": [
           "#636efa",
           "#EF553B",
           "#00cc96",
           "#ab63fa",
           "#FFA15A",
           "#19d3f3",
           "#FF6692",
           "#B6E880",
           "#FF97FF",
           "#FECB52"
          ],
          "font": {
           "color": "#2a3f5f"
          },
          "geo": {
           "bgcolor": "white",
           "lakecolor": "white",
           "landcolor": "#E5ECF6",
           "showlakes": true,
           "showland": true,
           "subunitcolor": "white"
          },
          "hoverlabel": {
           "align": "left"
          },
          "hovermode": "closest",
          "mapbox": {
           "style": "light"
          },
          "paper_bgcolor": "white",
          "plot_bgcolor": "#E5ECF6",
          "polar": {
           "angularaxis": {
            "gridcolor": "white",
            "linecolor": "white",
            "ticks": ""
           },
           "bgcolor": "#E5ECF6",
           "radialaxis": {
            "gridcolor": "white",
            "linecolor": "white",
            "ticks": ""
           }
          },
          "scene": {
           "xaxis": {
            "backgroundcolor": "#E5ECF6",
            "gridcolor": "white",
            "gridwidth": 2,
            "linecolor": "white",
            "showbackground": true,
            "ticks": "",
            "zerolinecolor": "white"
           },
           "yaxis": {
            "backgroundcolor": "#E5ECF6",
            "gridcolor": "white",
            "gridwidth": 2,
            "linecolor": "white",
            "showbackground": true,
            "ticks": "",
            "zerolinecolor": "white"
           },
           "zaxis": {
            "backgroundcolor": "#E5ECF6",
            "gridcolor": "white",
            "gridwidth": 2,
            "linecolor": "white",
            "showbackground": true,
            "ticks": "",
            "zerolinecolor": "white"
           }
          },
          "shapedefaults": {
           "line": {
            "color": "#2a3f5f"
           }
          },
          "ternary": {
           "aaxis": {
            "gridcolor": "white",
            "linecolor": "white",
            "ticks": ""
           },
           "baxis": {
            "gridcolor": "white",
            "linecolor": "white",
            "ticks": ""
           },
           "bgcolor": "#E5ECF6",
           "caxis": {
            "gridcolor": "white",
            "linecolor": "white",
            "ticks": ""
           }
          },
          "title": {
           "x": 0.05
          },
          "xaxis": {
           "automargin": true,
           "gridcolor": "white",
           "linecolor": "white",
           "ticks": "",
           "title": {
            "standoff": 15
           },
           "zerolinecolor": "white",
           "zerolinewidth": 2
          },
          "yaxis": {
           "automargin": true,
           "gridcolor": "white",
           "linecolor": "white",
           "ticks": "",
           "title": {
            "standoff": 15
           },
           "zerolinecolor": "white",
           "zerolinewidth": 2
          }
         }
        },
        "title": {
         "font": {
          "color": "#4D5663"
         }
        },
        "xaxis": {
         "gridcolor": "#E1E5ED",
         "showgrid": true,
         "tickfont": {
          "color": "#4D5663"
         },
         "title": {
          "font": {
           "color": "#4D5663"
          },
          "text": ""
         },
         "zerolinecolor": "#E1E5ED"
        },
        "yaxis": {
         "gridcolor": "#E1E5ED",
         "showgrid": true,
         "tickfont": {
          "color": "#4D5663"
         },
         "title": {
          "font": {
           "color": "#4D5663"
          },
          "text": ""
         },
         "zerolinecolor": "#E1E5ED"
        }
       }
      },
      "text/html": [
       "<div>                            <div id=\"468fbcaa-a9fa-4d7a-a8ca-887d1b31a485\" class=\"plotly-graph-div\" style=\"height:525px; width:100%;\"></div>            <script type=\"text/javascript\">                require([\"plotly\"], function(Plotly) {                    window.PLOTLYENV=window.PLOTLYENV || {};\n",
       "                    window.PLOTLYENV.BASE_URL='https://plot.ly';                                    if (document.getElementById(\"468fbcaa-a9fa-4d7a-a8ca-887d1b31a485\")) {                    Plotly.newPlot(                        \"468fbcaa-a9fa-4d7a-a8ca-887d1b31a485\",                        [{\"marker\":{\"color\":\"rgba(255, 153, 51, 0.6)\",\"line\":{\"color\":\"rgba(255, 153, 51, 1.0)\",\"width\":1}},\"name\":\"None\",\"orientation\":\"v\",\"text\":\"\",\"x\":[\"A\",\"B\",\"C\",\"D\"],\"y\":[100,100,100,100],\"type\":\"bar\"}],                        {\"legend\":{\"bgcolor\":\"#F5F6F9\",\"font\":{\"color\":\"#4D5663\"}},\"paper_bgcolor\":\"#F5F6F9\",\"plot_bgcolor\":\"#F5F6F9\",\"template\":{\"data\":{\"barpolar\":[{\"marker\":{\"line\":{\"color\":\"#E5ECF6\",\"width\":0.5},\"pattern\":{\"fillmode\":\"overlay\",\"size\":10,\"solidity\":0.2}},\"type\":\"barpolar\"}],\"bar\":[{\"error_x\":{\"color\":\"#2a3f5f\"},\"error_y\":{\"color\":\"#2a3f5f\"},\"marker\":{\"line\":{\"color\":\"#E5ECF6\",\"width\":0.5},\"pattern\":{\"fillmode\":\"overlay\",\"size\":10,\"solidity\":0.2}},\"type\":\"bar\"}],\"carpet\":[{\"aaxis\":{\"endlinecolor\":\"#2a3f5f\",\"gridcolor\":\"white\",\"linecolor\":\"white\",\"minorgridcolor\":\"white\",\"startlinecolor\":\"#2a3f5f\"},\"baxis\":{\"endlinecolor\":\"#2a3f5f\",\"gridcolor\":\"white\",\"linecolor\":\"white\",\"minorgridcolor\":\"white\",\"startlinecolor\":\"#2a3f5f\"},\"type\":\"carpet\"}],\"choropleth\":[{\"colorbar\":{\"outlinewidth\":0,\"ticks\":\"\"},\"type\":\"choropleth\"}],\"contourcarpet\":[{\"colorbar\":{\"outlinewidth\":0,\"ticks\":\"\"},\"type\":\"contourcarpet\"}],\"contour\":[{\"colorbar\":{\"outlinewidth\":0,\"ticks\":\"\"},\"colorscale\":[[0.0,\"#0d0887\"],[0.1111111111111111,\"#46039f\"],[0.2222222222222222,\"#7201a8\"],[0.3333333333333333,\"#9c179e\"],[0.4444444444444444,\"#bd3786\"],[0.5555555555555556,\"#d8576b\"],[0.6666666666666666,\"#ed7953\"],[0.7777777777777778,\"#fb9f3a\"],[0.8888888888888888,\"#fdca26\"],[1.0,\"#f0f921\"]],\"type\":\"contour\"}],\"heatmapgl\":[{\"colorbar\":{\"outlinewidth\":0,\"ticks\":\"\"},\"colorscale\":[[0.0,\"#0d0887\"],[0.1111111111111111,\"#46039f\"],[0.2222222222222222,\"#7201a8\"],[0.3333333333333333,\"#9c179e\"],[0.4444444444444444,\"#bd3786\"],[0.5555555555555556,\"#d8576b\"],[0.6666666666666666,\"#ed7953\"],[0.7777777777777778,\"#fb9f3a\"],[0.8888888888888888,\"#fdca26\"],[1.0,\"#f0f921\"]],\"type\":\"heatmapgl\"}],\"heatmap\":[{\"colorbar\":{\"outlinewidth\":0,\"ticks\":\"\"},\"colorscale\":[[0.0,\"#0d0887\"],[0.1111111111111111,\"#46039f\"],[0.2222222222222222,\"#7201a8\"],[0.3333333333333333,\"#9c179e\"],[0.4444444444444444,\"#bd3786\"],[0.5555555555555556,\"#d8576b\"],[0.6666666666666666,\"#ed7953\"],[0.7777777777777778,\"#fb9f3a\"],[0.8888888888888888,\"#fdca26\"],[1.0,\"#f0f921\"]],\"type\":\"heatmap\"}],\"histogram2dcontour\":[{\"colorbar\":{\"outlinewidth\":0,\"ticks\":\"\"},\"colorscale\":[[0.0,\"#0d0887\"],[0.1111111111111111,\"#46039f\"],[0.2222222222222222,\"#7201a8\"],[0.3333333333333333,\"#9c179e\"],[0.4444444444444444,\"#bd3786\"],[0.5555555555555556,\"#d8576b\"],[0.6666666666666666,\"#ed7953\"],[0.7777777777777778,\"#fb9f3a\"],[0.8888888888888888,\"#fdca26\"],[1.0,\"#f0f921\"]],\"type\":\"histogram2dcontour\"}],\"histogram2d\":[{\"colorbar\":{\"outlinewidth\":0,\"ticks\":\"\"},\"colorscale\":[[0.0,\"#0d0887\"],[0.1111111111111111,\"#46039f\"],[0.2222222222222222,\"#7201a8\"],[0.3333333333333333,\"#9c179e\"],[0.4444444444444444,\"#bd3786\"],[0.5555555555555556,\"#d8576b\"],[0.6666666666666666,\"#ed7953\"],[0.7777777777777778,\"#fb9f3a\"],[0.8888888888888888,\"#fdca26\"],[1.0,\"#f0f921\"]],\"type\":\"histogram2d\"}],\"histogram\":[{\"marker\":{\"pattern\":{\"fillmode\":\"overlay\",\"size\":10,\"solidity\":0.2}},\"type\":\"histogram\"}],\"mesh3d\":[{\"colorbar\":{\"outlinewidth\":0,\"ticks\":\"\"},\"type\":\"mesh3d\"}],\"parcoords\":[{\"line\":{\"colorbar\":{\"outlinewidth\":0,\"ticks\":\"\"}},\"type\":\"parcoords\"}],\"pie\":[{\"automargin\":true,\"type\":\"pie\"}],\"scatter3d\":[{\"line\":{\"colorbar\":{\"outlinewidth\":0,\"ticks\":\"\"}},\"marker\":{\"colorbar\":{\"outlinewidth\":0,\"ticks\":\"\"}},\"type\":\"scatter3d\"}],\"scattercarpet\":[{\"marker\":{\"colorbar\":{\"outlinewidth\":0,\"ticks\":\"\"}},\"type\":\"scattercarpet\"}],\"scattergeo\":[{\"marker\":{\"colorbar\":{\"outlinewidth\":0,\"ticks\":\"\"}},\"type\":\"scattergeo\"}],\"scattergl\":[{\"marker\":{\"colorbar\":{\"outlinewidth\":0,\"ticks\":\"\"}},\"type\":\"scattergl\"}],\"scattermapbox\":[{\"marker\":{\"colorbar\":{\"outlinewidth\":0,\"ticks\":\"\"}},\"type\":\"scattermapbox\"}],\"scatterpolargl\":[{\"marker\":{\"colorbar\":{\"outlinewidth\":0,\"ticks\":\"\"}},\"type\":\"scatterpolargl\"}],\"scatterpolar\":[{\"marker\":{\"colorbar\":{\"outlinewidth\":0,\"ticks\":\"\"}},\"type\":\"scatterpolar\"}],\"scatter\":[{\"fillpattern\":{\"fillmode\":\"overlay\",\"size\":10,\"solidity\":0.2},\"type\":\"scatter\"}],\"scatterternary\":[{\"marker\":{\"colorbar\":{\"outlinewidth\":0,\"ticks\":\"\"}},\"type\":\"scatterternary\"}],\"surface\":[{\"colorbar\":{\"outlinewidth\":0,\"ticks\":\"\"},\"colorscale\":[[0.0,\"#0d0887\"],[0.1111111111111111,\"#46039f\"],[0.2222222222222222,\"#7201a8\"],[0.3333333333333333,\"#9c179e\"],[0.4444444444444444,\"#bd3786\"],[0.5555555555555556,\"#d8576b\"],[0.6666666666666666,\"#ed7953\"],[0.7777777777777778,\"#fb9f3a\"],[0.8888888888888888,\"#fdca26\"],[1.0,\"#f0f921\"]],\"type\":\"surface\"}],\"table\":[{\"cells\":{\"fill\":{\"color\":\"#EBF0F8\"},\"line\":{\"color\":\"white\"}},\"header\":{\"fill\":{\"color\":\"#C8D4E3\"},\"line\":{\"color\":\"white\"}},\"type\":\"table\"}]},\"layout\":{\"annotationdefaults\":{\"arrowcolor\":\"#2a3f5f\",\"arrowhead\":0,\"arrowwidth\":1},\"autotypenumbers\":\"strict\",\"coloraxis\":{\"colorbar\":{\"outlinewidth\":0,\"ticks\":\"\"}},\"colorscale\":{\"diverging\":[[0,\"#8e0152\"],[0.1,\"#c51b7d\"],[0.2,\"#de77ae\"],[0.3,\"#f1b6da\"],[0.4,\"#fde0ef\"],[0.5,\"#f7f7f7\"],[0.6,\"#e6f5d0\"],[0.7,\"#b8e186\"],[0.8,\"#7fbc41\"],[0.9,\"#4d9221\"],[1,\"#276419\"]],\"sequential\":[[0.0,\"#0d0887\"],[0.1111111111111111,\"#46039f\"],[0.2222222222222222,\"#7201a8\"],[0.3333333333333333,\"#9c179e\"],[0.4444444444444444,\"#bd3786\"],[0.5555555555555556,\"#d8576b\"],[0.6666666666666666,\"#ed7953\"],[0.7777777777777778,\"#fb9f3a\"],[0.8888888888888888,\"#fdca26\"],[1.0,\"#f0f921\"]],\"sequentialminus\":[[0.0,\"#0d0887\"],[0.1111111111111111,\"#46039f\"],[0.2222222222222222,\"#7201a8\"],[0.3333333333333333,\"#9c179e\"],[0.4444444444444444,\"#bd3786\"],[0.5555555555555556,\"#d8576b\"],[0.6666666666666666,\"#ed7953\"],[0.7777777777777778,\"#fb9f3a\"],[0.8888888888888888,\"#fdca26\"],[1.0,\"#f0f921\"]]},\"colorway\":[\"#636efa\",\"#EF553B\",\"#00cc96\",\"#ab63fa\",\"#FFA15A\",\"#19d3f3\",\"#FF6692\",\"#B6E880\",\"#FF97FF\",\"#FECB52\"],\"font\":{\"color\":\"#2a3f5f\"},\"geo\":{\"bgcolor\":\"white\",\"lakecolor\":\"white\",\"landcolor\":\"#E5ECF6\",\"showlakes\":true,\"showland\":true,\"subunitcolor\":\"white\"},\"hoverlabel\":{\"align\":\"left\"},\"hovermode\":\"closest\",\"mapbox\":{\"style\":\"light\"},\"paper_bgcolor\":\"white\",\"plot_bgcolor\":\"#E5ECF6\",\"polar\":{\"angularaxis\":{\"gridcolor\":\"white\",\"linecolor\":\"white\",\"ticks\":\"\"},\"bgcolor\":\"#E5ECF6\",\"radialaxis\":{\"gridcolor\":\"white\",\"linecolor\":\"white\",\"ticks\":\"\"}},\"scene\":{\"xaxis\":{\"backgroundcolor\":\"#E5ECF6\",\"gridcolor\":\"white\",\"gridwidth\":2,\"linecolor\":\"white\",\"showbackground\":true,\"ticks\":\"\",\"zerolinecolor\":\"white\"},\"yaxis\":{\"backgroundcolor\":\"#E5ECF6\",\"gridcolor\":\"white\",\"gridwidth\":2,\"linecolor\":\"white\",\"showbackground\":true,\"ticks\":\"\",\"zerolinecolor\":\"white\"},\"zaxis\":{\"backgroundcolor\":\"#E5ECF6\",\"gridcolor\":\"white\",\"gridwidth\":2,\"linecolor\":\"white\",\"showbackground\":true,\"ticks\":\"\",\"zerolinecolor\":\"white\"}},\"shapedefaults\":{\"line\":{\"color\":\"#2a3f5f\"}},\"ternary\":{\"aaxis\":{\"gridcolor\":\"white\",\"linecolor\":\"white\",\"ticks\":\"\"},\"baxis\":{\"gridcolor\":\"white\",\"linecolor\":\"white\",\"ticks\":\"\"},\"bgcolor\":\"#E5ECF6\",\"caxis\":{\"gridcolor\":\"white\",\"linecolor\":\"white\",\"ticks\":\"\"}},\"title\":{\"x\":0.05},\"xaxis\":{\"automargin\":true,\"gridcolor\":\"white\",\"linecolor\":\"white\",\"ticks\":\"\",\"title\":{\"standoff\":15},\"zerolinecolor\":\"white\",\"zerolinewidth\":2},\"yaxis\":{\"automargin\":true,\"gridcolor\":\"white\",\"linecolor\":\"white\",\"ticks\":\"\",\"title\":{\"standoff\":15},\"zerolinecolor\":\"white\",\"zerolinewidth\":2}}},\"title\":{\"font\":{\"color\":\"#4D5663\"}},\"xaxis\":{\"gridcolor\":\"#E1E5ED\",\"showgrid\":true,\"tickfont\":{\"color\":\"#4D5663\"},\"title\":{\"font\":{\"color\":\"#4D5663\"},\"text\":\"\"},\"zerolinecolor\":\"#E1E5ED\"},\"yaxis\":{\"gridcolor\":\"#E1E5ED\",\"showgrid\":true,\"tickfont\":{\"color\":\"#4D5663\"},\"title\":{\"font\":{\"color\":\"#4D5663\"},\"text\":\"\"},\"zerolinecolor\":\"#E1E5ED\"}},                        {\"showLink\": true, \"linkText\": \"Export to plot.ly\", \"plotlyServerURL\": \"https://plot.ly\", \"responsive\": true}                    ).then(function(){\n",
       "                            \n",
       "var gd = document.getElementById('468fbcaa-a9fa-4d7a-a8ca-887d1b31a485');\n",
       "var x = new MutationObserver(function (mutations, observer) {{\n",
       "        var display = window.getComputedStyle(gd).display;\n",
       "        if (!display || display === 'none') {{\n",
       "            console.log([gd, 'removed!']);\n",
       "            Plotly.purge(gd);\n",
       "            observer.disconnect();\n",
       "        }}\n",
       "}});\n",
       "\n",
       "// Listen for the removal of the full notebook cells\n",
       "var notebookContainer = gd.closest('#notebook-container');\n",
       "if (notebookContainer) {{\n",
       "    x.observe(notebookContainer, {childList: true});\n",
       "}}\n",
       "\n",
       "// Listen for the clearing of the current output cell\n",
       "var outputEl = gd.closest('.output');\n",
       "if (outputEl) {{\n",
       "    x.observe(outputEl, {childList: true});\n",
       "}}\n",
       "\n",
       "                        })                };                });            </script>        </div>"
      ]
     },
     "metadata": {},
     "output_type": "display_data"
    }
   ],
   "source": [
    "df.count().iplot(kind='bar')"
   ]
  },
  {
   "cell_type": "markdown",
   "metadata": {},
   "source": [
    "## Boxplots"
   ]
  },
  {
   "cell_type": "code",
   "execution_count": 17,
   "metadata": {},
   "outputs": [
    {
     "data": {
      "application/vnd.plotly.v1+json": {
       "config": {
        "linkText": "Export to plot.ly",
        "plotlyServerURL": "https://plot.ly",
        "showLink": true
       },
       "data": [
        {
         "boxpoints": false,
         "line": {
          "width": 1.3
         },
         "marker": {
          "color": "rgba(255, 153, 51, 1.0)"
         },
         "name": "A",
         "orientation": "v",
         "type": "box",
         "y": [
          0.10600372573935532,
          0.20749207561513944,
          -1.0393378694469475,
          -0.6836932422094264,
          0.3712406633159747,
          1.8227241947210773,
          -2.262207151026445,
          -1.8970460309624753,
          1.2286043953391381,
          -0.3574193062297222,
          -1.7377734024170408,
          0.5197339233321271,
          -0.06788953602198554,
          -0.40191529592914244,
          -0.43370818219860896,
          -1.1661124908327158,
          1.1909206075148222,
          0.4388735027552563,
          0.03078096636690785,
          1.9362836769431646,
          -0.37075561956492736,
          -0.22921069296146732,
          0.5688691041798098,
          -1.7056023477568323,
          0.07570934350096442,
          0.9263520986244222,
          2.110174197159889,
          0.07056773563634443,
          -1.3740931235677463,
          0.9831289227755879,
          -0.6120200206186656,
          0.15666800087062727,
          -0.01844629565827913,
          -1.4108549888033666,
          -1.0840512483666251,
          0.15007307789236096,
          0.1562200550680007,
          0.6715655265118765,
          -2.5833248405455964,
          -0.9396192348953979,
          0.30327683434061165,
          -0.017701326490219854,
          0.9946009238039645,
          -2.047910052190914,
          0.35534195799578105,
          0.7309389442237206,
          -0.018911812240188265,
          0.5258877279467146,
          -0.7578060225979669,
          0.021273816181194286,
          0.6076296020031607,
          -0.5912050505425559,
          0.6267086559935164,
          2.2603470912323167,
          -0.40959760922837896,
          -1.0999662078027865,
          -1.7244320790470604,
          0.6185762285561729,
          1.215949179679514,
          0.512677421517591,
          1.1468696837108043,
          0.07780582086841593,
          0.3581086513672768,
          1.101114232910788,
          -0.816159235634712,
          1.620708418607869,
          0.050085042836158146,
          0.933719368820452,
          -1.923699435336341,
          0.8298418569096968,
          -0.31898033207002435,
          -1.629422634794213,
          0.7937285580426178,
          -1.141487628713606,
          1.0324380703636866,
          1.6275267747285445,
          1.8828615027230835,
          -1.3108896433586812,
          -0.6231178037822507,
          -0.1514895671878934,
          0.4884180261113317,
          -1.244530345881232,
          -1.7586800032751404,
          0.3293062297921215,
          0.7329470338986954,
          1.9479456523338359,
          0.665343553005202,
          -0.6797658495124682,
          -1.4603444616505636,
          -0.5061330022052487,
          1.3255130564272948,
          1.2819616135045893,
          -0.03846990574957462,
          -1.0597436840005086,
          1.0970280388504754,
          -1.0605874226275647,
          -0.5625504969934049,
          1.3758715701554394,
          -0.30022048190267414,
          -1.297072370793922
         ]
        },
        {
         "boxpoints": false,
         "line": {
          "width": 1.3
         },
         "marker": {
          "color": "rgba(55, 128, 191, 1.0)"
         },
         "name": "B",
         "orientation": "v",
         "type": "box",
         "y": [
          0.4769431026012106,
          -0.10019126128842715,
          0.6113592162515342,
          -0.8070370418018528,
          0.2763978925358597,
          -0.10720355844112409,
          -0.5903615969727316,
          -0.13055421428039032,
          1.2693444378168242,
          0.8529892166991166,
          0.9325210127082194,
          -0.24958114969826484,
          0.13236018337252933,
          -0.5761867920069248,
          -0.2190615071806342,
          0.6637069422788028,
          0.18305818053502448,
          2.6808423224478246,
          -1.0654428571490364,
          -0.8291462865638127,
          0.054494391458582106,
          -1.2023837369074832,
          1.070784285243506,
          0.15962997085686725,
          0.25054171463418734,
          0.9451835521587554,
          1.430558994837546,
          -0.49260223389592717,
          0.10123049379232833,
          -1.4435471051098858,
          -0.6193153315070554,
          -1.156930328544975,
          -0.8826196284045719,
          1.0009977260930587,
          0.4544280710439374,
          -0.9688836385097156,
          1.4773761326737302,
          1.3773454164431693,
          1.1084251339689797,
          0.5651450676087367,
          0.1387848864141628,
          1.4264525785172326,
          -0.37757980864992063,
          0.6202853071456437,
          0.18004419237638297,
          2.129096335269589,
          0.04973451721719641,
          1.2394810276706119,
          0.8193637123020554,
          -0.05317134097489851,
          -0.24664799954484715,
          0.5331418669922314,
          1.3214390503174918,
          0.5236888999215038,
          0.23287917717351467,
          0.6006932090430144,
          1.0862840410571686,
          2.660470685844886,
          0.6515793111509729,
          0.3884324324252398,
          0.20721984859051978,
          -0.25002746247732804,
          1.153674982774516,
          0.9335273660013991,
          -0.349515394552551,
          1.5247358336307832,
          2.4143324819372887,
          1.2502741563615987,
          0.0893496287677241,
          3.034968760018631,
          -0.13304108425193012,
          -1.0038447287093142,
          -1.9660690740070852,
          -0.7380463039444887,
          -0.48913647757759166,
          -0.49736309395632505,
          -0.8922475224765966,
          1.177202339988743,
          0.1338660112203844,
          -0.18265674871739768,
          -0.929224229936402,
          0.6001450586623118,
          -1.3613736551788942,
          0.18138237038600677,
          -0.704074249023333,
          0.889338266253846,
          -0.7980933887078092,
          -0.6261537265622374,
          -0.6335248289426914,
          0.7543574951401341,
          -0.3631892656708778,
          -0.8037506822775732,
          0.23490382806972052,
          1.5398650558233888,
          -0.40383975283133766,
          0.67976087105031,
          -0.34859922135264265,
          1.441292826564418,
          -0.6637472409501192,
          0.9535293591259538
         ]
        },
        {
         "boxpoints": false,
         "line": {
          "width": 1.3
         },
         "marker": {
          "color": "rgba(50, 171, 96, 1.0)"
         },
         "name": "C",
         "orientation": "v",
         "type": "box",
         "y": [
          -0.740778391991077,
          -2.370788299131107,
          0.7705383216088945,
          -0.19823348254001646,
          0.337144393926387,
          -1.3791425684188143,
          0.9439135984128443,
          -1.7840069262341565,
          -0.3283589566067014,
          0.27107259678388174,
          -0.52425125745666,
          0.7385277060960397,
          -0.28241985290436455,
          0.09185725180659102,
          -0.6374861032981809,
          0.37612443404262297,
          0.19759112389177616,
          -1.4332242149976573,
          1.3041313529957643,
          -0.6700098547565597,
          0.8894132050046223,
          1.5259894128331706,
          1.5386910927864714,
          -0.6436919441576353,
          -0.543224218405429,
          0.9991337105958998,
          -0.04801985723525086,
          -0.258367778084267,
          -1.1276404414733174,
          2.725048673075478,
          2.029889742123843,
          -0.46460398854707086,
          -2.1345629460174274,
          0.4459347473133101,
          -0.9049059200357235,
          -2.4114186017782964,
          -1.0962268537649613,
          -0.3778240877249083,
          -0.24039646959993588,
          -1.0463591501115126,
          0.5256490146744969,
          0.33058340853715795,
          0.5846204810221787,
          0.002537022393166431,
          -0.09962215676863742,
          1.4447931181853835,
          0.8426728029581986,
          -1.1361817746625766,
          -0.008968394296665034,
          -0.48781204739486184,
          -0.9123215487337352,
          0.32638912950065835,
          -1.088452259433391,
          0.3173869202896083,
          1.69623724745932,
          -2.0824030478825604,
          0.5519254928488927,
          -0.21934847437350616,
          -0.23902776953629853,
          -0.08654459645164335,
          -2.553277039412643,
          0.1104212805491668,
          -0.7073137841830324,
          -2.865956399416514,
          2.241798588434314,
          0.9983683175266186,
          0.21542665538163305,
          0.9991409057372067,
          0.4419141165472592,
          -0.6333445679930504,
          0.8685954977918708,
          0.4056039746691071,
          0.3524190223013191,
          0.48706349465423615,
          -0.25308813918752876,
          -0.5222210505923375,
          -0.015278130373235426,
          0.5124490432368057,
          0.030975532679304512,
          -1.9305640851420303,
          0.8503886615191434,
          -0.7804448455150669,
          0.14443567782294806,
          -0.09092402921847724,
          -0.4887299581588676,
          -0.5287159719970687,
          -1.2703303662773027,
          -0.16503576003179435,
          0.46048813949652057,
          0.6976144180888608,
          0.405403328004903,
          -0.07909064803112702,
          0.675114373489502,
          1.0764557614830252,
          0.7901433020900879,
          -0.43326872231950847,
          -0.44467071332079094,
          -1.6627832294168092,
          -0.7145759651543581,
          -0.386882271891978
         ]
        },
        {
         "boxpoints": false,
         "line": {
          "width": 1.3
         },
         "marker": {
          "color": "rgba(128, 0, 128, 1.0)"
         },
         "name": "D",
         "orientation": "v",
         "type": "box",
         "y": [
          -0.11329342116274008,
          -1.3574377750489648,
          1.9220449619482292,
          -2.459575173476962,
          0.22799790532202172,
          -0.6330919663247148,
          0.6577347410618968,
          -1.636811758240445,
          0.24254381752850562,
          -0.19871070045933223,
          0.06705022148339189,
          -0.8071860394487,
          1.0255169386400966,
          0.9163675724429156,
          -0.36297287807831025,
          0.5938245988004833,
          1.9616114818187456,
          1.2219187270279168,
          1.89159323245367,
          0.9252585461058572,
          -0.06849918911132674,
          -1.7449934717307074,
          -1.1204986606457699,
          0.4109899560906177,
          -0.7595748608958052,
          -0.26830483787800213,
          -0.07202709747021875,
          0.050654569645124436,
          -0.24072185895746046,
          -1.7568108619039302,
          1.8725808472966645,
          -0.008680308534701371,
          1.623380280545073,
          0.11317833450631196,
          -0.6695896037160816,
          1.4761587780318361,
          0.6375767126016454,
          -0.5801213714353558,
          0.9270673557079773,
          -1.4718028175674562,
          1.097696666925897,
          -1.8117956205685124,
          0.7848247435000166,
          -0.29100051106013647,
          0.8846838193112712,
          1.4844705701154899,
          1.1689770690035524,
          -1.16528111485165,
          -1.4934832626778773,
          -1.1810178426436153,
          -1.2216892294024275,
          -1.036259552786968,
          0.41626215551337675,
          -1.0659658119394881,
          2.7405016615912112,
          0.2308666485169981,
          -0.7864739853800282,
          0.1379059787072001,
          1.2868607547453876,
          -0.28481278530242604,
          0.732481925255684,
          0.8308152091040132,
          0.06236128711802095,
          -0.19430247449342214,
          1.1073076493162546,
          -0.669804072634468,
          1.4792233884506674,
          0.41961258474089974,
          0.6215167378919153,
          -0.40231521782114515,
          -0.3632484923100821,
          0.1185430684370369,
          -0.2774648519849218,
          -0.3020128974515804,
          -0.3971863004040808,
          1.6287897391266177,
          0.8751625396431753,
          -0.40117917355624305,
          -1.581383232106049,
          -1.2374617413623668,
          2.110745170760792,
          -0.9500063721048858,
          0.58099951949188,
          1.0333897687603022,
          2.3639580399261573,
          -0.7304198843562436,
          -0.6005134255179924,
          -0.439250418717468,
          -0.9401157117773762,
          -1.627107684998559,
          -1.465614492985098,
          2.0313600741972158,
          0.3282335563938324,
          0.5101670130193007,
          0.7585699580260642,
          0.46536300832395544,
          1.5583869371530814,
          -0.7308106991026216,
          2.9587196981584105,
          -0.4296792353062852
         ]
        }
       ],
       "layout": {
        "legend": {
         "bgcolor": "#F5F6F9",
         "font": {
          "color": "#4D5663"
         }
        },
        "paper_bgcolor": "#F5F6F9",
        "plot_bgcolor": "#F5F6F9",
        "template": {
         "data": {
          "bar": [
           {
            "error_x": {
             "color": "#2a3f5f"
            },
            "error_y": {
             "color": "#2a3f5f"
            },
            "marker": {
             "line": {
              "color": "#E5ECF6",
              "width": 0.5
             },
             "pattern": {
              "fillmode": "overlay",
              "size": 10,
              "solidity": 0.2
             }
            },
            "type": "bar"
           }
          ],
          "barpolar": [
           {
            "marker": {
             "line": {
              "color": "#E5ECF6",
              "width": 0.5
             },
             "pattern": {
              "fillmode": "overlay",
              "size": 10,
              "solidity": 0.2
             }
            },
            "type": "barpolar"
           }
          ],
          "carpet": [
           {
            "aaxis": {
             "endlinecolor": "#2a3f5f",
             "gridcolor": "white",
             "linecolor": "white",
             "minorgridcolor": "white",
             "startlinecolor": "#2a3f5f"
            },
            "baxis": {
             "endlinecolor": "#2a3f5f",
             "gridcolor": "white",
             "linecolor": "white",
             "minorgridcolor": "white",
             "startlinecolor": "#2a3f5f"
            },
            "type": "carpet"
           }
          ],
          "choropleth": [
           {
            "colorbar": {
             "outlinewidth": 0,
             "ticks": ""
            },
            "type": "choropleth"
           }
          ],
          "contour": [
           {
            "colorbar": {
             "outlinewidth": 0,
             "ticks": ""
            },
            "colorscale": [
             [
              0,
              "#0d0887"
             ],
             [
              0.1111111111111111,
              "#46039f"
             ],
             [
              0.2222222222222222,
              "#7201a8"
             ],
             [
              0.3333333333333333,
              "#9c179e"
             ],
             [
              0.4444444444444444,
              "#bd3786"
             ],
             [
              0.5555555555555556,
              "#d8576b"
             ],
             [
              0.6666666666666666,
              "#ed7953"
             ],
             [
              0.7777777777777778,
              "#fb9f3a"
             ],
             [
              0.8888888888888888,
              "#fdca26"
             ],
             [
              1,
              "#f0f921"
             ]
            ],
            "type": "contour"
           }
          ],
          "contourcarpet": [
           {
            "colorbar": {
             "outlinewidth": 0,
             "ticks": ""
            },
            "type": "contourcarpet"
           }
          ],
          "heatmap": [
           {
            "colorbar": {
             "outlinewidth": 0,
             "ticks": ""
            },
            "colorscale": [
             [
              0,
              "#0d0887"
             ],
             [
              0.1111111111111111,
              "#46039f"
             ],
             [
              0.2222222222222222,
              "#7201a8"
             ],
             [
              0.3333333333333333,
              "#9c179e"
             ],
             [
              0.4444444444444444,
              "#bd3786"
             ],
             [
              0.5555555555555556,
              "#d8576b"
             ],
             [
              0.6666666666666666,
              "#ed7953"
             ],
             [
              0.7777777777777778,
              "#fb9f3a"
             ],
             [
              0.8888888888888888,
              "#fdca26"
             ],
             [
              1,
              "#f0f921"
             ]
            ],
            "type": "heatmap"
           }
          ],
          "heatmapgl": [
           {
            "colorbar": {
             "outlinewidth": 0,
             "ticks": ""
            },
            "colorscale": [
             [
              0,
              "#0d0887"
             ],
             [
              0.1111111111111111,
              "#46039f"
             ],
             [
              0.2222222222222222,
              "#7201a8"
             ],
             [
              0.3333333333333333,
              "#9c179e"
             ],
             [
              0.4444444444444444,
              "#bd3786"
             ],
             [
              0.5555555555555556,
              "#d8576b"
             ],
             [
              0.6666666666666666,
              "#ed7953"
             ],
             [
              0.7777777777777778,
              "#fb9f3a"
             ],
             [
              0.8888888888888888,
              "#fdca26"
             ],
             [
              1,
              "#f0f921"
             ]
            ],
            "type": "heatmapgl"
           }
          ],
          "histogram": [
           {
            "marker": {
             "pattern": {
              "fillmode": "overlay",
              "size": 10,
              "solidity": 0.2
             }
            },
            "type": "histogram"
           }
          ],
          "histogram2d": [
           {
            "colorbar": {
             "outlinewidth": 0,
             "ticks": ""
            },
            "colorscale": [
             [
              0,
              "#0d0887"
             ],
             [
              0.1111111111111111,
              "#46039f"
             ],
             [
              0.2222222222222222,
              "#7201a8"
             ],
             [
              0.3333333333333333,
              "#9c179e"
             ],
             [
              0.4444444444444444,
              "#bd3786"
             ],
             [
              0.5555555555555556,
              "#d8576b"
             ],
             [
              0.6666666666666666,
              "#ed7953"
             ],
             [
              0.7777777777777778,
              "#fb9f3a"
             ],
             [
              0.8888888888888888,
              "#fdca26"
             ],
             [
              1,
              "#f0f921"
             ]
            ],
            "type": "histogram2d"
           }
          ],
          "histogram2dcontour": [
           {
            "colorbar": {
             "outlinewidth": 0,
             "ticks": ""
            },
            "colorscale": [
             [
              0,
              "#0d0887"
             ],
             [
              0.1111111111111111,
              "#46039f"
             ],
             [
              0.2222222222222222,
              "#7201a8"
             ],
             [
              0.3333333333333333,
              "#9c179e"
             ],
             [
              0.4444444444444444,
              "#bd3786"
             ],
             [
              0.5555555555555556,
              "#d8576b"
             ],
             [
              0.6666666666666666,
              "#ed7953"
             ],
             [
              0.7777777777777778,
              "#fb9f3a"
             ],
             [
              0.8888888888888888,
              "#fdca26"
             ],
             [
              1,
              "#f0f921"
             ]
            ],
            "type": "histogram2dcontour"
           }
          ],
          "mesh3d": [
           {
            "colorbar": {
             "outlinewidth": 0,
             "ticks": ""
            },
            "type": "mesh3d"
           }
          ],
          "parcoords": [
           {
            "line": {
             "colorbar": {
              "outlinewidth": 0,
              "ticks": ""
             }
            },
            "type": "parcoords"
           }
          ],
          "pie": [
           {
            "automargin": true,
            "type": "pie"
           }
          ],
          "scatter": [
           {
            "fillpattern": {
             "fillmode": "overlay",
             "size": 10,
             "solidity": 0.2
            },
            "type": "scatter"
           }
          ],
          "scatter3d": [
           {
            "line": {
             "colorbar": {
              "outlinewidth": 0,
              "ticks": ""
             }
            },
            "marker": {
             "colorbar": {
              "outlinewidth": 0,
              "ticks": ""
             }
            },
            "type": "scatter3d"
           }
          ],
          "scattercarpet": [
           {
            "marker": {
             "colorbar": {
              "outlinewidth": 0,
              "ticks": ""
             }
            },
            "type": "scattercarpet"
           }
          ],
          "scattergeo": [
           {
            "marker": {
             "colorbar": {
              "outlinewidth": 0,
              "ticks": ""
             }
            },
            "type": "scattergeo"
           }
          ],
          "scattergl": [
           {
            "marker": {
             "colorbar": {
              "outlinewidth": 0,
              "ticks": ""
             }
            },
            "type": "scattergl"
           }
          ],
          "scattermapbox": [
           {
            "marker": {
             "colorbar": {
              "outlinewidth": 0,
              "ticks": ""
             }
            },
            "type": "scattermapbox"
           }
          ],
          "scatterpolar": [
           {
            "marker": {
             "colorbar": {
              "outlinewidth": 0,
              "ticks": ""
             }
            },
            "type": "scatterpolar"
           }
          ],
          "scatterpolargl": [
           {
            "marker": {
             "colorbar": {
              "outlinewidth": 0,
              "ticks": ""
             }
            },
            "type": "scatterpolargl"
           }
          ],
          "scatterternary": [
           {
            "marker": {
             "colorbar": {
              "outlinewidth": 0,
              "ticks": ""
             }
            },
            "type": "scatterternary"
           }
          ],
          "surface": [
           {
            "colorbar": {
             "outlinewidth": 0,
             "ticks": ""
            },
            "colorscale": [
             [
              0,
              "#0d0887"
             ],
             [
              0.1111111111111111,
              "#46039f"
             ],
             [
              0.2222222222222222,
              "#7201a8"
             ],
             [
              0.3333333333333333,
              "#9c179e"
             ],
             [
              0.4444444444444444,
              "#bd3786"
             ],
             [
              0.5555555555555556,
              "#d8576b"
             ],
             [
              0.6666666666666666,
              "#ed7953"
             ],
             [
              0.7777777777777778,
              "#fb9f3a"
             ],
             [
              0.8888888888888888,
              "#fdca26"
             ],
             [
              1,
              "#f0f921"
             ]
            ],
            "type": "surface"
           }
          ],
          "table": [
           {
            "cells": {
             "fill": {
              "color": "#EBF0F8"
             },
             "line": {
              "color": "white"
             }
            },
            "header": {
             "fill": {
              "color": "#C8D4E3"
             },
             "line": {
              "color": "white"
             }
            },
            "type": "table"
           }
          ]
         },
         "layout": {
          "annotationdefaults": {
           "arrowcolor": "#2a3f5f",
           "arrowhead": 0,
           "arrowwidth": 1
          },
          "autotypenumbers": "strict",
          "coloraxis": {
           "colorbar": {
            "outlinewidth": 0,
            "ticks": ""
           }
          },
          "colorscale": {
           "diverging": [
            [
             0,
             "#8e0152"
            ],
            [
             0.1,
             "#c51b7d"
            ],
            [
             0.2,
             "#de77ae"
            ],
            [
             0.3,
             "#f1b6da"
            ],
            [
             0.4,
             "#fde0ef"
            ],
            [
             0.5,
             "#f7f7f7"
            ],
            [
             0.6,
             "#e6f5d0"
            ],
            [
             0.7,
             "#b8e186"
            ],
            [
             0.8,
             "#7fbc41"
            ],
            [
             0.9,
             "#4d9221"
            ],
            [
             1,
             "#276419"
            ]
           ],
           "sequential": [
            [
             0,
             "#0d0887"
            ],
            [
             0.1111111111111111,
             "#46039f"
            ],
            [
             0.2222222222222222,
             "#7201a8"
            ],
            [
             0.3333333333333333,
             "#9c179e"
            ],
            [
             0.4444444444444444,
             "#bd3786"
            ],
            [
             0.5555555555555556,
             "#d8576b"
            ],
            [
             0.6666666666666666,
             "#ed7953"
            ],
            [
             0.7777777777777778,
             "#fb9f3a"
            ],
            [
             0.8888888888888888,
             "#fdca26"
            ],
            [
             1,
             "#f0f921"
            ]
           ],
           "sequentialminus": [
            [
             0,
             "#0d0887"
            ],
            [
             0.1111111111111111,
             "#46039f"
            ],
            [
             0.2222222222222222,
             "#7201a8"
            ],
            [
             0.3333333333333333,
             "#9c179e"
            ],
            [
             0.4444444444444444,
             "#bd3786"
            ],
            [
             0.5555555555555556,
             "#d8576b"
            ],
            [
             0.6666666666666666,
             "#ed7953"
            ],
            [
             0.7777777777777778,
             "#fb9f3a"
            ],
            [
             0.8888888888888888,
             "#fdca26"
            ],
            [
             1,
             "#f0f921"
            ]
           ]
          },
          "colorway": [
           "#636efa",
           "#EF553B",
           "#00cc96",
           "#ab63fa",
           "#FFA15A",
           "#19d3f3",
           "#FF6692",
           "#B6E880",
           "#FF97FF",
           "#FECB52"
          ],
          "font": {
           "color": "#2a3f5f"
          },
          "geo": {
           "bgcolor": "white",
           "lakecolor": "white",
           "landcolor": "#E5ECF6",
           "showlakes": true,
           "showland": true,
           "subunitcolor": "white"
          },
          "hoverlabel": {
           "align": "left"
          },
          "hovermode": "closest",
          "mapbox": {
           "style": "light"
          },
          "paper_bgcolor": "white",
          "plot_bgcolor": "#E5ECF6",
          "polar": {
           "angularaxis": {
            "gridcolor": "white",
            "linecolor": "white",
            "ticks": ""
           },
           "bgcolor": "#E5ECF6",
           "radialaxis": {
            "gridcolor": "white",
            "linecolor": "white",
            "ticks": ""
           }
          },
          "scene": {
           "xaxis": {
            "backgroundcolor": "#E5ECF6",
            "gridcolor": "white",
            "gridwidth": 2,
            "linecolor": "white",
            "showbackground": true,
            "ticks": "",
            "zerolinecolor": "white"
           },
           "yaxis": {
            "backgroundcolor": "#E5ECF6",
            "gridcolor": "white",
            "gridwidth": 2,
            "linecolor": "white",
            "showbackground": true,
            "ticks": "",
            "zerolinecolor": "white"
           },
           "zaxis": {
            "backgroundcolor": "#E5ECF6",
            "gridcolor": "white",
            "gridwidth": 2,
            "linecolor": "white",
            "showbackground": true,
            "ticks": "",
            "zerolinecolor": "white"
           }
          },
          "shapedefaults": {
           "line": {
            "color": "#2a3f5f"
           }
          },
          "ternary": {
           "aaxis": {
            "gridcolor": "white",
            "linecolor": "white",
            "ticks": ""
           },
           "baxis": {
            "gridcolor": "white",
            "linecolor": "white",
            "ticks": ""
           },
           "bgcolor": "#E5ECF6",
           "caxis": {
            "gridcolor": "white",
            "linecolor": "white",
            "ticks": ""
           }
          },
          "title": {
           "x": 0.05
          },
          "xaxis": {
           "automargin": true,
           "gridcolor": "white",
           "linecolor": "white",
           "ticks": "",
           "title": {
            "standoff": 15
           },
           "zerolinecolor": "white",
           "zerolinewidth": 2
          },
          "yaxis": {
           "automargin": true,
           "gridcolor": "white",
           "linecolor": "white",
           "ticks": "",
           "title": {
            "standoff": 15
           },
           "zerolinecolor": "white",
           "zerolinewidth": 2
          }
         }
        },
        "title": {
         "font": {
          "color": "#4D5663"
         }
        },
        "xaxis": {
         "gridcolor": "#E1E5ED",
         "showgrid": true,
         "tickfont": {
          "color": "#4D5663"
         },
         "title": {
          "font": {
           "color": "#4D5663"
          },
          "text": ""
         },
         "zerolinecolor": "#E1E5ED"
        },
        "yaxis": {
         "gridcolor": "#E1E5ED",
         "showgrid": true,
         "tickfont": {
          "color": "#4D5663"
         },
         "title": {
          "font": {
           "color": "#4D5663"
          },
          "text": ""
         },
         "zerolinecolor": "#E1E5ED"
        }
       }
      },
      "text/html": [
       "<div>                            <div id=\"63fecec6-9d3e-47a3-aa9e-124b4f5cf1a4\" class=\"plotly-graph-div\" style=\"height:525px; width:100%;\"></div>            <script type=\"text/javascript\">                require([\"plotly\"], function(Plotly) {                    window.PLOTLYENV=window.PLOTLYENV || {};\n",
       "                    window.PLOTLYENV.BASE_URL='https://plot.ly';                                    if (document.getElementById(\"63fecec6-9d3e-47a3-aa9e-124b4f5cf1a4\")) {                    Plotly.newPlot(                        \"63fecec6-9d3e-47a3-aa9e-124b4f5cf1a4\",                        [{\"boxpoints\":false,\"line\":{\"width\":1.3},\"marker\":{\"color\":\"rgba(255, 153, 51, 1.0)\"},\"name\":\"A\",\"orientation\":\"v\",\"y\":[0.10600372573935532,0.20749207561513944,-1.0393378694469475,-0.6836932422094264,0.3712406633159747,1.8227241947210773,-2.262207151026445,-1.8970460309624753,1.2286043953391381,-0.3574193062297222,-1.7377734024170408,0.5197339233321271,-0.06788953602198554,-0.40191529592914244,-0.43370818219860896,-1.1661124908327158,1.1909206075148222,0.4388735027552563,0.03078096636690785,1.9362836769431646,-0.37075561956492736,-0.22921069296146732,0.5688691041798098,-1.7056023477568323,0.07570934350096442,0.9263520986244222,2.110174197159889,0.07056773563634443,-1.3740931235677463,0.9831289227755879,-0.6120200206186656,0.15666800087062727,-0.01844629565827913,-1.4108549888033666,-1.0840512483666251,0.15007307789236096,0.1562200550680007,0.6715655265118765,-2.5833248405455964,-0.9396192348953979,0.30327683434061165,-0.017701326490219854,0.9946009238039645,-2.047910052190914,0.35534195799578105,0.7309389442237206,-0.018911812240188265,0.5258877279467146,-0.7578060225979669,0.021273816181194286,0.6076296020031607,-0.5912050505425559,0.6267086559935164,2.2603470912323167,-0.40959760922837896,-1.0999662078027865,-1.7244320790470604,0.6185762285561729,1.215949179679514,0.512677421517591,1.1468696837108043,0.07780582086841593,0.3581086513672768,1.101114232910788,-0.816159235634712,1.620708418607869,0.050085042836158146,0.933719368820452,-1.923699435336341,0.8298418569096968,-0.31898033207002435,-1.629422634794213,0.7937285580426178,-1.141487628713606,1.0324380703636866,1.6275267747285445,1.8828615027230835,-1.3108896433586812,-0.6231178037822507,-0.1514895671878934,0.4884180261113317,-1.244530345881232,-1.7586800032751404,0.3293062297921215,0.7329470338986954,1.9479456523338359,0.665343553005202,-0.6797658495124682,-1.4603444616505636,-0.5061330022052487,1.3255130564272948,1.2819616135045893,-0.03846990574957462,-1.0597436840005086,1.0970280388504754,-1.0605874226275647,-0.5625504969934049,1.3758715701554394,-0.30022048190267414,-1.297072370793922],\"type\":\"box\"},{\"boxpoints\":false,\"line\":{\"width\":1.3},\"marker\":{\"color\":\"rgba(55, 128, 191, 1.0)\"},\"name\":\"B\",\"orientation\":\"v\",\"y\":[0.4769431026012106,-0.10019126128842715,0.6113592162515342,-0.8070370418018528,0.2763978925358597,-0.10720355844112409,-0.5903615969727316,-0.13055421428039032,1.2693444378168242,0.8529892166991166,0.9325210127082194,-0.24958114969826484,0.13236018337252933,-0.5761867920069248,-0.2190615071806342,0.6637069422788028,0.18305818053502448,2.6808423224478246,-1.0654428571490364,-0.8291462865638127,0.054494391458582106,-1.2023837369074832,1.070784285243506,0.15962997085686725,0.25054171463418734,0.9451835521587554,1.430558994837546,-0.49260223389592717,0.10123049379232833,-1.4435471051098858,-0.6193153315070554,-1.156930328544975,-0.8826196284045719,1.0009977260930587,0.4544280710439374,-0.9688836385097156,1.4773761326737302,1.3773454164431693,1.1084251339689797,0.5651450676087367,0.1387848864141628,1.4264525785172326,-0.37757980864992063,0.6202853071456437,0.18004419237638297,2.129096335269589,0.04973451721719641,1.2394810276706119,0.8193637123020554,-0.05317134097489851,-0.24664799954484715,0.5331418669922314,1.3214390503174918,0.5236888999215038,0.23287917717351467,0.6006932090430144,1.0862840410571686,2.660470685844886,0.6515793111509729,0.3884324324252398,0.20721984859051978,-0.25002746247732804,1.153674982774516,0.9335273660013991,-0.349515394552551,1.5247358336307832,2.4143324819372887,1.2502741563615987,0.0893496287677241,3.034968760018631,-0.13304108425193012,-1.0038447287093142,-1.9660690740070852,-0.7380463039444887,-0.48913647757759166,-0.49736309395632505,-0.8922475224765966,1.177202339988743,0.1338660112203844,-0.18265674871739768,-0.929224229936402,0.6001450586623118,-1.3613736551788942,0.18138237038600677,-0.704074249023333,0.889338266253846,-0.7980933887078092,-0.6261537265622374,-0.6335248289426914,0.7543574951401341,-0.3631892656708778,-0.8037506822775732,0.23490382806972052,1.5398650558233888,-0.40383975283133766,0.67976087105031,-0.34859922135264265,1.441292826564418,-0.6637472409501192,0.9535293591259538],\"type\":\"box\"},{\"boxpoints\":false,\"line\":{\"width\":1.3},\"marker\":{\"color\":\"rgba(50, 171, 96, 1.0)\"},\"name\":\"C\",\"orientation\":\"v\",\"y\":[-0.740778391991077,-2.370788299131107,0.7705383216088945,-0.19823348254001646,0.337144393926387,-1.3791425684188143,0.9439135984128443,-1.7840069262341565,-0.3283589566067014,0.27107259678388174,-0.52425125745666,0.7385277060960397,-0.28241985290436455,0.09185725180659102,-0.6374861032981809,0.37612443404262297,0.19759112389177616,-1.4332242149976573,1.3041313529957643,-0.6700098547565597,0.8894132050046223,1.5259894128331706,1.5386910927864714,-0.6436919441576353,-0.543224218405429,0.9991337105958998,-0.04801985723525086,-0.258367778084267,-1.1276404414733174,2.725048673075478,2.029889742123843,-0.46460398854707086,-2.1345629460174274,0.4459347473133101,-0.9049059200357235,-2.4114186017782964,-1.0962268537649613,-0.3778240877249083,-0.24039646959993588,-1.0463591501115126,0.5256490146744969,0.33058340853715795,0.5846204810221787,0.002537022393166431,-0.09962215676863742,1.4447931181853835,0.8426728029581986,-1.1361817746625766,-0.008968394296665034,-0.48781204739486184,-0.9123215487337352,0.32638912950065835,-1.088452259433391,0.3173869202896083,1.69623724745932,-2.0824030478825604,0.5519254928488927,-0.21934847437350616,-0.23902776953629853,-0.08654459645164335,-2.553277039412643,0.1104212805491668,-0.7073137841830324,-2.865956399416514,2.241798588434314,0.9983683175266186,0.21542665538163305,0.9991409057372067,0.4419141165472592,-0.6333445679930504,0.8685954977918708,0.4056039746691071,0.3524190223013191,0.48706349465423615,-0.25308813918752876,-0.5222210505923375,-0.015278130373235426,0.5124490432368057,0.030975532679304512,-1.9305640851420303,0.8503886615191434,-0.7804448455150669,0.14443567782294806,-0.09092402921847724,-0.4887299581588676,-0.5287159719970687,-1.2703303662773027,-0.16503576003179435,0.46048813949652057,0.6976144180888608,0.405403328004903,-0.07909064803112702,0.675114373489502,1.0764557614830252,0.7901433020900879,-0.43326872231950847,-0.44467071332079094,-1.6627832294168092,-0.7145759651543581,-0.386882271891978],\"type\":\"box\"},{\"boxpoints\":false,\"line\":{\"width\":1.3},\"marker\":{\"color\":\"rgba(128, 0, 128, 1.0)\"},\"name\":\"D\",\"orientation\":\"v\",\"y\":[-0.11329342116274008,-1.3574377750489648,1.9220449619482292,-2.459575173476962,0.22799790532202172,-0.6330919663247148,0.6577347410618968,-1.636811758240445,0.24254381752850562,-0.19871070045933223,0.06705022148339189,-0.8071860394487,1.0255169386400966,0.9163675724429156,-0.36297287807831025,0.5938245988004833,1.9616114818187456,1.2219187270279168,1.89159323245367,0.9252585461058572,-0.06849918911132674,-1.7449934717307074,-1.1204986606457699,0.4109899560906177,-0.7595748608958052,-0.26830483787800213,-0.07202709747021875,0.050654569645124436,-0.24072185895746046,-1.7568108619039302,1.8725808472966645,-0.008680308534701371,1.623380280545073,0.11317833450631196,-0.6695896037160816,1.4761587780318361,0.6375767126016454,-0.5801213714353558,0.9270673557079773,-1.4718028175674562,1.097696666925897,-1.8117956205685124,0.7848247435000166,-0.29100051106013647,0.8846838193112712,1.4844705701154899,1.1689770690035524,-1.16528111485165,-1.4934832626778773,-1.1810178426436153,-1.2216892294024275,-1.036259552786968,0.41626215551337675,-1.0659658119394881,2.7405016615912112,0.2308666485169981,-0.7864739853800282,0.1379059787072001,1.2868607547453876,-0.28481278530242604,0.732481925255684,0.8308152091040132,0.06236128711802095,-0.19430247449342214,1.1073076493162546,-0.669804072634468,1.4792233884506674,0.41961258474089974,0.6215167378919153,-0.40231521782114515,-0.3632484923100821,0.1185430684370369,-0.2774648519849218,-0.3020128974515804,-0.3971863004040808,1.6287897391266177,0.8751625396431753,-0.40117917355624305,-1.581383232106049,-1.2374617413623668,2.110745170760792,-0.9500063721048858,0.58099951949188,1.0333897687603022,2.3639580399261573,-0.7304198843562436,-0.6005134255179924,-0.439250418717468,-0.9401157117773762,-1.627107684998559,-1.465614492985098,2.0313600741972158,0.3282335563938324,0.5101670130193007,0.7585699580260642,0.46536300832395544,1.5583869371530814,-0.7308106991026216,2.9587196981584105,-0.4296792353062852],\"type\":\"box\"}],                        {\"legend\":{\"bgcolor\":\"#F5F6F9\",\"font\":{\"color\":\"#4D5663\"}},\"paper_bgcolor\":\"#F5F6F9\",\"plot_bgcolor\":\"#F5F6F9\",\"template\":{\"data\":{\"barpolar\":[{\"marker\":{\"line\":{\"color\":\"#E5ECF6\",\"width\":0.5},\"pattern\":{\"fillmode\":\"overlay\",\"size\":10,\"solidity\":0.2}},\"type\":\"barpolar\"}],\"bar\":[{\"error_x\":{\"color\":\"#2a3f5f\"},\"error_y\":{\"color\":\"#2a3f5f\"},\"marker\":{\"line\":{\"color\":\"#E5ECF6\",\"width\":0.5},\"pattern\":{\"fillmode\":\"overlay\",\"size\":10,\"solidity\":0.2}},\"type\":\"bar\"}],\"carpet\":[{\"aaxis\":{\"endlinecolor\":\"#2a3f5f\",\"gridcolor\":\"white\",\"linecolor\":\"white\",\"minorgridcolor\":\"white\",\"startlinecolor\":\"#2a3f5f\"},\"baxis\":{\"endlinecolor\":\"#2a3f5f\",\"gridcolor\":\"white\",\"linecolor\":\"white\",\"minorgridcolor\":\"white\",\"startlinecolor\":\"#2a3f5f\"},\"type\":\"carpet\"}],\"choropleth\":[{\"colorbar\":{\"outlinewidth\":0,\"ticks\":\"\"},\"type\":\"choropleth\"}],\"contourcarpet\":[{\"colorbar\":{\"outlinewidth\":0,\"ticks\":\"\"},\"type\":\"contourcarpet\"}],\"contour\":[{\"colorbar\":{\"outlinewidth\":0,\"ticks\":\"\"},\"colorscale\":[[0.0,\"#0d0887\"],[0.1111111111111111,\"#46039f\"],[0.2222222222222222,\"#7201a8\"],[0.3333333333333333,\"#9c179e\"],[0.4444444444444444,\"#bd3786\"],[0.5555555555555556,\"#d8576b\"],[0.6666666666666666,\"#ed7953\"],[0.7777777777777778,\"#fb9f3a\"],[0.8888888888888888,\"#fdca26\"],[1.0,\"#f0f921\"]],\"type\":\"contour\"}],\"heatmapgl\":[{\"colorbar\":{\"outlinewidth\":0,\"ticks\":\"\"},\"colorscale\":[[0.0,\"#0d0887\"],[0.1111111111111111,\"#46039f\"],[0.2222222222222222,\"#7201a8\"],[0.3333333333333333,\"#9c179e\"],[0.4444444444444444,\"#bd3786\"],[0.5555555555555556,\"#d8576b\"],[0.6666666666666666,\"#ed7953\"],[0.7777777777777778,\"#fb9f3a\"],[0.8888888888888888,\"#fdca26\"],[1.0,\"#f0f921\"]],\"type\":\"heatmapgl\"}],\"heatmap\":[{\"colorbar\":{\"outlinewidth\":0,\"ticks\":\"\"},\"colorscale\":[[0.0,\"#0d0887\"],[0.1111111111111111,\"#46039f\"],[0.2222222222222222,\"#7201a8\"],[0.3333333333333333,\"#9c179e\"],[0.4444444444444444,\"#bd3786\"],[0.5555555555555556,\"#d8576b\"],[0.6666666666666666,\"#ed7953\"],[0.7777777777777778,\"#fb9f3a\"],[0.8888888888888888,\"#fdca26\"],[1.0,\"#f0f921\"]],\"type\":\"heatmap\"}],\"histogram2dcontour\":[{\"colorbar\":{\"outlinewidth\":0,\"ticks\":\"\"},\"colorscale\":[[0.0,\"#0d0887\"],[0.1111111111111111,\"#46039f\"],[0.2222222222222222,\"#7201a8\"],[0.3333333333333333,\"#9c179e\"],[0.4444444444444444,\"#bd3786\"],[0.5555555555555556,\"#d8576b\"],[0.6666666666666666,\"#ed7953\"],[0.7777777777777778,\"#fb9f3a\"],[0.8888888888888888,\"#fdca26\"],[1.0,\"#f0f921\"]],\"type\":\"histogram2dcontour\"}],\"histogram2d\":[{\"colorbar\":{\"outlinewidth\":0,\"ticks\":\"\"},\"colorscale\":[[0.0,\"#0d0887\"],[0.1111111111111111,\"#46039f\"],[0.2222222222222222,\"#7201a8\"],[0.3333333333333333,\"#9c179e\"],[0.4444444444444444,\"#bd3786\"],[0.5555555555555556,\"#d8576b\"],[0.6666666666666666,\"#ed7953\"],[0.7777777777777778,\"#fb9f3a\"],[0.8888888888888888,\"#fdca26\"],[1.0,\"#f0f921\"]],\"type\":\"histogram2d\"}],\"histogram\":[{\"marker\":{\"pattern\":{\"fillmode\":\"overlay\",\"size\":10,\"solidity\":0.2}},\"type\":\"histogram\"}],\"mesh3d\":[{\"colorbar\":{\"outlinewidth\":0,\"ticks\":\"\"},\"type\":\"mesh3d\"}],\"parcoords\":[{\"line\":{\"colorbar\":{\"outlinewidth\":0,\"ticks\":\"\"}},\"type\":\"parcoords\"}],\"pie\":[{\"automargin\":true,\"type\":\"pie\"}],\"scatter3d\":[{\"line\":{\"colorbar\":{\"outlinewidth\":0,\"ticks\":\"\"}},\"marker\":{\"colorbar\":{\"outlinewidth\":0,\"ticks\":\"\"}},\"type\":\"scatter3d\"}],\"scattercarpet\":[{\"marker\":{\"colorbar\":{\"outlinewidth\":0,\"ticks\":\"\"}},\"type\":\"scattercarpet\"}],\"scattergeo\":[{\"marker\":{\"colorbar\":{\"outlinewidth\":0,\"ticks\":\"\"}},\"type\":\"scattergeo\"}],\"scattergl\":[{\"marker\":{\"colorbar\":{\"outlinewidth\":0,\"ticks\":\"\"}},\"type\":\"scattergl\"}],\"scattermapbox\":[{\"marker\":{\"colorbar\":{\"outlinewidth\":0,\"ticks\":\"\"}},\"type\":\"scattermapbox\"}],\"scatterpolargl\":[{\"marker\":{\"colorbar\":{\"outlinewidth\":0,\"ticks\":\"\"}},\"type\":\"scatterpolargl\"}],\"scatterpolar\":[{\"marker\":{\"colorbar\":{\"outlinewidth\":0,\"ticks\":\"\"}},\"type\":\"scatterpolar\"}],\"scatter\":[{\"fillpattern\":{\"fillmode\":\"overlay\",\"size\":10,\"solidity\":0.2},\"type\":\"scatter\"}],\"scatterternary\":[{\"marker\":{\"colorbar\":{\"outlinewidth\":0,\"ticks\":\"\"}},\"type\":\"scatterternary\"}],\"surface\":[{\"colorbar\":{\"outlinewidth\":0,\"ticks\":\"\"},\"colorscale\":[[0.0,\"#0d0887\"],[0.1111111111111111,\"#46039f\"],[0.2222222222222222,\"#7201a8\"],[0.3333333333333333,\"#9c179e\"],[0.4444444444444444,\"#bd3786\"],[0.5555555555555556,\"#d8576b\"],[0.6666666666666666,\"#ed7953\"],[0.7777777777777778,\"#fb9f3a\"],[0.8888888888888888,\"#fdca26\"],[1.0,\"#f0f921\"]],\"type\":\"surface\"}],\"table\":[{\"cells\":{\"fill\":{\"color\":\"#EBF0F8\"},\"line\":{\"color\":\"white\"}},\"header\":{\"fill\":{\"color\":\"#C8D4E3\"},\"line\":{\"color\":\"white\"}},\"type\":\"table\"}]},\"layout\":{\"annotationdefaults\":{\"arrowcolor\":\"#2a3f5f\",\"arrowhead\":0,\"arrowwidth\":1},\"autotypenumbers\":\"strict\",\"coloraxis\":{\"colorbar\":{\"outlinewidth\":0,\"ticks\":\"\"}},\"colorscale\":{\"diverging\":[[0,\"#8e0152\"],[0.1,\"#c51b7d\"],[0.2,\"#de77ae\"],[0.3,\"#f1b6da\"],[0.4,\"#fde0ef\"],[0.5,\"#f7f7f7\"],[0.6,\"#e6f5d0\"],[0.7,\"#b8e186\"],[0.8,\"#7fbc41\"],[0.9,\"#4d9221\"],[1,\"#276419\"]],\"sequential\":[[0.0,\"#0d0887\"],[0.1111111111111111,\"#46039f\"],[0.2222222222222222,\"#7201a8\"],[0.3333333333333333,\"#9c179e\"],[0.4444444444444444,\"#bd3786\"],[0.5555555555555556,\"#d8576b\"],[0.6666666666666666,\"#ed7953\"],[0.7777777777777778,\"#fb9f3a\"],[0.8888888888888888,\"#fdca26\"],[1.0,\"#f0f921\"]],\"sequentialminus\":[[0.0,\"#0d0887\"],[0.1111111111111111,\"#46039f\"],[0.2222222222222222,\"#7201a8\"],[0.3333333333333333,\"#9c179e\"],[0.4444444444444444,\"#bd3786\"],[0.5555555555555556,\"#d8576b\"],[0.6666666666666666,\"#ed7953\"],[0.7777777777777778,\"#fb9f3a\"],[0.8888888888888888,\"#fdca26\"],[1.0,\"#f0f921\"]]},\"colorway\":[\"#636efa\",\"#EF553B\",\"#00cc96\",\"#ab63fa\",\"#FFA15A\",\"#19d3f3\",\"#FF6692\",\"#B6E880\",\"#FF97FF\",\"#FECB52\"],\"font\":{\"color\":\"#2a3f5f\"},\"geo\":{\"bgcolor\":\"white\",\"lakecolor\":\"white\",\"landcolor\":\"#E5ECF6\",\"showlakes\":true,\"showland\":true,\"subunitcolor\":\"white\"},\"hoverlabel\":{\"align\":\"left\"},\"hovermode\":\"closest\",\"mapbox\":{\"style\":\"light\"},\"paper_bgcolor\":\"white\",\"plot_bgcolor\":\"#E5ECF6\",\"polar\":{\"angularaxis\":{\"gridcolor\":\"white\",\"linecolor\":\"white\",\"ticks\":\"\"},\"bgcolor\":\"#E5ECF6\",\"radialaxis\":{\"gridcolor\":\"white\",\"linecolor\":\"white\",\"ticks\":\"\"}},\"scene\":{\"xaxis\":{\"backgroundcolor\":\"#E5ECF6\",\"gridcolor\":\"white\",\"gridwidth\":2,\"linecolor\":\"white\",\"showbackground\":true,\"ticks\":\"\",\"zerolinecolor\":\"white\"},\"yaxis\":{\"backgroundcolor\":\"#E5ECF6\",\"gridcolor\":\"white\",\"gridwidth\":2,\"linecolor\":\"white\",\"showbackground\":true,\"ticks\":\"\",\"zerolinecolor\":\"white\"},\"zaxis\":{\"backgroundcolor\":\"#E5ECF6\",\"gridcolor\":\"white\",\"gridwidth\":2,\"linecolor\":\"white\",\"showbackground\":true,\"ticks\":\"\",\"zerolinecolor\":\"white\"}},\"shapedefaults\":{\"line\":{\"color\":\"#2a3f5f\"}},\"ternary\":{\"aaxis\":{\"gridcolor\":\"white\",\"linecolor\":\"white\",\"ticks\":\"\"},\"baxis\":{\"gridcolor\":\"white\",\"linecolor\":\"white\",\"ticks\":\"\"},\"bgcolor\":\"#E5ECF6\",\"caxis\":{\"gridcolor\":\"white\",\"linecolor\":\"white\",\"ticks\":\"\"}},\"title\":{\"x\":0.05},\"xaxis\":{\"automargin\":true,\"gridcolor\":\"white\",\"linecolor\":\"white\",\"ticks\":\"\",\"title\":{\"standoff\":15},\"zerolinecolor\":\"white\",\"zerolinewidth\":2},\"yaxis\":{\"automargin\":true,\"gridcolor\":\"white\",\"linecolor\":\"white\",\"ticks\":\"\",\"title\":{\"standoff\":15},\"zerolinecolor\":\"white\",\"zerolinewidth\":2}}},\"title\":{\"font\":{\"color\":\"#4D5663\"}},\"xaxis\":{\"gridcolor\":\"#E1E5ED\",\"showgrid\":true,\"tickfont\":{\"color\":\"#4D5663\"},\"title\":{\"font\":{\"color\":\"#4D5663\"},\"text\":\"\"},\"zerolinecolor\":\"#E1E5ED\"},\"yaxis\":{\"gridcolor\":\"#E1E5ED\",\"showgrid\":true,\"tickfont\":{\"color\":\"#4D5663\"},\"title\":{\"font\":{\"color\":\"#4D5663\"},\"text\":\"\"},\"zerolinecolor\":\"#E1E5ED\"}},                        {\"showLink\": true, \"linkText\": \"Export to plot.ly\", \"plotlyServerURL\": \"https://plot.ly\", \"responsive\": true}                    ).then(function(){\n",
       "                            \n",
       "var gd = document.getElementById('63fecec6-9d3e-47a3-aa9e-124b4f5cf1a4');\n",
       "var x = new MutationObserver(function (mutations, observer) {{\n",
       "        var display = window.getComputedStyle(gd).display;\n",
       "        if (!display || display === 'none') {{\n",
       "            console.log([gd, 'removed!']);\n",
       "            Plotly.purge(gd);\n",
       "            observer.disconnect();\n",
       "        }}\n",
       "}});\n",
       "\n",
       "// Listen for the removal of the full notebook cells\n",
       "var notebookContainer = gd.closest('#notebook-container');\n",
       "if (notebookContainer) {{\n",
       "    x.observe(notebookContainer, {childList: true});\n",
       "}}\n",
       "\n",
       "// Listen for the clearing of the current output cell\n",
       "var outputEl = gd.closest('.output');\n",
       "if (outputEl) {{\n",
       "    x.observe(outputEl, {childList: true});\n",
       "}}\n",
       "\n",
       "                        })                };                });            </script>        </div>"
      ]
     },
     "metadata": {},
     "output_type": "display_data"
    }
   ],
   "source": [
    "df.iplot(kind='box')"
   ]
  },
  {
   "cell_type": "markdown",
   "metadata": {},
   "source": [
    "## 3d Surface"
   ]
  },
  {
   "cell_type": "code",
   "execution_count": 24,
   "metadata": {},
   "outputs": [
    {
     "data": {
      "application/vnd.plotly.v1+json": {
       "config": {
        "linkText": "Export to plot.ly",
        "plotlyServerURL": "https://plot.ly",
        "showLink": true
       },
       "data": [
        {
         "colorscale": [
          [
           0,
           "rgb(165,0,38)"
          ],
          [
           0.1,
           "rgb(215,48,39)"
          ],
          [
           0.2,
           "rgb(244,109,67)"
          ],
          [
           0.3,
           "rgb(253,174,97)"
          ],
          [
           0.4,
           "rgb(254,224,144)"
          ],
          [
           0.5,
           "rgb(255,255,191)"
          ],
          [
           0.6,
           "rgb(224,243,248)"
          ],
          [
           0.7,
           "rgb(171,217,233)"
          ],
          [
           0.8,
           "rgb(116,173,209)"
          ],
          [
           0.9,
           "rgb(69,117,180)"
          ],
          [
           1,
           "rgb(49,54,149)"
          ]
         ],
         "type": "surface",
         "x": [
          0,
          1,
          2,
          3,
          4
         ],
         "y": [
          "x",
          "y",
          "z"
         ],
         "z": [
          [
           1,
           2,
           3,
           4,
           5
          ],
          [
           10,
           20,
           30,
           20,
           10
          ],
          [
           5,
           4,
           3,
           2,
           1
          ]
         ]
        }
       ],
       "layout": {
        "legend": {
         "bgcolor": "#F5F6F9",
         "font": {
          "color": "#4D5663"
         }
        },
        "paper_bgcolor": "#F5F6F9",
        "plot_bgcolor": "#F5F6F9",
        "template": {
         "data": {
          "bar": [
           {
            "error_x": {
             "color": "#2a3f5f"
            },
            "error_y": {
             "color": "#2a3f5f"
            },
            "marker": {
             "line": {
              "color": "#E5ECF6",
              "width": 0.5
             },
             "pattern": {
              "fillmode": "overlay",
              "size": 10,
              "solidity": 0.2
             }
            },
            "type": "bar"
           }
          ],
          "barpolar": [
           {
            "marker": {
             "line": {
              "color": "#E5ECF6",
              "width": 0.5
             },
             "pattern": {
              "fillmode": "overlay",
              "size": 10,
              "solidity": 0.2
             }
            },
            "type": "barpolar"
           }
          ],
          "carpet": [
           {
            "aaxis": {
             "endlinecolor": "#2a3f5f",
             "gridcolor": "white",
             "linecolor": "white",
             "minorgridcolor": "white",
             "startlinecolor": "#2a3f5f"
            },
            "baxis": {
             "endlinecolor": "#2a3f5f",
             "gridcolor": "white",
             "linecolor": "white",
             "minorgridcolor": "white",
             "startlinecolor": "#2a3f5f"
            },
            "type": "carpet"
           }
          ],
          "choropleth": [
           {
            "colorbar": {
             "outlinewidth": 0,
             "ticks": ""
            },
            "type": "choropleth"
           }
          ],
          "contour": [
           {
            "colorbar": {
             "outlinewidth": 0,
             "ticks": ""
            },
            "colorscale": [
             [
              0,
              "#0d0887"
             ],
             [
              0.1111111111111111,
              "#46039f"
             ],
             [
              0.2222222222222222,
              "#7201a8"
             ],
             [
              0.3333333333333333,
              "#9c179e"
             ],
             [
              0.4444444444444444,
              "#bd3786"
             ],
             [
              0.5555555555555556,
              "#d8576b"
             ],
             [
              0.6666666666666666,
              "#ed7953"
             ],
             [
              0.7777777777777778,
              "#fb9f3a"
             ],
             [
              0.8888888888888888,
              "#fdca26"
             ],
             [
              1,
              "#f0f921"
             ]
            ],
            "type": "contour"
           }
          ],
          "contourcarpet": [
           {
            "colorbar": {
             "outlinewidth": 0,
             "ticks": ""
            },
            "type": "contourcarpet"
           }
          ],
          "heatmap": [
           {
            "colorbar": {
             "outlinewidth": 0,
             "ticks": ""
            },
            "colorscale": [
             [
              0,
              "#0d0887"
             ],
             [
              0.1111111111111111,
              "#46039f"
             ],
             [
              0.2222222222222222,
              "#7201a8"
             ],
             [
              0.3333333333333333,
              "#9c179e"
             ],
             [
              0.4444444444444444,
              "#bd3786"
             ],
             [
              0.5555555555555556,
              "#d8576b"
             ],
             [
              0.6666666666666666,
              "#ed7953"
             ],
             [
              0.7777777777777778,
              "#fb9f3a"
             ],
             [
              0.8888888888888888,
              "#fdca26"
             ],
             [
              1,
              "#f0f921"
             ]
            ],
            "type": "heatmap"
           }
          ],
          "heatmapgl": [
           {
            "colorbar": {
             "outlinewidth": 0,
             "ticks": ""
            },
            "colorscale": [
             [
              0,
              "#0d0887"
             ],
             [
              0.1111111111111111,
              "#46039f"
             ],
             [
              0.2222222222222222,
              "#7201a8"
             ],
             [
              0.3333333333333333,
              "#9c179e"
             ],
             [
              0.4444444444444444,
              "#bd3786"
             ],
             [
              0.5555555555555556,
              "#d8576b"
             ],
             [
              0.6666666666666666,
              "#ed7953"
             ],
             [
              0.7777777777777778,
              "#fb9f3a"
             ],
             [
              0.8888888888888888,
              "#fdca26"
             ],
             [
              1,
              "#f0f921"
             ]
            ],
            "type": "heatmapgl"
           }
          ],
          "histogram": [
           {
            "marker": {
             "pattern": {
              "fillmode": "overlay",
              "size": 10,
              "solidity": 0.2
             }
            },
            "type": "histogram"
           }
          ],
          "histogram2d": [
           {
            "colorbar": {
             "outlinewidth": 0,
             "ticks": ""
            },
            "colorscale": [
             [
              0,
              "#0d0887"
             ],
             [
              0.1111111111111111,
              "#46039f"
             ],
             [
              0.2222222222222222,
              "#7201a8"
             ],
             [
              0.3333333333333333,
              "#9c179e"
             ],
             [
              0.4444444444444444,
              "#bd3786"
             ],
             [
              0.5555555555555556,
              "#d8576b"
             ],
             [
              0.6666666666666666,
              "#ed7953"
             ],
             [
              0.7777777777777778,
              "#fb9f3a"
             ],
             [
              0.8888888888888888,
              "#fdca26"
             ],
             [
              1,
              "#f0f921"
             ]
            ],
            "type": "histogram2d"
           }
          ],
          "histogram2dcontour": [
           {
            "colorbar": {
             "outlinewidth": 0,
             "ticks": ""
            },
            "colorscale": [
             [
              0,
              "#0d0887"
             ],
             [
              0.1111111111111111,
              "#46039f"
             ],
             [
              0.2222222222222222,
              "#7201a8"
             ],
             [
              0.3333333333333333,
              "#9c179e"
             ],
             [
              0.4444444444444444,
              "#bd3786"
             ],
             [
              0.5555555555555556,
              "#d8576b"
             ],
             [
              0.6666666666666666,
              "#ed7953"
             ],
             [
              0.7777777777777778,
              "#fb9f3a"
             ],
             [
              0.8888888888888888,
              "#fdca26"
             ],
             [
              1,
              "#f0f921"
             ]
            ],
            "type": "histogram2dcontour"
           }
          ],
          "mesh3d": [
           {
            "colorbar": {
             "outlinewidth": 0,
             "ticks": ""
            },
            "type": "mesh3d"
           }
          ],
          "parcoords": [
           {
            "line": {
             "colorbar": {
              "outlinewidth": 0,
              "ticks": ""
             }
            },
            "type": "parcoords"
           }
          ],
          "pie": [
           {
            "automargin": true,
            "type": "pie"
           }
          ],
          "scatter": [
           {
            "fillpattern": {
             "fillmode": "overlay",
             "size": 10,
             "solidity": 0.2
            },
            "type": "scatter"
           }
          ],
          "scatter3d": [
           {
            "line": {
             "colorbar": {
              "outlinewidth": 0,
              "ticks": ""
             }
            },
            "marker": {
             "colorbar": {
              "outlinewidth": 0,
              "ticks": ""
             }
            },
            "type": "scatter3d"
           }
          ],
          "scattercarpet": [
           {
            "marker": {
             "colorbar": {
              "outlinewidth": 0,
              "ticks": ""
             }
            },
            "type": "scattercarpet"
           }
          ],
          "scattergeo": [
           {
            "marker": {
             "colorbar": {
              "outlinewidth": 0,
              "ticks": ""
             }
            },
            "type": "scattergeo"
           }
          ],
          "scattergl": [
           {
            "marker": {
             "colorbar": {
              "outlinewidth": 0,
              "ticks": ""
             }
            },
            "type": "scattergl"
           }
          ],
          "scattermapbox": [
           {
            "marker": {
             "colorbar": {
              "outlinewidth": 0,
              "ticks": ""
             }
            },
            "type": "scattermapbox"
           }
          ],
          "scatterpolar": [
           {
            "marker": {
             "colorbar": {
              "outlinewidth": 0,
              "ticks": ""
             }
            },
            "type": "scatterpolar"
           }
          ],
          "scatterpolargl": [
           {
            "marker": {
             "colorbar": {
              "outlinewidth": 0,
              "ticks": ""
             }
            },
            "type": "scatterpolargl"
           }
          ],
          "scatterternary": [
           {
            "marker": {
             "colorbar": {
              "outlinewidth": 0,
              "ticks": ""
             }
            },
            "type": "scatterternary"
           }
          ],
          "surface": [
           {
            "colorbar": {
             "outlinewidth": 0,
             "ticks": ""
            },
            "colorscale": [
             [
              0,
              "#0d0887"
             ],
             [
              0.1111111111111111,
              "#46039f"
             ],
             [
              0.2222222222222222,
              "#7201a8"
             ],
             [
              0.3333333333333333,
              "#9c179e"
             ],
             [
              0.4444444444444444,
              "#bd3786"
             ],
             [
              0.5555555555555556,
              "#d8576b"
             ],
             [
              0.6666666666666666,
              "#ed7953"
             ],
             [
              0.7777777777777778,
              "#fb9f3a"
             ],
             [
              0.8888888888888888,
              "#fdca26"
             ],
             [
              1,
              "#f0f921"
             ]
            ],
            "type": "surface"
           }
          ],
          "table": [
           {
            "cells": {
             "fill": {
              "color": "#EBF0F8"
             },
             "line": {
              "color": "white"
             }
            },
            "header": {
             "fill": {
              "color": "#C8D4E3"
             },
             "line": {
              "color": "white"
             }
            },
            "type": "table"
           }
          ]
         },
         "layout": {
          "annotationdefaults": {
           "arrowcolor": "#2a3f5f",
           "arrowhead": 0,
           "arrowwidth": 1
          },
          "autotypenumbers": "strict",
          "coloraxis": {
           "colorbar": {
            "outlinewidth": 0,
            "ticks": ""
           }
          },
          "colorscale": {
           "diverging": [
            [
             0,
             "#8e0152"
            ],
            [
             0.1,
             "#c51b7d"
            ],
            [
             0.2,
             "#de77ae"
            ],
            [
             0.3,
             "#f1b6da"
            ],
            [
             0.4,
             "#fde0ef"
            ],
            [
             0.5,
             "#f7f7f7"
            ],
            [
             0.6,
             "#e6f5d0"
            ],
            [
             0.7,
             "#b8e186"
            ],
            [
             0.8,
             "#7fbc41"
            ],
            [
             0.9,
             "#4d9221"
            ],
            [
             1,
             "#276419"
            ]
           ],
           "sequential": [
            [
             0,
             "#0d0887"
            ],
            [
             0.1111111111111111,
             "#46039f"
            ],
            [
             0.2222222222222222,
             "#7201a8"
            ],
            [
             0.3333333333333333,
             "#9c179e"
            ],
            [
             0.4444444444444444,
             "#bd3786"
            ],
            [
             0.5555555555555556,
             "#d8576b"
            ],
            [
             0.6666666666666666,
             "#ed7953"
            ],
            [
             0.7777777777777778,
             "#fb9f3a"
            ],
            [
             0.8888888888888888,
             "#fdca26"
            ],
            [
             1,
             "#f0f921"
            ]
           ],
           "sequentialminus": [
            [
             0,
             "#0d0887"
            ],
            [
             0.1111111111111111,
             "#46039f"
            ],
            [
             0.2222222222222222,
             "#7201a8"
            ],
            [
             0.3333333333333333,
             "#9c179e"
            ],
            [
             0.4444444444444444,
             "#bd3786"
            ],
            [
             0.5555555555555556,
             "#d8576b"
            ],
            [
             0.6666666666666666,
             "#ed7953"
            ],
            [
             0.7777777777777778,
             "#fb9f3a"
            ],
            [
             0.8888888888888888,
             "#fdca26"
            ],
            [
             1,
             "#f0f921"
            ]
           ]
          },
          "colorway": [
           "#636efa",
           "#EF553B",
           "#00cc96",
           "#ab63fa",
           "#FFA15A",
           "#19d3f3",
           "#FF6692",
           "#B6E880",
           "#FF97FF",
           "#FECB52"
          ],
          "font": {
           "color": "#2a3f5f"
          },
          "geo": {
           "bgcolor": "white",
           "lakecolor": "white",
           "landcolor": "#E5ECF6",
           "showlakes": true,
           "showland": true,
           "subunitcolor": "white"
          },
          "hoverlabel": {
           "align": "left"
          },
          "hovermode": "closest",
          "mapbox": {
           "style": "light"
          },
          "paper_bgcolor": "white",
          "plot_bgcolor": "#E5ECF6",
          "polar": {
           "angularaxis": {
            "gridcolor": "white",
            "linecolor": "white",
            "ticks": ""
           },
           "bgcolor": "#E5ECF6",
           "radialaxis": {
            "gridcolor": "white",
            "linecolor": "white",
            "ticks": ""
           }
          },
          "scene": {
           "xaxis": {
            "backgroundcolor": "#E5ECF6",
            "gridcolor": "white",
            "gridwidth": 2,
            "linecolor": "white",
            "showbackground": true,
            "ticks": "",
            "zerolinecolor": "white"
           },
           "yaxis": {
            "backgroundcolor": "#E5ECF6",
            "gridcolor": "white",
            "gridwidth": 2,
            "linecolor": "white",
            "showbackground": true,
            "ticks": "",
            "zerolinecolor": "white"
           },
           "zaxis": {
            "backgroundcolor": "#E5ECF6",
            "gridcolor": "white",
            "gridwidth": 2,
            "linecolor": "white",
            "showbackground": true,
            "ticks": "",
            "zerolinecolor": "white"
           }
          },
          "shapedefaults": {
           "line": {
            "color": "#2a3f5f"
           }
          },
          "ternary": {
           "aaxis": {
            "gridcolor": "white",
            "linecolor": "white",
            "ticks": ""
           },
           "baxis": {
            "gridcolor": "white",
            "linecolor": "white",
            "ticks": ""
           },
           "bgcolor": "#E5ECF6",
           "caxis": {
            "gridcolor": "white",
            "linecolor": "white",
            "ticks": ""
           }
          },
          "title": {
           "x": 0.05
          },
          "xaxis": {
           "automargin": true,
           "gridcolor": "white",
           "linecolor": "white",
           "ticks": "",
           "title": {
            "standoff": 15
           },
           "zerolinecolor": "white",
           "zerolinewidth": 2
          },
          "yaxis": {
           "automargin": true,
           "gridcolor": "white",
           "linecolor": "white",
           "ticks": "",
           "title": {
            "standoff": 15
           },
           "zerolinecolor": "white",
           "zerolinewidth": 2
          }
         }
        },
        "title": {
         "font": {
          "color": "#4D5663"
         }
        },
        "xaxis": {
         "gridcolor": "#E1E5ED",
         "showgrid": true,
         "tickfont": {
          "color": "#4D5663"
         },
         "title": {
          "font": {
           "color": "#4D5663"
          },
          "text": ""
         },
         "zerolinecolor": "#E1E5ED"
        },
        "yaxis": {
         "gridcolor": "#E1E5ED",
         "showgrid": true,
         "tickfont": {
          "color": "#4D5663"
         },
         "title": {
          "font": {
           "color": "#4D5663"
          },
          "text": ""
         },
         "zerolinecolor": "#E1E5ED"
        }
       }
      },
      "text/html": [
       "<div>                            <div id=\"f5ac2ba1-ff98-4572-b37e-d644ab37cf0b\" class=\"plotly-graph-div\" style=\"height:525px; width:100%;\"></div>            <script type=\"text/javascript\">                require([\"plotly\"], function(Plotly) {                    window.PLOTLYENV=window.PLOTLYENV || {};\n",
       "                    window.PLOTLYENV.BASE_URL='https://plot.ly';                                    if (document.getElementById(\"f5ac2ba1-ff98-4572-b37e-d644ab37cf0b\")) {                    Plotly.newPlot(                        \"f5ac2ba1-ff98-4572-b37e-d644ab37cf0b\",                        [{\"colorscale\":[[0.0,\"rgb(165,0,38)\"],[0.1,\"rgb(215,48,39)\"],[0.2,\"rgb(244,109,67)\"],[0.3,\"rgb(253,174,97)\"],[0.4,\"rgb(254,224,144)\"],[0.5,\"rgb(255,255,191)\"],[0.6,\"rgb(224,243,248)\"],[0.7,\"rgb(171,217,233)\"],[0.8,\"rgb(116,173,209)\"],[0.9,\"rgb(69,117,180)\"],[1.0,\"rgb(49,54,149)\"]],\"x\":[0,1,2,3,4],\"y\":[\"x\",\"y\",\"z\"],\"z\":[[1,2,3,4,5],[10,20,30,20,10],[5,4,3,2,1]],\"type\":\"surface\"}],                        {\"legend\":{\"bgcolor\":\"#F5F6F9\",\"font\":{\"color\":\"#4D5663\"}},\"paper_bgcolor\":\"#F5F6F9\",\"plot_bgcolor\":\"#F5F6F9\",\"template\":{\"data\":{\"barpolar\":[{\"marker\":{\"line\":{\"color\":\"#E5ECF6\",\"width\":0.5},\"pattern\":{\"fillmode\":\"overlay\",\"size\":10,\"solidity\":0.2}},\"type\":\"barpolar\"}],\"bar\":[{\"error_x\":{\"color\":\"#2a3f5f\"},\"error_y\":{\"color\":\"#2a3f5f\"},\"marker\":{\"line\":{\"color\":\"#E5ECF6\",\"width\":0.5},\"pattern\":{\"fillmode\":\"overlay\",\"size\":10,\"solidity\":0.2}},\"type\":\"bar\"}],\"carpet\":[{\"aaxis\":{\"endlinecolor\":\"#2a3f5f\",\"gridcolor\":\"white\",\"linecolor\":\"white\",\"minorgridcolor\":\"white\",\"startlinecolor\":\"#2a3f5f\"},\"baxis\":{\"endlinecolor\":\"#2a3f5f\",\"gridcolor\":\"white\",\"linecolor\":\"white\",\"minorgridcolor\":\"white\",\"startlinecolor\":\"#2a3f5f\"},\"type\":\"carpet\"}],\"choropleth\":[{\"colorbar\":{\"outlinewidth\":0,\"ticks\":\"\"},\"type\":\"choropleth\"}],\"contourcarpet\":[{\"colorbar\":{\"outlinewidth\":0,\"ticks\":\"\"},\"type\":\"contourcarpet\"}],\"contour\":[{\"colorbar\":{\"outlinewidth\":0,\"ticks\":\"\"},\"colorscale\":[[0.0,\"#0d0887\"],[0.1111111111111111,\"#46039f\"],[0.2222222222222222,\"#7201a8\"],[0.3333333333333333,\"#9c179e\"],[0.4444444444444444,\"#bd3786\"],[0.5555555555555556,\"#d8576b\"],[0.6666666666666666,\"#ed7953\"],[0.7777777777777778,\"#fb9f3a\"],[0.8888888888888888,\"#fdca26\"],[1.0,\"#f0f921\"]],\"type\":\"contour\"}],\"heatmapgl\":[{\"colorbar\":{\"outlinewidth\":0,\"ticks\":\"\"},\"colorscale\":[[0.0,\"#0d0887\"],[0.1111111111111111,\"#46039f\"],[0.2222222222222222,\"#7201a8\"],[0.3333333333333333,\"#9c179e\"],[0.4444444444444444,\"#bd3786\"],[0.5555555555555556,\"#d8576b\"],[0.6666666666666666,\"#ed7953\"],[0.7777777777777778,\"#fb9f3a\"],[0.8888888888888888,\"#fdca26\"],[1.0,\"#f0f921\"]],\"type\":\"heatmapgl\"}],\"heatmap\":[{\"colorbar\":{\"outlinewidth\":0,\"ticks\":\"\"},\"colorscale\":[[0.0,\"#0d0887\"],[0.1111111111111111,\"#46039f\"],[0.2222222222222222,\"#7201a8\"],[0.3333333333333333,\"#9c179e\"],[0.4444444444444444,\"#bd3786\"],[0.5555555555555556,\"#d8576b\"],[0.6666666666666666,\"#ed7953\"],[0.7777777777777778,\"#fb9f3a\"],[0.8888888888888888,\"#fdca26\"],[1.0,\"#f0f921\"]],\"type\":\"heatmap\"}],\"histogram2dcontour\":[{\"colorbar\":{\"outlinewidth\":0,\"ticks\":\"\"},\"colorscale\":[[0.0,\"#0d0887\"],[0.1111111111111111,\"#46039f\"],[0.2222222222222222,\"#7201a8\"],[0.3333333333333333,\"#9c179e\"],[0.4444444444444444,\"#bd3786\"],[0.5555555555555556,\"#d8576b\"],[0.6666666666666666,\"#ed7953\"],[0.7777777777777778,\"#fb9f3a\"],[0.8888888888888888,\"#fdca26\"],[1.0,\"#f0f921\"]],\"type\":\"histogram2dcontour\"}],\"histogram2d\":[{\"colorbar\":{\"outlinewidth\":0,\"ticks\":\"\"},\"colorscale\":[[0.0,\"#0d0887\"],[0.1111111111111111,\"#46039f\"],[0.2222222222222222,\"#7201a8\"],[0.3333333333333333,\"#9c179e\"],[0.4444444444444444,\"#bd3786\"],[0.5555555555555556,\"#d8576b\"],[0.6666666666666666,\"#ed7953\"],[0.7777777777777778,\"#fb9f3a\"],[0.8888888888888888,\"#fdca26\"],[1.0,\"#f0f921\"]],\"type\":\"histogram2d\"}],\"histogram\":[{\"marker\":{\"pattern\":{\"fillmode\":\"overlay\",\"size\":10,\"solidity\":0.2}},\"type\":\"histogram\"}],\"mesh3d\":[{\"colorbar\":{\"outlinewidth\":0,\"ticks\":\"\"},\"type\":\"mesh3d\"}],\"parcoords\":[{\"line\":{\"colorbar\":{\"outlinewidth\":0,\"ticks\":\"\"}},\"type\":\"parcoords\"}],\"pie\":[{\"automargin\":true,\"type\":\"pie\"}],\"scatter3d\":[{\"line\":{\"colorbar\":{\"outlinewidth\":0,\"ticks\":\"\"}},\"marker\":{\"colorbar\":{\"outlinewidth\":0,\"ticks\":\"\"}},\"type\":\"scatter3d\"}],\"scattercarpet\":[{\"marker\":{\"colorbar\":{\"outlinewidth\":0,\"ticks\":\"\"}},\"type\":\"scattercarpet\"}],\"scattergeo\":[{\"marker\":{\"colorbar\":{\"outlinewidth\":0,\"ticks\":\"\"}},\"type\":\"scattergeo\"}],\"scattergl\":[{\"marker\":{\"colorbar\":{\"outlinewidth\":0,\"ticks\":\"\"}},\"type\":\"scattergl\"}],\"scattermapbox\":[{\"marker\":{\"colorbar\":{\"outlinewidth\":0,\"ticks\":\"\"}},\"type\":\"scattermapbox\"}],\"scatterpolargl\":[{\"marker\":{\"colorbar\":{\"outlinewidth\":0,\"ticks\":\"\"}},\"type\":\"scatterpolargl\"}],\"scatterpolar\":[{\"marker\":{\"colorbar\":{\"outlinewidth\":0,\"ticks\":\"\"}},\"type\":\"scatterpolar\"}],\"scatter\":[{\"fillpattern\":{\"fillmode\":\"overlay\",\"size\":10,\"solidity\":0.2},\"type\":\"scatter\"}],\"scatterternary\":[{\"marker\":{\"colorbar\":{\"outlinewidth\":0,\"ticks\":\"\"}},\"type\":\"scatterternary\"}],\"surface\":[{\"colorbar\":{\"outlinewidth\":0,\"ticks\":\"\"},\"colorscale\":[[0.0,\"#0d0887\"],[0.1111111111111111,\"#46039f\"],[0.2222222222222222,\"#7201a8\"],[0.3333333333333333,\"#9c179e\"],[0.4444444444444444,\"#bd3786\"],[0.5555555555555556,\"#d8576b\"],[0.6666666666666666,\"#ed7953\"],[0.7777777777777778,\"#fb9f3a\"],[0.8888888888888888,\"#fdca26\"],[1.0,\"#f0f921\"]],\"type\":\"surface\"}],\"table\":[{\"cells\":{\"fill\":{\"color\":\"#EBF0F8\"},\"line\":{\"color\":\"white\"}},\"header\":{\"fill\":{\"color\":\"#C8D4E3\"},\"line\":{\"color\":\"white\"}},\"type\":\"table\"}]},\"layout\":{\"annotationdefaults\":{\"arrowcolor\":\"#2a3f5f\",\"arrowhead\":0,\"arrowwidth\":1},\"autotypenumbers\":\"strict\",\"coloraxis\":{\"colorbar\":{\"outlinewidth\":0,\"ticks\":\"\"}},\"colorscale\":{\"diverging\":[[0,\"#8e0152\"],[0.1,\"#c51b7d\"],[0.2,\"#de77ae\"],[0.3,\"#f1b6da\"],[0.4,\"#fde0ef\"],[0.5,\"#f7f7f7\"],[0.6,\"#e6f5d0\"],[0.7,\"#b8e186\"],[0.8,\"#7fbc41\"],[0.9,\"#4d9221\"],[1,\"#276419\"]],\"sequential\":[[0.0,\"#0d0887\"],[0.1111111111111111,\"#46039f\"],[0.2222222222222222,\"#7201a8\"],[0.3333333333333333,\"#9c179e\"],[0.4444444444444444,\"#bd3786\"],[0.5555555555555556,\"#d8576b\"],[0.6666666666666666,\"#ed7953\"],[0.7777777777777778,\"#fb9f3a\"],[0.8888888888888888,\"#fdca26\"],[1.0,\"#f0f921\"]],\"sequentialminus\":[[0.0,\"#0d0887\"],[0.1111111111111111,\"#46039f\"],[0.2222222222222222,\"#7201a8\"],[0.3333333333333333,\"#9c179e\"],[0.4444444444444444,\"#bd3786\"],[0.5555555555555556,\"#d8576b\"],[0.6666666666666666,\"#ed7953\"],[0.7777777777777778,\"#fb9f3a\"],[0.8888888888888888,\"#fdca26\"],[1.0,\"#f0f921\"]]},\"colorway\":[\"#636efa\",\"#EF553B\",\"#00cc96\",\"#ab63fa\",\"#FFA15A\",\"#19d3f3\",\"#FF6692\",\"#B6E880\",\"#FF97FF\",\"#FECB52\"],\"font\":{\"color\":\"#2a3f5f\"},\"geo\":{\"bgcolor\":\"white\",\"lakecolor\":\"white\",\"landcolor\":\"#E5ECF6\",\"showlakes\":true,\"showland\":true,\"subunitcolor\":\"white\"},\"hoverlabel\":{\"align\":\"left\"},\"hovermode\":\"closest\",\"mapbox\":{\"style\":\"light\"},\"paper_bgcolor\":\"white\",\"plot_bgcolor\":\"#E5ECF6\",\"polar\":{\"angularaxis\":{\"gridcolor\":\"white\",\"linecolor\":\"white\",\"ticks\":\"\"},\"bgcolor\":\"#E5ECF6\",\"radialaxis\":{\"gridcolor\":\"white\",\"linecolor\":\"white\",\"ticks\":\"\"}},\"scene\":{\"xaxis\":{\"backgroundcolor\":\"#E5ECF6\",\"gridcolor\":\"white\",\"gridwidth\":2,\"linecolor\":\"white\",\"showbackground\":true,\"ticks\":\"\",\"zerolinecolor\":\"white\"},\"yaxis\":{\"backgroundcolor\":\"#E5ECF6\",\"gridcolor\":\"white\",\"gridwidth\":2,\"linecolor\":\"white\",\"showbackground\":true,\"ticks\":\"\",\"zerolinecolor\":\"white\"},\"zaxis\":{\"backgroundcolor\":\"#E5ECF6\",\"gridcolor\":\"white\",\"gridwidth\":2,\"linecolor\":\"white\",\"showbackground\":true,\"ticks\":\"\",\"zerolinecolor\":\"white\"}},\"shapedefaults\":{\"line\":{\"color\":\"#2a3f5f\"}},\"ternary\":{\"aaxis\":{\"gridcolor\":\"white\",\"linecolor\":\"white\",\"ticks\":\"\"},\"baxis\":{\"gridcolor\":\"white\",\"linecolor\":\"white\",\"ticks\":\"\"},\"bgcolor\":\"#E5ECF6\",\"caxis\":{\"gridcolor\":\"white\",\"linecolor\":\"white\",\"ticks\":\"\"}},\"title\":{\"x\":0.05},\"xaxis\":{\"automargin\":true,\"gridcolor\":\"white\",\"linecolor\":\"white\",\"ticks\":\"\",\"title\":{\"standoff\":15},\"zerolinecolor\":\"white\",\"zerolinewidth\":2},\"yaxis\":{\"automargin\":true,\"gridcolor\":\"white\",\"linecolor\":\"white\",\"ticks\":\"\",\"title\":{\"standoff\":15},\"zerolinecolor\":\"white\",\"zerolinewidth\":2}}},\"title\":{\"font\":{\"color\":\"#4D5663\"}},\"xaxis\":{\"gridcolor\":\"#E1E5ED\",\"showgrid\":true,\"tickfont\":{\"color\":\"#4D5663\"},\"title\":{\"font\":{\"color\":\"#4D5663\"},\"text\":\"\"},\"zerolinecolor\":\"#E1E5ED\"},\"yaxis\":{\"gridcolor\":\"#E1E5ED\",\"showgrid\":true,\"tickfont\":{\"color\":\"#4D5663\"},\"title\":{\"font\":{\"color\":\"#4D5663\"},\"text\":\"\"},\"zerolinecolor\":\"#E1E5ED\"}},                        {\"showLink\": true, \"linkText\": \"Export to plot.ly\", \"plotlyServerURL\": \"https://plot.ly\", \"responsive\": true}                    ).then(function(){\n",
       "                            \n",
       "var gd = document.getElementById('f5ac2ba1-ff98-4572-b37e-d644ab37cf0b');\n",
       "var x = new MutationObserver(function (mutations, observer) {{\n",
       "        var display = window.getComputedStyle(gd).display;\n",
       "        if (!display || display === 'none') {{\n",
       "            console.log([gd, 'removed!']);\n",
       "            Plotly.purge(gd);\n",
       "            observer.disconnect();\n",
       "        }}\n",
       "}});\n",
       "\n",
       "// Listen for the removal of the full notebook cells\n",
       "var notebookContainer = gd.closest('#notebook-container');\n",
       "if (notebookContainer) {{\n",
       "    x.observe(notebookContainer, {childList: true});\n",
       "}}\n",
       "\n",
       "// Listen for the clearing of the current output cell\n",
       "var outputEl = gd.closest('.output');\n",
       "if (outputEl) {{\n",
       "    x.observe(outputEl, {childList: true});\n",
       "}}\n",
       "\n",
       "                        })                };                });            </script>        </div>"
      ]
     },
     "metadata": {},
     "output_type": "display_data"
    }
   ],
   "source": [
    "df3 = pd.DataFrame({'x':[1,2,3,4,5],'y':[10,20,30,20,10],'z':[5,4,3,2,1]})\n",
    "df3.iplot(kind='surface',colorscale='rdylbu')"
   ]
  },
  {
   "cell_type": "markdown",
   "metadata": {},
   "source": [
    "## Spread"
   ]
  },
  {
   "cell_type": "code",
   "execution_count": 19,
   "metadata": {},
   "outputs": [
    {
     "name": "stderr",
     "output_type": "stream",
     "text": [
      "/Users/kdadash/anaconda3/lib/python3.8/site-packages/cufflinks/plotlytools.py:849: FutureWarning:\n",
      "\n",
      "The pandas.np module is deprecated and will be removed from pandas in a future version. Import numpy directly instead\n",
      "\n",
      "/Users/kdadash/anaconda3/lib/python3.8/site-packages/cufflinks/plotlytools.py:850: FutureWarning:\n",
      "\n",
      "The pandas.np module is deprecated and will be removed from pandas in a future version. Import numpy directly instead\n",
      "\n"
     ]
    },
    {
     "data": {
      "application/vnd.plotly.v1+json": {
       "config": {
        "linkText": "Export to plot.ly",
        "plotlyServerURL": "https://plot.ly",
        "showLink": true
       },
       "data": [
        {
         "line": {
          "color": "rgba(255, 153, 51, 1.0)",
          "dash": "solid",
          "shape": "linear",
          "width": 1.3
         },
         "mode": "lines",
         "name": "A",
         "text": "",
         "type": "scatter",
         "x": [
          0,
          1,
          2,
          3,
          4,
          5,
          6,
          7,
          8,
          9,
          10,
          11,
          12,
          13,
          14,
          15,
          16,
          17,
          18,
          19,
          20,
          21,
          22,
          23,
          24,
          25,
          26,
          27,
          28,
          29,
          30,
          31,
          32,
          33,
          34,
          35,
          36,
          37,
          38,
          39,
          40,
          41,
          42,
          43,
          44,
          45,
          46,
          47,
          48,
          49,
          50,
          51,
          52,
          53,
          54,
          55,
          56,
          57,
          58,
          59,
          60,
          61,
          62,
          63,
          64,
          65,
          66,
          67,
          68,
          69,
          70,
          71,
          72,
          73,
          74,
          75,
          76,
          77,
          78,
          79,
          80,
          81,
          82,
          83,
          84,
          85,
          86,
          87,
          88,
          89,
          90,
          91,
          92,
          93,
          94,
          95,
          96,
          97,
          98,
          99
         ],
         "y": [
          0.10600372573935532,
          0.20749207561513944,
          -1.0393378694469475,
          -0.6836932422094264,
          0.3712406633159747,
          1.8227241947210773,
          -2.262207151026445,
          -1.8970460309624753,
          1.2286043953391381,
          -0.3574193062297222,
          -1.7377734024170408,
          0.5197339233321271,
          -0.06788953602198554,
          -0.40191529592914244,
          -0.43370818219860896,
          -1.1661124908327158,
          1.1909206075148222,
          0.4388735027552563,
          0.03078096636690785,
          1.9362836769431646,
          -0.37075561956492736,
          -0.22921069296146732,
          0.5688691041798098,
          -1.7056023477568323,
          0.07570934350096442,
          0.9263520986244222,
          2.110174197159889,
          0.07056773563634443,
          -1.3740931235677463,
          0.9831289227755879,
          -0.6120200206186656,
          0.15666800087062727,
          -0.01844629565827913,
          -1.4108549888033666,
          -1.0840512483666251,
          0.15007307789236096,
          0.1562200550680007,
          0.6715655265118765,
          -2.5833248405455964,
          -0.9396192348953979,
          0.30327683434061165,
          -0.017701326490219854,
          0.9946009238039645,
          -2.047910052190914,
          0.35534195799578105,
          0.7309389442237206,
          -0.018911812240188265,
          0.5258877279467146,
          -0.7578060225979669,
          0.021273816181194286,
          0.6076296020031607,
          -0.5912050505425559,
          0.6267086559935164,
          2.2603470912323167,
          -0.40959760922837896,
          -1.0999662078027865,
          -1.7244320790470604,
          0.6185762285561729,
          1.215949179679514,
          0.512677421517591,
          1.1468696837108043,
          0.07780582086841593,
          0.3581086513672768,
          1.101114232910788,
          -0.816159235634712,
          1.620708418607869,
          0.050085042836158146,
          0.933719368820452,
          -1.923699435336341,
          0.8298418569096968,
          -0.31898033207002435,
          -1.629422634794213,
          0.7937285580426178,
          -1.141487628713606,
          1.0324380703636866,
          1.6275267747285445,
          1.8828615027230835,
          -1.3108896433586812,
          -0.6231178037822507,
          -0.1514895671878934,
          0.4884180261113317,
          -1.244530345881232,
          -1.7586800032751404,
          0.3293062297921215,
          0.7329470338986954,
          1.9479456523338359,
          0.665343553005202,
          -0.6797658495124682,
          -1.4603444616505636,
          -0.5061330022052487,
          1.3255130564272948,
          1.2819616135045893,
          -0.03846990574957462,
          -1.0597436840005086,
          1.0970280388504754,
          -1.0605874226275647,
          -0.5625504969934049,
          1.3758715701554394,
          -0.30022048190267414,
          -1.297072370793922
         ]
        },
        {
         "line": {
          "color": "rgba(55, 128, 191, 1.0)",
          "dash": "solid",
          "shape": "linear",
          "width": 1.3
         },
         "mode": "lines",
         "name": "B",
         "text": "",
         "type": "scatter",
         "x": [
          0,
          1,
          2,
          3,
          4,
          5,
          6,
          7,
          8,
          9,
          10,
          11,
          12,
          13,
          14,
          15,
          16,
          17,
          18,
          19,
          20,
          21,
          22,
          23,
          24,
          25,
          26,
          27,
          28,
          29,
          30,
          31,
          32,
          33,
          34,
          35,
          36,
          37,
          38,
          39,
          40,
          41,
          42,
          43,
          44,
          45,
          46,
          47,
          48,
          49,
          50,
          51,
          52,
          53,
          54,
          55,
          56,
          57,
          58,
          59,
          60,
          61,
          62,
          63,
          64,
          65,
          66,
          67,
          68,
          69,
          70,
          71,
          72,
          73,
          74,
          75,
          76,
          77,
          78,
          79,
          80,
          81,
          82,
          83,
          84,
          85,
          86,
          87,
          88,
          89,
          90,
          91,
          92,
          93,
          94,
          95,
          96,
          97,
          98,
          99
         ],
         "y": [
          0.4769431026012106,
          -0.10019126128842715,
          0.6113592162515342,
          -0.8070370418018528,
          0.2763978925358597,
          -0.10720355844112409,
          -0.5903615969727316,
          -0.13055421428039032,
          1.2693444378168242,
          0.8529892166991166,
          0.9325210127082194,
          -0.24958114969826484,
          0.13236018337252933,
          -0.5761867920069248,
          -0.2190615071806342,
          0.6637069422788028,
          0.18305818053502448,
          2.6808423224478246,
          -1.0654428571490364,
          -0.8291462865638127,
          0.054494391458582106,
          -1.2023837369074832,
          1.070784285243506,
          0.15962997085686725,
          0.25054171463418734,
          0.9451835521587554,
          1.430558994837546,
          -0.49260223389592717,
          0.10123049379232833,
          -1.4435471051098858,
          -0.6193153315070554,
          -1.156930328544975,
          -0.8826196284045719,
          1.0009977260930587,
          0.4544280710439374,
          -0.9688836385097156,
          1.4773761326737302,
          1.3773454164431693,
          1.1084251339689797,
          0.5651450676087367,
          0.1387848864141628,
          1.4264525785172326,
          -0.37757980864992063,
          0.6202853071456437,
          0.18004419237638297,
          2.129096335269589,
          0.04973451721719641,
          1.2394810276706119,
          0.8193637123020554,
          -0.05317134097489851,
          -0.24664799954484715,
          0.5331418669922314,
          1.3214390503174918,
          0.5236888999215038,
          0.23287917717351467,
          0.6006932090430144,
          1.0862840410571686,
          2.660470685844886,
          0.6515793111509729,
          0.3884324324252398,
          0.20721984859051978,
          -0.25002746247732804,
          1.153674982774516,
          0.9335273660013991,
          -0.349515394552551,
          1.5247358336307832,
          2.4143324819372887,
          1.2502741563615987,
          0.0893496287677241,
          3.034968760018631,
          -0.13304108425193012,
          -1.0038447287093142,
          -1.9660690740070852,
          -0.7380463039444887,
          -0.48913647757759166,
          -0.49736309395632505,
          -0.8922475224765966,
          1.177202339988743,
          0.1338660112203844,
          -0.18265674871739768,
          -0.929224229936402,
          0.6001450586623118,
          -1.3613736551788942,
          0.18138237038600677,
          -0.704074249023333,
          0.889338266253846,
          -0.7980933887078092,
          -0.6261537265622374,
          -0.6335248289426914,
          0.7543574951401341,
          -0.3631892656708778,
          -0.8037506822775732,
          0.23490382806972052,
          1.5398650558233888,
          -0.40383975283133766,
          0.67976087105031,
          -0.34859922135264265,
          1.441292826564418,
          -0.6637472409501192,
          0.9535293591259538
         ]
        },
        {
         "connectgaps": false,
         "fill": "tozeroy",
         "line": {
          "color": "green",
          "dash": "solid",
          "shape": "linear",
          "width": 0.5
         },
         "mode": "lines",
         "name": "Spread",
         "showlegend": false,
         "type": "scatter",
         "x": [
          0,
          1,
          2,
          3,
          4,
          5,
          6,
          7,
          8,
          9,
          10,
          11,
          12,
          13,
          14,
          15,
          16,
          17,
          18,
          19,
          20,
          21,
          22,
          23,
          24,
          25,
          26,
          27,
          28,
          29,
          30,
          31,
          32,
          33,
          34,
          35,
          36,
          37,
          38,
          39,
          40,
          41,
          42,
          43,
          44,
          45,
          46,
          47,
          48,
          49,
          50,
          51,
          52,
          53,
          54,
          55,
          56,
          57,
          58,
          59,
          60,
          61,
          62,
          63,
          64,
          65,
          66,
          67,
          68,
          69,
          70,
          71,
          72,
          73,
          74,
          75,
          76,
          77,
          78,
          79,
          80,
          81,
          82,
          83,
          84,
          85,
          86,
          87,
          88,
          89,
          90,
          91,
          92,
          93,
          94,
          95,
          96,
          97,
          98,
          99
         ],
         "xaxis": "x2",
         "y": [
          "",
          0.3076833369035666,
          "",
          0.12334379959242636,
          0.094842770780115,
          1.9299277531622014,
          "",
          "",
          "",
          "",
          "",
          0.7693150730303919,
          "",
          0.17427149607778236,
          "",
          "",
          1.0078624269797978,
          "",
          1.0962238235159443,
          2.7654299635069775,
          "",
          0.9731730439460159,
          "",
          "",
          "",
          "",
          0.6796152023223432,
          0.5631699695322716,
          "",
          2.426676027885474,
          0.007295310888389861,
          1.3135983294156022,
          0.8641733327462927,
          "",
          "",
          1.1189567164020766,
          "",
          "",
          "",
          "",
          0.16449194792644883,
          "",
          1.372180732453885,
          "",
          0.17529776561939808,
          "",
          "",
          "",
          "",
          0.07444515715609279,
          0.8542776015480079,
          "",
          "",
          1.7366581913108128,
          "",
          "",
          "",
          "",
          0.5643698685285412,
          0.12424498909235121,
          0.9396498351202845,
          0.32783328334574396,
          "",
          0.16758686690938884,
          "",
          0.09597258497708583,
          "",
          "",
          "",
          "",
          "",
          "",
          2.759797632049703,
          "",
          1.5215745479412783,
          2.1248898686848694,
          2.77510902519968,
          "",
          "",
          0.03116718152950429,
          1.4176422560477338,
          "",
          "",
          0.14792385940611472,
          1.4370212829220286,
          1.0586073860799898,
          1.4634369417130113,
          "",
          "",
          "",
          1.6887023220981725,
          2.0857122957821623,
          "",
          "",
          1.500867791681813,
          "",
          "",
          "",
          0.363526759047445,
          ""
         ],
         "yaxis": "y2"
        },
        {
         "connectgaps": false,
         "fill": "tozeroy",
         "line": {
          "color": "red",
          "dash": "solid",
          "shape": "linear",
          "width": 0.5
         },
         "mode": "lines",
         "name": "Spread",
         "showlegend": false,
         "type": "scatter",
         "x": [
          0,
          1,
          2,
          3,
          4,
          5,
          6,
          7,
          8,
          9,
          10,
          11,
          12,
          13,
          14,
          15,
          16,
          17,
          18,
          19,
          20,
          21,
          22,
          23,
          24,
          25,
          26,
          27,
          28,
          29,
          30,
          31,
          32,
          33,
          34,
          35,
          36,
          37,
          38,
          39,
          40,
          41,
          42,
          43,
          44,
          45,
          46,
          47,
          48,
          49,
          50,
          51,
          52,
          53,
          54,
          55,
          56,
          57,
          58,
          59,
          60,
          61,
          62,
          63,
          64,
          65,
          66,
          67,
          68,
          69,
          70,
          71,
          72,
          73,
          74,
          75,
          76,
          77,
          78,
          79,
          80,
          81,
          82,
          83,
          84,
          85,
          86,
          87,
          88,
          89,
          90,
          91,
          92,
          93,
          94,
          95,
          96,
          97,
          98,
          99
         ],
         "xaxis": "x2",
         "y": [
          -0.3709393768618553,
          "",
          -1.6506970856984817,
          "",
          "",
          "",
          -1.6718455540537136,
          -1.7664918166820849,
          -0.040740042477686034,
          -1.2104085229288388,
          -2.67029441512526,
          "",
          -0.20024971939451486,
          "",
          -0.21464667501797477,
          -1.8298194331115187,
          "",
          -2.2419688196925684,
          "",
          "",
          -0.42525001102350946,
          "",
          -0.5019151810636963,
          -1.8652323186136996,
          -0.17483237113322292,
          -0.01883145353433313,
          "",
          "",
          -1.4753236173600746,
          "",
          "",
          "",
          "",
          -2.4118527148964253,
          -1.5384793194105626,
          "",
          -1.3211560776057296,
          -0.7057798899312928,
          -3.6917499745145763,
          -1.5047643025041346,
          "",
          -1.4441539050074526,
          "",
          -2.6681953593365577,
          "",
          -1.3981573910458684,
          -0.06864632945738468,
          -0.7135932997238973,
          -1.5771697349000222,
          "",
          "",
          -1.1243469175347873,
          -0.6947303943239753,
          "",
          -0.6424767864018937,
          -1.700659416845801,
          -2.810716120104229,
          -2.0418944572887128,
          "",
          "",
          "",
          "",
          -0.7955663314072392,
          "",
          -0.46664384108216106,
          "",
          -2.3642474391011303,
          -0.31655478754114663,
          -2.0130490641040653,
          -2.2051269031089342,
          -0.18593924781809423,
          -0.6255779060848987,
          "",
          -0.4034413247691173,
          "",
          "",
          "",
          -2.488091983347424,
          -0.7569838150026351,
          "",
          "",
          -1.8446754045435438,
          -0.3973063480962462,
          "",
          "",
          "",
          "",
          -0.05361212295023077,
          -0.8268196327078723,
          -1.2604904973453828,
          "",
          "",
          -0.27337373381929514,
          -2.599608739823897,
          "",
          -1.7403482936778747,
          -0.21395127564076222,
          -0.06542125640897867,
          "",
          -2.2506017299198757
         ],
         "yaxis": "y2"
        }
       ],
       "layout": {
        "hovermode": "x",
        "legend": {
         "bgcolor": "#F5F6F9",
         "font": {
          "color": "#4D5663"
         }
        },
        "paper_bgcolor": "#F5F6F9",
        "plot_bgcolor": "#F5F6F9",
        "template": {
         "data": {
          "bar": [
           {
            "error_x": {
             "color": "#2a3f5f"
            },
            "error_y": {
             "color": "#2a3f5f"
            },
            "marker": {
             "line": {
              "color": "#E5ECF6",
              "width": 0.5
             },
             "pattern": {
              "fillmode": "overlay",
              "size": 10,
              "solidity": 0.2
             }
            },
            "type": "bar"
           }
          ],
          "barpolar": [
           {
            "marker": {
             "line": {
              "color": "#E5ECF6",
              "width": 0.5
             },
             "pattern": {
              "fillmode": "overlay",
              "size": 10,
              "solidity": 0.2
             }
            },
            "type": "barpolar"
           }
          ],
          "carpet": [
           {
            "aaxis": {
             "endlinecolor": "#2a3f5f",
             "gridcolor": "white",
             "linecolor": "white",
             "minorgridcolor": "white",
             "startlinecolor": "#2a3f5f"
            },
            "baxis": {
             "endlinecolor": "#2a3f5f",
             "gridcolor": "white",
             "linecolor": "white",
             "minorgridcolor": "white",
             "startlinecolor": "#2a3f5f"
            },
            "type": "carpet"
           }
          ],
          "choropleth": [
           {
            "colorbar": {
             "outlinewidth": 0,
             "ticks": ""
            },
            "type": "choropleth"
           }
          ],
          "contour": [
           {
            "colorbar": {
             "outlinewidth": 0,
             "ticks": ""
            },
            "colorscale": [
             [
              0,
              "#0d0887"
             ],
             [
              0.1111111111111111,
              "#46039f"
             ],
             [
              0.2222222222222222,
              "#7201a8"
             ],
             [
              0.3333333333333333,
              "#9c179e"
             ],
             [
              0.4444444444444444,
              "#bd3786"
             ],
             [
              0.5555555555555556,
              "#d8576b"
             ],
             [
              0.6666666666666666,
              "#ed7953"
             ],
             [
              0.7777777777777778,
              "#fb9f3a"
             ],
             [
              0.8888888888888888,
              "#fdca26"
             ],
             [
              1,
              "#f0f921"
             ]
            ],
            "type": "contour"
           }
          ],
          "contourcarpet": [
           {
            "colorbar": {
             "outlinewidth": 0,
             "ticks": ""
            },
            "type": "contourcarpet"
           }
          ],
          "heatmap": [
           {
            "colorbar": {
             "outlinewidth": 0,
             "ticks": ""
            },
            "colorscale": [
             [
              0,
              "#0d0887"
             ],
             [
              0.1111111111111111,
              "#46039f"
             ],
             [
              0.2222222222222222,
              "#7201a8"
             ],
             [
              0.3333333333333333,
              "#9c179e"
             ],
             [
              0.4444444444444444,
              "#bd3786"
             ],
             [
              0.5555555555555556,
              "#d8576b"
             ],
             [
              0.6666666666666666,
              "#ed7953"
             ],
             [
              0.7777777777777778,
              "#fb9f3a"
             ],
             [
              0.8888888888888888,
              "#fdca26"
             ],
             [
              1,
              "#f0f921"
             ]
            ],
            "type": "heatmap"
           }
          ],
          "heatmapgl": [
           {
            "colorbar": {
             "outlinewidth": 0,
             "ticks": ""
            },
            "colorscale": [
             [
              0,
              "#0d0887"
             ],
             [
              0.1111111111111111,
              "#46039f"
             ],
             [
              0.2222222222222222,
              "#7201a8"
             ],
             [
              0.3333333333333333,
              "#9c179e"
             ],
             [
              0.4444444444444444,
              "#bd3786"
             ],
             [
              0.5555555555555556,
              "#d8576b"
             ],
             [
              0.6666666666666666,
              "#ed7953"
             ],
             [
              0.7777777777777778,
              "#fb9f3a"
             ],
             [
              0.8888888888888888,
              "#fdca26"
             ],
             [
              1,
              "#f0f921"
             ]
            ],
            "type": "heatmapgl"
           }
          ],
          "histogram": [
           {
            "marker": {
             "pattern": {
              "fillmode": "overlay",
              "size": 10,
              "solidity": 0.2
             }
            },
            "type": "histogram"
           }
          ],
          "histogram2d": [
           {
            "colorbar": {
             "outlinewidth": 0,
             "ticks": ""
            },
            "colorscale": [
             [
              0,
              "#0d0887"
             ],
             [
              0.1111111111111111,
              "#46039f"
             ],
             [
              0.2222222222222222,
              "#7201a8"
             ],
             [
              0.3333333333333333,
              "#9c179e"
             ],
             [
              0.4444444444444444,
              "#bd3786"
             ],
             [
              0.5555555555555556,
              "#d8576b"
             ],
             [
              0.6666666666666666,
              "#ed7953"
             ],
             [
              0.7777777777777778,
              "#fb9f3a"
             ],
             [
              0.8888888888888888,
              "#fdca26"
             ],
             [
              1,
              "#f0f921"
             ]
            ],
            "type": "histogram2d"
           }
          ],
          "histogram2dcontour": [
           {
            "colorbar": {
             "outlinewidth": 0,
             "ticks": ""
            },
            "colorscale": [
             [
              0,
              "#0d0887"
             ],
             [
              0.1111111111111111,
              "#46039f"
             ],
             [
              0.2222222222222222,
              "#7201a8"
             ],
             [
              0.3333333333333333,
              "#9c179e"
             ],
             [
              0.4444444444444444,
              "#bd3786"
             ],
             [
              0.5555555555555556,
              "#d8576b"
             ],
             [
              0.6666666666666666,
              "#ed7953"
             ],
             [
              0.7777777777777778,
              "#fb9f3a"
             ],
             [
              0.8888888888888888,
              "#fdca26"
             ],
             [
              1,
              "#f0f921"
             ]
            ],
            "type": "histogram2dcontour"
           }
          ],
          "mesh3d": [
           {
            "colorbar": {
             "outlinewidth": 0,
             "ticks": ""
            },
            "type": "mesh3d"
           }
          ],
          "parcoords": [
           {
            "line": {
             "colorbar": {
              "outlinewidth": 0,
              "ticks": ""
             }
            },
            "type": "parcoords"
           }
          ],
          "pie": [
           {
            "automargin": true,
            "type": "pie"
           }
          ],
          "scatter": [
           {
            "fillpattern": {
             "fillmode": "overlay",
             "size": 10,
             "solidity": 0.2
            },
            "type": "scatter"
           }
          ],
          "scatter3d": [
           {
            "line": {
             "colorbar": {
              "outlinewidth": 0,
              "ticks": ""
             }
            },
            "marker": {
             "colorbar": {
              "outlinewidth": 0,
              "ticks": ""
             }
            },
            "type": "scatter3d"
           }
          ],
          "scattercarpet": [
           {
            "marker": {
             "colorbar": {
              "outlinewidth": 0,
              "ticks": ""
             }
            },
            "type": "scattercarpet"
           }
          ],
          "scattergeo": [
           {
            "marker": {
             "colorbar": {
              "outlinewidth": 0,
              "ticks": ""
             }
            },
            "type": "scattergeo"
           }
          ],
          "scattergl": [
           {
            "marker": {
             "colorbar": {
              "outlinewidth": 0,
              "ticks": ""
             }
            },
            "type": "scattergl"
           }
          ],
          "scattermapbox": [
           {
            "marker": {
             "colorbar": {
              "outlinewidth": 0,
              "ticks": ""
             }
            },
            "type": "scattermapbox"
           }
          ],
          "scatterpolar": [
           {
            "marker": {
             "colorbar": {
              "outlinewidth": 0,
              "ticks": ""
             }
            },
            "type": "scatterpolar"
           }
          ],
          "scatterpolargl": [
           {
            "marker": {
             "colorbar": {
              "outlinewidth": 0,
              "ticks": ""
             }
            },
            "type": "scatterpolargl"
           }
          ],
          "scatterternary": [
           {
            "marker": {
             "colorbar": {
              "outlinewidth": 0,
              "ticks": ""
             }
            },
            "type": "scatterternary"
           }
          ],
          "surface": [
           {
            "colorbar": {
             "outlinewidth": 0,
             "ticks": ""
            },
            "colorscale": [
             [
              0,
              "#0d0887"
             ],
             [
              0.1111111111111111,
              "#46039f"
             ],
             [
              0.2222222222222222,
              "#7201a8"
             ],
             [
              0.3333333333333333,
              "#9c179e"
             ],
             [
              0.4444444444444444,
              "#bd3786"
             ],
             [
              0.5555555555555556,
              "#d8576b"
             ],
             [
              0.6666666666666666,
              "#ed7953"
             ],
             [
              0.7777777777777778,
              "#fb9f3a"
             ],
             [
              0.8888888888888888,
              "#fdca26"
             ],
             [
              1,
              "#f0f921"
             ]
            ],
            "type": "surface"
           }
          ],
          "table": [
           {
            "cells": {
             "fill": {
              "color": "#EBF0F8"
             },
             "line": {
              "color": "white"
             }
            },
            "header": {
             "fill": {
              "color": "#C8D4E3"
             },
             "line": {
              "color": "white"
             }
            },
            "type": "table"
           }
          ]
         },
         "layout": {
          "annotationdefaults": {
           "arrowcolor": "#2a3f5f",
           "arrowhead": 0,
           "arrowwidth": 1
          },
          "autotypenumbers": "strict",
          "coloraxis": {
           "colorbar": {
            "outlinewidth": 0,
            "ticks": ""
           }
          },
          "colorscale": {
           "diverging": [
            [
             0,
             "#8e0152"
            ],
            [
             0.1,
             "#c51b7d"
            ],
            [
             0.2,
             "#de77ae"
            ],
            [
             0.3,
             "#f1b6da"
            ],
            [
             0.4,
             "#fde0ef"
            ],
            [
             0.5,
             "#f7f7f7"
            ],
            [
             0.6,
             "#e6f5d0"
            ],
            [
             0.7,
             "#b8e186"
            ],
            [
             0.8,
             "#7fbc41"
            ],
            [
             0.9,
             "#4d9221"
            ],
            [
             1,
             "#276419"
            ]
           ],
           "sequential": [
            [
             0,
             "#0d0887"
            ],
            [
             0.1111111111111111,
             "#46039f"
            ],
            [
             0.2222222222222222,
             "#7201a8"
            ],
            [
             0.3333333333333333,
             "#9c179e"
            ],
            [
             0.4444444444444444,
             "#bd3786"
            ],
            [
             0.5555555555555556,
             "#d8576b"
            ],
            [
             0.6666666666666666,
             "#ed7953"
            ],
            [
             0.7777777777777778,
             "#fb9f3a"
            ],
            [
             0.8888888888888888,
             "#fdca26"
            ],
            [
             1,
             "#f0f921"
            ]
           ],
           "sequentialminus": [
            [
             0,
             "#0d0887"
            ],
            [
             0.1111111111111111,
             "#46039f"
            ],
            [
             0.2222222222222222,
             "#7201a8"
            ],
            [
             0.3333333333333333,
             "#9c179e"
            ],
            [
             0.4444444444444444,
             "#bd3786"
            ],
            [
             0.5555555555555556,
             "#d8576b"
            ],
            [
             0.6666666666666666,
             "#ed7953"
            ],
            [
             0.7777777777777778,
             "#fb9f3a"
            ],
            [
             0.8888888888888888,
             "#fdca26"
            ],
            [
             1,
             "#f0f921"
            ]
           ]
          },
          "colorway": [
           "#636efa",
           "#EF553B",
           "#00cc96",
           "#ab63fa",
           "#FFA15A",
           "#19d3f3",
           "#FF6692",
           "#B6E880",
           "#FF97FF",
           "#FECB52"
          ],
          "font": {
           "color": "#2a3f5f"
          },
          "geo": {
           "bgcolor": "white",
           "lakecolor": "white",
           "landcolor": "#E5ECF6",
           "showlakes": true,
           "showland": true,
           "subunitcolor": "white"
          },
          "hoverlabel": {
           "align": "left"
          },
          "hovermode": "closest",
          "mapbox": {
           "style": "light"
          },
          "paper_bgcolor": "white",
          "plot_bgcolor": "#E5ECF6",
          "polar": {
           "angularaxis": {
            "gridcolor": "white",
            "linecolor": "white",
            "ticks": ""
           },
           "bgcolor": "#E5ECF6",
           "radialaxis": {
            "gridcolor": "white",
            "linecolor": "white",
            "ticks": ""
           }
          },
          "scene": {
           "xaxis": {
            "backgroundcolor": "#E5ECF6",
            "gridcolor": "white",
            "gridwidth": 2,
            "linecolor": "white",
            "showbackground": true,
            "ticks": "",
            "zerolinecolor": "white"
           },
           "yaxis": {
            "backgroundcolor": "#E5ECF6",
            "gridcolor": "white",
            "gridwidth": 2,
            "linecolor": "white",
            "showbackground": true,
            "ticks": "",
            "zerolinecolor": "white"
           },
           "zaxis": {
            "backgroundcolor": "#E5ECF6",
            "gridcolor": "white",
            "gridwidth": 2,
            "linecolor": "white",
            "showbackground": true,
            "ticks": "",
            "zerolinecolor": "white"
           }
          },
          "shapedefaults": {
           "line": {
            "color": "#2a3f5f"
           }
          },
          "ternary": {
           "aaxis": {
            "gridcolor": "white",
            "linecolor": "white",
            "ticks": ""
           },
           "baxis": {
            "gridcolor": "white",
            "linecolor": "white",
            "ticks": ""
           },
           "bgcolor": "#E5ECF6",
           "caxis": {
            "gridcolor": "white",
            "linecolor": "white",
            "ticks": ""
           }
          },
          "title": {
           "x": 0.05
          },
          "xaxis": {
           "automargin": true,
           "gridcolor": "white",
           "linecolor": "white",
           "ticks": "",
           "title": {
            "standoff": 15
           },
           "zerolinecolor": "white",
           "zerolinewidth": 2
          },
          "yaxis": {
           "automargin": true,
           "gridcolor": "white",
           "linecolor": "white",
           "ticks": "",
           "title": {
            "standoff": 15
           },
           "zerolinecolor": "white",
           "zerolinewidth": 2
          }
         }
        },
        "title": {
         "font": {
          "color": "#4D5663"
         }
        },
        "xaxis": {
         "gridcolor": "#E1E5ED",
         "showgrid": true,
         "tickfont": {
          "color": "#4D5663"
         },
         "title": {
          "font": {
           "color": "#4D5663"
          },
          "text": ""
         },
         "zerolinecolor": "#E1E5ED"
        },
        "xaxis2": {
         "anchor": "y2",
         "gridcolor": "#E1E5ED",
         "showgrid": true,
         "showticklabels": false,
         "tickfont": {
          "color": "#4D5663"
         },
         "title": {
          "font": {
           "color": "#4D5663"
          },
          "text": ""
         },
         "zerolinecolor": "#E1E5ED"
        },
        "yaxis": {
         "domain": [
          0.3,
          1
         ],
         "gridcolor": "#E1E5ED",
         "showgrid": true,
         "tickfont": {
          "color": "#4D5663"
         },
         "title": {
          "font": {
           "color": "#4D5663"
          },
          "text": ""
         },
         "zerolinecolor": "#E1E5ED"
        },
        "yaxis2": {
         "domain": [
          0,
          0.25
         ],
         "gridcolor": "#E1E5ED",
         "showgrid": true,
         "tickfont": {
          "color": "#4D5663"
         },
         "title": {
          "font": {
           "color": "#4D5663"
          },
          "text": "Spread"
         },
         "zerolinecolor": "#E1E5ED"
        }
       }
      },
      "text/html": [
       "<div>                            <div id=\"cd7033c5-739e-4bfc-a91a-825693c1a0bd\" class=\"plotly-graph-div\" style=\"height:525px; width:100%;\"></div>            <script type=\"text/javascript\">                require([\"plotly\"], function(Plotly) {                    window.PLOTLYENV=window.PLOTLYENV || {};\n",
       "                    window.PLOTLYENV.BASE_URL='https://plot.ly';                                    if (document.getElementById(\"cd7033c5-739e-4bfc-a91a-825693c1a0bd\")) {                    Plotly.newPlot(                        \"cd7033c5-739e-4bfc-a91a-825693c1a0bd\",                        [{\"line\":{\"color\":\"rgba(255, 153, 51, 1.0)\",\"dash\":\"solid\",\"shape\":\"linear\",\"width\":1.3},\"mode\":\"lines\",\"name\":\"A\",\"text\":\"\",\"x\":[0,1,2,3,4,5,6,7,8,9,10,11,12,13,14,15,16,17,18,19,20,21,22,23,24,25,26,27,28,29,30,31,32,33,34,35,36,37,38,39,40,41,42,43,44,45,46,47,48,49,50,51,52,53,54,55,56,57,58,59,60,61,62,63,64,65,66,67,68,69,70,71,72,73,74,75,76,77,78,79,80,81,82,83,84,85,86,87,88,89,90,91,92,93,94,95,96,97,98,99],\"y\":[0.10600372573935532,0.20749207561513944,-1.0393378694469475,-0.6836932422094264,0.3712406633159747,1.8227241947210773,-2.262207151026445,-1.8970460309624753,1.2286043953391381,-0.3574193062297222,-1.7377734024170408,0.5197339233321271,-0.06788953602198554,-0.40191529592914244,-0.43370818219860896,-1.1661124908327158,1.1909206075148222,0.4388735027552563,0.03078096636690785,1.9362836769431646,-0.37075561956492736,-0.22921069296146732,0.5688691041798098,-1.7056023477568323,0.07570934350096442,0.9263520986244222,2.110174197159889,0.07056773563634443,-1.3740931235677463,0.9831289227755879,-0.6120200206186656,0.15666800087062727,-0.01844629565827913,-1.4108549888033666,-1.0840512483666251,0.15007307789236096,0.1562200550680007,0.6715655265118765,-2.5833248405455964,-0.9396192348953979,0.30327683434061165,-0.017701326490219854,0.9946009238039645,-2.047910052190914,0.35534195799578105,0.7309389442237206,-0.018911812240188265,0.5258877279467146,-0.7578060225979669,0.021273816181194286,0.6076296020031607,-0.5912050505425559,0.6267086559935164,2.2603470912323167,-0.40959760922837896,-1.0999662078027865,-1.7244320790470604,0.6185762285561729,1.215949179679514,0.512677421517591,1.1468696837108043,0.07780582086841593,0.3581086513672768,1.101114232910788,-0.816159235634712,1.620708418607869,0.050085042836158146,0.933719368820452,-1.923699435336341,0.8298418569096968,-0.31898033207002435,-1.629422634794213,0.7937285580426178,-1.141487628713606,1.0324380703636866,1.6275267747285445,1.8828615027230835,-1.3108896433586812,-0.6231178037822507,-0.1514895671878934,0.4884180261113317,-1.244530345881232,-1.7586800032751404,0.3293062297921215,0.7329470338986954,1.9479456523338359,0.665343553005202,-0.6797658495124682,-1.4603444616505636,-0.5061330022052487,1.3255130564272948,1.2819616135045893,-0.03846990574957462,-1.0597436840005086,1.0970280388504754,-1.0605874226275647,-0.5625504969934049,1.3758715701554394,-0.30022048190267414,-1.297072370793922],\"type\":\"scatter\"},{\"line\":{\"color\":\"rgba(55, 128, 191, 1.0)\",\"dash\":\"solid\",\"shape\":\"linear\",\"width\":1.3},\"mode\":\"lines\",\"name\":\"B\",\"text\":\"\",\"x\":[0,1,2,3,4,5,6,7,8,9,10,11,12,13,14,15,16,17,18,19,20,21,22,23,24,25,26,27,28,29,30,31,32,33,34,35,36,37,38,39,40,41,42,43,44,45,46,47,48,49,50,51,52,53,54,55,56,57,58,59,60,61,62,63,64,65,66,67,68,69,70,71,72,73,74,75,76,77,78,79,80,81,82,83,84,85,86,87,88,89,90,91,92,93,94,95,96,97,98,99],\"y\":[0.4769431026012106,-0.10019126128842715,0.6113592162515342,-0.8070370418018528,0.2763978925358597,-0.10720355844112409,-0.5903615969727316,-0.13055421428039032,1.2693444378168242,0.8529892166991166,0.9325210127082194,-0.24958114969826484,0.13236018337252933,-0.5761867920069248,-0.2190615071806342,0.6637069422788028,0.18305818053502448,2.6808423224478246,-1.0654428571490364,-0.8291462865638127,0.054494391458582106,-1.2023837369074832,1.070784285243506,0.15962997085686725,0.25054171463418734,0.9451835521587554,1.430558994837546,-0.49260223389592717,0.10123049379232833,-1.4435471051098858,-0.6193153315070554,-1.156930328544975,-0.8826196284045719,1.0009977260930587,0.4544280710439374,-0.9688836385097156,1.4773761326737302,1.3773454164431693,1.1084251339689797,0.5651450676087367,0.1387848864141628,1.4264525785172326,-0.37757980864992063,0.6202853071456437,0.18004419237638297,2.129096335269589,0.04973451721719641,1.2394810276706119,0.8193637123020554,-0.05317134097489851,-0.24664799954484715,0.5331418669922314,1.3214390503174918,0.5236888999215038,0.23287917717351467,0.6006932090430144,1.0862840410571686,2.660470685844886,0.6515793111509729,0.3884324324252398,0.20721984859051978,-0.25002746247732804,1.153674982774516,0.9335273660013991,-0.349515394552551,1.5247358336307832,2.4143324819372887,1.2502741563615987,0.0893496287677241,3.034968760018631,-0.13304108425193012,-1.0038447287093142,-1.9660690740070852,-0.7380463039444887,-0.48913647757759166,-0.49736309395632505,-0.8922475224765966,1.177202339988743,0.1338660112203844,-0.18265674871739768,-0.929224229936402,0.6001450586623118,-1.3613736551788942,0.18138237038600677,-0.704074249023333,0.889338266253846,-0.7980933887078092,-0.6261537265622374,-0.6335248289426914,0.7543574951401341,-0.3631892656708778,-0.8037506822775732,0.23490382806972052,1.5398650558233888,-0.40383975283133766,0.67976087105031,-0.34859922135264265,1.441292826564418,-0.6637472409501192,0.9535293591259538],\"type\":\"scatter\"},{\"connectgaps\":false,\"fill\":\"tozeroy\",\"line\":{\"color\":\"green\",\"dash\":\"solid\",\"shape\":\"linear\",\"width\":0.5},\"mode\":\"lines\",\"name\":\"Spread\",\"showlegend\":false,\"x\":[0,1,2,3,4,5,6,7,8,9,10,11,12,13,14,15,16,17,18,19,20,21,22,23,24,25,26,27,28,29,30,31,32,33,34,35,36,37,38,39,40,41,42,43,44,45,46,47,48,49,50,51,52,53,54,55,56,57,58,59,60,61,62,63,64,65,66,67,68,69,70,71,72,73,74,75,76,77,78,79,80,81,82,83,84,85,86,87,88,89,90,91,92,93,94,95,96,97,98,99],\"xaxis\":\"x2\",\"y\":[\"\",0.3076833369035666,\"\",0.12334379959242636,0.094842770780115,1.9299277531622014,\"\",\"\",\"\",\"\",\"\",0.7693150730303919,\"\",0.17427149607778236,\"\",\"\",1.0078624269797978,\"\",1.0962238235159443,2.7654299635069775,\"\",0.9731730439460159,\"\",\"\",\"\",\"\",0.6796152023223432,0.5631699695322716,\"\",2.426676027885474,0.007295310888389861,1.3135983294156022,0.8641733327462927,\"\",\"\",1.1189567164020766,\"\",\"\",\"\",\"\",0.16449194792644883,\"\",1.372180732453885,\"\",0.17529776561939808,\"\",\"\",\"\",\"\",0.07444515715609279,0.8542776015480079,\"\",\"\",1.7366581913108128,\"\",\"\",\"\",\"\",0.5643698685285412,0.12424498909235121,0.9396498351202845,0.32783328334574396,\"\",0.16758686690938884,\"\",0.09597258497708583,\"\",\"\",\"\",\"\",\"\",\"\",2.759797632049703,\"\",1.5215745479412783,2.1248898686848694,2.77510902519968,\"\",\"\",0.03116718152950429,1.4176422560477338,\"\",\"\",0.14792385940611472,1.4370212829220286,1.0586073860799898,1.4634369417130113,\"\",\"\",\"\",1.6887023220981725,2.0857122957821623,\"\",\"\",1.500867791681813,\"\",\"\",\"\",0.363526759047445,\"\"],\"yaxis\":\"y2\",\"type\":\"scatter\"},{\"connectgaps\":false,\"fill\":\"tozeroy\",\"line\":{\"color\":\"red\",\"dash\":\"solid\",\"shape\":\"linear\",\"width\":0.5},\"mode\":\"lines\",\"name\":\"Spread\",\"showlegend\":false,\"x\":[0,1,2,3,4,5,6,7,8,9,10,11,12,13,14,15,16,17,18,19,20,21,22,23,24,25,26,27,28,29,30,31,32,33,34,35,36,37,38,39,40,41,42,43,44,45,46,47,48,49,50,51,52,53,54,55,56,57,58,59,60,61,62,63,64,65,66,67,68,69,70,71,72,73,74,75,76,77,78,79,80,81,82,83,84,85,86,87,88,89,90,91,92,93,94,95,96,97,98,99],\"xaxis\":\"x2\",\"y\":[-0.3709393768618553,\"\",-1.6506970856984817,\"\",\"\",\"\",-1.6718455540537136,-1.7664918166820849,-0.040740042477686034,-1.2104085229288388,-2.67029441512526,\"\",-0.20024971939451486,\"\",-0.21464667501797477,-1.8298194331115187,\"\",-2.2419688196925684,\"\",\"\",-0.42525001102350946,\"\",-0.5019151810636963,-1.8652323186136996,-0.17483237113322292,-0.01883145353433313,\"\",\"\",-1.4753236173600746,\"\",\"\",\"\",\"\",-2.4118527148964253,-1.5384793194105626,\"\",-1.3211560776057296,-0.7057798899312928,-3.6917499745145763,-1.5047643025041346,\"\",-1.4441539050074526,\"\",-2.6681953593365577,\"\",-1.3981573910458684,-0.06864632945738468,-0.7135932997238973,-1.5771697349000222,\"\",\"\",-1.1243469175347873,-0.6947303943239753,\"\",-0.6424767864018937,-1.700659416845801,-2.810716120104229,-2.0418944572887128,\"\",\"\",\"\",\"\",-0.7955663314072392,\"\",-0.46664384108216106,\"\",-2.3642474391011303,-0.31655478754114663,-2.0130490641040653,-2.2051269031089342,-0.18593924781809423,-0.6255779060848987,\"\",-0.4034413247691173,\"\",\"\",\"\",-2.488091983347424,-0.7569838150026351,\"\",\"\",-1.8446754045435438,-0.3973063480962462,\"\",\"\",\"\",\"\",-0.05361212295023077,-0.8268196327078723,-1.2604904973453828,\"\",\"\",-0.27337373381929514,-2.599608739823897,\"\",-1.7403482936778747,-0.21395127564076222,-0.06542125640897867,\"\",-2.2506017299198757],\"yaxis\":\"y2\",\"type\":\"scatter\"}],                        {\"hovermode\":\"x\",\"legend\":{\"bgcolor\":\"#F5F6F9\",\"font\":{\"color\":\"#4D5663\"}},\"paper_bgcolor\":\"#F5F6F9\",\"plot_bgcolor\":\"#F5F6F9\",\"template\":{\"data\":{\"barpolar\":[{\"marker\":{\"line\":{\"color\":\"#E5ECF6\",\"width\":0.5},\"pattern\":{\"fillmode\":\"overlay\",\"size\":10,\"solidity\":0.2}},\"type\":\"barpolar\"}],\"bar\":[{\"error_x\":{\"color\":\"#2a3f5f\"},\"error_y\":{\"color\":\"#2a3f5f\"},\"marker\":{\"line\":{\"color\":\"#E5ECF6\",\"width\":0.5},\"pattern\":{\"fillmode\":\"overlay\",\"size\":10,\"solidity\":0.2}},\"type\":\"bar\"}],\"carpet\":[{\"aaxis\":{\"endlinecolor\":\"#2a3f5f\",\"gridcolor\":\"white\",\"linecolor\":\"white\",\"minorgridcolor\":\"white\",\"startlinecolor\":\"#2a3f5f\"},\"baxis\":{\"endlinecolor\":\"#2a3f5f\",\"gridcolor\":\"white\",\"linecolor\":\"white\",\"minorgridcolor\":\"white\",\"startlinecolor\":\"#2a3f5f\"},\"type\":\"carpet\"}],\"choropleth\":[{\"colorbar\":{\"outlinewidth\":0,\"ticks\":\"\"},\"type\":\"choropleth\"}],\"contourcarpet\":[{\"colorbar\":{\"outlinewidth\":0,\"ticks\":\"\"},\"type\":\"contourcarpet\"}],\"contour\":[{\"colorbar\":{\"outlinewidth\":0,\"ticks\":\"\"},\"colorscale\":[[0.0,\"#0d0887\"],[0.1111111111111111,\"#46039f\"],[0.2222222222222222,\"#7201a8\"],[0.3333333333333333,\"#9c179e\"],[0.4444444444444444,\"#bd3786\"],[0.5555555555555556,\"#d8576b\"],[0.6666666666666666,\"#ed7953\"],[0.7777777777777778,\"#fb9f3a\"],[0.8888888888888888,\"#fdca26\"],[1.0,\"#f0f921\"]],\"type\":\"contour\"}],\"heatmapgl\":[{\"colorbar\":{\"outlinewidth\":0,\"ticks\":\"\"},\"colorscale\":[[0.0,\"#0d0887\"],[0.1111111111111111,\"#46039f\"],[0.2222222222222222,\"#7201a8\"],[0.3333333333333333,\"#9c179e\"],[0.4444444444444444,\"#bd3786\"],[0.5555555555555556,\"#d8576b\"],[0.6666666666666666,\"#ed7953\"],[0.7777777777777778,\"#fb9f3a\"],[0.8888888888888888,\"#fdca26\"],[1.0,\"#f0f921\"]],\"type\":\"heatmapgl\"}],\"heatmap\":[{\"colorbar\":{\"outlinewidth\":0,\"ticks\":\"\"},\"colorscale\":[[0.0,\"#0d0887\"],[0.1111111111111111,\"#46039f\"],[0.2222222222222222,\"#7201a8\"],[0.3333333333333333,\"#9c179e\"],[0.4444444444444444,\"#bd3786\"],[0.5555555555555556,\"#d8576b\"],[0.6666666666666666,\"#ed7953\"],[0.7777777777777778,\"#fb9f3a\"],[0.8888888888888888,\"#fdca26\"],[1.0,\"#f0f921\"]],\"type\":\"heatmap\"}],\"histogram2dcontour\":[{\"colorbar\":{\"outlinewidth\":0,\"ticks\":\"\"},\"colorscale\":[[0.0,\"#0d0887\"],[0.1111111111111111,\"#46039f\"],[0.2222222222222222,\"#7201a8\"],[0.3333333333333333,\"#9c179e\"],[0.4444444444444444,\"#bd3786\"],[0.5555555555555556,\"#d8576b\"],[0.6666666666666666,\"#ed7953\"],[0.7777777777777778,\"#fb9f3a\"],[0.8888888888888888,\"#fdca26\"],[1.0,\"#f0f921\"]],\"type\":\"histogram2dcontour\"}],\"histogram2d\":[{\"colorbar\":{\"outlinewidth\":0,\"ticks\":\"\"},\"colorscale\":[[0.0,\"#0d0887\"],[0.1111111111111111,\"#46039f\"],[0.2222222222222222,\"#7201a8\"],[0.3333333333333333,\"#9c179e\"],[0.4444444444444444,\"#bd3786\"],[0.5555555555555556,\"#d8576b\"],[0.6666666666666666,\"#ed7953\"],[0.7777777777777778,\"#fb9f3a\"],[0.8888888888888888,\"#fdca26\"],[1.0,\"#f0f921\"]],\"type\":\"histogram2d\"}],\"histogram\":[{\"marker\":{\"pattern\":{\"fillmode\":\"overlay\",\"size\":10,\"solidity\":0.2}},\"type\":\"histogram\"}],\"mesh3d\":[{\"colorbar\":{\"outlinewidth\":0,\"ticks\":\"\"},\"type\":\"mesh3d\"}],\"parcoords\":[{\"line\":{\"colorbar\":{\"outlinewidth\":0,\"ticks\":\"\"}},\"type\":\"parcoords\"}],\"pie\":[{\"automargin\":true,\"type\":\"pie\"}],\"scatter3d\":[{\"line\":{\"colorbar\":{\"outlinewidth\":0,\"ticks\":\"\"}},\"marker\":{\"colorbar\":{\"outlinewidth\":0,\"ticks\":\"\"}},\"type\":\"scatter3d\"}],\"scattercarpet\":[{\"marker\":{\"colorbar\":{\"outlinewidth\":0,\"ticks\":\"\"}},\"type\":\"scattercarpet\"}],\"scattergeo\":[{\"marker\":{\"colorbar\":{\"outlinewidth\":0,\"ticks\":\"\"}},\"type\":\"scattergeo\"}],\"scattergl\":[{\"marker\":{\"colorbar\":{\"outlinewidth\":0,\"ticks\":\"\"}},\"type\":\"scattergl\"}],\"scattermapbox\":[{\"marker\":{\"colorbar\":{\"outlinewidth\":0,\"ticks\":\"\"}},\"type\":\"scattermapbox\"}],\"scatterpolargl\":[{\"marker\":{\"colorbar\":{\"outlinewidth\":0,\"ticks\":\"\"}},\"type\":\"scatterpolargl\"}],\"scatterpolar\":[{\"marker\":{\"colorbar\":{\"outlinewidth\":0,\"ticks\":\"\"}},\"type\":\"scatterpolar\"}],\"scatter\":[{\"fillpattern\":{\"fillmode\":\"overlay\",\"size\":10,\"solidity\":0.2},\"type\":\"scatter\"}],\"scatterternary\":[{\"marker\":{\"colorbar\":{\"outlinewidth\":0,\"ticks\":\"\"}},\"type\":\"scatterternary\"}],\"surface\":[{\"colorbar\":{\"outlinewidth\":0,\"ticks\":\"\"},\"colorscale\":[[0.0,\"#0d0887\"],[0.1111111111111111,\"#46039f\"],[0.2222222222222222,\"#7201a8\"],[0.3333333333333333,\"#9c179e\"],[0.4444444444444444,\"#bd3786\"],[0.5555555555555556,\"#d8576b\"],[0.6666666666666666,\"#ed7953\"],[0.7777777777777778,\"#fb9f3a\"],[0.8888888888888888,\"#fdca26\"],[1.0,\"#f0f921\"]],\"type\":\"surface\"}],\"table\":[{\"cells\":{\"fill\":{\"color\":\"#EBF0F8\"},\"line\":{\"color\":\"white\"}},\"header\":{\"fill\":{\"color\":\"#C8D4E3\"},\"line\":{\"color\":\"white\"}},\"type\":\"table\"}]},\"layout\":{\"annotationdefaults\":{\"arrowcolor\":\"#2a3f5f\",\"arrowhead\":0,\"arrowwidth\":1},\"autotypenumbers\":\"strict\",\"coloraxis\":{\"colorbar\":{\"outlinewidth\":0,\"ticks\":\"\"}},\"colorscale\":{\"diverging\":[[0,\"#8e0152\"],[0.1,\"#c51b7d\"],[0.2,\"#de77ae\"],[0.3,\"#f1b6da\"],[0.4,\"#fde0ef\"],[0.5,\"#f7f7f7\"],[0.6,\"#e6f5d0\"],[0.7,\"#b8e186\"],[0.8,\"#7fbc41\"],[0.9,\"#4d9221\"],[1,\"#276419\"]],\"sequential\":[[0.0,\"#0d0887\"],[0.1111111111111111,\"#46039f\"],[0.2222222222222222,\"#7201a8\"],[0.3333333333333333,\"#9c179e\"],[0.4444444444444444,\"#bd3786\"],[0.5555555555555556,\"#d8576b\"],[0.6666666666666666,\"#ed7953\"],[0.7777777777777778,\"#fb9f3a\"],[0.8888888888888888,\"#fdca26\"],[1.0,\"#f0f921\"]],\"sequentialminus\":[[0.0,\"#0d0887\"],[0.1111111111111111,\"#46039f\"],[0.2222222222222222,\"#7201a8\"],[0.3333333333333333,\"#9c179e\"],[0.4444444444444444,\"#bd3786\"],[0.5555555555555556,\"#d8576b\"],[0.6666666666666666,\"#ed7953\"],[0.7777777777777778,\"#fb9f3a\"],[0.8888888888888888,\"#fdca26\"],[1.0,\"#f0f921\"]]},\"colorway\":[\"#636efa\",\"#EF553B\",\"#00cc96\",\"#ab63fa\",\"#FFA15A\",\"#19d3f3\",\"#FF6692\",\"#B6E880\",\"#FF97FF\",\"#FECB52\"],\"font\":{\"color\":\"#2a3f5f\"},\"geo\":{\"bgcolor\":\"white\",\"lakecolor\":\"white\",\"landcolor\":\"#E5ECF6\",\"showlakes\":true,\"showland\":true,\"subunitcolor\":\"white\"},\"hoverlabel\":{\"align\":\"left\"},\"hovermode\":\"closest\",\"mapbox\":{\"style\":\"light\"},\"paper_bgcolor\":\"white\",\"plot_bgcolor\":\"#E5ECF6\",\"polar\":{\"angularaxis\":{\"gridcolor\":\"white\",\"linecolor\":\"white\",\"ticks\":\"\"},\"bgcolor\":\"#E5ECF6\",\"radialaxis\":{\"gridcolor\":\"white\",\"linecolor\":\"white\",\"ticks\":\"\"}},\"scene\":{\"xaxis\":{\"backgroundcolor\":\"#E5ECF6\",\"gridcolor\":\"white\",\"gridwidth\":2,\"linecolor\":\"white\",\"showbackground\":true,\"ticks\":\"\",\"zerolinecolor\":\"white\"},\"yaxis\":{\"backgroundcolor\":\"#E5ECF6\",\"gridcolor\":\"white\",\"gridwidth\":2,\"linecolor\":\"white\",\"showbackground\":true,\"ticks\":\"\",\"zerolinecolor\":\"white\"},\"zaxis\":{\"backgroundcolor\":\"#E5ECF6\",\"gridcolor\":\"white\",\"gridwidth\":2,\"linecolor\":\"white\",\"showbackground\":true,\"ticks\":\"\",\"zerolinecolor\":\"white\"}},\"shapedefaults\":{\"line\":{\"color\":\"#2a3f5f\"}},\"ternary\":{\"aaxis\":{\"gridcolor\":\"white\",\"linecolor\":\"white\",\"ticks\":\"\"},\"baxis\":{\"gridcolor\":\"white\",\"linecolor\":\"white\",\"ticks\":\"\"},\"bgcolor\":\"#E5ECF6\",\"caxis\":{\"gridcolor\":\"white\",\"linecolor\":\"white\",\"ticks\":\"\"}},\"title\":{\"x\":0.05},\"xaxis\":{\"automargin\":true,\"gridcolor\":\"white\",\"linecolor\":\"white\",\"ticks\":\"\",\"title\":{\"standoff\":15},\"zerolinecolor\":\"white\",\"zerolinewidth\":2},\"yaxis\":{\"automargin\":true,\"gridcolor\":\"white\",\"linecolor\":\"white\",\"ticks\":\"\",\"title\":{\"standoff\":15},\"zerolinecolor\":\"white\",\"zerolinewidth\":2}}},\"title\":{\"font\":{\"color\":\"#4D5663\"}},\"xaxis\":{\"gridcolor\":\"#E1E5ED\",\"showgrid\":true,\"tickfont\":{\"color\":\"#4D5663\"},\"title\":{\"font\":{\"color\":\"#4D5663\"},\"text\":\"\"},\"zerolinecolor\":\"#E1E5ED\"},\"yaxis\":{\"domain\":[0.3,1],\"gridcolor\":\"#E1E5ED\",\"showgrid\":true,\"tickfont\":{\"color\":\"#4D5663\"},\"title\":{\"font\":{\"color\":\"#4D5663\"},\"text\":\"\"},\"zerolinecolor\":\"#E1E5ED\"},\"yaxis2\":{\"domain\":[0,0.25],\"gridcolor\":\"#E1E5ED\",\"showgrid\":true,\"tickfont\":{\"color\":\"#4D5663\"},\"title\":{\"font\":{\"color\":\"#4D5663\"},\"text\":\"Spread\"},\"zerolinecolor\":\"#E1E5ED\"},\"xaxis2\":{\"anchor\":\"y2\",\"gridcolor\":\"#E1E5ED\",\"showgrid\":true,\"showticklabels\":false,\"tickfont\":{\"color\":\"#4D5663\"},\"title\":{\"font\":{\"color\":\"#4D5663\"},\"text\":\"\"},\"zerolinecolor\":\"#E1E5ED\"}},                        {\"showLink\": true, \"linkText\": \"Export to plot.ly\", \"plotlyServerURL\": \"https://plot.ly\", \"responsive\": true}                    ).then(function(){\n",
       "                            \n",
       "var gd = document.getElementById('cd7033c5-739e-4bfc-a91a-825693c1a0bd');\n",
       "var x = new MutationObserver(function (mutations, observer) {{\n",
       "        var display = window.getComputedStyle(gd).display;\n",
       "        if (!display || display === 'none') {{\n",
       "            console.log([gd, 'removed!']);\n",
       "            Plotly.purge(gd);\n",
       "            observer.disconnect();\n",
       "        }}\n",
       "}});\n",
       "\n",
       "// Listen for the removal of the full notebook cells\n",
       "var notebookContainer = gd.closest('#notebook-container');\n",
       "if (notebookContainer) {{\n",
       "    x.observe(notebookContainer, {childList: true});\n",
       "}}\n",
       "\n",
       "// Listen for the clearing of the current output cell\n",
       "var outputEl = gd.closest('.output');\n",
       "if (outputEl) {{\n",
       "    x.observe(outputEl, {childList: true});\n",
       "}}\n",
       "\n",
       "                        })                };                });            </script>        </div>"
      ]
     },
     "metadata": {},
     "output_type": "display_data"
    }
   ],
   "source": [
    "df[['A','B']].iplot(kind='spread')"
   ]
  },
  {
   "cell_type": "markdown",
   "metadata": {},
   "source": [
    "## histogram"
   ]
  },
  {
   "cell_type": "code",
   "execution_count": 20,
   "metadata": {},
   "outputs": [
    {
     "data": {
      "application/vnd.plotly.v1+json": {
       "config": {
        "linkText": "Export to plot.ly",
        "plotlyServerURL": "https://plot.ly",
        "showLink": true
       },
       "data": [
        {
         "histfunc": "count",
         "histnorm": "",
         "marker": {
          "color": "rgba(255, 153, 51, 1.0)",
          "line": {
           "color": "#4D5663",
           "width": 1.3
          }
         },
         "name": "A",
         "nbinsx": 25,
         "opacity": 0.8,
         "orientation": "v",
         "type": "histogram",
         "x": [
          0.10600372573935532,
          0.20749207561513944,
          -1.0393378694469475,
          -0.6836932422094264,
          0.3712406633159747,
          1.8227241947210773,
          -2.262207151026445,
          -1.8970460309624753,
          1.2286043953391381,
          -0.3574193062297222,
          -1.7377734024170408,
          0.5197339233321271,
          -0.06788953602198554,
          -0.40191529592914244,
          -0.43370818219860896,
          -1.1661124908327158,
          1.1909206075148222,
          0.4388735027552563,
          0.03078096636690785,
          1.9362836769431646,
          -0.37075561956492736,
          -0.22921069296146732,
          0.5688691041798098,
          -1.7056023477568323,
          0.07570934350096442,
          0.9263520986244222,
          2.110174197159889,
          0.07056773563634443,
          -1.3740931235677463,
          0.9831289227755879,
          -0.6120200206186656,
          0.15666800087062727,
          -0.01844629565827913,
          -1.4108549888033666,
          -1.0840512483666251,
          0.15007307789236096,
          0.1562200550680007,
          0.6715655265118765,
          -2.5833248405455964,
          -0.9396192348953979,
          0.30327683434061165,
          -0.017701326490219854,
          0.9946009238039645,
          -2.047910052190914,
          0.35534195799578105,
          0.7309389442237206,
          -0.018911812240188265,
          0.5258877279467146,
          -0.7578060225979669,
          0.021273816181194286,
          0.6076296020031607,
          -0.5912050505425559,
          0.6267086559935164,
          2.2603470912323167,
          -0.40959760922837896,
          -1.0999662078027865,
          -1.7244320790470604,
          0.6185762285561729,
          1.215949179679514,
          0.512677421517591,
          1.1468696837108043,
          0.07780582086841593,
          0.3581086513672768,
          1.101114232910788,
          -0.816159235634712,
          1.620708418607869,
          0.050085042836158146,
          0.933719368820452,
          -1.923699435336341,
          0.8298418569096968,
          -0.31898033207002435,
          -1.629422634794213,
          0.7937285580426178,
          -1.141487628713606,
          1.0324380703636866,
          1.6275267747285445,
          1.8828615027230835,
          -1.3108896433586812,
          -0.6231178037822507,
          -0.1514895671878934,
          0.4884180261113317,
          -1.244530345881232,
          -1.7586800032751404,
          0.3293062297921215,
          0.7329470338986954,
          1.9479456523338359,
          0.665343553005202,
          -0.6797658495124682,
          -1.4603444616505636,
          -0.5061330022052487,
          1.3255130564272948,
          1.2819616135045893,
          -0.03846990574957462,
          -1.0597436840005086,
          1.0970280388504754,
          -1.0605874226275647,
          -0.5625504969934049,
          1.3758715701554394,
          -0.30022048190267414,
          -1.297072370793922
         ]
        }
       ],
       "layout": {
        "barmode": "overlay",
        "legend": {
         "bgcolor": "#F5F6F9",
         "font": {
          "color": "#4D5663"
         }
        },
        "paper_bgcolor": "#F5F6F9",
        "plot_bgcolor": "#F5F6F9",
        "template": {
         "data": {
          "bar": [
           {
            "error_x": {
             "color": "#2a3f5f"
            },
            "error_y": {
             "color": "#2a3f5f"
            },
            "marker": {
             "line": {
              "color": "#E5ECF6",
              "width": 0.5
             },
             "pattern": {
              "fillmode": "overlay",
              "size": 10,
              "solidity": 0.2
             }
            },
            "type": "bar"
           }
          ],
          "barpolar": [
           {
            "marker": {
             "line": {
              "color": "#E5ECF6",
              "width": 0.5
             },
             "pattern": {
              "fillmode": "overlay",
              "size": 10,
              "solidity": 0.2
             }
            },
            "type": "barpolar"
           }
          ],
          "carpet": [
           {
            "aaxis": {
             "endlinecolor": "#2a3f5f",
             "gridcolor": "white",
             "linecolor": "white",
             "minorgridcolor": "white",
             "startlinecolor": "#2a3f5f"
            },
            "baxis": {
             "endlinecolor": "#2a3f5f",
             "gridcolor": "white",
             "linecolor": "white",
             "minorgridcolor": "white",
             "startlinecolor": "#2a3f5f"
            },
            "type": "carpet"
           }
          ],
          "choropleth": [
           {
            "colorbar": {
             "outlinewidth": 0,
             "ticks": ""
            },
            "type": "choropleth"
           }
          ],
          "contour": [
           {
            "colorbar": {
             "outlinewidth": 0,
             "ticks": ""
            },
            "colorscale": [
             [
              0,
              "#0d0887"
             ],
             [
              0.1111111111111111,
              "#46039f"
             ],
             [
              0.2222222222222222,
              "#7201a8"
             ],
             [
              0.3333333333333333,
              "#9c179e"
             ],
             [
              0.4444444444444444,
              "#bd3786"
             ],
             [
              0.5555555555555556,
              "#d8576b"
             ],
             [
              0.6666666666666666,
              "#ed7953"
             ],
             [
              0.7777777777777778,
              "#fb9f3a"
             ],
             [
              0.8888888888888888,
              "#fdca26"
             ],
             [
              1,
              "#f0f921"
             ]
            ],
            "type": "contour"
           }
          ],
          "contourcarpet": [
           {
            "colorbar": {
             "outlinewidth": 0,
             "ticks": ""
            },
            "type": "contourcarpet"
           }
          ],
          "heatmap": [
           {
            "colorbar": {
             "outlinewidth": 0,
             "ticks": ""
            },
            "colorscale": [
             [
              0,
              "#0d0887"
             ],
             [
              0.1111111111111111,
              "#46039f"
             ],
             [
              0.2222222222222222,
              "#7201a8"
             ],
             [
              0.3333333333333333,
              "#9c179e"
             ],
             [
              0.4444444444444444,
              "#bd3786"
             ],
             [
              0.5555555555555556,
              "#d8576b"
             ],
             [
              0.6666666666666666,
              "#ed7953"
             ],
             [
              0.7777777777777778,
              "#fb9f3a"
             ],
             [
              0.8888888888888888,
              "#fdca26"
             ],
             [
              1,
              "#f0f921"
             ]
            ],
            "type": "heatmap"
           }
          ],
          "heatmapgl": [
           {
            "colorbar": {
             "outlinewidth": 0,
             "ticks": ""
            },
            "colorscale": [
             [
              0,
              "#0d0887"
             ],
             [
              0.1111111111111111,
              "#46039f"
             ],
             [
              0.2222222222222222,
              "#7201a8"
             ],
             [
              0.3333333333333333,
              "#9c179e"
             ],
             [
              0.4444444444444444,
              "#bd3786"
             ],
             [
              0.5555555555555556,
              "#d8576b"
             ],
             [
              0.6666666666666666,
              "#ed7953"
             ],
             [
              0.7777777777777778,
              "#fb9f3a"
             ],
             [
              0.8888888888888888,
              "#fdca26"
             ],
             [
              1,
              "#f0f921"
             ]
            ],
            "type": "heatmapgl"
           }
          ],
          "histogram": [
           {
            "marker": {
             "pattern": {
              "fillmode": "overlay",
              "size": 10,
              "solidity": 0.2
             }
            },
            "type": "histogram"
           }
          ],
          "histogram2d": [
           {
            "colorbar": {
             "outlinewidth": 0,
             "ticks": ""
            },
            "colorscale": [
             [
              0,
              "#0d0887"
             ],
             [
              0.1111111111111111,
              "#46039f"
             ],
             [
              0.2222222222222222,
              "#7201a8"
             ],
             [
              0.3333333333333333,
              "#9c179e"
             ],
             [
              0.4444444444444444,
              "#bd3786"
             ],
             [
              0.5555555555555556,
              "#d8576b"
             ],
             [
              0.6666666666666666,
              "#ed7953"
             ],
             [
              0.7777777777777778,
              "#fb9f3a"
             ],
             [
              0.8888888888888888,
              "#fdca26"
             ],
             [
              1,
              "#f0f921"
             ]
            ],
            "type": "histogram2d"
           }
          ],
          "histogram2dcontour": [
           {
            "colorbar": {
             "outlinewidth": 0,
             "ticks": ""
            },
            "colorscale": [
             [
              0,
              "#0d0887"
             ],
             [
              0.1111111111111111,
              "#46039f"
             ],
             [
              0.2222222222222222,
              "#7201a8"
             ],
             [
              0.3333333333333333,
              "#9c179e"
             ],
             [
              0.4444444444444444,
              "#bd3786"
             ],
             [
              0.5555555555555556,
              "#d8576b"
             ],
             [
              0.6666666666666666,
              "#ed7953"
             ],
             [
              0.7777777777777778,
              "#fb9f3a"
             ],
             [
              0.8888888888888888,
              "#fdca26"
             ],
             [
              1,
              "#f0f921"
             ]
            ],
            "type": "histogram2dcontour"
           }
          ],
          "mesh3d": [
           {
            "colorbar": {
             "outlinewidth": 0,
             "ticks": ""
            },
            "type": "mesh3d"
           }
          ],
          "parcoords": [
           {
            "line": {
             "colorbar": {
              "outlinewidth": 0,
              "ticks": ""
             }
            },
            "type": "parcoords"
           }
          ],
          "pie": [
           {
            "automargin": true,
            "type": "pie"
           }
          ],
          "scatter": [
           {
            "fillpattern": {
             "fillmode": "overlay",
             "size": 10,
             "solidity": 0.2
            },
            "type": "scatter"
           }
          ],
          "scatter3d": [
           {
            "line": {
             "colorbar": {
              "outlinewidth": 0,
              "ticks": ""
             }
            },
            "marker": {
             "colorbar": {
              "outlinewidth": 0,
              "ticks": ""
             }
            },
            "type": "scatter3d"
           }
          ],
          "scattercarpet": [
           {
            "marker": {
             "colorbar": {
              "outlinewidth": 0,
              "ticks": ""
             }
            },
            "type": "scattercarpet"
           }
          ],
          "scattergeo": [
           {
            "marker": {
             "colorbar": {
              "outlinewidth": 0,
              "ticks": ""
             }
            },
            "type": "scattergeo"
           }
          ],
          "scattergl": [
           {
            "marker": {
             "colorbar": {
              "outlinewidth": 0,
              "ticks": ""
             }
            },
            "type": "scattergl"
           }
          ],
          "scattermapbox": [
           {
            "marker": {
             "colorbar": {
              "outlinewidth": 0,
              "ticks": ""
             }
            },
            "type": "scattermapbox"
           }
          ],
          "scatterpolar": [
           {
            "marker": {
             "colorbar": {
              "outlinewidth": 0,
              "ticks": ""
             }
            },
            "type": "scatterpolar"
           }
          ],
          "scatterpolargl": [
           {
            "marker": {
             "colorbar": {
              "outlinewidth": 0,
              "ticks": ""
             }
            },
            "type": "scatterpolargl"
           }
          ],
          "scatterternary": [
           {
            "marker": {
             "colorbar": {
              "outlinewidth": 0,
              "ticks": ""
             }
            },
            "type": "scatterternary"
           }
          ],
          "surface": [
           {
            "colorbar": {
             "outlinewidth": 0,
             "ticks": ""
            },
            "colorscale": [
             [
              0,
              "#0d0887"
             ],
             [
              0.1111111111111111,
              "#46039f"
             ],
             [
              0.2222222222222222,
              "#7201a8"
             ],
             [
              0.3333333333333333,
              "#9c179e"
             ],
             [
              0.4444444444444444,
              "#bd3786"
             ],
             [
              0.5555555555555556,
              "#d8576b"
             ],
             [
              0.6666666666666666,
              "#ed7953"
             ],
             [
              0.7777777777777778,
              "#fb9f3a"
             ],
             [
              0.8888888888888888,
              "#fdca26"
             ],
             [
              1,
              "#f0f921"
             ]
            ],
            "type": "surface"
           }
          ],
          "table": [
           {
            "cells": {
             "fill": {
              "color": "#EBF0F8"
             },
             "line": {
              "color": "white"
             }
            },
            "header": {
             "fill": {
              "color": "#C8D4E3"
             },
             "line": {
              "color": "white"
             }
            },
            "type": "table"
           }
          ]
         },
         "layout": {
          "annotationdefaults": {
           "arrowcolor": "#2a3f5f",
           "arrowhead": 0,
           "arrowwidth": 1
          },
          "autotypenumbers": "strict",
          "coloraxis": {
           "colorbar": {
            "outlinewidth": 0,
            "ticks": ""
           }
          },
          "colorscale": {
           "diverging": [
            [
             0,
             "#8e0152"
            ],
            [
             0.1,
             "#c51b7d"
            ],
            [
             0.2,
             "#de77ae"
            ],
            [
             0.3,
             "#f1b6da"
            ],
            [
             0.4,
             "#fde0ef"
            ],
            [
             0.5,
             "#f7f7f7"
            ],
            [
             0.6,
             "#e6f5d0"
            ],
            [
             0.7,
             "#b8e186"
            ],
            [
             0.8,
             "#7fbc41"
            ],
            [
             0.9,
             "#4d9221"
            ],
            [
             1,
             "#276419"
            ]
           ],
           "sequential": [
            [
             0,
             "#0d0887"
            ],
            [
             0.1111111111111111,
             "#46039f"
            ],
            [
             0.2222222222222222,
             "#7201a8"
            ],
            [
             0.3333333333333333,
             "#9c179e"
            ],
            [
             0.4444444444444444,
             "#bd3786"
            ],
            [
             0.5555555555555556,
             "#d8576b"
            ],
            [
             0.6666666666666666,
             "#ed7953"
            ],
            [
             0.7777777777777778,
             "#fb9f3a"
            ],
            [
             0.8888888888888888,
             "#fdca26"
            ],
            [
             1,
             "#f0f921"
            ]
           ],
           "sequentialminus": [
            [
             0,
             "#0d0887"
            ],
            [
             0.1111111111111111,
             "#46039f"
            ],
            [
             0.2222222222222222,
             "#7201a8"
            ],
            [
             0.3333333333333333,
             "#9c179e"
            ],
            [
             0.4444444444444444,
             "#bd3786"
            ],
            [
             0.5555555555555556,
             "#d8576b"
            ],
            [
             0.6666666666666666,
             "#ed7953"
            ],
            [
             0.7777777777777778,
             "#fb9f3a"
            ],
            [
             0.8888888888888888,
             "#fdca26"
            ],
            [
             1,
             "#f0f921"
            ]
           ]
          },
          "colorway": [
           "#636efa",
           "#EF553B",
           "#00cc96",
           "#ab63fa",
           "#FFA15A",
           "#19d3f3",
           "#FF6692",
           "#B6E880",
           "#FF97FF",
           "#FECB52"
          ],
          "font": {
           "color": "#2a3f5f"
          },
          "geo": {
           "bgcolor": "white",
           "lakecolor": "white",
           "landcolor": "#E5ECF6",
           "showlakes": true,
           "showland": true,
           "subunitcolor": "white"
          },
          "hoverlabel": {
           "align": "left"
          },
          "hovermode": "closest",
          "mapbox": {
           "style": "light"
          },
          "paper_bgcolor": "white",
          "plot_bgcolor": "#E5ECF6",
          "polar": {
           "angularaxis": {
            "gridcolor": "white",
            "linecolor": "white",
            "ticks": ""
           },
           "bgcolor": "#E5ECF6",
           "radialaxis": {
            "gridcolor": "white",
            "linecolor": "white",
            "ticks": ""
           }
          },
          "scene": {
           "xaxis": {
            "backgroundcolor": "#E5ECF6",
            "gridcolor": "white",
            "gridwidth": 2,
            "linecolor": "white",
            "showbackground": true,
            "ticks": "",
            "zerolinecolor": "white"
           },
           "yaxis": {
            "backgroundcolor": "#E5ECF6",
            "gridcolor": "white",
            "gridwidth": 2,
            "linecolor": "white",
            "showbackground": true,
            "ticks": "",
            "zerolinecolor": "white"
           },
           "zaxis": {
            "backgroundcolor": "#E5ECF6",
            "gridcolor": "white",
            "gridwidth": 2,
            "linecolor": "white",
            "showbackground": true,
            "ticks": "",
            "zerolinecolor": "white"
           }
          },
          "shapedefaults": {
           "line": {
            "color": "#2a3f5f"
           }
          },
          "ternary": {
           "aaxis": {
            "gridcolor": "white",
            "linecolor": "white",
            "ticks": ""
           },
           "baxis": {
            "gridcolor": "white",
            "linecolor": "white",
            "ticks": ""
           },
           "bgcolor": "#E5ECF6",
           "caxis": {
            "gridcolor": "white",
            "linecolor": "white",
            "ticks": ""
           }
          },
          "title": {
           "x": 0.05
          },
          "xaxis": {
           "automargin": true,
           "gridcolor": "white",
           "linecolor": "white",
           "ticks": "",
           "title": {
            "standoff": 15
           },
           "zerolinecolor": "white",
           "zerolinewidth": 2
          },
          "yaxis": {
           "automargin": true,
           "gridcolor": "white",
           "linecolor": "white",
           "ticks": "",
           "title": {
            "standoff": 15
           },
           "zerolinecolor": "white",
           "zerolinewidth": 2
          }
         }
        },
        "title": {
         "font": {
          "color": "#4D5663"
         }
        },
        "xaxis": {
         "gridcolor": "#E1E5ED",
         "showgrid": true,
         "tickfont": {
          "color": "#4D5663"
         },
         "title": {
          "font": {
           "color": "#4D5663"
          },
          "text": ""
         },
         "zerolinecolor": "#E1E5ED"
        },
        "yaxis": {
         "gridcolor": "#E1E5ED",
         "showgrid": true,
         "tickfont": {
          "color": "#4D5663"
         },
         "title": {
          "font": {
           "color": "#4D5663"
          },
          "text": ""
         },
         "zerolinecolor": "#E1E5ED"
        }
       }
      },
      "text/html": [
       "<div>                            <div id=\"216d62eb-8916-450e-9b2e-97d79a96076f\" class=\"plotly-graph-div\" style=\"height:525px; width:100%;\"></div>            <script type=\"text/javascript\">                require([\"plotly\"], function(Plotly) {                    window.PLOTLYENV=window.PLOTLYENV || {};\n",
       "                    window.PLOTLYENV.BASE_URL='https://plot.ly';                                    if (document.getElementById(\"216d62eb-8916-450e-9b2e-97d79a96076f\")) {                    Plotly.newPlot(                        \"216d62eb-8916-450e-9b2e-97d79a96076f\",                        [{\"histfunc\":\"count\",\"histnorm\":\"\",\"marker\":{\"color\":\"rgba(255, 153, 51, 1.0)\",\"line\":{\"color\":\"#4D5663\",\"width\":1.3}},\"name\":\"A\",\"nbinsx\":25,\"opacity\":0.8,\"orientation\":\"v\",\"x\":[0.10600372573935532,0.20749207561513944,-1.0393378694469475,-0.6836932422094264,0.3712406633159747,1.8227241947210773,-2.262207151026445,-1.8970460309624753,1.2286043953391381,-0.3574193062297222,-1.7377734024170408,0.5197339233321271,-0.06788953602198554,-0.40191529592914244,-0.43370818219860896,-1.1661124908327158,1.1909206075148222,0.4388735027552563,0.03078096636690785,1.9362836769431646,-0.37075561956492736,-0.22921069296146732,0.5688691041798098,-1.7056023477568323,0.07570934350096442,0.9263520986244222,2.110174197159889,0.07056773563634443,-1.3740931235677463,0.9831289227755879,-0.6120200206186656,0.15666800087062727,-0.01844629565827913,-1.4108549888033666,-1.0840512483666251,0.15007307789236096,0.1562200550680007,0.6715655265118765,-2.5833248405455964,-0.9396192348953979,0.30327683434061165,-0.017701326490219854,0.9946009238039645,-2.047910052190914,0.35534195799578105,0.7309389442237206,-0.018911812240188265,0.5258877279467146,-0.7578060225979669,0.021273816181194286,0.6076296020031607,-0.5912050505425559,0.6267086559935164,2.2603470912323167,-0.40959760922837896,-1.0999662078027865,-1.7244320790470604,0.6185762285561729,1.215949179679514,0.512677421517591,1.1468696837108043,0.07780582086841593,0.3581086513672768,1.101114232910788,-0.816159235634712,1.620708418607869,0.050085042836158146,0.933719368820452,-1.923699435336341,0.8298418569096968,-0.31898033207002435,-1.629422634794213,0.7937285580426178,-1.141487628713606,1.0324380703636866,1.6275267747285445,1.8828615027230835,-1.3108896433586812,-0.6231178037822507,-0.1514895671878934,0.4884180261113317,-1.244530345881232,-1.7586800032751404,0.3293062297921215,0.7329470338986954,1.9479456523338359,0.665343553005202,-0.6797658495124682,-1.4603444616505636,-0.5061330022052487,1.3255130564272948,1.2819616135045893,-0.03846990574957462,-1.0597436840005086,1.0970280388504754,-1.0605874226275647,-0.5625504969934049,1.3758715701554394,-0.30022048190267414,-1.297072370793922],\"type\":\"histogram\"}],                        {\"barmode\":\"overlay\",\"legend\":{\"bgcolor\":\"#F5F6F9\",\"font\":{\"color\":\"#4D5663\"}},\"paper_bgcolor\":\"#F5F6F9\",\"plot_bgcolor\":\"#F5F6F9\",\"template\":{\"data\":{\"barpolar\":[{\"marker\":{\"line\":{\"color\":\"#E5ECF6\",\"width\":0.5},\"pattern\":{\"fillmode\":\"overlay\",\"size\":10,\"solidity\":0.2}},\"type\":\"barpolar\"}],\"bar\":[{\"error_x\":{\"color\":\"#2a3f5f\"},\"error_y\":{\"color\":\"#2a3f5f\"},\"marker\":{\"line\":{\"color\":\"#E5ECF6\",\"width\":0.5},\"pattern\":{\"fillmode\":\"overlay\",\"size\":10,\"solidity\":0.2}},\"type\":\"bar\"}],\"carpet\":[{\"aaxis\":{\"endlinecolor\":\"#2a3f5f\",\"gridcolor\":\"white\",\"linecolor\":\"white\",\"minorgridcolor\":\"white\",\"startlinecolor\":\"#2a3f5f\"},\"baxis\":{\"endlinecolor\":\"#2a3f5f\",\"gridcolor\":\"white\",\"linecolor\":\"white\",\"minorgridcolor\":\"white\",\"startlinecolor\":\"#2a3f5f\"},\"type\":\"carpet\"}],\"choropleth\":[{\"colorbar\":{\"outlinewidth\":0,\"ticks\":\"\"},\"type\":\"choropleth\"}],\"contourcarpet\":[{\"colorbar\":{\"outlinewidth\":0,\"ticks\":\"\"},\"type\":\"contourcarpet\"}],\"contour\":[{\"colorbar\":{\"outlinewidth\":0,\"ticks\":\"\"},\"colorscale\":[[0.0,\"#0d0887\"],[0.1111111111111111,\"#46039f\"],[0.2222222222222222,\"#7201a8\"],[0.3333333333333333,\"#9c179e\"],[0.4444444444444444,\"#bd3786\"],[0.5555555555555556,\"#d8576b\"],[0.6666666666666666,\"#ed7953\"],[0.7777777777777778,\"#fb9f3a\"],[0.8888888888888888,\"#fdca26\"],[1.0,\"#f0f921\"]],\"type\":\"contour\"}],\"heatmapgl\":[{\"colorbar\":{\"outlinewidth\":0,\"ticks\":\"\"},\"colorscale\":[[0.0,\"#0d0887\"],[0.1111111111111111,\"#46039f\"],[0.2222222222222222,\"#7201a8\"],[0.3333333333333333,\"#9c179e\"],[0.4444444444444444,\"#bd3786\"],[0.5555555555555556,\"#d8576b\"],[0.6666666666666666,\"#ed7953\"],[0.7777777777777778,\"#fb9f3a\"],[0.8888888888888888,\"#fdca26\"],[1.0,\"#f0f921\"]],\"type\":\"heatmapgl\"}],\"heatmap\":[{\"colorbar\":{\"outlinewidth\":0,\"ticks\":\"\"},\"colorscale\":[[0.0,\"#0d0887\"],[0.1111111111111111,\"#46039f\"],[0.2222222222222222,\"#7201a8\"],[0.3333333333333333,\"#9c179e\"],[0.4444444444444444,\"#bd3786\"],[0.5555555555555556,\"#d8576b\"],[0.6666666666666666,\"#ed7953\"],[0.7777777777777778,\"#fb9f3a\"],[0.8888888888888888,\"#fdca26\"],[1.0,\"#f0f921\"]],\"type\":\"heatmap\"}],\"histogram2dcontour\":[{\"colorbar\":{\"outlinewidth\":0,\"ticks\":\"\"},\"colorscale\":[[0.0,\"#0d0887\"],[0.1111111111111111,\"#46039f\"],[0.2222222222222222,\"#7201a8\"],[0.3333333333333333,\"#9c179e\"],[0.4444444444444444,\"#bd3786\"],[0.5555555555555556,\"#d8576b\"],[0.6666666666666666,\"#ed7953\"],[0.7777777777777778,\"#fb9f3a\"],[0.8888888888888888,\"#fdca26\"],[1.0,\"#f0f921\"]],\"type\":\"histogram2dcontour\"}],\"histogram2d\":[{\"colorbar\":{\"outlinewidth\":0,\"ticks\":\"\"},\"colorscale\":[[0.0,\"#0d0887\"],[0.1111111111111111,\"#46039f\"],[0.2222222222222222,\"#7201a8\"],[0.3333333333333333,\"#9c179e\"],[0.4444444444444444,\"#bd3786\"],[0.5555555555555556,\"#d8576b\"],[0.6666666666666666,\"#ed7953\"],[0.7777777777777778,\"#fb9f3a\"],[0.8888888888888888,\"#fdca26\"],[1.0,\"#f0f921\"]],\"type\":\"histogram2d\"}],\"histogram\":[{\"marker\":{\"pattern\":{\"fillmode\":\"overlay\",\"size\":10,\"solidity\":0.2}},\"type\":\"histogram\"}],\"mesh3d\":[{\"colorbar\":{\"outlinewidth\":0,\"ticks\":\"\"},\"type\":\"mesh3d\"}],\"parcoords\":[{\"line\":{\"colorbar\":{\"outlinewidth\":0,\"ticks\":\"\"}},\"type\":\"parcoords\"}],\"pie\":[{\"automargin\":true,\"type\":\"pie\"}],\"scatter3d\":[{\"line\":{\"colorbar\":{\"outlinewidth\":0,\"ticks\":\"\"}},\"marker\":{\"colorbar\":{\"outlinewidth\":0,\"ticks\":\"\"}},\"type\":\"scatter3d\"}],\"scattercarpet\":[{\"marker\":{\"colorbar\":{\"outlinewidth\":0,\"ticks\":\"\"}},\"type\":\"scattercarpet\"}],\"scattergeo\":[{\"marker\":{\"colorbar\":{\"outlinewidth\":0,\"ticks\":\"\"}},\"type\":\"scattergeo\"}],\"scattergl\":[{\"marker\":{\"colorbar\":{\"outlinewidth\":0,\"ticks\":\"\"}},\"type\":\"scattergl\"}],\"scattermapbox\":[{\"marker\":{\"colorbar\":{\"outlinewidth\":0,\"ticks\":\"\"}},\"type\":\"scattermapbox\"}],\"scatterpolargl\":[{\"marker\":{\"colorbar\":{\"outlinewidth\":0,\"ticks\":\"\"}},\"type\":\"scatterpolargl\"}],\"scatterpolar\":[{\"marker\":{\"colorbar\":{\"outlinewidth\":0,\"ticks\":\"\"}},\"type\":\"scatterpolar\"}],\"scatter\":[{\"fillpattern\":{\"fillmode\":\"overlay\",\"size\":10,\"solidity\":0.2},\"type\":\"scatter\"}],\"scatterternary\":[{\"marker\":{\"colorbar\":{\"outlinewidth\":0,\"ticks\":\"\"}},\"type\":\"scatterternary\"}],\"surface\":[{\"colorbar\":{\"outlinewidth\":0,\"ticks\":\"\"},\"colorscale\":[[0.0,\"#0d0887\"],[0.1111111111111111,\"#46039f\"],[0.2222222222222222,\"#7201a8\"],[0.3333333333333333,\"#9c179e\"],[0.4444444444444444,\"#bd3786\"],[0.5555555555555556,\"#d8576b\"],[0.6666666666666666,\"#ed7953\"],[0.7777777777777778,\"#fb9f3a\"],[0.8888888888888888,\"#fdca26\"],[1.0,\"#f0f921\"]],\"type\":\"surface\"}],\"table\":[{\"cells\":{\"fill\":{\"color\":\"#EBF0F8\"},\"line\":{\"color\":\"white\"}},\"header\":{\"fill\":{\"color\":\"#C8D4E3\"},\"line\":{\"color\":\"white\"}},\"type\":\"table\"}]},\"layout\":{\"annotationdefaults\":{\"arrowcolor\":\"#2a3f5f\",\"arrowhead\":0,\"arrowwidth\":1},\"autotypenumbers\":\"strict\",\"coloraxis\":{\"colorbar\":{\"outlinewidth\":0,\"ticks\":\"\"}},\"colorscale\":{\"diverging\":[[0,\"#8e0152\"],[0.1,\"#c51b7d\"],[0.2,\"#de77ae\"],[0.3,\"#f1b6da\"],[0.4,\"#fde0ef\"],[0.5,\"#f7f7f7\"],[0.6,\"#e6f5d0\"],[0.7,\"#b8e186\"],[0.8,\"#7fbc41\"],[0.9,\"#4d9221\"],[1,\"#276419\"]],\"sequential\":[[0.0,\"#0d0887\"],[0.1111111111111111,\"#46039f\"],[0.2222222222222222,\"#7201a8\"],[0.3333333333333333,\"#9c179e\"],[0.4444444444444444,\"#bd3786\"],[0.5555555555555556,\"#d8576b\"],[0.6666666666666666,\"#ed7953\"],[0.7777777777777778,\"#fb9f3a\"],[0.8888888888888888,\"#fdca26\"],[1.0,\"#f0f921\"]],\"sequentialminus\":[[0.0,\"#0d0887\"],[0.1111111111111111,\"#46039f\"],[0.2222222222222222,\"#7201a8\"],[0.3333333333333333,\"#9c179e\"],[0.4444444444444444,\"#bd3786\"],[0.5555555555555556,\"#d8576b\"],[0.6666666666666666,\"#ed7953\"],[0.7777777777777778,\"#fb9f3a\"],[0.8888888888888888,\"#fdca26\"],[1.0,\"#f0f921\"]]},\"colorway\":[\"#636efa\",\"#EF553B\",\"#00cc96\",\"#ab63fa\",\"#FFA15A\",\"#19d3f3\",\"#FF6692\",\"#B6E880\",\"#FF97FF\",\"#FECB52\"],\"font\":{\"color\":\"#2a3f5f\"},\"geo\":{\"bgcolor\":\"white\",\"lakecolor\":\"white\",\"landcolor\":\"#E5ECF6\",\"showlakes\":true,\"showland\":true,\"subunitcolor\":\"white\"},\"hoverlabel\":{\"align\":\"left\"},\"hovermode\":\"closest\",\"mapbox\":{\"style\":\"light\"},\"paper_bgcolor\":\"white\",\"plot_bgcolor\":\"#E5ECF6\",\"polar\":{\"angularaxis\":{\"gridcolor\":\"white\",\"linecolor\":\"white\",\"ticks\":\"\"},\"bgcolor\":\"#E5ECF6\",\"radialaxis\":{\"gridcolor\":\"white\",\"linecolor\":\"white\",\"ticks\":\"\"}},\"scene\":{\"xaxis\":{\"backgroundcolor\":\"#E5ECF6\",\"gridcolor\":\"white\",\"gridwidth\":2,\"linecolor\":\"white\",\"showbackground\":true,\"ticks\":\"\",\"zerolinecolor\":\"white\"},\"yaxis\":{\"backgroundcolor\":\"#E5ECF6\",\"gridcolor\":\"white\",\"gridwidth\":2,\"linecolor\":\"white\",\"showbackground\":true,\"ticks\":\"\",\"zerolinecolor\":\"white\"},\"zaxis\":{\"backgroundcolor\":\"#E5ECF6\",\"gridcolor\":\"white\",\"gridwidth\":2,\"linecolor\":\"white\",\"showbackground\":true,\"ticks\":\"\",\"zerolinecolor\":\"white\"}},\"shapedefaults\":{\"line\":{\"color\":\"#2a3f5f\"}},\"ternary\":{\"aaxis\":{\"gridcolor\":\"white\",\"linecolor\":\"white\",\"ticks\":\"\"},\"baxis\":{\"gridcolor\":\"white\",\"linecolor\":\"white\",\"ticks\":\"\"},\"bgcolor\":\"#E5ECF6\",\"caxis\":{\"gridcolor\":\"white\",\"linecolor\":\"white\",\"ticks\":\"\"}},\"title\":{\"x\":0.05},\"xaxis\":{\"automargin\":true,\"gridcolor\":\"white\",\"linecolor\":\"white\",\"ticks\":\"\",\"title\":{\"standoff\":15},\"zerolinecolor\":\"white\",\"zerolinewidth\":2},\"yaxis\":{\"automargin\":true,\"gridcolor\":\"white\",\"linecolor\":\"white\",\"ticks\":\"\",\"title\":{\"standoff\":15},\"zerolinecolor\":\"white\",\"zerolinewidth\":2}}},\"title\":{\"font\":{\"color\":\"#4D5663\"}},\"xaxis\":{\"gridcolor\":\"#E1E5ED\",\"showgrid\":true,\"tickfont\":{\"color\":\"#4D5663\"},\"title\":{\"font\":{\"color\":\"#4D5663\"},\"text\":\"\"},\"zerolinecolor\":\"#E1E5ED\"},\"yaxis\":{\"gridcolor\":\"#E1E5ED\",\"showgrid\":true,\"tickfont\":{\"color\":\"#4D5663\"},\"title\":{\"font\":{\"color\":\"#4D5663\"},\"text\":\"\"},\"zerolinecolor\":\"#E1E5ED\"}},                        {\"showLink\": true, \"linkText\": \"Export to plot.ly\", \"plotlyServerURL\": \"https://plot.ly\", \"responsive\": true}                    ).then(function(){\n",
       "                            \n",
       "var gd = document.getElementById('216d62eb-8916-450e-9b2e-97d79a96076f');\n",
       "var x = new MutationObserver(function (mutations, observer) {{\n",
       "        var display = window.getComputedStyle(gd).display;\n",
       "        if (!display || display === 'none') {{\n",
       "            console.log([gd, 'removed!']);\n",
       "            Plotly.purge(gd);\n",
       "            observer.disconnect();\n",
       "        }}\n",
       "}});\n",
       "\n",
       "// Listen for the removal of the full notebook cells\n",
       "var notebookContainer = gd.closest('#notebook-container');\n",
       "if (notebookContainer) {{\n",
       "    x.observe(notebookContainer, {childList: true});\n",
       "}}\n",
       "\n",
       "// Listen for the clearing of the current output cell\n",
       "var outputEl = gd.closest('.output');\n",
       "if (outputEl) {{\n",
       "    x.observe(outputEl, {childList: true});\n",
       "}}\n",
       "\n",
       "                        })                };                });            </script>        </div>"
      ]
     },
     "metadata": {},
     "output_type": "display_data"
    }
   ],
   "source": [
    "df['A'].iplot(kind='hist',bins=25)"
   ]
  },
  {
   "cell_type": "code",
   "execution_count": 21,
   "metadata": {},
   "outputs": [
    {
     "data": {
      "application/vnd.plotly.v1+json": {
       "config": {
        "linkText": "Export to plot.ly",
        "plotlyServerURL": "https://plot.ly",
        "showLink": true
       },
       "data": [
        {
         "marker": {
          "color": [
           "rgb(255, 153, 51)",
           "rgb(55, 128, 191)",
           "rgb(50, 171, 96)",
           "rgb(128, 0, 128)",
           "rgb(219, 64, 82)",
           "rgb(0, 128, 128)",
           "rgb(255, 255, 51)",
           "rgb(128, 128, 0)",
           "rgb(251, 128, 114)",
           "rgb(128, 177, 211)"
          ],
          "line": {
           "width": 1.3
          },
          "size": [
           50,
           20,
           77,
           59,
           69,
           38,
           80,
           31,
           57,
           68,
           53,
           76,
           58,
           64,
           51,
           69,
           66,
           37,
           86,
           51,
           79,
           90,
           90,
           51,
           53,
           81,
           62,
           58,
           43,
           111,
           99,
           54,
           25,
           71,
           47,
           20,
           43,
           56,
           58,
           44,
           72,
           69,
           73,
           63,
           61,
           89,
           78,
           42,
           63,
           54,
           46,
           69,
           43,
           68,
           93,
           26,
           73,
           59,
           58,
           61,
           17,
           65,
           50,
           12,
           103,
           81,
           67,
           81,
           71,
           51,
           78,
           70,
           69,
           71,
           58,
           53,
           62,
           72,
           63,
           28,
           78,
           49,
           65,
           61,
           54,
           53,
           40,
           60,
           71,
           75,
           70,
           61,
           75,
           82,
           77,
           55,
           55,
           33,
           50,
           56
          ],
          "symbol": "circle"
         },
         "mode": "markers",
         "text": "",
         "type": "scatter",
         "x": [
          0.10600372573935532,
          0.20749207561513944,
          -1.0393378694469475,
          -0.6836932422094264,
          0.3712406633159747,
          1.8227241947210773,
          -2.262207151026445,
          -1.8970460309624753,
          1.2286043953391381,
          -0.3574193062297222,
          -1.7377734024170408,
          0.5197339233321271,
          -0.06788953602198554,
          -0.40191529592914244,
          -0.43370818219860896,
          -1.1661124908327158,
          1.1909206075148222,
          0.4388735027552563,
          0.03078096636690785,
          1.9362836769431646,
          -0.37075561956492736,
          -0.22921069296146732,
          0.5688691041798098,
          -1.7056023477568323,
          0.07570934350096442,
          0.9263520986244222,
          2.110174197159889,
          0.07056773563634443,
          -1.3740931235677463,
          0.9831289227755879,
          -0.6120200206186656,
          0.15666800087062727,
          -0.01844629565827913,
          -1.4108549888033666,
          -1.0840512483666251,
          0.15007307789236096,
          0.1562200550680007,
          0.6715655265118765,
          -2.5833248405455964,
          -0.9396192348953979,
          0.30327683434061165,
          -0.017701326490219854,
          0.9946009238039645,
          -2.047910052190914,
          0.35534195799578105,
          0.7309389442237206,
          -0.018911812240188265,
          0.5258877279467146,
          -0.7578060225979669,
          0.021273816181194286,
          0.6076296020031607,
          -0.5912050505425559,
          0.6267086559935164,
          2.2603470912323167,
          -0.40959760922837896,
          -1.0999662078027865,
          -1.7244320790470604,
          0.6185762285561729,
          1.215949179679514,
          0.512677421517591,
          1.1468696837108043,
          0.07780582086841593,
          0.3581086513672768,
          1.101114232910788,
          -0.816159235634712,
          1.620708418607869,
          0.050085042836158146,
          0.933719368820452,
          -1.923699435336341,
          0.8298418569096968,
          -0.31898033207002435,
          -1.629422634794213,
          0.7937285580426178,
          -1.141487628713606,
          1.0324380703636866,
          1.6275267747285445,
          1.8828615027230835,
          -1.3108896433586812,
          -0.6231178037822507,
          -0.1514895671878934,
          0.4884180261113317,
          -1.244530345881232,
          -1.7586800032751404,
          0.3293062297921215,
          0.7329470338986954,
          1.9479456523338359,
          0.665343553005202,
          -0.6797658495124682,
          -1.4603444616505636,
          -0.5061330022052487,
          1.3255130564272948,
          1.2819616135045893,
          -0.03846990574957462,
          -1.0597436840005086,
          1.0970280388504754,
          -1.0605874226275647,
          -0.5625504969934049,
          1.3758715701554394,
          -0.30022048190267414,
          -1.297072370793922
         ],
         "y": [
          0.4769431026012106,
          -0.10019126128842715,
          0.6113592162515342,
          -0.8070370418018528,
          0.2763978925358597,
          -0.10720355844112409,
          -0.5903615969727316,
          -0.13055421428039032,
          1.2693444378168242,
          0.8529892166991166,
          0.9325210127082194,
          -0.24958114969826484,
          0.13236018337252933,
          -0.5761867920069248,
          -0.2190615071806342,
          0.6637069422788028,
          0.18305818053502448,
          2.6808423224478246,
          -1.0654428571490364,
          -0.8291462865638127,
          0.054494391458582106,
          -1.2023837369074832,
          1.070784285243506,
          0.15962997085686725,
          0.25054171463418734,
          0.9451835521587554,
          1.430558994837546,
          -0.49260223389592717,
          0.10123049379232833,
          -1.4435471051098858,
          -0.6193153315070554,
          -1.156930328544975,
          -0.8826196284045719,
          1.0009977260930587,
          0.4544280710439374,
          -0.9688836385097156,
          1.4773761326737302,
          1.3773454164431693,
          1.1084251339689797,
          0.5651450676087367,
          0.1387848864141628,
          1.4264525785172326,
          -0.37757980864992063,
          0.6202853071456437,
          0.18004419237638297,
          2.129096335269589,
          0.04973451721719641,
          1.2394810276706119,
          0.8193637123020554,
          -0.05317134097489851,
          -0.24664799954484715,
          0.5331418669922314,
          1.3214390503174918,
          0.5236888999215038,
          0.23287917717351467,
          0.6006932090430144,
          1.0862840410571686,
          2.660470685844886,
          0.6515793111509729,
          0.3884324324252398,
          0.20721984859051978,
          -0.25002746247732804,
          1.153674982774516,
          0.9335273660013991,
          -0.349515394552551,
          1.5247358336307832,
          2.4143324819372887,
          1.2502741563615987,
          0.0893496287677241,
          3.034968760018631,
          -0.13304108425193012,
          -1.0038447287093142,
          -1.9660690740070852,
          -0.7380463039444887,
          -0.48913647757759166,
          -0.49736309395632505,
          -0.8922475224765966,
          1.177202339988743,
          0.1338660112203844,
          -0.18265674871739768,
          -0.929224229936402,
          0.6001450586623118,
          -1.3613736551788942,
          0.18138237038600677,
          -0.704074249023333,
          0.889338266253846,
          -0.7980933887078092,
          -0.6261537265622374,
          -0.6335248289426914,
          0.7543574951401341,
          -0.3631892656708778,
          -0.8037506822775732,
          0.23490382806972052,
          1.5398650558233888,
          -0.40383975283133766,
          0.67976087105031,
          -0.34859922135264265,
          1.441292826564418,
          -0.6637472409501192,
          0.9535293591259538
         ]
        }
       ],
       "layout": {
        "legend": {
         "bgcolor": "#F5F6F9",
         "font": {
          "color": "#4D5663"
         }
        },
        "paper_bgcolor": "#F5F6F9",
        "plot_bgcolor": "#F5F6F9",
        "template": {
         "data": {
          "bar": [
           {
            "error_x": {
             "color": "#2a3f5f"
            },
            "error_y": {
             "color": "#2a3f5f"
            },
            "marker": {
             "line": {
              "color": "#E5ECF6",
              "width": 0.5
             },
             "pattern": {
              "fillmode": "overlay",
              "size": 10,
              "solidity": 0.2
             }
            },
            "type": "bar"
           }
          ],
          "barpolar": [
           {
            "marker": {
             "line": {
              "color": "#E5ECF6",
              "width": 0.5
             },
             "pattern": {
              "fillmode": "overlay",
              "size": 10,
              "solidity": 0.2
             }
            },
            "type": "barpolar"
           }
          ],
          "carpet": [
           {
            "aaxis": {
             "endlinecolor": "#2a3f5f",
             "gridcolor": "white",
             "linecolor": "white",
             "minorgridcolor": "white",
             "startlinecolor": "#2a3f5f"
            },
            "baxis": {
             "endlinecolor": "#2a3f5f",
             "gridcolor": "white",
             "linecolor": "white",
             "minorgridcolor": "white",
             "startlinecolor": "#2a3f5f"
            },
            "type": "carpet"
           }
          ],
          "choropleth": [
           {
            "colorbar": {
             "outlinewidth": 0,
             "ticks": ""
            },
            "type": "choropleth"
           }
          ],
          "contour": [
           {
            "colorbar": {
             "outlinewidth": 0,
             "ticks": ""
            },
            "colorscale": [
             [
              0,
              "#0d0887"
             ],
             [
              0.1111111111111111,
              "#46039f"
             ],
             [
              0.2222222222222222,
              "#7201a8"
             ],
             [
              0.3333333333333333,
              "#9c179e"
             ],
             [
              0.4444444444444444,
              "#bd3786"
             ],
             [
              0.5555555555555556,
              "#d8576b"
             ],
             [
              0.6666666666666666,
              "#ed7953"
             ],
             [
              0.7777777777777778,
              "#fb9f3a"
             ],
             [
              0.8888888888888888,
              "#fdca26"
             ],
             [
              1,
              "#f0f921"
             ]
            ],
            "type": "contour"
           }
          ],
          "contourcarpet": [
           {
            "colorbar": {
             "outlinewidth": 0,
             "ticks": ""
            },
            "type": "contourcarpet"
           }
          ],
          "heatmap": [
           {
            "colorbar": {
             "outlinewidth": 0,
             "ticks": ""
            },
            "colorscale": [
             [
              0,
              "#0d0887"
             ],
             [
              0.1111111111111111,
              "#46039f"
             ],
             [
              0.2222222222222222,
              "#7201a8"
             ],
             [
              0.3333333333333333,
              "#9c179e"
             ],
             [
              0.4444444444444444,
              "#bd3786"
             ],
             [
              0.5555555555555556,
              "#d8576b"
             ],
             [
              0.6666666666666666,
              "#ed7953"
             ],
             [
              0.7777777777777778,
              "#fb9f3a"
             ],
             [
              0.8888888888888888,
              "#fdca26"
             ],
             [
              1,
              "#f0f921"
             ]
            ],
            "type": "heatmap"
           }
          ],
          "heatmapgl": [
           {
            "colorbar": {
             "outlinewidth": 0,
             "ticks": ""
            },
            "colorscale": [
             [
              0,
              "#0d0887"
             ],
             [
              0.1111111111111111,
              "#46039f"
             ],
             [
              0.2222222222222222,
              "#7201a8"
             ],
             [
              0.3333333333333333,
              "#9c179e"
             ],
             [
              0.4444444444444444,
              "#bd3786"
             ],
             [
              0.5555555555555556,
              "#d8576b"
             ],
             [
              0.6666666666666666,
              "#ed7953"
             ],
             [
              0.7777777777777778,
              "#fb9f3a"
             ],
             [
              0.8888888888888888,
              "#fdca26"
             ],
             [
              1,
              "#f0f921"
             ]
            ],
            "type": "heatmapgl"
           }
          ],
          "histogram": [
           {
            "marker": {
             "pattern": {
              "fillmode": "overlay",
              "size": 10,
              "solidity": 0.2
             }
            },
            "type": "histogram"
           }
          ],
          "histogram2d": [
           {
            "colorbar": {
             "outlinewidth": 0,
             "ticks": ""
            },
            "colorscale": [
             [
              0,
              "#0d0887"
             ],
             [
              0.1111111111111111,
              "#46039f"
             ],
             [
              0.2222222222222222,
              "#7201a8"
             ],
             [
              0.3333333333333333,
              "#9c179e"
             ],
             [
              0.4444444444444444,
              "#bd3786"
             ],
             [
              0.5555555555555556,
              "#d8576b"
             ],
             [
              0.6666666666666666,
              "#ed7953"
             ],
             [
              0.7777777777777778,
              "#fb9f3a"
             ],
             [
              0.8888888888888888,
              "#fdca26"
             ],
             [
              1,
              "#f0f921"
             ]
            ],
            "type": "histogram2d"
           }
          ],
          "histogram2dcontour": [
           {
            "colorbar": {
             "outlinewidth": 0,
             "ticks": ""
            },
            "colorscale": [
             [
              0,
              "#0d0887"
             ],
             [
              0.1111111111111111,
              "#46039f"
             ],
             [
              0.2222222222222222,
              "#7201a8"
             ],
             [
              0.3333333333333333,
              "#9c179e"
             ],
             [
              0.4444444444444444,
              "#bd3786"
             ],
             [
              0.5555555555555556,
              "#d8576b"
             ],
             [
              0.6666666666666666,
              "#ed7953"
             ],
             [
              0.7777777777777778,
              "#fb9f3a"
             ],
             [
              0.8888888888888888,
              "#fdca26"
             ],
             [
              1,
              "#f0f921"
             ]
            ],
            "type": "histogram2dcontour"
           }
          ],
          "mesh3d": [
           {
            "colorbar": {
             "outlinewidth": 0,
             "ticks": ""
            },
            "type": "mesh3d"
           }
          ],
          "parcoords": [
           {
            "line": {
             "colorbar": {
              "outlinewidth": 0,
              "ticks": ""
             }
            },
            "type": "parcoords"
           }
          ],
          "pie": [
           {
            "automargin": true,
            "type": "pie"
           }
          ],
          "scatter": [
           {
            "fillpattern": {
             "fillmode": "overlay",
             "size": 10,
             "solidity": 0.2
            },
            "type": "scatter"
           }
          ],
          "scatter3d": [
           {
            "line": {
             "colorbar": {
              "outlinewidth": 0,
              "ticks": ""
             }
            },
            "marker": {
             "colorbar": {
              "outlinewidth": 0,
              "ticks": ""
             }
            },
            "type": "scatter3d"
           }
          ],
          "scattercarpet": [
           {
            "marker": {
             "colorbar": {
              "outlinewidth": 0,
              "ticks": ""
             }
            },
            "type": "scattercarpet"
           }
          ],
          "scattergeo": [
           {
            "marker": {
             "colorbar": {
              "outlinewidth": 0,
              "ticks": ""
             }
            },
            "type": "scattergeo"
           }
          ],
          "scattergl": [
           {
            "marker": {
             "colorbar": {
              "outlinewidth": 0,
              "ticks": ""
             }
            },
            "type": "scattergl"
           }
          ],
          "scattermapbox": [
           {
            "marker": {
             "colorbar": {
              "outlinewidth": 0,
              "ticks": ""
             }
            },
            "type": "scattermapbox"
           }
          ],
          "scatterpolar": [
           {
            "marker": {
             "colorbar": {
              "outlinewidth": 0,
              "ticks": ""
             }
            },
            "type": "scatterpolar"
           }
          ],
          "scatterpolargl": [
           {
            "marker": {
             "colorbar": {
              "outlinewidth": 0,
              "ticks": ""
             }
            },
            "type": "scatterpolargl"
           }
          ],
          "scatterternary": [
           {
            "marker": {
             "colorbar": {
              "outlinewidth": 0,
              "ticks": ""
             }
            },
            "type": "scatterternary"
           }
          ],
          "surface": [
           {
            "colorbar": {
             "outlinewidth": 0,
             "ticks": ""
            },
            "colorscale": [
             [
              0,
              "#0d0887"
             ],
             [
              0.1111111111111111,
              "#46039f"
             ],
             [
              0.2222222222222222,
              "#7201a8"
             ],
             [
              0.3333333333333333,
              "#9c179e"
             ],
             [
              0.4444444444444444,
              "#bd3786"
             ],
             [
              0.5555555555555556,
              "#d8576b"
             ],
             [
              0.6666666666666666,
              "#ed7953"
             ],
             [
              0.7777777777777778,
              "#fb9f3a"
             ],
             [
              0.8888888888888888,
              "#fdca26"
             ],
             [
              1,
              "#f0f921"
             ]
            ],
            "type": "surface"
           }
          ],
          "table": [
           {
            "cells": {
             "fill": {
              "color": "#EBF0F8"
             },
             "line": {
              "color": "white"
             }
            },
            "header": {
             "fill": {
              "color": "#C8D4E3"
             },
             "line": {
              "color": "white"
             }
            },
            "type": "table"
           }
          ]
         },
         "layout": {
          "annotationdefaults": {
           "arrowcolor": "#2a3f5f",
           "arrowhead": 0,
           "arrowwidth": 1
          },
          "autotypenumbers": "strict",
          "coloraxis": {
           "colorbar": {
            "outlinewidth": 0,
            "ticks": ""
           }
          },
          "colorscale": {
           "diverging": [
            [
             0,
             "#8e0152"
            ],
            [
             0.1,
             "#c51b7d"
            ],
            [
             0.2,
             "#de77ae"
            ],
            [
             0.3,
             "#f1b6da"
            ],
            [
             0.4,
             "#fde0ef"
            ],
            [
             0.5,
             "#f7f7f7"
            ],
            [
             0.6,
             "#e6f5d0"
            ],
            [
             0.7,
             "#b8e186"
            ],
            [
             0.8,
             "#7fbc41"
            ],
            [
             0.9,
             "#4d9221"
            ],
            [
             1,
             "#276419"
            ]
           ],
           "sequential": [
            [
             0,
             "#0d0887"
            ],
            [
             0.1111111111111111,
             "#46039f"
            ],
            [
             0.2222222222222222,
             "#7201a8"
            ],
            [
             0.3333333333333333,
             "#9c179e"
            ],
            [
             0.4444444444444444,
             "#bd3786"
            ],
            [
             0.5555555555555556,
             "#d8576b"
            ],
            [
             0.6666666666666666,
             "#ed7953"
            ],
            [
             0.7777777777777778,
             "#fb9f3a"
            ],
            [
             0.8888888888888888,
             "#fdca26"
            ],
            [
             1,
             "#f0f921"
            ]
           ],
           "sequentialminus": [
            [
             0,
             "#0d0887"
            ],
            [
             0.1111111111111111,
             "#46039f"
            ],
            [
             0.2222222222222222,
             "#7201a8"
            ],
            [
             0.3333333333333333,
             "#9c179e"
            ],
            [
             0.4444444444444444,
             "#bd3786"
            ],
            [
             0.5555555555555556,
             "#d8576b"
            ],
            [
             0.6666666666666666,
             "#ed7953"
            ],
            [
             0.7777777777777778,
             "#fb9f3a"
            ],
            [
             0.8888888888888888,
             "#fdca26"
            ],
            [
             1,
             "#f0f921"
            ]
           ]
          },
          "colorway": [
           "#636efa",
           "#EF553B",
           "#00cc96",
           "#ab63fa",
           "#FFA15A",
           "#19d3f3",
           "#FF6692",
           "#B6E880",
           "#FF97FF",
           "#FECB52"
          ],
          "font": {
           "color": "#2a3f5f"
          },
          "geo": {
           "bgcolor": "white",
           "lakecolor": "white",
           "landcolor": "#E5ECF6",
           "showlakes": true,
           "showland": true,
           "subunitcolor": "white"
          },
          "hoverlabel": {
           "align": "left"
          },
          "hovermode": "closest",
          "mapbox": {
           "style": "light"
          },
          "paper_bgcolor": "white",
          "plot_bgcolor": "#E5ECF6",
          "polar": {
           "angularaxis": {
            "gridcolor": "white",
            "linecolor": "white",
            "ticks": ""
           },
           "bgcolor": "#E5ECF6",
           "radialaxis": {
            "gridcolor": "white",
            "linecolor": "white",
            "ticks": ""
           }
          },
          "scene": {
           "xaxis": {
            "backgroundcolor": "#E5ECF6",
            "gridcolor": "white",
            "gridwidth": 2,
            "linecolor": "white",
            "showbackground": true,
            "ticks": "",
            "zerolinecolor": "white"
           },
           "yaxis": {
            "backgroundcolor": "#E5ECF6",
            "gridcolor": "white",
            "gridwidth": 2,
            "linecolor": "white",
            "showbackground": true,
            "ticks": "",
            "zerolinecolor": "white"
           },
           "zaxis": {
            "backgroundcolor": "#E5ECF6",
            "gridcolor": "white",
            "gridwidth": 2,
            "linecolor": "white",
            "showbackground": true,
            "ticks": "",
            "zerolinecolor": "white"
           }
          },
          "shapedefaults": {
           "line": {
            "color": "#2a3f5f"
           }
          },
          "ternary": {
           "aaxis": {
            "gridcolor": "white",
            "linecolor": "white",
            "ticks": ""
           },
           "baxis": {
            "gridcolor": "white",
            "linecolor": "white",
            "ticks": ""
           },
           "bgcolor": "#E5ECF6",
           "caxis": {
            "gridcolor": "white",
            "linecolor": "white",
            "ticks": ""
           }
          },
          "title": {
           "x": 0.05
          },
          "xaxis": {
           "automargin": true,
           "gridcolor": "white",
           "linecolor": "white",
           "ticks": "",
           "title": {
            "standoff": 15
           },
           "zerolinecolor": "white",
           "zerolinewidth": 2
          },
          "yaxis": {
           "automargin": true,
           "gridcolor": "white",
           "linecolor": "white",
           "ticks": "",
           "title": {
            "standoff": 15
           },
           "zerolinecolor": "white",
           "zerolinewidth": 2
          }
         }
        },
        "title": {
         "font": {
          "color": "#4D5663"
         }
        },
        "xaxis": {
         "gridcolor": "#E1E5ED",
         "showgrid": true,
         "tickfont": {
          "color": "#4D5663"
         },
         "title": {
          "font": {
           "color": "#4D5663"
          },
          "text": ""
         },
         "zerolinecolor": "#E1E5ED"
        },
        "yaxis": {
         "gridcolor": "#E1E5ED",
         "showgrid": true,
         "tickfont": {
          "color": "#4D5663"
         },
         "title": {
          "font": {
           "color": "#4D5663"
          },
          "text": ""
         },
         "zerolinecolor": "#E1E5ED"
        }
       }
      },
      "text/html": [
       "<div>                            <div id=\"85e5490b-ae34-49b3-a0f6-d5008c32dbf3\" class=\"plotly-graph-div\" style=\"height:525px; width:100%;\"></div>            <script type=\"text/javascript\">                require([\"plotly\"], function(Plotly) {                    window.PLOTLYENV=window.PLOTLYENV || {};\n",
       "                    window.PLOTLYENV.BASE_URL='https://plot.ly';                                    if (document.getElementById(\"85e5490b-ae34-49b3-a0f6-d5008c32dbf3\")) {                    Plotly.newPlot(                        \"85e5490b-ae34-49b3-a0f6-d5008c32dbf3\",                        [{\"marker\":{\"color\":[\"rgb(255, 153, 51)\",\"rgb(55, 128, 191)\",\"rgb(50, 171, 96)\",\"rgb(128, 0, 128)\",\"rgb(219, 64, 82)\",\"rgb(0, 128, 128)\",\"rgb(255, 255, 51)\",\"rgb(128, 128, 0)\",\"rgb(251, 128, 114)\",\"rgb(128, 177, 211)\"],\"line\":{\"width\":1.3},\"size\":[50,20,77,59,69,38,80,31,57,68,53,76,58,64,51,69,66,37,86,51,79,90,90,51,53,81,62,58,43,111,99,54,25,71,47,20,43,56,58,44,72,69,73,63,61,89,78,42,63,54,46,69,43,68,93,26,73,59,58,61,17,65,50,12,103,81,67,81,71,51,78,70,69,71,58,53,62,72,63,28,78,49,65,61,54,53,40,60,71,75,70,61,75,82,77,55,55,33,50,56],\"symbol\":\"circle\"},\"mode\":\"markers\",\"text\":\"\",\"x\":[0.10600372573935532,0.20749207561513944,-1.0393378694469475,-0.6836932422094264,0.3712406633159747,1.8227241947210773,-2.262207151026445,-1.8970460309624753,1.2286043953391381,-0.3574193062297222,-1.7377734024170408,0.5197339233321271,-0.06788953602198554,-0.40191529592914244,-0.43370818219860896,-1.1661124908327158,1.1909206075148222,0.4388735027552563,0.03078096636690785,1.9362836769431646,-0.37075561956492736,-0.22921069296146732,0.5688691041798098,-1.7056023477568323,0.07570934350096442,0.9263520986244222,2.110174197159889,0.07056773563634443,-1.3740931235677463,0.9831289227755879,-0.6120200206186656,0.15666800087062727,-0.01844629565827913,-1.4108549888033666,-1.0840512483666251,0.15007307789236096,0.1562200550680007,0.6715655265118765,-2.5833248405455964,-0.9396192348953979,0.30327683434061165,-0.017701326490219854,0.9946009238039645,-2.047910052190914,0.35534195799578105,0.7309389442237206,-0.018911812240188265,0.5258877279467146,-0.7578060225979669,0.021273816181194286,0.6076296020031607,-0.5912050505425559,0.6267086559935164,2.2603470912323167,-0.40959760922837896,-1.0999662078027865,-1.7244320790470604,0.6185762285561729,1.215949179679514,0.512677421517591,1.1468696837108043,0.07780582086841593,0.3581086513672768,1.101114232910788,-0.816159235634712,1.620708418607869,0.050085042836158146,0.933719368820452,-1.923699435336341,0.8298418569096968,-0.31898033207002435,-1.629422634794213,0.7937285580426178,-1.141487628713606,1.0324380703636866,1.6275267747285445,1.8828615027230835,-1.3108896433586812,-0.6231178037822507,-0.1514895671878934,0.4884180261113317,-1.244530345881232,-1.7586800032751404,0.3293062297921215,0.7329470338986954,1.9479456523338359,0.665343553005202,-0.6797658495124682,-1.4603444616505636,-0.5061330022052487,1.3255130564272948,1.2819616135045893,-0.03846990574957462,-1.0597436840005086,1.0970280388504754,-1.0605874226275647,-0.5625504969934049,1.3758715701554394,-0.30022048190267414,-1.297072370793922],\"y\":[0.4769431026012106,-0.10019126128842715,0.6113592162515342,-0.8070370418018528,0.2763978925358597,-0.10720355844112409,-0.5903615969727316,-0.13055421428039032,1.2693444378168242,0.8529892166991166,0.9325210127082194,-0.24958114969826484,0.13236018337252933,-0.5761867920069248,-0.2190615071806342,0.6637069422788028,0.18305818053502448,2.6808423224478246,-1.0654428571490364,-0.8291462865638127,0.054494391458582106,-1.2023837369074832,1.070784285243506,0.15962997085686725,0.25054171463418734,0.9451835521587554,1.430558994837546,-0.49260223389592717,0.10123049379232833,-1.4435471051098858,-0.6193153315070554,-1.156930328544975,-0.8826196284045719,1.0009977260930587,0.4544280710439374,-0.9688836385097156,1.4773761326737302,1.3773454164431693,1.1084251339689797,0.5651450676087367,0.1387848864141628,1.4264525785172326,-0.37757980864992063,0.6202853071456437,0.18004419237638297,2.129096335269589,0.04973451721719641,1.2394810276706119,0.8193637123020554,-0.05317134097489851,-0.24664799954484715,0.5331418669922314,1.3214390503174918,0.5236888999215038,0.23287917717351467,0.6006932090430144,1.0862840410571686,2.660470685844886,0.6515793111509729,0.3884324324252398,0.20721984859051978,-0.25002746247732804,1.153674982774516,0.9335273660013991,-0.349515394552551,1.5247358336307832,2.4143324819372887,1.2502741563615987,0.0893496287677241,3.034968760018631,-0.13304108425193012,-1.0038447287093142,-1.9660690740070852,-0.7380463039444887,-0.48913647757759166,-0.49736309395632505,-0.8922475224765966,1.177202339988743,0.1338660112203844,-0.18265674871739768,-0.929224229936402,0.6001450586623118,-1.3613736551788942,0.18138237038600677,-0.704074249023333,0.889338266253846,-0.7980933887078092,-0.6261537265622374,-0.6335248289426914,0.7543574951401341,-0.3631892656708778,-0.8037506822775732,0.23490382806972052,1.5398650558233888,-0.40383975283133766,0.67976087105031,-0.34859922135264265,1.441292826564418,-0.6637472409501192,0.9535293591259538],\"type\":\"scatter\"}],                        {\"legend\":{\"bgcolor\":\"#F5F6F9\",\"font\":{\"color\":\"#4D5663\"}},\"paper_bgcolor\":\"#F5F6F9\",\"plot_bgcolor\":\"#F5F6F9\",\"template\":{\"data\":{\"barpolar\":[{\"marker\":{\"line\":{\"color\":\"#E5ECF6\",\"width\":0.5},\"pattern\":{\"fillmode\":\"overlay\",\"size\":10,\"solidity\":0.2}},\"type\":\"barpolar\"}],\"bar\":[{\"error_x\":{\"color\":\"#2a3f5f\"},\"error_y\":{\"color\":\"#2a3f5f\"},\"marker\":{\"line\":{\"color\":\"#E5ECF6\",\"width\":0.5},\"pattern\":{\"fillmode\":\"overlay\",\"size\":10,\"solidity\":0.2}},\"type\":\"bar\"}],\"carpet\":[{\"aaxis\":{\"endlinecolor\":\"#2a3f5f\",\"gridcolor\":\"white\",\"linecolor\":\"white\",\"minorgridcolor\":\"white\",\"startlinecolor\":\"#2a3f5f\"},\"baxis\":{\"endlinecolor\":\"#2a3f5f\",\"gridcolor\":\"white\",\"linecolor\":\"white\",\"minorgridcolor\":\"white\",\"startlinecolor\":\"#2a3f5f\"},\"type\":\"carpet\"}],\"choropleth\":[{\"colorbar\":{\"outlinewidth\":0,\"ticks\":\"\"},\"type\":\"choropleth\"}],\"contourcarpet\":[{\"colorbar\":{\"outlinewidth\":0,\"ticks\":\"\"},\"type\":\"contourcarpet\"}],\"contour\":[{\"colorbar\":{\"outlinewidth\":0,\"ticks\":\"\"},\"colorscale\":[[0.0,\"#0d0887\"],[0.1111111111111111,\"#46039f\"],[0.2222222222222222,\"#7201a8\"],[0.3333333333333333,\"#9c179e\"],[0.4444444444444444,\"#bd3786\"],[0.5555555555555556,\"#d8576b\"],[0.6666666666666666,\"#ed7953\"],[0.7777777777777778,\"#fb9f3a\"],[0.8888888888888888,\"#fdca26\"],[1.0,\"#f0f921\"]],\"type\":\"contour\"}],\"heatmapgl\":[{\"colorbar\":{\"outlinewidth\":0,\"ticks\":\"\"},\"colorscale\":[[0.0,\"#0d0887\"],[0.1111111111111111,\"#46039f\"],[0.2222222222222222,\"#7201a8\"],[0.3333333333333333,\"#9c179e\"],[0.4444444444444444,\"#bd3786\"],[0.5555555555555556,\"#d8576b\"],[0.6666666666666666,\"#ed7953\"],[0.7777777777777778,\"#fb9f3a\"],[0.8888888888888888,\"#fdca26\"],[1.0,\"#f0f921\"]],\"type\":\"heatmapgl\"}],\"heatmap\":[{\"colorbar\":{\"outlinewidth\":0,\"ticks\":\"\"},\"colorscale\":[[0.0,\"#0d0887\"],[0.1111111111111111,\"#46039f\"],[0.2222222222222222,\"#7201a8\"],[0.3333333333333333,\"#9c179e\"],[0.4444444444444444,\"#bd3786\"],[0.5555555555555556,\"#d8576b\"],[0.6666666666666666,\"#ed7953\"],[0.7777777777777778,\"#fb9f3a\"],[0.8888888888888888,\"#fdca26\"],[1.0,\"#f0f921\"]],\"type\":\"heatmap\"}],\"histogram2dcontour\":[{\"colorbar\":{\"outlinewidth\":0,\"ticks\":\"\"},\"colorscale\":[[0.0,\"#0d0887\"],[0.1111111111111111,\"#46039f\"],[0.2222222222222222,\"#7201a8\"],[0.3333333333333333,\"#9c179e\"],[0.4444444444444444,\"#bd3786\"],[0.5555555555555556,\"#d8576b\"],[0.6666666666666666,\"#ed7953\"],[0.7777777777777778,\"#fb9f3a\"],[0.8888888888888888,\"#fdca26\"],[1.0,\"#f0f921\"]],\"type\":\"histogram2dcontour\"}],\"histogram2d\":[{\"colorbar\":{\"outlinewidth\":0,\"ticks\":\"\"},\"colorscale\":[[0.0,\"#0d0887\"],[0.1111111111111111,\"#46039f\"],[0.2222222222222222,\"#7201a8\"],[0.3333333333333333,\"#9c179e\"],[0.4444444444444444,\"#bd3786\"],[0.5555555555555556,\"#d8576b\"],[0.6666666666666666,\"#ed7953\"],[0.7777777777777778,\"#fb9f3a\"],[0.8888888888888888,\"#fdca26\"],[1.0,\"#f0f921\"]],\"type\":\"histogram2d\"}],\"histogram\":[{\"marker\":{\"pattern\":{\"fillmode\":\"overlay\",\"size\":10,\"solidity\":0.2}},\"type\":\"histogram\"}],\"mesh3d\":[{\"colorbar\":{\"outlinewidth\":0,\"ticks\":\"\"},\"type\":\"mesh3d\"}],\"parcoords\":[{\"line\":{\"colorbar\":{\"outlinewidth\":0,\"ticks\":\"\"}},\"type\":\"parcoords\"}],\"pie\":[{\"automargin\":true,\"type\":\"pie\"}],\"scatter3d\":[{\"line\":{\"colorbar\":{\"outlinewidth\":0,\"ticks\":\"\"}},\"marker\":{\"colorbar\":{\"outlinewidth\":0,\"ticks\":\"\"}},\"type\":\"scatter3d\"}],\"scattercarpet\":[{\"marker\":{\"colorbar\":{\"outlinewidth\":0,\"ticks\":\"\"}},\"type\":\"scattercarpet\"}],\"scattergeo\":[{\"marker\":{\"colorbar\":{\"outlinewidth\":0,\"ticks\":\"\"}},\"type\":\"scattergeo\"}],\"scattergl\":[{\"marker\":{\"colorbar\":{\"outlinewidth\":0,\"ticks\":\"\"}},\"type\":\"scattergl\"}],\"scattermapbox\":[{\"marker\":{\"colorbar\":{\"outlinewidth\":0,\"ticks\":\"\"}},\"type\":\"scattermapbox\"}],\"scatterpolargl\":[{\"marker\":{\"colorbar\":{\"outlinewidth\":0,\"ticks\":\"\"}},\"type\":\"scatterpolargl\"}],\"scatterpolar\":[{\"marker\":{\"colorbar\":{\"outlinewidth\":0,\"ticks\":\"\"}},\"type\":\"scatterpolar\"}],\"scatter\":[{\"fillpattern\":{\"fillmode\":\"overlay\",\"size\":10,\"solidity\":0.2},\"type\":\"scatter\"}],\"scatterternary\":[{\"marker\":{\"colorbar\":{\"outlinewidth\":0,\"ticks\":\"\"}},\"type\":\"scatterternary\"}],\"surface\":[{\"colorbar\":{\"outlinewidth\":0,\"ticks\":\"\"},\"colorscale\":[[0.0,\"#0d0887\"],[0.1111111111111111,\"#46039f\"],[0.2222222222222222,\"#7201a8\"],[0.3333333333333333,\"#9c179e\"],[0.4444444444444444,\"#bd3786\"],[0.5555555555555556,\"#d8576b\"],[0.6666666666666666,\"#ed7953\"],[0.7777777777777778,\"#fb9f3a\"],[0.8888888888888888,\"#fdca26\"],[1.0,\"#f0f921\"]],\"type\":\"surface\"}],\"table\":[{\"cells\":{\"fill\":{\"color\":\"#EBF0F8\"},\"line\":{\"color\":\"white\"}},\"header\":{\"fill\":{\"color\":\"#C8D4E3\"},\"line\":{\"color\":\"white\"}},\"type\":\"table\"}]},\"layout\":{\"annotationdefaults\":{\"arrowcolor\":\"#2a3f5f\",\"arrowhead\":0,\"arrowwidth\":1},\"autotypenumbers\":\"strict\",\"coloraxis\":{\"colorbar\":{\"outlinewidth\":0,\"ticks\":\"\"}},\"colorscale\":{\"diverging\":[[0,\"#8e0152\"],[0.1,\"#c51b7d\"],[0.2,\"#de77ae\"],[0.3,\"#f1b6da\"],[0.4,\"#fde0ef\"],[0.5,\"#f7f7f7\"],[0.6,\"#e6f5d0\"],[0.7,\"#b8e186\"],[0.8,\"#7fbc41\"],[0.9,\"#4d9221\"],[1,\"#276419\"]],\"sequential\":[[0.0,\"#0d0887\"],[0.1111111111111111,\"#46039f\"],[0.2222222222222222,\"#7201a8\"],[0.3333333333333333,\"#9c179e\"],[0.4444444444444444,\"#bd3786\"],[0.5555555555555556,\"#d8576b\"],[0.6666666666666666,\"#ed7953\"],[0.7777777777777778,\"#fb9f3a\"],[0.8888888888888888,\"#fdca26\"],[1.0,\"#f0f921\"]],\"sequentialminus\":[[0.0,\"#0d0887\"],[0.1111111111111111,\"#46039f\"],[0.2222222222222222,\"#7201a8\"],[0.3333333333333333,\"#9c179e\"],[0.4444444444444444,\"#bd3786\"],[0.5555555555555556,\"#d8576b\"],[0.6666666666666666,\"#ed7953\"],[0.7777777777777778,\"#fb9f3a\"],[0.8888888888888888,\"#fdca26\"],[1.0,\"#f0f921\"]]},\"colorway\":[\"#636efa\",\"#EF553B\",\"#00cc96\",\"#ab63fa\",\"#FFA15A\",\"#19d3f3\",\"#FF6692\",\"#B6E880\",\"#FF97FF\",\"#FECB52\"],\"font\":{\"color\":\"#2a3f5f\"},\"geo\":{\"bgcolor\":\"white\",\"lakecolor\":\"white\",\"landcolor\":\"#E5ECF6\",\"showlakes\":true,\"showland\":true,\"subunitcolor\":\"white\"},\"hoverlabel\":{\"align\":\"left\"},\"hovermode\":\"closest\",\"mapbox\":{\"style\":\"light\"},\"paper_bgcolor\":\"white\",\"plot_bgcolor\":\"#E5ECF6\",\"polar\":{\"angularaxis\":{\"gridcolor\":\"white\",\"linecolor\":\"white\",\"ticks\":\"\"},\"bgcolor\":\"#E5ECF6\",\"radialaxis\":{\"gridcolor\":\"white\",\"linecolor\":\"white\",\"ticks\":\"\"}},\"scene\":{\"xaxis\":{\"backgroundcolor\":\"#E5ECF6\",\"gridcolor\":\"white\",\"gridwidth\":2,\"linecolor\":\"white\",\"showbackground\":true,\"ticks\":\"\",\"zerolinecolor\":\"white\"},\"yaxis\":{\"backgroundcolor\":\"#E5ECF6\",\"gridcolor\":\"white\",\"gridwidth\":2,\"linecolor\":\"white\",\"showbackground\":true,\"ticks\":\"\",\"zerolinecolor\":\"white\"},\"zaxis\":{\"backgroundcolor\":\"#E5ECF6\",\"gridcolor\":\"white\",\"gridwidth\":2,\"linecolor\":\"white\",\"showbackground\":true,\"ticks\":\"\",\"zerolinecolor\":\"white\"}},\"shapedefaults\":{\"line\":{\"color\":\"#2a3f5f\"}},\"ternary\":{\"aaxis\":{\"gridcolor\":\"white\",\"linecolor\":\"white\",\"ticks\":\"\"},\"baxis\":{\"gridcolor\":\"white\",\"linecolor\":\"white\",\"ticks\":\"\"},\"bgcolor\":\"#E5ECF6\",\"caxis\":{\"gridcolor\":\"white\",\"linecolor\":\"white\",\"ticks\":\"\"}},\"title\":{\"x\":0.05},\"xaxis\":{\"automargin\":true,\"gridcolor\":\"white\",\"linecolor\":\"white\",\"ticks\":\"\",\"title\":{\"standoff\":15},\"zerolinecolor\":\"white\",\"zerolinewidth\":2},\"yaxis\":{\"automargin\":true,\"gridcolor\":\"white\",\"linecolor\":\"white\",\"ticks\":\"\",\"title\":{\"standoff\":15},\"zerolinecolor\":\"white\",\"zerolinewidth\":2}}},\"title\":{\"font\":{\"color\":\"#4D5663\"}},\"xaxis\":{\"gridcolor\":\"#E1E5ED\",\"showgrid\":true,\"tickfont\":{\"color\":\"#4D5663\"},\"title\":{\"font\":{\"color\":\"#4D5663\"},\"text\":\"\"},\"zerolinecolor\":\"#E1E5ED\"},\"yaxis\":{\"gridcolor\":\"#E1E5ED\",\"showgrid\":true,\"tickfont\":{\"color\":\"#4D5663\"},\"title\":{\"font\":{\"color\":\"#4D5663\"},\"text\":\"\"},\"zerolinecolor\":\"#E1E5ED\"}},                        {\"showLink\": true, \"linkText\": \"Export to plot.ly\", \"plotlyServerURL\": \"https://plot.ly\", \"responsive\": true}                    ).then(function(){\n",
       "                            \n",
       "var gd = document.getElementById('85e5490b-ae34-49b3-a0f6-d5008c32dbf3');\n",
       "var x = new MutationObserver(function (mutations, observer) {{\n",
       "        var display = window.getComputedStyle(gd).display;\n",
       "        if (!display || display === 'none') {{\n",
       "            console.log([gd, 'removed!']);\n",
       "            Plotly.purge(gd);\n",
       "            observer.disconnect();\n",
       "        }}\n",
       "}});\n",
       "\n",
       "// Listen for the removal of the full notebook cells\n",
       "var notebookContainer = gd.closest('#notebook-container');\n",
       "if (notebookContainer) {{\n",
       "    x.observe(notebookContainer, {childList: true});\n",
       "}}\n",
       "\n",
       "// Listen for the clearing of the current output cell\n",
       "var outputEl = gd.closest('.output');\n",
       "if (outputEl) {{\n",
       "    x.observe(outputEl, {childList: true});\n",
       "}}\n",
       "\n",
       "                        })                };                });            </script>        </div>"
      ]
     },
     "metadata": {},
     "output_type": "display_data"
    }
   ],
   "source": [
    "df.iplot(kind='bubble',x='A',y='B',size='C')"
   ]
  },
  {
   "cell_type": "markdown",
   "metadata": {},
   "source": [
    "## scatter_matrix()\n",
    "\n",
    "Similar to sns.pairplot()"
   ]
  },
  {
   "cell_type": "code",
   "execution_count": 22,
   "metadata": {},
   "outputs": [
    {
     "data": {
      "application/vnd.plotly.v1+json": {
       "config": {
        "linkText": "Export to plot.ly",
        "plotlyServerURL": "https://plot.ly",
        "showLink": true
       },
       "data": [
        {
         "histfunc": "count",
         "histnorm": "",
         "marker": {
          "color": "rgba(255, 153, 51, 1.0)",
          "line": {
           "color": "#4D5663",
           "width": 1.3
          }
         },
         "name": "A",
         "nbinsx": 10,
         "opacity": 0.8,
         "orientation": "v",
         "type": "histogram",
         "x": [
          0.10600372573935532,
          0.20749207561513944,
          -1.0393378694469475,
          -0.6836932422094264,
          0.3712406633159747,
          1.8227241947210773,
          -2.262207151026445,
          -1.8970460309624753,
          1.2286043953391381,
          -0.3574193062297222,
          -1.7377734024170408,
          0.5197339233321271,
          -0.06788953602198554,
          -0.40191529592914244,
          -0.43370818219860896,
          -1.1661124908327158,
          1.1909206075148222,
          0.4388735027552563,
          0.03078096636690785,
          1.9362836769431646,
          -0.37075561956492736,
          -0.22921069296146732,
          0.5688691041798098,
          -1.7056023477568323,
          0.07570934350096442,
          0.9263520986244222,
          2.110174197159889,
          0.07056773563634443,
          -1.3740931235677463,
          0.9831289227755879,
          -0.6120200206186656,
          0.15666800087062727,
          -0.01844629565827913,
          -1.4108549888033666,
          -1.0840512483666251,
          0.15007307789236096,
          0.1562200550680007,
          0.6715655265118765,
          -2.5833248405455964,
          -0.9396192348953979,
          0.30327683434061165,
          -0.017701326490219854,
          0.9946009238039645,
          -2.047910052190914,
          0.35534195799578105,
          0.7309389442237206,
          -0.018911812240188265,
          0.5258877279467146,
          -0.7578060225979669,
          0.021273816181194286,
          0.6076296020031607,
          -0.5912050505425559,
          0.6267086559935164,
          2.2603470912323167,
          -0.40959760922837896,
          -1.0999662078027865,
          -1.7244320790470604,
          0.6185762285561729,
          1.215949179679514,
          0.512677421517591,
          1.1468696837108043,
          0.07780582086841593,
          0.3581086513672768,
          1.101114232910788,
          -0.816159235634712,
          1.620708418607869,
          0.050085042836158146,
          0.933719368820452,
          -1.923699435336341,
          0.8298418569096968,
          -0.31898033207002435,
          -1.629422634794213,
          0.7937285580426178,
          -1.141487628713606,
          1.0324380703636866,
          1.6275267747285445,
          1.8828615027230835,
          -1.3108896433586812,
          -0.6231178037822507,
          -0.1514895671878934,
          0.4884180261113317,
          -1.244530345881232,
          -1.7586800032751404,
          0.3293062297921215,
          0.7329470338986954,
          1.9479456523338359,
          0.665343553005202,
          -0.6797658495124682,
          -1.4603444616505636,
          -0.5061330022052487,
          1.3255130564272948,
          1.2819616135045893,
          -0.03846990574957462,
          -1.0597436840005086,
          1.0970280388504754,
          -1.0605874226275647,
          -0.5625504969934049,
          1.3758715701554394,
          -0.30022048190267414,
          -1.297072370793922
         ],
         "xaxis": "x",
         "yaxis": "y"
        },
        {
         "line": {
          "color": "rgba(128, 128, 128, 1.0)",
          "dash": "solid",
          "shape": "linear",
          "width": 1.3
         },
         "marker": {
          "size": 2,
          "symbol": "circle"
         },
         "mode": "markers",
         "name": "A",
         "text": "",
         "type": "scatter",
         "x": [
          0.4769431026012106,
          -0.10019126128842715,
          0.6113592162515342,
          -0.8070370418018528,
          0.2763978925358597,
          -0.10720355844112409,
          -0.5903615969727316,
          -0.13055421428039032,
          1.2693444378168242,
          0.8529892166991166,
          0.9325210127082194,
          -0.24958114969826484,
          0.13236018337252933,
          -0.5761867920069248,
          -0.2190615071806342,
          0.6637069422788028,
          0.18305818053502448,
          2.6808423224478246,
          -1.0654428571490364,
          -0.8291462865638127,
          0.054494391458582106,
          -1.2023837369074832,
          1.070784285243506,
          0.15962997085686725,
          0.25054171463418734,
          0.9451835521587554,
          1.430558994837546,
          -0.49260223389592717,
          0.10123049379232833,
          -1.4435471051098858,
          -0.6193153315070554,
          -1.156930328544975,
          -0.8826196284045719,
          1.0009977260930587,
          0.4544280710439374,
          -0.9688836385097156,
          1.4773761326737302,
          1.3773454164431693,
          1.1084251339689797,
          0.5651450676087367,
          0.1387848864141628,
          1.4264525785172326,
          -0.37757980864992063,
          0.6202853071456437,
          0.18004419237638297,
          2.129096335269589,
          0.04973451721719641,
          1.2394810276706119,
          0.8193637123020554,
          -0.05317134097489851,
          -0.24664799954484715,
          0.5331418669922314,
          1.3214390503174918,
          0.5236888999215038,
          0.23287917717351467,
          0.6006932090430144,
          1.0862840410571686,
          2.660470685844886,
          0.6515793111509729,
          0.3884324324252398,
          0.20721984859051978,
          -0.25002746247732804,
          1.153674982774516,
          0.9335273660013991,
          -0.349515394552551,
          1.5247358336307832,
          2.4143324819372887,
          1.2502741563615987,
          0.0893496287677241,
          3.034968760018631,
          -0.13304108425193012,
          -1.0038447287093142,
          -1.9660690740070852,
          -0.7380463039444887,
          -0.48913647757759166,
          -0.49736309395632505,
          -0.8922475224765966,
          1.177202339988743,
          0.1338660112203844,
          -0.18265674871739768,
          -0.929224229936402,
          0.6001450586623118,
          -1.3613736551788942,
          0.18138237038600677,
          -0.704074249023333,
          0.889338266253846,
          -0.7980933887078092,
          -0.6261537265622374,
          -0.6335248289426914,
          0.7543574951401341,
          -0.3631892656708778,
          -0.8037506822775732,
          0.23490382806972052,
          1.5398650558233888,
          -0.40383975283133766,
          0.67976087105031,
          -0.34859922135264265,
          1.441292826564418,
          -0.6637472409501192,
          0.9535293591259538
         ],
         "xaxis": "x2",
         "y": [
          0.10600372573935532,
          0.20749207561513944,
          -1.0393378694469475,
          -0.6836932422094264,
          0.3712406633159747,
          1.8227241947210773,
          -2.262207151026445,
          -1.8970460309624753,
          1.2286043953391381,
          -0.3574193062297222,
          -1.7377734024170408,
          0.5197339233321271,
          -0.06788953602198554,
          -0.40191529592914244,
          -0.43370818219860896,
          -1.1661124908327158,
          1.1909206075148222,
          0.4388735027552563,
          0.03078096636690785,
          1.9362836769431646,
          -0.37075561956492736,
          -0.22921069296146732,
          0.5688691041798098,
          -1.7056023477568323,
          0.07570934350096442,
          0.9263520986244222,
          2.110174197159889,
          0.07056773563634443,
          -1.3740931235677463,
          0.9831289227755879,
          -0.6120200206186656,
          0.15666800087062727,
          -0.01844629565827913,
          -1.4108549888033666,
          -1.0840512483666251,
          0.15007307789236096,
          0.1562200550680007,
          0.6715655265118765,
          -2.5833248405455964,
          -0.9396192348953979,
          0.30327683434061165,
          -0.017701326490219854,
          0.9946009238039645,
          -2.047910052190914,
          0.35534195799578105,
          0.7309389442237206,
          -0.018911812240188265,
          0.5258877279467146,
          -0.7578060225979669,
          0.021273816181194286,
          0.6076296020031607,
          -0.5912050505425559,
          0.6267086559935164,
          2.2603470912323167,
          -0.40959760922837896,
          -1.0999662078027865,
          -1.7244320790470604,
          0.6185762285561729,
          1.215949179679514,
          0.512677421517591,
          1.1468696837108043,
          0.07780582086841593,
          0.3581086513672768,
          1.101114232910788,
          -0.816159235634712,
          1.620708418607869,
          0.050085042836158146,
          0.933719368820452,
          -1.923699435336341,
          0.8298418569096968,
          -0.31898033207002435,
          -1.629422634794213,
          0.7937285580426178,
          -1.141487628713606,
          1.0324380703636866,
          1.6275267747285445,
          1.8828615027230835,
          -1.3108896433586812,
          -0.6231178037822507,
          -0.1514895671878934,
          0.4884180261113317,
          -1.244530345881232,
          -1.7586800032751404,
          0.3293062297921215,
          0.7329470338986954,
          1.9479456523338359,
          0.665343553005202,
          -0.6797658495124682,
          -1.4603444616505636,
          -0.5061330022052487,
          1.3255130564272948,
          1.2819616135045893,
          -0.03846990574957462,
          -1.0597436840005086,
          1.0970280388504754,
          -1.0605874226275647,
          -0.5625504969934049,
          1.3758715701554394,
          -0.30022048190267414,
          -1.297072370793922
         ],
         "yaxis": "y2"
        },
        {
         "line": {
          "color": "rgba(128, 128, 128, 1.0)",
          "dash": "solid",
          "shape": "linear",
          "width": 1.3
         },
         "marker": {
          "size": 2,
          "symbol": "circle"
         },
         "mode": "markers",
         "name": "A",
         "text": "",
         "type": "scatter",
         "x": [
          -0.740778391991077,
          -2.370788299131107,
          0.7705383216088945,
          -0.19823348254001646,
          0.337144393926387,
          -1.3791425684188143,
          0.9439135984128443,
          -1.7840069262341565,
          -0.3283589566067014,
          0.27107259678388174,
          -0.52425125745666,
          0.7385277060960397,
          -0.28241985290436455,
          0.09185725180659102,
          -0.6374861032981809,
          0.37612443404262297,
          0.19759112389177616,
          -1.4332242149976573,
          1.3041313529957643,
          -0.6700098547565597,
          0.8894132050046223,
          1.5259894128331706,
          1.5386910927864714,
          -0.6436919441576353,
          -0.543224218405429,
          0.9991337105958998,
          -0.04801985723525086,
          -0.258367778084267,
          -1.1276404414733174,
          2.725048673075478,
          2.029889742123843,
          -0.46460398854707086,
          -2.1345629460174274,
          0.4459347473133101,
          -0.9049059200357235,
          -2.4114186017782964,
          -1.0962268537649613,
          -0.3778240877249083,
          -0.24039646959993588,
          -1.0463591501115126,
          0.5256490146744969,
          0.33058340853715795,
          0.5846204810221787,
          0.002537022393166431,
          -0.09962215676863742,
          1.4447931181853835,
          0.8426728029581986,
          -1.1361817746625766,
          -0.008968394296665034,
          -0.48781204739486184,
          -0.9123215487337352,
          0.32638912950065835,
          -1.088452259433391,
          0.3173869202896083,
          1.69623724745932,
          -2.0824030478825604,
          0.5519254928488927,
          -0.21934847437350616,
          -0.23902776953629853,
          -0.08654459645164335,
          -2.553277039412643,
          0.1104212805491668,
          -0.7073137841830324,
          -2.865956399416514,
          2.241798588434314,
          0.9983683175266186,
          0.21542665538163305,
          0.9991409057372067,
          0.4419141165472592,
          -0.6333445679930504,
          0.8685954977918708,
          0.4056039746691071,
          0.3524190223013191,
          0.48706349465423615,
          -0.25308813918752876,
          -0.5222210505923375,
          -0.015278130373235426,
          0.5124490432368057,
          0.030975532679304512,
          -1.9305640851420303,
          0.8503886615191434,
          -0.7804448455150669,
          0.14443567782294806,
          -0.09092402921847724,
          -0.4887299581588676,
          -0.5287159719970687,
          -1.2703303662773027,
          -0.16503576003179435,
          0.46048813949652057,
          0.6976144180888608,
          0.405403328004903,
          -0.07909064803112702,
          0.675114373489502,
          1.0764557614830252,
          0.7901433020900879,
          -0.43326872231950847,
          -0.44467071332079094,
          -1.6627832294168092,
          -0.7145759651543581,
          -0.386882271891978
         ],
         "xaxis": "x3",
         "y": [
          0.10600372573935532,
          0.20749207561513944,
          -1.0393378694469475,
          -0.6836932422094264,
          0.3712406633159747,
          1.8227241947210773,
          -2.262207151026445,
          -1.8970460309624753,
          1.2286043953391381,
          -0.3574193062297222,
          -1.7377734024170408,
          0.5197339233321271,
          -0.06788953602198554,
          -0.40191529592914244,
          -0.43370818219860896,
          -1.1661124908327158,
          1.1909206075148222,
          0.4388735027552563,
          0.03078096636690785,
          1.9362836769431646,
          -0.37075561956492736,
          -0.22921069296146732,
          0.5688691041798098,
          -1.7056023477568323,
          0.07570934350096442,
          0.9263520986244222,
          2.110174197159889,
          0.07056773563634443,
          -1.3740931235677463,
          0.9831289227755879,
          -0.6120200206186656,
          0.15666800087062727,
          -0.01844629565827913,
          -1.4108549888033666,
          -1.0840512483666251,
          0.15007307789236096,
          0.1562200550680007,
          0.6715655265118765,
          -2.5833248405455964,
          -0.9396192348953979,
          0.30327683434061165,
          -0.017701326490219854,
          0.9946009238039645,
          -2.047910052190914,
          0.35534195799578105,
          0.7309389442237206,
          -0.018911812240188265,
          0.5258877279467146,
          -0.7578060225979669,
          0.021273816181194286,
          0.6076296020031607,
          -0.5912050505425559,
          0.6267086559935164,
          2.2603470912323167,
          -0.40959760922837896,
          -1.0999662078027865,
          -1.7244320790470604,
          0.6185762285561729,
          1.215949179679514,
          0.512677421517591,
          1.1468696837108043,
          0.07780582086841593,
          0.3581086513672768,
          1.101114232910788,
          -0.816159235634712,
          1.620708418607869,
          0.050085042836158146,
          0.933719368820452,
          -1.923699435336341,
          0.8298418569096968,
          -0.31898033207002435,
          -1.629422634794213,
          0.7937285580426178,
          -1.141487628713606,
          1.0324380703636866,
          1.6275267747285445,
          1.8828615027230835,
          -1.3108896433586812,
          -0.6231178037822507,
          -0.1514895671878934,
          0.4884180261113317,
          -1.244530345881232,
          -1.7586800032751404,
          0.3293062297921215,
          0.7329470338986954,
          1.9479456523338359,
          0.665343553005202,
          -0.6797658495124682,
          -1.4603444616505636,
          -0.5061330022052487,
          1.3255130564272948,
          1.2819616135045893,
          -0.03846990574957462,
          -1.0597436840005086,
          1.0970280388504754,
          -1.0605874226275647,
          -0.5625504969934049,
          1.3758715701554394,
          -0.30022048190267414,
          -1.297072370793922
         ],
         "yaxis": "y3"
        },
        {
         "line": {
          "color": "rgba(128, 128, 128, 1.0)",
          "dash": "solid",
          "shape": "linear",
          "width": 1.3
         },
         "marker": {
          "size": 2,
          "symbol": "circle"
         },
         "mode": "markers",
         "name": "A",
         "text": "",
         "type": "scatter",
         "x": [
          -0.11329342116274008,
          -1.3574377750489648,
          1.9220449619482292,
          -2.459575173476962,
          0.22799790532202172,
          -0.6330919663247148,
          0.6577347410618968,
          -1.636811758240445,
          0.24254381752850562,
          -0.19871070045933223,
          0.06705022148339189,
          -0.8071860394487,
          1.0255169386400966,
          0.9163675724429156,
          -0.36297287807831025,
          0.5938245988004833,
          1.9616114818187456,
          1.2219187270279168,
          1.89159323245367,
          0.9252585461058572,
          -0.06849918911132674,
          -1.7449934717307074,
          -1.1204986606457699,
          0.4109899560906177,
          -0.7595748608958052,
          -0.26830483787800213,
          -0.07202709747021875,
          0.050654569645124436,
          -0.24072185895746046,
          -1.7568108619039302,
          1.8725808472966645,
          -0.008680308534701371,
          1.623380280545073,
          0.11317833450631196,
          -0.6695896037160816,
          1.4761587780318361,
          0.6375767126016454,
          -0.5801213714353558,
          0.9270673557079773,
          -1.4718028175674562,
          1.097696666925897,
          -1.8117956205685124,
          0.7848247435000166,
          -0.29100051106013647,
          0.8846838193112712,
          1.4844705701154899,
          1.1689770690035524,
          -1.16528111485165,
          -1.4934832626778773,
          -1.1810178426436153,
          -1.2216892294024275,
          -1.036259552786968,
          0.41626215551337675,
          -1.0659658119394881,
          2.7405016615912112,
          0.2308666485169981,
          -0.7864739853800282,
          0.1379059787072001,
          1.2868607547453876,
          -0.28481278530242604,
          0.732481925255684,
          0.8308152091040132,
          0.06236128711802095,
          -0.19430247449342214,
          1.1073076493162546,
          -0.669804072634468,
          1.4792233884506674,
          0.41961258474089974,
          0.6215167378919153,
          -0.40231521782114515,
          -0.3632484923100821,
          0.1185430684370369,
          -0.2774648519849218,
          -0.3020128974515804,
          -0.3971863004040808,
          1.6287897391266177,
          0.8751625396431753,
          -0.40117917355624305,
          -1.581383232106049,
          -1.2374617413623668,
          2.110745170760792,
          -0.9500063721048858,
          0.58099951949188,
          1.0333897687603022,
          2.3639580399261573,
          -0.7304198843562436,
          -0.6005134255179924,
          -0.439250418717468,
          -0.9401157117773762,
          -1.627107684998559,
          -1.465614492985098,
          2.0313600741972158,
          0.3282335563938324,
          0.5101670130193007,
          0.7585699580260642,
          0.46536300832395544,
          1.5583869371530814,
          -0.7308106991026216,
          2.9587196981584105,
          -0.4296792353062852
         ],
         "xaxis": "x4",
         "y": [
          0.10600372573935532,
          0.20749207561513944,
          -1.0393378694469475,
          -0.6836932422094264,
          0.3712406633159747,
          1.8227241947210773,
          -2.262207151026445,
          -1.8970460309624753,
          1.2286043953391381,
          -0.3574193062297222,
          -1.7377734024170408,
          0.5197339233321271,
          -0.06788953602198554,
          -0.40191529592914244,
          -0.43370818219860896,
          -1.1661124908327158,
          1.1909206075148222,
          0.4388735027552563,
          0.03078096636690785,
          1.9362836769431646,
          -0.37075561956492736,
          -0.22921069296146732,
          0.5688691041798098,
          -1.7056023477568323,
          0.07570934350096442,
          0.9263520986244222,
          2.110174197159889,
          0.07056773563634443,
          -1.3740931235677463,
          0.9831289227755879,
          -0.6120200206186656,
          0.15666800087062727,
          -0.01844629565827913,
          -1.4108549888033666,
          -1.0840512483666251,
          0.15007307789236096,
          0.1562200550680007,
          0.6715655265118765,
          -2.5833248405455964,
          -0.9396192348953979,
          0.30327683434061165,
          -0.017701326490219854,
          0.9946009238039645,
          -2.047910052190914,
          0.35534195799578105,
          0.7309389442237206,
          -0.018911812240188265,
          0.5258877279467146,
          -0.7578060225979669,
          0.021273816181194286,
          0.6076296020031607,
          -0.5912050505425559,
          0.6267086559935164,
          2.2603470912323167,
          -0.40959760922837896,
          -1.0999662078027865,
          -1.7244320790470604,
          0.6185762285561729,
          1.215949179679514,
          0.512677421517591,
          1.1468696837108043,
          0.07780582086841593,
          0.3581086513672768,
          1.101114232910788,
          -0.816159235634712,
          1.620708418607869,
          0.050085042836158146,
          0.933719368820452,
          -1.923699435336341,
          0.8298418569096968,
          -0.31898033207002435,
          -1.629422634794213,
          0.7937285580426178,
          -1.141487628713606,
          1.0324380703636866,
          1.6275267747285445,
          1.8828615027230835,
          -1.3108896433586812,
          -0.6231178037822507,
          -0.1514895671878934,
          0.4884180261113317,
          -1.244530345881232,
          -1.7586800032751404,
          0.3293062297921215,
          0.7329470338986954,
          1.9479456523338359,
          0.665343553005202,
          -0.6797658495124682,
          -1.4603444616505636,
          -0.5061330022052487,
          1.3255130564272948,
          1.2819616135045893,
          -0.03846990574957462,
          -1.0597436840005086,
          1.0970280388504754,
          -1.0605874226275647,
          -0.5625504969934049,
          1.3758715701554394,
          -0.30022048190267414,
          -1.297072370793922
         ],
         "yaxis": "y4"
        },
        {
         "line": {
          "color": "rgba(128, 128, 128, 1.0)",
          "dash": "solid",
          "shape": "linear",
          "width": 1.3
         },
         "marker": {
          "size": 2,
          "symbol": "circle"
         },
         "mode": "markers",
         "name": "B",
         "text": "",
         "type": "scatter",
         "x": [
          0.10600372573935532,
          0.20749207561513944,
          -1.0393378694469475,
          -0.6836932422094264,
          0.3712406633159747,
          1.8227241947210773,
          -2.262207151026445,
          -1.8970460309624753,
          1.2286043953391381,
          -0.3574193062297222,
          -1.7377734024170408,
          0.5197339233321271,
          -0.06788953602198554,
          -0.40191529592914244,
          -0.43370818219860896,
          -1.1661124908327158,
          1.1909206075148222,
          0.4388735027552563,
          0.03078096636690785,
          1.9362836769431646,
          -0.37075561956492736,
          -0.22921069296146732,
          0.5688691041798098,
          -1.7056023477568323,
          0.07570934350096442,
          0.9263520986244222,
          2.110174197159889,
          0.07056773563634443,
          -1.3740931235677463,
          0.9831289227755879,
          -0.6120200206186656,
          0.15666800087062727,
          -0.01844629565827913,
          -1.4108549888033666,
          -1.0840512483666251,
          0.15007307789236096,
          0.1562200550680007,
          0.6715655265118765,
          -2.5833248405455964,
          -0.9396192348953979,
          0.30327683434061165,
          -0.017701326490219854,
          0.9946009238039645,
          -2.047910052190914,
          0.35534195799578105,
          0.7309389442237206,
          -0.018911812240188265,
          0.5258877279467146,
          -0.7578060225979669,
          0.021273816181194286,
          0.6076296020031607,
          -0.5912050505425559,
          0.6267086559935164,
          2.2603470912323167,
          -0.40959760922837896,
          -1.0999662078027865,
          -1.7244320790470604,
          0.6185762285561729,
          1.215949179679514,
          0.512677421517591,
          1.1468696837108043,
          0.07780582086841593,
          0.3581086513672768,
          1.101114232910788,
          -0.816159235634712,
          1.620708418607869,
          0.050085042836158146,
          0.933719368820452,
          -1.923699435336341,
          0.8298418569096968,
          -0.31898033207002435,
          -1.629422634794213,
          0.7937285580426178,
          -1.141487628713606,
          1.0324380703636866,
          1.6275267747285445,
          1.8828615027230835,
          -1.3108896433586812,
          -0.6231178037822507,
          -0.1514895671878934,
          0.4884180261113317,
          -1.244530345881232,
          -1.7586800032751404,
          0.3293062297921215,
          0.7329470338986954,
          1.9479456523338359,
          0.665343553005202,
          -0.6797658495124682,
          -1.4603444616505636,
          -0.5061330022052487,
          1.3255130564272948,
          1.2819616135045893,
          -0.03846990574957462,
          -1.0597436840005086,
          1.0970280388504754,
          -1.0605874226275647,
          -0.5625504969934049,
          1.3758715701554394,
          -0.30022048190267414,
          -1.297072370793922
         ],
         "xaxis": "x5",
         "y": [
          0.4769431026012106,
          -0.10019126128842715,
          0.6113592162515342,
          -0.8070370418018528,
          0.2763978925358597,
          -0.10720355844112409,
          -0.5903615969727316,
          -0.13055421428039032,
          1.2693444378168242,
          0.8529892166991166,
          0.9325210127082194,
          -0.24958114969826484,
          0.13236018337252933,
          -0.5761867920069248,
          -0.2190615071806342,
          0.6637069422788028,
          0.18305818053502448,
          2.6808423224478246,
          -1.0654428571490364,
          -0.8291462865638127,
          0.054494391458582106,
          -1.2023837369074832,
          1.070784285243506,
          0.15962997085686725,
          0.25054171463418734,
          0.9451835521587554,
          1.430558994837546,
          -0.49260223389592717,
          0.10123049379232833,
          -1.4435471051098858,
          -0.6193153315070554,
          -1.156930328544975,
          -0.8826196284045719,
          1.0009977260930587,
          0.4544280710439374,
          -0.9688836385097156,
          1.4773761326737302,
          1.3773454164431693,
          1.1084251339689797,
          0.5651450676087367,
          0.1387848864141628,
          1.4264525785172326,
          -0.37757980864992063,
          0.6202853071456437,
          0.18004419237638297,
          2.129096335269589,
          0.04973451721719641,
          1.2394810276706119,
          0.8193637123020554,
          -0.05317134097489851,
          -0.24664799954484715,
          0.5331418669922314,
          1.3214390503174918,
          0.5236888999215038,
          0.23287917717351467,
          0.6006932090430144,
          1.0862840410571686,
          2.660470685844886,
          0.6515793111509729,
          0.3884324324252398,
          0.20721984859051978,
          -0.25002746247732804,
          1.153674982774516,
          0.9335273660013991,
          -0.349515394552551,
          1.5247358336307832,
          2.4143324819372887,
          1.2502741563615987,
          0.0893496287677241,
          3.034968760018631,
          -0.13304108425193012,
          -1.0038447287093142,
          -1.9660690740070852,
          -0.7380463039444887,
          -0.48913647757759166,
          -0.49736309395632505,
          -0.8922475224765966,
          1.177202339988743,
          0.1338660112203844,
          -0.18265674871739768,
          -0.929224229936402,
          0.6001450586623118,
          -1.3613736551788942,
          0.18138237038600677,
          -0.704074249023333,
          0.889338266253846,
          -0.7980933887078092,
          -0.6261537265622374,
          -0.6335248289426914,
          0.7543574951401341,
          -0.3631892656708778,
          -0.8037506822775732,
          0.23490382806972052,
          1.5398650558233888,
          -0.40383975283133766,
          0.67976087105031,
          -0.34859922135264265,
          1.441292826564418,
          -0.6637472409501192,
          0.9535293591259538
         ],
         "yaxis": "y5"
        },
        {
         "histfunc": "count",
         "histnorm": "",
         "marker": {
          "color": "rgba(55, 128, 191, 1.0)",
          "line": {
           "color": "#4D5663",
           "width": 1.3
          }
         },
         "name": "B",
         "nbinsx": 10,
         "opacity": 0.8,
         "orientation": "v",
         "type": "histogram",
         "x": [
          0.4769431026012106,
          -0.10019126128842715,
          0.6113592162515342,
          -0.8070370418018528,
          0.2763978925358597,
          -0.10720355844112409,
          -0.5903615969727316,
          -0.13055421428039032,
          1.2693444378168242,
          0.8529892166991166,
          0.9325210127082194,
          -0.24958114969826484,
          0.13236018337252933,
          -0.5761867920069248,
          -0.2190615071806342,
          0.6637069422788028,
          0.18305818053502448,
          2.6808423224478246,
          -1.0654428571490364,
          -0.8291462865638127,
          0.054494391458582106,
          -1.2023837369074832,
          1.070784285243506,
          0.15962997085686725,
          0.25054171463418734,
          0.9451835521587554,
          1.430558994837546,
          -0.49260223389592717,
          0.10123049379232833,
          -1.4435471051098858,
          -0.6193153315070554,
          -1.156930328544975,
          -0.8826196284045719,
          1.0009977260930587,
          0.4544280710439374,
          -0.9688836385097156,
          1.4773761326737302,
          1.3773454164431693,
          1.1084251339689797,
          0.5651450676087367,
          0.1387848864141628,
          1.4264525785172326,
          -0.37757980864992063,
          0.6202853071456437,
          0.18004419237638297,
          2.129096335269589,
          0.04973451721719641,
          1.2394810276706119,
          0.8193637123020554,
          -0.05317134097489851,
          -0.24664799954484715,
          0.5331418669922314,
          1.3214390503174918,
          0.5236888999215038,
          0.23287917717351467,
          0.6006932090430144,
          1.0862840410571686,
          2.660470685844886,
          0.6515793111509729,
          0.3884324324252398,
          0.20721984859051978,
          -0.25002746247732804,
          1.153674982774516,
          0.9335273660013991,
          -0.349515394552551,
          1.5247358336307832,
          2.4143324819372887,
          1.2502741563615987,
          0.0893496287677241,
          3.034968760018631,
          -0.13304108425193012,
          -1.0038447287093142,
          -1.9660690740070852,
          -0.7380463039444887,
          -0.48913647757759166,
          -0.49736309395632505,
          -0.8922475224765966,
          1.177202339988743,
          0.1338660112203844,
          -0.18265674871739768,
          -0.929224229936402,
          0.6001450586623118,
          -1.3613736551788942,
          0.18138237038600677,
          -0.704074249023333,
          0.889338266253846,
          -0.7980933887078092,
          -0.6261537265622374,
          -0.6335248289426914,
          0.7543574951401341,
          -0.3631892656708778,
          -0.8037506822775732,
          0.23490382806972052,
          1.5398650558233888,
          -0.40383975283133766,
          0.67976087105031,
          -0.34859922135264265,
          1.441292826564418,
          -0.6637472409501192,
          0.9535293591259538
         ],
         "xaxis": "x6",
         "yaxis": "y6"
        },
        {
         "line": {
          "color": "rgba(128, 128, 128, 1.0)",
          "dash": "solid",
          "shape": "linear",
          "width": 1.3
         },
         "marker": {
          "size": 2,
          "symbol": "circle"
         },
         "mode": "markers",
         "name": "B",
         "text": "",
         "type": "scatter",
         "x": [
          -0.740778391991077,
          -2.370788299131107,
          0.7705383216088945,
          -0.19823348254001646,
          0.337144393926387,
          -1.3791425684188143,
          0.9439135984128443,
          -1.7840069262341565,
          -0.3283589566067014,
          0.27107259678388174,
          -0.52425125745666,
          0.7385277060960397,
          -0.28241985290436455,
          0.09185725180659102,
          -0.6374861032981809,
          0.37612443404262297,
          0.19759112389177616,
          -1.4332242149976573,
          1.3041313529957643,
          -0.6700098547565597,
          0.8894132050046223,
          1.5259894128331706,
          1.5386910927864714,
          -0.6436919441576353,
          -0.543224218405429,
          0.9991337105958998,
          -0.04801985723525086,
          -0.258367778084267,
          -1.1276404414733174,
          2.725048673075478,
          2.029889742123843,
          -0.46460398854707086,
          -2.1345629460174274,
          0.4459347473133101,
          -0.9049059200357235,
          -2.4114186017782964,
          -1.0962268537649613,
          -0.3778240877249083,
          -0.24039646959993588,
          -1.0463591501115126,
          0.5256490146744969,
          0.33058340853715795,
          0.5846204810221787,
          0.002537022393166431,
          -0.09962215676863742,
          1.4447931181853835,
          0.8426728029581986,
          -1.1361817746625766,
          -0.008968394296665034,
          -0.48781204739486184,
          -0.9123215487337352,
          0.32638912950065835,
          -1.088452259433391,
          0.3173869202896083,
          1.69623724745932,
          -2.0824030478825604,
          0.5519254928488927,
          -0.21934847437350616,
          -0.23902776953629853,
          -0.08654459645164335,
          -2.553277039412643,
          0.1104212805491668,
          -0.7073137841830324,
          -2.865956399416514,
          2.241798588434314,
          0.9983683175266186,
          0.21542665538163305,
          0.9991409057372067,
          0.4419141165472592,
          -0.6333445679930504,
          0.8685954977918708,
          0.4056039746691071,
          0.3524190223013191,
          0.48706349465423615,
          -0.25308813918752876,
          -0.5222210505923375,
          -0.015278130373235426,
          0.5124490432368057,
          0.030975532679304512,
          -1.9305640851420303,
          0.8503886615191434,
          -0.7804448455150669,
          0.14443567782294806,
          -0.09092402921847724,
          -0.4887299581588676,
          -0.5287159719970687,
          -1.2703303662773027,
          -0.16503576003179435,
          0.46048813949652057,
          0.6976144180888608,
          0.405403328004903,
          -0.07909064803112702,
          0.675114373489502,
          1.0764557614830252,
          0.7901433020900879,
          -0.43326872231950847,
          -0.44467071332079094,
          -1.6627832294168092,
          -0.7145759651543581,
          -0.386882271891978
         ],
         "xaxis": "x7",
         "y": [
          0.4769431026012106,
          -0.10019126128842715,
          0.6113592162515342,
          -0.8070370418018528,
          0.2763978925358597,
          -0.10720355844112409,
          -0.5903615969727316,
          -0.13055421428039032,
          1.2693444378168242,
          0.8529892166991166,
          0.9325210127082194,
          -0.24958114969826484,
          0.13236018337252933,
          -0.5761867920069248,
          -0.2190615071806342,
          0.6637069422788028,
          0.18305818053502448,
          2.6808423224478246,
          -1.0654428571490364,
          -0.8291462865638127,
          0.054494391458582106,
          -1.2023837369074832,
          1.070784285243506,
          0.15962997085686725,
          0.25054171463418734,
          0.9451835521587554,
          1.430558994837546,
          -0.49260223389592717,
          0.10123049379232833,
          -1.4435471051098858,
          -0.6193153315070554,
          -1.156930328544975,
          -0.8826196284045719,
          1.0009977260930587,
          0.4544280710439374,
          -0.9688836385097156,
          1.4773761326737302,
          1.3773454164431693,
          1.1084251339689797,
          0.5651450676087367,
          0.1387848864141628,
          1.4264525785172326,
          -0.37757980864992063,
          0.6202853071456437,
          0.18004419237638297,
          2.129096335269589,
          0.04973451721719641,
          1.2394810276706119,
          0.8193637123020554,
          -0.05317134097489851,
          -0.24664799954484715,
          0.5331418669922314,
          1.3214390503174918,
          0.5236888999215038,
          0.23287917717351467,
          0.6006932090430144,
          1.0862840410571686,
          2.660470685844886,
          0.6515793111509729,
          0.3884324324252398,
          0.20721984859051978,
          -0.25002746247732804,
          1.153674982774516,
          0.9335273660013991,
          -0.349515394552551,
          1.5247358336307832,
          2.4143324819372887,
          1.2502741563615987,
          0.0893496287677241,
          3.034968760018631,
          -0.13304108425193012,
          -1.0038447287093142,
          -1.9660690740070852,
          -0.7380463039444887,
          -0.48913647757759166,
          -0.49736309395632505,
          -0.8922475224765966,
          1.177202339988743,
          0.1338660112203844,
          -0.18265674871739768,
          -0.929224229936402,
          0.6001450586623118,
          -1.3613736551788942,
          0.18138237038600677,
          -0.704074249023333,
          0.889338266253846,
          -0.7980933887078092,
          -0.6261537265622374,
          -0.6335248289426914,
          0.7543574951401341,
          -0.3631892656708778,
          -0.8037506822775732,
          0.23490382806972052,
          1.5398650558233888,
          -0.40383975283133766,
          0.67976087105031,
          -0.34859922135264265,
          1.441292826564418,
          -0.6637472409501192,
          0.9535293591259538
         ],
         "yaxis": "y7"
        },
        {
         "line": {
          "color": "rgba(128, 128, 128, 1.0)",
          "dash": "solid",
          "shape": "linear",
          "width": 1.3
         },
         "marker": {
          "size": 2,
          "symbol": "circle"
         },
         "mode": "markers",
         "name": "B",
         "text": "",
         "type": "scatter",
         "x": [
          -0.11329342116274008,
          -1.3574377750489648,
          1.9220449619482292,
          -2.459575173476962,
          0.22799790532202172,
          -0.6330919663247148,
          0.6577347410618968,
          -1.636811758240445,
          0.24254381752850562,
          -0.19871070045933223,
          0.06705022148339189,
          -0.8071860394487,
          1.0255169386400966,
          0.9163675724429156,
          -0.36297287807831025,
          0.5938245988004833,
          1.9616114818187456,
          1.2219187270279168,
          1.89159323245367,
          0.9252585461058572,
          -0.06849918911132674,
          -1.7449934717307074,
          -1.1204986606457699,
          0.4109899560906177,
          -0.7595748608958052,
          -0.26830483787800213,
          -0.07202709747021875,
          0.050654569645124436,
          -0.24072185895746046,
          -1.7568108619039302,
          1.8725808472966645,
          -0.008680308534701371,
          1.623380280545073,
          0.11317833450631196,
          -0.6695896037160816,
          1.4761587780318361,
          0.6375767126016454,
          -0.5801213714353558,
          0.9270673557079773,
          -1.4718028175674562,
          1.097696666925897,
          -1.8117956205685124,
          0.7848247435000166,
          -0.29100051106013647,
          0.8846838193112712,
          1.4844705701154899,
          1.1689770690035524,
          -1.16528111485165,
          -1.4934832626778773,
          -1.1810178426436153,
          -1.2216892294024275,
          -1.036259552786968,
          0.41626215551337675,
          -1.0659658119394881,
          2.7405016615912112,
          0.2308666485169981,
          -0.7864739853800282,
          0.1379059787072001,
          1.2868607547453876,
          -0.28481278530242604,
          0.732481925255684,
          0.8308152091040132,
          0.06236128711802095,
          -0.19430247449342214,
          1.1073076493162546,
          -0.669804072634468,
          1.4792233884506674,
          0.41961258474089974,
          0.6215167378919153,
          -0.40231521782114515,
          -0.3632484923100821,
          0.1185430684370369,
          -0.2774648519849218,
          -0.3020128974515804,
          -0.3971863004040808,
          1.6287897391266177,
          0.8751625396431753,
          -0.40117917355624305,
          -1.581383232106049,
          -1.2374617413623668,
          2.110745170760792,
          -0.9500063721048858,
          0.58099951949188,
          1.0333897687603022,
          2.3639580399261573,
          -0.7304198843562436,
          -0.6005134255179924,
          -0.439250418717468,
          -0.9401157117773762,
          -1.627107684998559,
          -1.465614492985098,
          2.0313600741972158,
          0.3282335563938324,
          0.5101670130193007,
          0.7585699580260642,
          0.46536300832395544,
          1.5583869371530814,
          -0.7308106991026216,
          2.9587196981584105,
          -0.4296792353062852
         ],
         "xaxis": "x8",
         "y": [
          0.4769431026012106,
          -0.10019126128842715,
          0.6113592162515342,
          -0.8070370418018528,
          0.2763978925358597,
          -0.10720355844112409,
          -0.5903615969727316,
          -0.13055421428039032,
          1.2693444378168242,
          0.8529892166991166,
          0.9325210127082194,
          -0.24958114969826484,
          0.13236018337252933,
          -0.5761867920069248,
          -0.2190615071806342,
          0.6637069422788028,
          0.18305818053502448,
          2.6808423224478246,
          -1.0654428571490364,
          -0.8291462865638127,
          0.054494391458582106,
          -1.2023837369074832,
          1.070784285243506,
          0.15962997085686725,
          0.25054171463418734,
          0.9451835521587554,
          1.430558994837546,
          -0.49260223389592717,
          0.10123049379232833,
          -1.4435471051098858,
          -0.6193153315070554,
          -1.156930328544975,
          -0.8826196284045719,
          1.0009977260930587,
          0.4544280710439374,
          -0.9688836385097156,
          1.4773761326737302,
          1.3773454164431693,
          1.1084251339689797,
          0.5651450676087367,
          0.1387848864141628,
          1.4264525785172326,
          -0.37757980864992063,
          0.6202853071456437,
          0.18004419237638297,
          2.129096335269589,
          0.04973451721719641,
          1.2394810276706119,
          0.8193637123020554,
          -0.05317134097489851,
          -0.24664799954484715,
          0.5331418669922314,
          1.3214390503174918,
          0.5236888999215038,
          0.23287917717351467,
          0.6006932090430144,
          1.0862840410571686,
          2.660470685844886,
          0.6515793111509729,
          0.3884324324252398,
          0.20721984859051978,
          -0.25002746247732804,
          1.153674982774516,
          0.9335273660013991,
          -0.349515394552551,
          1.5247358336307832,
          2.4143324819372887,
          1.2502741563615987,
          0.0893496287677241,
          3.034968760018631,
          -0.13304108425193012,
          -1.0038447287093142,
          -1.9660690740070852,
          -0.7380463039444887,
          -0.48913647757759166,
          -0.49736309395632505,
          -0.8922475224765966,
          1.177202339988743,
          0.1338660112203844,
          -0.18265674871739768,
          -0.929224229936402,
          0.6001450586623118,
          -1.3613736551788942,
          0.18138237038600677,
          -0.704074249023333,
          0.889338266253846,
          -0.7980933887078092,
          -0.6261537265622374,
          -0.6335248289426914,
          0.7543574951401341,
          -0.3631892656708778,
          -0.8037506822775732,
          0.23490382806972052,
          1.5398650558233888,
          -0.40383975283133766,
          0.67976087105031,
          -0.34859922135264265,
          1.441292826564418,
          -0.6637472409501192,
          0.9535293591259538
         ],
         "yaxis": "y8"
        },
        {
         "line": {
          "color": "rgba(128, 128, 128, 1.0)",
          "dash": "solid",
          "shape": "linear",
          "width": 1.3
         },
         "marker": {
          "size": 2,
          "symbol": "circle"
         },
         "mode": "markers",
         "name": "C",
         "text": "",
         "type": "scatter",
         "x": [
          0.10600372573935532,
          0.20749207561513944,
          -1.0393378694469475,
          -0.6836932422094264,
          0.3712406633159747,
          1.8227241947210773,
          -2.262207151026445,
          -1.8970460309624753,
          1.2286043953391381,
          -0.3574193062297222,
          -1.7377734024170408,
          0.5197339233321271,
          -0.06788953602198554,
          -0.40191529592914244,
          -0.43370818219860896,
          -1.1661124908327158,
          1.1909206075148222,
          0.4388735027552563,
          0.03078096636690785,
          1.9362836769431646,
          -0.37075561956492736,
          -0.22921069296146732,
          0.5688691041798098,
          -1.7056023477568323,
          0.07570934350096442,
          0.9263520986244222,
          2.110174197159889,
          0.07056773563634443,
          -1.3740931235677463,
          0.9831289227755879,
          -0.6120200206186656,
          0.15666800087062727,
          -0.01844629565827913,
          -1.4108549888033666,
          -1.0840512483666251,
          0.15007307789236096,
          0.1562200550680007,
          0.6715655265118765,
          -2.5833248405455964,
          -0.9396192348953979,
          0.30327683434061165,
          -0.017701326490219854,
          0.9946009238039645,
          -2.047910052190914,
          0.35534195799578105,
          0.7309389442237206,
          -0.018911812240188265,
          0.5258877279467146,
          -0.7578060225979669,
          0.021273816181194286,
          0.6076296020031607,
          -0.5912050505425559,
          0.6267086559935164,
          2.2603470912323167,
          -0.40959760922837896,
          -1.0999662078027865,
          -1.7244320790470604,
          0.6185762285561729,
          1.215949179679514,
          0.512677421517591,
          1.1468696837108043,
          0.07780582086841593,
          0.3581086513672768,
          1.101114232910788,
          -0.816159235634712,
          1.620708418607869,
          0.050085042836158146,
          0.933719368820452,
          -1.923699435336341,
          0.8298418569096968,
          -0.31898033207002435,
          -1.629422634794213,
          0.7937285580426178,
          -1.141487628713606,
          1.0324380703636866,
          1.6275267747285445,
          1.8828615027230835,
          -1.3108896433586812,
          -0.6231178037822507,
          -0.1514895671878934,
          0.4884180261113317,
          -1.244530345881232,
          -1.7586800032751404,
          0.3293062297921215,
          0.7329470338986954,
          1.9479456523338359,
          0.665343553005202,
          -0.6797658495124682,
          -1.4603444616505636,
          -0.5061330022052487,
          1.3255130564272948,
          1.2819616135045893,
          -0.03846990574957462,
          -1.0597436840005086,
          1.0970280388504754,
          -1.0605874226275647,
          -0.5625504969934049,
          1.3758715701554394,
          -0.30022048190267414,
          -1.297072370793922
         ],
         "xaxis": "x9",
         "y": [
          -0.740778391991077,
          -2.370788299131107,
          0.7705383216088945,
          -0.19823348254001646,
          0.337144393926387,
          -1.3791425684188143,
          0.9439135984128443,
          -1.7840069262341565,
          -0.3283589566067014,
          0.27107259678388174,
          -0.52425125745666,
          0.7385277060960397,
          -0.28241985290436455,
          0.09185725180659102,
          -0.6374861032981809,
          0.37612443404262297,
          0.19759112389177616,
          -1.4332242149976573,
          1.3041313529957643,
          -0.6700098547565597,
          0.8894132050046223,
          1.5259894128331706,
          1.5386910927864714,
          -0.6436919441576353,
          -0.543224218405429,
          0.9991337105958998,
          -0.04801985723525086,
          -0.258367778084267,
          -1.1276404414733174,
          2.725048673075478,
          2.029889742123843,
          -0.46460398854707086,
          -2.1345629460174274,
          0.4459347473133101,
          -0.9049059200357235,
          -2.4114186017782964,
          -1.0962268537649613,
          -0.3778240877249083,
          -0.24039646959993588,
          -1.0463591501115126,
          0.5256490146744969,
          0.33058340853715795,
          0.5846204810221787,
          0.002537022393166431,
          -0.09962215676863742,
          1.4447931181853835,
          0.8426728029581986,
          -1.1361817746625766,
          -0.008968394296665034,
          -0.48781204739486184,
          -0.9123215487337352,
          0.32638912950065835,
          -1.088452259433391,
          0.3173869202896083,
          1.69623724745932,
          -2.0824030478825604,
          0.5519254928488927,
          -0.21934847437350616,
          -0.23902776953629853,
          -0.08654459645164335,
          -2.553277039412643,
          0.1104212805491668,
          -0.7073137841830324,
          -2.865956399416514,
          2.241798588434314,
          0.9983683175266186,
          0.21542665538163305,
          0.9991409057372067,
          0.4419141165472592,
          -0.6333445679930504,
          0.8685954977918708,
          0.4056039746691071,
          0.3524190223013191,
          0.48706349465423615,
          -0.25308813918752876,
          -0.5222210505923375,
          -0.015278130373235426,
          0.5124490432368057,
          0.030975532679304512,
          -1.9305640851420303,
          0.8503886615191434,
          -0.7804448455150669,
          0.14443567782294806,
          -0.09092402921847724,
          -0.4887299581588676,
          -0.5287159719970687,
          -1.2703303662773027,
          -0.16503576003179435,
          0.46048813949652057,
          0.6976144180888608,
          0.405403328004903,
          -0.07909064803112702,
          0.675114373489502,
          1.0764557614830252,
          0.7901433020900879,
          -0.43326872231950847,
          -0.44467071332079094,
          -1.6627832294168092,
          -0.7145759651543581,
          -0.386882271891978
         ],
         "yaxis": "y9"
        },
        {
         "line": {
          "color": "rgba(128, 128, 128, 1.0)",
          "dash": "solid",
          "shape": "linear",
          "width": 1.3
         },
         "marker": {
          "size": 2,
          "symbol": "circle"
         },
         "mode": "markers",
         "name": "C",
         "text": "",
         "type": "scatter",
         "x": [
          0.4769431026012106,
          -0.10019126128842715,
          0.6113592162515342,
          -0.8070370418018528,
          0.2763978925358597,
          -0.10720355844112409,
          -0.5903615969727316,
          -0.13055421428039032,
          1.2693444378168242,
          0.8529892166991166,
          0.9325210127082194,
          -0.24958114969826484,
          0.13236018337252933,
          -0.5761867920069248,
          -0.2190615071806342,
          0.6637069422788028,
          0.18305818053502448,
          2.6808423224478246,
          -1.0654428571490364,
          -0.8291462865638127,
          0.054494391458582106,
          -1.2023837369074832,
          1.070784285243506,
          0.15962997085686725,
          0.25054171463418734,
          0.9451835521587554,
          1.430558994837546,
          -0.49260223389592717,
          0.10123049379232833,
          -1.4435471051098858,
          -0.6193153315070554,
          -1.156930328544975,
          -0.8826196284045719,
          1.0009977260930587,
          0.4544280710439374,
          -0.9688836385097156,
          1.4773761326737302,
          1.3773454164431693,
          1.1084251339689797,
          0.5651450676087367,
          0.1387848864141628,
          1.4264525785172326,
          -0.37757980864992063,
          0.6202853071456437,
          0.18004419237638297,
          2.129096335269589,
          0.04973451721719641,
          1.2394810276706119,
          0.8193637123020554,
          -0.05317134097489851,
          -0.24664799954484715,
          0.5331418669922314,
          1.3214390503174918,
          0.5236888999215038,
          0.23287917717351467,
          0.6006932090430144,
          1.0862840410571686,
          2.660470685844886,
          0.6515793111509729,
          0.3884324324252398,
          0.20721984859051978,
          -0.25002746247732804,
          1.153674982774516,
          0.9335273660013991,
          -0.349515394552551,
          1.5247358336307832,
          2.4143324819372887,
          1.2502741563615987,
          0.0893496287677241,
          3.034968760018631,
          -0.13304108425193012,
          -1.0038447287093142,
          -1.9660690740070852,
          -0.7380463039444887,
          -0.48913647757759166,
          -0.49736309395632505,
          -0.8922475224765966,
          1.177202339988743,
          0.1338660112203844,
          -0.18265674871739768,
          -0.929224229936402,
          0.6001450586623118,
          -1.3613736551788942,
          0.18138237038600677,
          -0.704074249023333,
          0.889338266253846,
          -0.7980933887078092,
          -0.6261537265622374,
          -0.6335248289426914,
          0.7543574951401341,
          -0.3631892656708778,
          -0.8037506822775732,
          0.23490382806972052,
          1.5398650558233888,
          -0.40383975283133766,
          0.67976087105031,
          -0.34859922135264265,
          1.441292826564418,
          -0.6637472409501192,
          0.9535293591259538
         ],
         "xaxis": "x10",
         "y": [
          -0.740778391991077,
          -2.370788299131107,
          0.7705383216088945,
          -0.19823348254001646,
          0.337144393926387,
          -1.3791425684188143,
          0.9439135984128443,
          -1.7840069262341565,
          -0.3283589566067014,
          0.27107259678388174,
          -0.52425125745666,
          0.7385277060960397,
          -0.28241985290436455,
          0.09185725180659102,
          -0.6374861032981809,
          0.37612443404262297,
          0.19759112389177616,
          -1.4332242149976573,
          1.3041313529957643,
          -0.6700098547565597,
          0.8894132050046223,
          1.5259894128331706,
          1.5386910927864714,
          -0.6436919441576353,
          -0.543224218405429,
          0.9991337105958998,
          -0.04801985723525086,
          -0.258367778084267,
          -1.1276404414733174,
          2.725048673075478,
          2.029889742123843,
          -0.46460398854707086,
          -2.1345629460174274,
          0.4459347473133101,
          -0.9049059200357235,
          -2.4114186017782964,
          -1.0962268537649613,
          -0.3778240877249083,
          -0.24039646959993588,
          -1.0463591501115126,
          0.5256490146744969,
          0.33058340853715795,
          0.5846204810221787,
          0.002537022393166431,
          -0.09962215676863742,
          1.4447931181853835,
          0.8426728029581986,
          -1.1361817746625766,
          -0.008968394296665034,
          -0.48781204739486184,
          -0.9123215487337352,
          0.32638912950065835,
          -1.088452259433391,
          0.3173869202896083,
          1.69623724745932,
          -2.0824030478825604,
          0.5519254928488927,
          -0.21934847437350616,
          -0.23902776953629853,
          -0.08654459645164335,
          -2.553277039412643,
          0.1104212805491668,
          -0.7073137841830324,
          -2.865956399416514,
          2.241798588434314,
          0.9983683175266186,
          0.21542665538163305,
          0.9991409057372067,
          0.4419141165472592,
          -0.6333445679930504,
          0.8685954977918708,
          0.4056039746691071,
          0.3524190223013191,
          0.48706349465423615,
          -0.25308813918752876,
          -0.5222210505923375,
          -0.015278130373235426,
          0.5124490432368057,
          0.030975532679304512,
          -1.9305640851420303,
          0.8503886615191434,
          -0.7804448455150669,
          0.14443567782294806,
          -0.09092402921847724,
          -0.4887299581588676,
          -0.5287159719970687,
          -1.2703303662773027,
          -0.16503576003179435,
          0.46048813949652057,
          0.6976144180888608,
          0.405403328004903,
          -0.07909064803112702,
          0.675114373489502,
          1.0764557614830252,
          0.7901433020900879,
          -0.43326872231950847,
          -0.44467071332079094,
          -1.6627832294168092,
          -0.7145759651543581,
          -0.386882271891978
         ],
         "yaxis": "y10"
        },
        {
         "histfunc": "count",
         "histnorm": "",
         "marker": {
          "color": "rgba(50, 171, 96, 1.0)",
          "line": {
           "color": "#4D5663",
           "width": 1.3
          }
         },
         "name": "C",
         "nbinsx": 10,
         "opacity": 0.8,
         "orientation": "v",
         "type": "histogram",
         "x": [
          -0.740778391991077,
          -2.370788299131107,
          0.7705383216088945,
          -0.19823348254001646,
          0.337144393926387,
          -1.3791425684188143,
          0.9439135984128443,
          -1.7840069262341565,
          -0.3283589566067014,
          0.27107259678388174,
          -0.52425125745666,
          0.7385277060960397,
          -0.28241985290436455,
          0.09185725180659102,
          -0.6374861032981809,
          0.37612443404262297,
          0.19759112389177616,
          -1.4332242149976573,
          1.3041313529957643,
          -0.6700098547565597,
          0.8894132050046223,
          1.5259894128331706,
          1.5386910927864714,
          -0.6436919441576353,
          -0.543224218405429,
          0.9991337105958998,
          -0.04801985723525086,
          -0.258367778084267,
          -1.1276404414733174,
          2.725048673075478,
          2.029889742123843,
          -0.46460398854707086,
          -2.1345629460174274,
          0.4459347473133101,
          -0.9049059200357235,
          -2.4114186017782964,
          -1.0962268537649613,
          -0.3778240877249083,
          -0.24039646959993588,
          -1.0463591501115126,
          0.5256490146744969,
          0.33058340853715795,
          0.5846204810221787,
          0.002537022393166431,
          -0.09962215676863742,
          1.4447931181853835,
          0.8426728029581986,
          -1.1361817746625766,
          -0.008968394296665034,
          -0.48781204739486184,
          -0.9123215487337352,
          0.32638912950065835,
          -1.088452259433391,
          0.3173869202896083,
          1.69623724745932,
          -2.0824030478825604,
          0.5519254928488927,
          -0.21934847437350616,
          -0.23902776953629853,
          -0.08654459645164335,
          -2.553277039412643,
          0.1104212805491668,
          -0.7073137841830324,
          -2.865956399416514,
          2.241798588434314,
          0.9983683175266186,
          0.21542665538163305,
          0.9991409057372067,
          0.4419141165472592,
          -0.6333445679930504,
          0.8685954977918708,
          0.4056039746691071,
          0.3524190223013191,
          0.48706349465423615,
          -0.25308813918752876,
          -0.5222210505923375,
          -0.015278130373235426,
          0.5124490432368057,
          0.030975532679304512,
          -1.9305640851420303,
          0.8503886615191434,
          -0.7804448455150669,
          0.14443567782294806,
          -0.09092402921847724,
          -0.4887299581588676,
          -0.5287159719970687,
          -1.2703303662773027,
          -0.16503576003179435,
          0.46048813949652057,
          0.6976144180888608,
          0.405403328004903,
          -0.07909064803112702,
          0.675114373489502,
          1.0764557614830252,
          0.7901433020900879,
          -0.43326872231950847,
          -0.44467071332079094,
          -1.6627832294168092,
          -0.7145759651543581,
          -0.386882271891978
         ],
         "xaxis": "x11",
         "yaxis": "y11"
        },
        {
         "line": {
          "color": "rgba(128, 128, 128, 1.0)",
          "dash": "solid",
          "shape": "linear",
          "width": 1.3
         },
         "marker": {
          "size": 2,
          "symbol": "circle"
         },
         "mode": "markers",
         "name": "C",
         "text": "",
         "type": "scatter",
         "x": [
          -0.11329342116274008,
          -1.3574377750489648,
          1.9220449619482292,
          -2.459575173476962,
          0.22799790532202172,
          -0.6330919663247148,
          0.6577347410618968,
          -1.636811758240445,
          0.24254381752850562,
          -0.19871070045933223,
          0.06705022148339189,
          -0.8071860394487,
          1.0255169386400966,
          0.9163675724429156,
          -0.36297287807831025,
          0.5938245988004833,
          1.9616114818187456,
          1.2219187270279168,
          1.89159323245367,
          0.9252585461058572,
          -0.06849918911132674,
          -1.7449934717307074,
          -1.1204986606457699,
          0.4109899560906177,
          -0.7595748608958052,
          -0.26830483787800213,
          -0.07202709747021875,
          0.050654569645124436,
          -0.24072185895746046,
          -1.7568108619039302,
          1.8725808472966645,
          -0.008680308534701371,
          1.623380280545073,
          0.11317833450631196,
          -0.6695896037160816,
          1.4761587780318361,
          0.6375767126016454,
          -0.5801213714353558,
          0.9270673557079773,
          -1.4718028175674562,
          1.097696666925897,
          -1.8117956205685124,
          0.7848247435000166,
          -0.29100051106013647,
          0.8846838193112712,
          1.4844705701154899,
          1.1689770690035524,
          -1.16528111485165,
          -1.4934832626778773,
          -1.1810178426436153,
          -1.2216892294024275,
          -1.036259552786968,
          0.41626215551337675,
          -1.0659658119394881,
          2.7405016615912112,
          0.2308666485169981,
          -0.7864739853800282,
          0.1379059787072001,
          1.2868607547453876,
          -0.28481278530242604,
          0.732481925255684,
          0.8308152091040132,
          0.06236128711802095,
          -0.19430247449342214,
          1.1073076493162546,
          -0.669804072634468,
          1.4792233884506674,
          0.41961258474089974,
          0.6215167378919153,
          -0.40231521782114515,
          -0.3632484923100821,
          0.1185430684370369,
          -0.2774648519849218,
          -0.3020128974515804,
          -0.3971863004040808,
          1.6287897391266177,
          0.8751625396431753,
          -0.40117917355624305,
          -1.581383232106049,
          -1.2374617413623668,
          2.110745170760792,
          -0.9500063721048858,
          0.58099951949188,
          1.0333897687603022,
          2.3639580399261573,
          -0.7304198843562436,
          -0.6005134255179924,
          -0.439250418717468,
          -0.9401157117773762,
          -1.627107684998559,
          -1.465614492985098,
          2.0313600741972158,
          0.3282335563938324,
          0.5101670130193007,
          0.7585699580260642,
          0.46536300832395544,
          1.5583869371530814,
          -0.7308106991026216,
          2.9587196981584105,
          -0.4296792353062852
         ],
         "xaxis": "x12",
         "y": [
          -0.740778391991077,
          -2.370788299131107,
          0.7705383216088945,
          -0.19823348254001646,
          0.337144393926387,
          -1.3791425684188143,
          0.9439135984128443,
          -1.7840069262341565,
          -0.3283589566067014,
          0.27107259678388174,
          -0.52425125745666,
          0.7385277060960397,
          -0.28241985290436455,
          0.09185725180659102,
          -0.6374861032981809,
          0.37612443404262297,
          0.19759112389177616,
          -1.4332242149976573,
          1.3041313529957643,
          -0.6700098547565597,
          0.8894132050046223,
          1.5259894128331706,
          1.5386910927864714,
          -0.6436919441576353,
          -0.543224218405429,
          0.9991337105958998,
          -0.04801985723525086,
          -0.258367778084267,
          -1.1276404414733174,
          2.725048673075478,
          2.029889742123843,
          -0.46460398854707086,
          -2.1345629460174274,
          0.4459347473133101,
          -0.9049059200357235,
          -2.4114186017782964,
          -1.0962268537649613,
          -0.3778240877249083,
          -0.24039646959993588,
          -1.0463591501115126,
          0.5256490146744969,
          0.33058340853715795,
          0.5846204810221787,
          0.002537022393166431,
          -0.09962215676863742,
          1.4447931181853835,
          0.8426728029581986,
          -1.1361817746625766,
          -0.008968394296665034,
          -0.48781204739486184,
          -0.9123215487337352,
          0.32638912950065835,
          -1.088452259433391,
          0.3173869202896083,
          1.69623724745932,
          -2.0824030478825604,
          0.5519254928488927,
          -0.21934847437350616,
          -0.23902776953629853,
          -0.08654459645164335,
          -2.553277039412643,
          0.1104212805491668,
          -0.7073137841830324,
          -2.865956399416514,
          2.241798588434314,
          0.9983683175266186,
          0.21542665538163305,
          0.9991409057372067,
          0.4419141165472592,
          -0.6333445679930504,
          0.8685954977918708,
          0.4056039746691071,
          0.3524190223013191,
          0.48706349465423615,
          -0.25308813918752876,
          -0.5222210505923375,
          -0.015278130373235426,
          0.5124490432368057,
          0.030975532679304512,
          -1.9305640851420303,
          0.8503886615191434,
          -0.7804448455150669,
          0.14443567782294806,
          -0.09092402921847724,
          -0.4887299581588676,
          -0.5287159719970687,
          -1.2703303662773027,
          -0.16503576003179435,
          0.46048813949652057,
          0.6976144180888608,
          0.405403328004903,
          -0.07909064803112702,
          0.675114373489502,
          1.0764557614830252,
          0.7901433020900879,
          -0.43326872231950847,
          -0.44467071332079094,
          -1.6627832294168092,
          -0.7145759651543581,
          -0.386882271891978
         ],
         "yaxis": "y12"
        },
        {
         "line": {
          "color": "rgba(128, 128, 128, 1.0)",
          "dash": "solid",
          "shape": "linear",
          "width": 1.3
         },
         "marker": {
          "size": 2,
          "symbol": "circle"
         },
         "mode": "markers",
         "name": "D",
         "text": "",
         "type": "scatter",
         "x": [
          0.10600372573935532,
          0.20749207561513944,
          -1.0393378694469475,
          -0.6836932422094264,
          0.3712406633159747,
          1.8227241947210773,
          -2.262207151026445,
          -1.8970460309624753,
          1.2286043953391381,
          -0.3574193062297222,
          -1.7377734024170408,
          0.5197339233321271,
          -0.06788953602198554,
          -0.40191529592914244,
          -0.43370818219860896,
          -1.1661124908327158,
          1.1909206075148222,
          0.4388735027552563,
          0.03078096636690785,
          1.9362836769431646,
          -0.37075561956492736,
          -0.22921069296146732,
          0.5688691041798098,
          -1.7056023477568323,
          0.07570934350096442,
          0.9263520986244222,
          2.110174197159889,
          0.07056773563634443,
          -1.3740931235677463,
          0.9831289227755879,
          -0.6120200206186656,
          0.15666800087062727,
          -0.01844629565827913,
          -1.4108549888033666,
          -1.0840512483666251,
          0.15007307789236096,
          0.1562200550680007,
          0.6715655265118765,
          -2.5833248405455964,
          -0.9396192348953979,
          0.30327683434061165,
          -0.017701326490219854,
          0.9946009238039645,
          -2.047910052190914,
          0.35534195799578105,
          0.7309389442237206,
          -0.018911812240188265,
          0.5258877279467146,
          -0.7578060225979669,
          0.021273816181194286,
          0.6076296020031607,
          -0.5912050505425559,
          0.6267086559935164,
          2.2603470912323167,
          -0.40959760922837896,
          -1.0999662078027865,
          -1.7244320790470604,
          0.6185762285561729,
          1.215949179679514,
          0.512677421517591,
          1.1468696837108043,
          0.07780582086841593,
          0.3581086513672768,
          1.101114232910788,
          -0.816159235634712,
          1.620708418607869,
          0.050085042836158146,
          0.933719368820452,
          -1.923699435336341,
          0.8298418569096968,
          -0.31898033207002435,
          -1.629422634794213,
          0.7937285580426178,
          -1.141487628713606,
          1.0324380703636866,
          1.6275267747285445,
          1.8828615027230835,
          -1.3108896433586812,
          -0.6231178037822507,
          -0.1514895671878934,
          0.4884180261113317,
          -1.244530345881232,
          -1.7586800032751404,
          0.3293062297921215,
          0.7329470338986954,
          1.9479456523338359,
          0.665343553005202,
          -0.6797658495124682,
          -1.4603444616505636,
          -0.5061330022052487,
          1.3255130564272948,
          1.2819616135045893,
          -0.03846990574957462,
          -1.0597436840005086,
          1.0970280388504754,
          -1.0605874226275647,
          -0.5625504969934049,
          1.3758715701554394,
          -0.30022048190267414,
          -1.297072370793922
         ],
         "xaxis": "x13",
         "y": [
          -0.11329342116274008,
          -1.3574377750489648,
          1.9220449619482292,
          -2.459575173476962,
          0.22799790532202172,
          -0.6330919663247148,
          0.6577347410618968,
          -1.636811758240445,
          0.24254381752850562,
          -0.19871070045933223,
          0.06705022148339189,
          -0.8071860394487,
          1.0255169386400966,
          0.9163675724429156,
          -0.36297287807831025,
          0.5938245988004833,
          1.9616114818187456,
          1.2219187270279168,
          1.89159323245367,
          0.9252585461058572,
          -0.06849918911132674,
          -1.7449934717307074,
          -1.1204986606457699,
          0.4109899560906177,
          -0.7595748608958052,
          -0.26830483787800213,
          -0.07202709747021875,
          0.050654569645124436,
          -0.24072185895746046,
          -1.7568108619039302,
          1.8725808472966645,
          -0.008680308534701371,
          1.623380280545073,
          0.11317833450631196,
          -0.6695896037160816,
          1.4761587780318361,
          0.6375767126016454,
          -0.5801213714353558,
          0.9270673557079773,
          -1.4718028175674562,
          1.097696666925897,
          -1.8117956205685124,
          0.7848247435000166,
          -0.29100051106013647,
          0.8846838193112712,
          1.4844705701154899,
          1.1689770690035524,
          -1.16528111485165,
          -1.4934832626778773,
          -1.1810178426436153,
          -1.2216892294024275,
          -1.036259552786968,
          0.41626215551337675,
          -1.0659658119394881,
          2.7405016615912112,
          0.2308666485169981,
          -0.7864739853800282,
          0.1379059787072001,
          1.2868607547453876,
          -0.28481278530242604,
          0.732481925255684,
          0.8308152091040132,
          0.06236128711802095,
          -0.19430247449342214,
          1.1073076493162546,
          -0.669804072634468,
          1.4792233884506674,
          0.41961258474089974,
          0.6215167378919153,
          -0.40231521782114515,
          -0.3632484923100821,
          0.1185430684370369,
          -0.2774648519849218,
          -0.3020128974515804,
          -0.3971863004040808,
          1.6287897391266177,
          0.8751625396431753,
          -0.40117917355624305,
          -1.581383232106049,
          -1.2374617413623668,
          2.110745170760792,
          -0.9500063721048858,
          0.58099951949188,
          1.0333897687603022,
          2.3639580399261573,
          -0.7304198843562436,
          -0.6005134255179924,
          -0.439250418717468,
          -0.9401157117773762,
          -1.627107684998559,
          -1.465614492985098,
          2.0313600741972158,
          0.3282335563938324,
          0.5101670130193007,
          0.7585699580260642,
          0.46536300832395544,
          1.5583869371530814,
          -0.7308106991026216,
          2.9587196981584105,
          -0.4296792353062852
         ],
         "yaxis": "y13"
        },
        {
         "line": {
          "color": "rgba(128, 128, 128, 1.0)",
          "dash": "solid",
          "shape": "linear",
          "width": 1.3
         },
         "marker": {
          "size": 2,
          "symbol": "circle"
         },
         "mode": "markers",
         "name": "D",
         "text": "",
         "type": "scatter",
         "x": [
          0.4769431026012106,
          -0.10019126128842715,
          0.6113592162515342,
          -0.8070370418018528,
          0.2763978925358597,
          -0.10720355844112409,
          -0.5903615969727316,
          -0.13055421428039032,
          1.2693444378168242,
          0.8529892166991166,
          0.9325210127082194,
          -0.24958114969826484,
          0.13236018337252933,
          -0.5761867920069248,
          -0.2190615071806342,
          0.6637069422788028,
          0.18305818053502448,
          2.6808423224478246,
          -1.0654428571490364,
          -0.8291462865638127,
          0.054494391458582106,
          -1.2023837369074832,
          1.070784285243506,
          0.15962997085686725,
          0.25054171463418734,
          0.9451835521587554,
          1.430558994837546,
          -0.49260223389592717,
          0.10123049379232833,
          -1.4435471051098858,
          -0.6193153315070554,
          -1.156930328544975,
          -0.8826196284045719,
          1.0009977260930587,
          0.4544280710439374,
          -0.9688836385097156,
          1.4773761326737302,
          1.3773454164431693,
          1.1084251339689797,
          0.5651450676087367,
          0.1387848864141628,
          1.4264525785172326,
          -0.37757980864992063,
          0.6202853071456437,
          0.18004419237638297,
          2.129096335269589,
          0.04973451721719641,
          1.2394810276706119,
          0.8193637123020554,
          -0.05317134097489851,
          -0.24664799954484715,
          0.5331418669922314,
          1.3214390503174918,
          0.5236888999215038,
          0.23287917717351467,
          0.6006932090430144,
          1.0862840410571686,
          2.660470685844886,
          0.6515793111509729,
          0.3884324324252398,
          0.20721984859051978,
          -0.25002746247732804,
          1.153674982774516,
          0.9335273660013991,
          -0.349515394552551,
          1.5247358336307832,
          2.4143324819372887,
          1.2502741563615987,
          0.0893496287677241,
          3.034968760018631,
          -0.13304108425193012,
          -1.0038447287093142,
          -1.9660690740070852,
          -0.7380463039444887,
          -0.48913647757759166,
          -0.49736309395632505,
          -0.8922475224765966,
          1.177202339988743,
          0.1338660112203844,
          -0.18265674871739768,
          -0.929224229936402,
          0.6001450586623118,
          -1.3613736551788942,
          0.18138237038600677,
          -0.704074249023333,
          0.889338266253846,
          -0.7980933887078092,
          -0.6261537265622374,
          -0.6335248289426914,
          0.7543574951401341,
          -0.3631892656708778,
          -0.8037506822775732,
          0.23490382806972052,
          1.5398650558233888,
          -0.40383975283133766,
          0.67976087105031,
          -0.34859922135264265,
          1.441292826564418,
          -0.6637472409501192,
          0.9535293591259538
         ],
         "xaxis": "x14",
         "y": [
          -0.11329342116274008,
          -1.3574377750489648,
          1.9220449619482292,
          -2.459575173476962,
          0.22799790532202172,
          -0.6330919663247148,
          0.6577347410618968,
          -1.636811758240445,
          0.24254381752850562,
          -0.19871070045933223,
          0.06705022148339189,
          -0.8071860394487,
          1.0255169386400966,
          0.9163675724429156,
          -0.36297287807831025,
          0.5938245988004833,
          1.9616114818187456,
          1.2219187270279168,
          1.89159323245367,
          0.9252585461058572,
          -0.06849918911132674,
          -1.7449934717307074,
          -1.1204986606457699,
          0.4109899560906177,
          -0.7595748608958052,
          -0.26830483787800213,
          -0.07202709747021875,
          0.050654569645124436,
          -0.24072185895746046,
          -1.7568108619039302,
          1.8725808472966645,
          -0.008680308534701371,
          1.623380280545073,
          0.11317833450631196,
          -0.6695896037160816,
          1.4761587780318361,
          0.6375767126016454,
          -0.5801213714353558,
          0.9270673557079773,
          -1.4718028175674562,
          1.097696666925897,
          -1.8117956205685124,
          0.7848247435000166,
          -0.29100051106013647,
          0.8846838193112712,
          1.4844705701154899,
          1.1689770690035524,
          -1.16528111485165,
          -1.4934832626778773,
          -1.1810178426436153,
          -1.2216892294024275,
          -1.036259552786968,
          0.41626215551337675,
          -1.0659658119394881,
          2.7405016615912112,
          0.2308666485169981,
          -0.7864739853800282,
          0.1379059787072001,
          1.2868607547453876,
          -0.28481278530242604,
          0.732481925255684,
          0.8308152091040132,
          0.06236128711802095,
          -0.19430247449342214,
          1.1073076493162546,
          -0.669804072634468,
          1.4792233884506674,
          0.41961258474089974,
          0.6215167378919153,
          -0.40231521782114515,
          -0.3632484923100821,
          0.1185430684370369,
          -0.2774648519849218,
          -0.3020128974515804,
          -0.3971863004040808,
          1.6287897391266177,
          0.8751625396431753,
          -0.40117917355624305,
          -1.581383232106049,
          -1.2374617413623668,
          2.110745170760792,
          -0.9500063721048858,
          0.58099951949188,
          1.0333897687603022,
          2.3639580399261573,
          -0.7304198843562436,
          -0.6005134255179924,
          -0.439250418717468,
          -0.9401157117773762,
          -1.627107684998559,
          -1.465614492985098,
          2.0313600741972158,
          0.3282335563938324,
          0.5101670130193007,
          0.7585699580260642,
          0.46536300832395544,
          1.5583869371530814,
          -0.7308106991026216,
          2.9587196981584105,
          -0.4296792353062852
         ],
         "yaxis": "y14"
        },
        {
         "line": {
          "color": "rgba(128, 128, 128, 1.0)",
          "dash": "solid",
          "shape": "linear",
          "width": 1.3
         },
         "marker": {
          "size": 2,
          "symbol": "circle"
         },
         "mode": "markers",
         "name": "D",
         "text": "",
         "type": "scatter",
         "x": [
          -0.740778391991077,
          -2.370788299131107,
          0.7705383216088945,
          -0.19823348254001646,
          0.337144393926387,
          -1.3791425684188143,
          0.9439135984128443,
          -1.7840069262341565,
          -0.3283589566067014,
          0.27107259678388174,
          -0.52425125745666,
          0.7385277060960397,
          -0.28241985290436455,
          0.09185725180659102,
          -0.6374861032981809,
          0.37612443404262297,
          0.19759112389177616,
          -1.4332242149976573,
          1.3041313529957643,
          -0.6700098547565597,
          0.8894132050046223,
          1.5259894128331706,
          1.5386910927864714,
          -0.6436919441576353,
          -0.543224218405429,
          0.9991337105958998,
          -0.04801985723525086,
          -0.258367778084267,
          -1.1276404414733174,
          2.725048673075478,
          2.029889742123843,
          -0.46460398854707086,
          -2.1345629460174274,
          0.4459347473133101,
          -0.9049059200357235,
          -2.4114186017782964,
          -1.0962268537649613,
          -0.3778240877249083,
          -0.24039646959993588,
          -1.0463591501115126,
          0.5256490146744969,
          0.33058340853715795,
          0.5846204810221787,
          0.002537022393166431,
          -0.09962215676863742,
          1.4447931181853835,
          0.8426728029581986,
          -1.1361817746625766,
          -0.008968394296665034,
          -0.48781204739486184,
          -0.9123215487337352,
          0.32638912950065835,
          -1.088452259433391,
          0.3173869202896083,
          1.69623724745932,
          -2.0824030478825604,
          0.5519254928488927,
          -0.21934847437350616,
          -0.23902776953629853,
          -0.08654459645164335,
          -2.553277039412643,
          0.1104212805491668,
          -0.7073137841830324,
          -2.865956399416514,
          2.241798588434314,
          0.9983683175266186,
          0.21542665538163305,
          0.9991409057372067,
          0.4419141165472592,
          -0.6333445679930504,
          0.8685954977918708,
          0.4056039746691071,
          0.3524190223013191,
          0.48706349465423615,
          -0.25308813918752876,
          -0.5222210505923375,
          -0.015278130373235426,
          0.5124490432368057,
          0.030975532679304512,
          -1.9305640851420303,
          0.8503886615191434,
          -0.7804448455150669,
          0.14443567782294806,
          -0.09092402921847724,
          -0.4887299581588676,
          -0.5287159719970687,
          -1.2703303662773027,
          -0.16503576003179435,
          0.46048813949652057,
          0.6976144180888608,
          0.405403328004903,
          -0.07909064803112702,
          0.675114373489502,
          1.0764557614830252,
          0.7901433020900879,
          -0.43326872231950847,
          -0.44467071332079094,
          -1.6627832294168092,
          -0.7145759651543581,
          -0.386882271891978
         ],
         "xaxis": "x15",
         "y": [
          -0.11329342116274008,
          -1.3574377750489648,
          1.9220449619482292,
          -2.459575173476962,
          0.22799790532202172,
          -0.6330919663247148,
          0.6577347410618968,
          -1.636811758240445,
          0.24254381752850562,
          -0.19871070045933223,
          0.06705022148339189,
          -0.8071860394487,
          1.0255169386400966,
          0.9163675724429156,
          -0.36297287807831025,
          0.5938245988004833,
          1.9616114818187456,
          1.2219187270279168,
          1.89159323245367,
          0.9252585461058572,
          -0.06849918911132674,
          -1.7449934717307074,
          -1.1204986606457699,
          0.4109899560906177,
          -0.7595748608958052,
          -0.26830483787800213,
          -0.07202709747021875,
          0.050654569645124436,
          -0.24072185895746046,
          -1.7568108619039302,
          1.8725808472966645,
          -0.008680308534701371,
          1.623380280545073,
          0.11317833450631196,
          -0.6695896037160816,
          1.4761587780318361,
          0.6375767126016454,
          -0.5801213714353558,
          0.9270673557079773,
          -1.4718028175674562,
          1.097696666925897,
          -1.8117956205685124,
          0.7848247435000166,
          -0.29100051106013647,
          0.8846838193112712,
          1.4844705701154899,
          1.1689770690035524,
          -1.16528111485165,
          -1.4934832626778773,
          -1.1810178426436153,
          -1.2216892294024275,
          -1.036259552786968,
          0.41626215551337675,
          -1.0659658119394881,
          2.7405016615912112,
          0.2308666485169981,
          -0.7864739853800282,
          0.1379059787072001,
          1.2868607547453876,
          -0.28481278530242604,
          0.732481925255684,
          0.8308152091040132,
          0.06236128711802095,
          -0.19430247449342214,
          1.1073076493162546,
          -0.669804072634468,
          1.4792233884506674,
          0.41961258474089974,
          0.6215167378919153,
          -0.40231521782114515,
          -0.3632484923100821,
          0.1185430684370369,
          -0.2774648519849218,
          -0.3020128974515804,
          -0.3971863004040808,
          1.6287897391266177,
          0.8751625396431753,
          -0.40117917355624305,
          -1.581383232106049,
          -1.2374617413623668,
          2.110745170760792,
          -0.9500063721048858,
          0.58099951949188,
          1.0333897687603022,
          2.3639580399261573,
          -0.7304198843562436,
          -0.6005134255179924,
          -0.439250418717468,
          -0.9401157117773762,
          -1.627107684998559,
          -1.465614492985098,
          2.0313600741972158,
          0.3282335563938324,
          0.5101670130193007,
          0.7585699580260642,
          0.46536300832395544,
          1.5583869371530814,
          -0.7308106991026216,
          2.9587196981584105,
          -0.4296792353062852
         ],
         "yaxis": "y15"
        },
        {
         "histfunc": "count",
         "histnorm": "",
         "marker": {
          "color": "rgba(128, 0, 128, 1.0)",
          "line": {
           "color": "#4D5663",
           "width": 1.3
          }
         },
         "name": "D",
         "nbinsx": 10,
         "opacity": 0.8,
         "orientation": "v",
         "type": "histogram",
         "x": [
          -0.11329342116274008,
          -1.3574377750489648,
          1.9220449619482292,
          -2.459575173476962,
          0.22799790532202172,
          -0.6330919663247148,
          0.6577347410618968,
          -1.636811758240445,
          0.24254381752850562,
          -0.19871070045933223,
          0.06705022148339189,
          -0.8071860394487,
          1.0255169386400966,
          0.9163675724429156,
          -0.36297287807831025,
          0.5938245988004833,
          1.9616114818187456,
          1.2219187270279168,
          1.89159323245367,
          0.9252585461058572,
          -0.06849918911132674,
          -1.7449934717307074,
          -1.1204986606457699,
          0.4109899560906177,
          -0.7595748608958052,
          -0.26830483787800213,
          -0.07202709747021875,
          0.050654569645124436,
          -0.24072185895746046,
          -1.7568108619039302,
          1.8725808472966645,
          -0.008680308534701371,
          1.623380280545073,
          0.11317833450631196,
          -0.6695896037160816,
          1.4761587780318361,
          0.6375767126016454,
          -0.5801213714353558,
          0.9270673557079773,
          -1.4718028175674562,
          1.097696666925897,
          -1.8117956205685124,
          0.7848247435000166,
          -0.29100051106013647,
          0.8846838193112712,
          1.4844705701154899,
          1.1689770690035524,
          -1.16528111485165,
          -1.4934832626778773,
          -1.1810178426436153,
          -1.2216892294024275,
          -1.036259552786968,
          0.41626215551337675,
          -1.0659658119394881,
          2.7405016615912112,
          0.2308666485169981,
          -0.7864739853800282,
          0.1379059787072001,
          1.2868607547453876,
          -0.28481278530242604,
          0.732481925255684,
          0.8308152091040132,
          0.06236128711802095,
          -0.19430247449342214,
          1.1073076493162546,
          -0.669804072634468,
          1.4792233884506674,
          0.41961258474089974,
          0.6215167378919153,
          -0.40231521782114515,
          -0.3632484923100821,
          0.1185430684370369,
          -0.2774648519849218,
          -0.3020128974515804,
          -0.3971863004040808,
          1.6287897391266177,
          0.8751625396431753,
          -0.40117917355624305,
          -1.581383232106049,
          -1.2374617413623668,
          2.110745170760792,
          -0.9500063721048858,
          0.58099951949188,
          1.0333897687603022,
          2.3639580399261573,
          -0.7304198843562436,
          -0.6005134255179924,
          -0.439250418717468,
          -0.9401157117773762,
          -1.627107684998559,
          -1.465614492985098,
          2.0313600741972158,
          0.3282335563938324,
          0.5101670130193007,
          0.7585699580260642,
          0.46536300832395544,
          1.5583869371530814,
          -0.7308106991026216,
          2.9587196981584105,
          -0.4296792353062852
         ],
         "xaxis": "x16",
         "yaxis": "y16"
        }
       ],
       "layout": {
        "bargap": 0.02,
        "legend": {
         "bgcolor": "#F5F6F9",
         "font": {
          "color": "#4D5663"
         }
        },
        "paper_bgcolor": "#F5F6F9",
        "plot_bgcolor": "#F5F6F9",
        "showlegend": false,
        "template": {
         "data": {
          "bar": [
           {
            "error_x": {
             "color": "#2a3f5f"
            },
            "error_y": {
             "color": "#2a3f5f"
            },
            "marker": {
             "line": {
              "color": "#E5ECF6",
              "width": 0.5
             },
             "pattern": {
              "fillmode": "overlay",
              "size": 10,
              "solidity": 0.2
             }
            },
            "type": "bar"
           }
          ],
          "barpolar": [
           {
            "marker": {
             "line": {
              "color": "#E5ECF6",
              "width": 0.5
             },
             "pattern": {
              "fillmode": "overlay",
              "size": 10,
              "solidity": 0.2
             }
            },
            "type": "barpolar"
           }
          ],
          "carpet": [
           {
            "aaxis": {
             "endlinecolor": "#2a3f5f",
             "gridcolor": "white",
             "linecolor": "white",
             "minorgridcolor": "white",
             "startlinecolor": "#2a3f5f"
            },
            "baxis": {
             "endlinecolor": "#2a3f5f",
             "gridcolor": "white",
             "linecolor": "white",
             "minorgridcolor": "white",
             "startlinecolor": "#2a3f5f"
            },
            "type": "carpet"
           }
          ],
          "choropleth": [
           {
            "colorbar": {
             "outlinewidth": 0,
             "ticks": ""
            },
            "type": "choropleth"
           }
          ],
          "contour": [
           {
            "colorbar": {
             "outlinewidth": 0,
             "ticks": ""
            },
            "colorscale": [
             [
              0,
              "#0d0887"
             ],
             [
              0.1111111111111111,
              "#46039f"
             ],
             [
              0.2222222222222222,
              "#7201a8"
             ],
             [
              0.3333333333333333,
              "#9c179e"
             ],
             [
              0.4444444444444444,
              "#bd3786"
             ],
             [
              0.5555555555555556,
              "#d8576b"
             ],
             [
              0.6666666666666666,
              "#ed7953"
             ],
             [
              0.7777777777777778,
              "#fb9f3a"
             ],
             [
              0.8888888888888888,
              "#fdca26"
             ],
             [
              1,
              "#f0f921"
             ]
            ],
            "type": "contour"
           }
          ],
          "contourcarpet": [
           {
            "colorbar": {
             "outlinewidth": 0,
             "ticks": ""
            },
            "type": "contourcarpet"
           }
          ],
          "heatmap": [
           {
            "colorbar": {
             "outlinewidth": 0,
             "ticks": ""
            },
            "colorscale": [
             [
              0,
              "#0d0887"
             ],
             [
              0.1111111111111111,
              "#46039f"
             ],
             [
              0.2222222222222222,
              "#7201a8"
             ],
             [
              0.3333333333333333,
              "#9c179e"
             ],
             [
              0.4444444444444444,
              "#bd3786"
             ],
             [
              0.5555555555555556,
              "#d8576b"
             ],
             [
              0.6666666666666666,
              "#ed7953"
             ],
             [
              0.7777777777777778,
              "#fb9f3a"
             ],
             [
              0.8888888888888888,
              "#fdca26"
             ],
             [
              1,
              "#f0f921"
             ]
            ],
            "type": "heatmap"
           }
          ],
          "heatmapgl": [
           {
            "colorbar": {
             "outlinewidth": 0,
             "ticks": ""
            },
            "colorscale": [
             [
              0,
              "#0d0887"
             ],
             [
              0.1111111111111111,
              "#46039f"
             ],
             [
              0.2222222222222222,
              "#7201a8"
             ],
             [
              0.3333333333333333,
              "#9c179e"
             ],
             [
              0.4444444444444444,
              "#bd3786"
             ],
             [
              0.5555555555555556,
              "#d8576b"
             ],
             [
              0.6666666666666666,
              "#ed7953"
             ],
             [
              0.7777777777777778,
              "#fb9f3a"
             ],
             [
              0.8888888888888888,
              "#fdca26"
             ],
             [
              1,
              "#f0f921"
             ]
            ],
            "type": "heatmapgl"
           }
          ],
          "histogram": [
           {
            "marker": {
             "pattern": {
              "fillmode": "overlay",
              "size": 10,
              "solidity": 0.2
             }
            },
            "type": "histogram"
           }
          ],
          "histogram2d": [
           {
            "colorbar": {
             "outlinewidth": 0,
             "ticks": ""
            },
            "colorscale": [
             [
              0,
              "#0d0887"
             ],
             [
              0.1111111111111111,
              "#46039f"
             ],
             [
              0.2222222222222222,
              "#7201a8"
             ],
             [
              0.3333333333333333,
              "#9c179e"
             ],
             [
              0.4444444444444444,
              "#bd3786"
             ],
             [
              0.5555555555555556,
              "#d8576b"
             ],
             [
              0.6666666666666666,
              "#ed7953"
             ],
             [
              0.7777777777777778,
              "#fb9f3a"
             ],
             [
              0.8888888888888888,
              "#fdca26"
             ],
             [
              1,
              "#f0f921"
             ]
            ],
            "type": "histogram2d"
           }
          ],
          "histogram2dcontour": [
           {
            "colorbar": {
             "outlinewidth": 0,
             "ticks": ""
            },
            "colorscale": [
             [
              0,
              "#0d0887"
             ],
             [
              0.1111111111111111,
              "#46039f"
             ],
             [
              0.2222222222222222,
              "#7201a8"
             ],
             [
              0.3333333333333333,
              "#9c179e"
             ],
             [
              0.4444444444444444,
              "#bd3786"
             ],
             [
              0.5555555555555556,
              "#d8576b"
             ],
             [
              0.6666666666666666,
              "#ed7953"
             ],
             [
              0.7777777777777778,
              "#fb9f3a"
             ],
             [
              0.8888888888888888,
              "#fdca26"
             ],
             [
              1,
              "#f0f921"
             ]
            ],
            "type": "histogram2dcontour"
           }
          ],
          "mesh3d": [
           {
            "colorbar": {
             "outlinewidth": 0,
             "ticks": ""
            },
            "type": "mesh3d"
           }
          ],
          "parcoords": [
           {
            "line": {
             "colorbar": {
              "outlinewidth": 0,
              "ticks": ""
             }
            },
            "type": "parcoords"
           }
          ],
          "pie": [
           {
            "automargin": true,
            "type": "pie"
           }
          ],
          "scatter": [
           {
            "fillpattern": {
             "fillmode": "overlay",
             "size": 10,
             "solidity": 0.2
            },
            "type": "scatter"
           }
          ],
          "scatter3d": [
           {
            "line": {
             "colorbar": {
              "outlinewidth": 0,
              "ticks": ""
             }
            },
            "marker": {
             "colorbar": {
              "outlinewidth": 0,
              "ticks": ""
             }
            },
            "type": "scatter3d"
           }
          ],
          "scattercarpet": [
           {
            "marker": {
             "colorbar": {
              "outlinewidth": 0,
              "ticks": ""
             }
            },
            "type": "scattercarpet"
           }
          ],
          "scattergeo": [
           {
            "marker": {
             "colorbar": {
              "outlinewidth": 0,
              "ticks": ""
             }
            },
            "type": "scattergeo"
           }
          ],
          "scattergl": [
           {
            "marker": {
             "colorbar": {
              "outlinewidth": 0,
              "ticks": ""
             }
            },
            "type": "scattergl"
           }
          ],
          "scattermapbox": [
           {
            "marker": {
             "colorbar": {
              "outlinewidth": 0,
              "ticks": ""
             }
            },
            "type": "scattermapbox"
           }
          ],
          "scatterpolar": [
           {
            "marker": {
             "colorbar": {
              "outlinewidth": 0,
              "ticks": ""
             }
            },
            "type": "scatterpolar"
           }
          ],
          "scatterpolargl": [
           {
            "marker": {
             "colorbar": {
              "outlinewidth": 0,
              "ticks": ""
             }
            },
            "type": "scatterpolargl"
           }
          ],
          "scatterternary": [
           {
            "marker": {
             "colorbar": {
              "outlinewidth": 0,
              "ticks": ""
             }
            },
            "type": "scatterternary"
           }
          ],
          "surface": [
           {
            "colorbar": {
             "outlinewidth": 0,
             "ticks": ""
            },
            "colorscale": [
             [
              0,
              "#0d0887"
             ],
             [
              0.1111111111111111,
              "#46039f"
             ],
             [
              0.2222222222222222,
              "#7201a8"
             ],
             [
              0.3333333333333333,
              "#9c179e"
             ],
             [
              0.4444444444444444,
              "#bd3786"
             ],
             [
              0.5555555555555556,
              "#d8576b"
             ],
             [
              0.6666666666666666,
              "#ed7953"
             ],
             [
              0.7777777777777778,
              "#fb9f3a"
             ],
             [
              0.8888888888888888,
              "#fdca26"
             ],
             [
              1,
              "#f0f921"
             ]
            ],
            "type": "surface"
           }
          ],
          "table": [
           {
            "cells": {
             "fill": {
              "color": "#EBF0F8"
             },
             "line": {
              "color": "white"
             }
            },
            "header": {
             "fill": {
              "color": "#C8D4E3"
             },
             "line": {
              "color": "white"
             }
            },
            "type": "table"
           }
          ]
         },
         "layout": {
          "annotationdefaults": {
           "arrowcolor": "#2a3f5f",
           "arrowhead": 0,
           "arrowwidth": 1
          },
          "autotypenumbers": "strict",
          "coloraxis": {
           "colorbar": {
            "outlinewidth": 0,
            "ticks": ""
           }
          },
          "colorscale": {
           "diverging": [
            [
             0,
             "#8e0152"
            ],
            [
             0.1,
             "#c51b7d"
            ],
            [
             0.2,
             "#de77ae"
            ],
            [
             0.3,
             "#f1b6da"
            ],
            [
             0.4,
             "#fde0ef"
            ],
            [
             0.5,
             "#f7f7f7"
            ],
            [
             0.6,
             "#e6f5d0"
            ],
            [
             0.7,
             "#b8e186"
            ],
            [
             0.8,
             "#7fbc41"
            ],
            [
             0.9,
             "#4d9221"
            ],
            [
             1,
             "#276419"
            ]
           ],
           "sequential": [
            [
             0,
             "#0d0887"
            ],
            [
             0.1111111111111111,
             "#46039f"
            ],
            [
             0.2222222222222222,
             "#7201a8"
            ],
            [
             0.3333333333333333,
             "#9c179e"
            ],
            [
             0.4444444444444444,
             "#bd3786"
            ],
            [
             0.5555555555555556,
             "#d8576b"
            ],
            [
             0.6666666666666666,
             "#ed7953"
            ],
            [
             0.7777777777777778,
             "#fb9f3a"
            ],
            [
             0.8888888888888888,
             "#fdca26"
            ],
            [
             1,
             "#f0f921"
            ]
           ],
           "sequentialminus": [
            [
             0,
             "#0d0887"
            ],
            [
             0.1111111111111111,
             "#46039f"
            ],
            [
             0.2222222222222222,
             "#7201a8"
            ],
            [
             0.3333333333333333,
             "#9c179e"
            ],
            [
             0.4444444444444444,
             "#bd3786"
            ],
            [
             0.5555555555555556,
             "#d8576b"
            ],
            [
             0.6666666666666666,
             "#ed7953"
            ],
            [
             0.7777777777777778,
             "#fb9f3a"
            ],
            [
             0.8888888888888888,
             "#fdca26"
            ],
            [
             1,
             "#f0f921"
            ]
           ]
          },
          "colorway": [
           "#636efa",
           "#EF553B",
           "#00cc96",
           "#ab63fa",
           "#FFA15A",
           "#19d3f3",
           "#FF6692",
           "#B6E880",
           "#FF97FF",
           "#FECB52"
          ],
          "font": {
           "color": "#2a3f5f"
          },
          "geo": {
           "bgcolor": "white",
           "lakecolor": "white",
           "landcolor": "#E5ECF6",
           "showlakes": true,
           "showland": true,
           "subunitcolor": "white"
          },
          "hoverlabel": {
           "align": "left"
          },
          "hovermode": "closest",
          "mapbox": {
           "style": "light"
          },
          "paper_bgcolor": "white",
          "plot_bgcolor": "#E5ECF6",
          "polar": {
           "angularaxis": {
            "gridcolor": "white",
            "linecolor": "white",
            "ticks": ""
           },
           "bgcolor": "#E5ECF6",
           "radialaxis": {
            "gridcolor": "white",
            "linecolor": "white",
            "ticks": ""
           }
          },
          "scene": {
           "xaxis": {
            "backgroundcolor": "#E5ECF6",
            "gridcolor": "white",
            "gridwidth": 2,
            "linecolor": "white",
            "showbackground": true,
            "ticks": "",
            "zerolinecolor": "white"
           },
           "yaxis": {
            "backgroundcolor": "#E5ECF6",
            "gridcolor": "white",
            "gridwidth": 2,
            "linecolor": "white",
            "showbackground": true,
            "ticks": "",
            "zerolinecolor": "white"
           },
           "zaxis": {
            "backgroundcolor": "#E5ECF6",
            "gridcolor": "white",
            "gridwidth": 2,
            "linecolor": "white",
            "showbackground": true,
            "ticks": "",
            "zerolinecolor": "white"
           }
          },
          "shapedefaults": {
           "line": {
            "color": "#2a3f5f"
           }
          },
          "ternary": {
           "aaxis": {
            "gridcolor": "white",
            "linecolor": "white",
            "ticks": ""
           },
           "baxis": {
            "gridcolor": "white",
            "linecolor": "white",
            "ticks": ""
           },
           "bgcolor": "#E5ECF6",
           "caxis": {
            "gridcolor": "white",
            "linecolor": "white",
            "ticks": ""
           }
          },
          "title": {
           "x": 0.05
          },
          "xaxis": {
           "automargin": true,
           "gridcolor": "white",
           "linecolor": "white",
           "ticks": "",
           "title": {
            "standoff": 15
           },
           "zerolinecolor": "white",
           "zerolinewidth": 2
          },
          "yaxis": {
           "automargin": true,
           "gridcolor": "white",
           "linecolor": "white",
           "ticks": "",
           "title": {
            "standoff": 15
           },
           "zerolinecolor": "white",
           "zerolinewidth": 2
          }
         }
        },
        "title": {
         "font": {
          "color": "#4D5663"
         }
        },
        "xaxis": {
         "anchor": "y",
         "domain": [
          0,
          0.2125
         ],
         "gridcolor": "#E1E5ED",
         "showgrid": false,
         "tickfont": {
          "color": "#4D5663"
         },
         "title": {
          "font": {
           "color": "#4D5663"
          },
          "text": ""
         },
         "zerolinecolor": "#E1E5ED"
        },
        "xaxis10": {
         "anchor": "y10",
         "domain": [
          0.2625,
          0.475
         ],
         "gridcolor": "#E1E5ED",
         "showgrid": false,
         "tickfont": {
          "color": "#4D5663"
         },
         "title": {
          "font": {
           "color": "#4D5663"
          },
          "text": ""
         },
         "zerolinecolor": "#E1E5ED"
        },
        "xaxis11": {
         "anchor": "y11",
         "domain": [
          0.525,
          0.7375
         ],
         "gridcolor": "#E1E5ED",
         "showgrid": false,
         "tickfont": {
          "color": "#4D5663"
         },
         "title": {
          "font": {
           "color": "#4D5663"
          },
          "text": ""
         },
         "zerolinecolor": "#E1E5ED"
        },
        "xaxis12": {
         "anchor": "y12",
         "domain": [
          0.7875,
          1
         ],
         "gridcolor": "#E1E5ED",
         "showgrid": false,
         "tickfont": {
          "color": "#4D5663"
         },
         "title": {
          "font": {
           "color": "#4D5663"
          },
          "text": ""
         },
         "zerolinecolor": "#E1E5ED"
        },
        "xaxis13": {
         "anchor": "y13",
         "domain": [
          0,
          0.2125
         ],
         "gridcolor": "#E1E5ED",
         "showgrid": false,
         "tickfont": {
          "color": "#4D5663"
         },
         "title": {
          "font": {
           "color": "#4D5663"
          },
          "text": ""
         },
         "zerolinecolor": "#E1E5ED"
        },
        "xaxis14": {
         "anchor": "y14",
         "domain": [
          0.2625,
          0.475
         ],
         "gridcolor": "#E1E5ED",
         "showgrid": false,
         "tickfont": {
          "color": "#4D5663"
         },
         "title": {
          "font": {
           "color": "#4D5663"
          },
          "text": ""
         },
         "zerolinecolor": "#E1E5ED"
        },
        "xaxis15": {
         "anchor": "y15",
         "domain": [
          0.525,
          0.7375
         ],
         "gridcolor": "#E1E5ED",
         "showgrid": false,
         "tickfont": {
          "color": "#4D5663"
         },
         "title": {
          "font": {
           "color": "#4D5663"
          },
          "text": ""
         },
         "zerolinecolor": "#E1E5ED"
        },
        "xaxis16": {
         "anchor": "y16",
         "domain": [
          0.7875,
          1
         ],
         "gridcolor": "#E1E5ED",
         "showgrid": false,
         "tickfont": {
          "color": "#4D5663"
         },
         "title": {
          "font": {
           "color": "#4D5663"
          },
          "text": ""
         },
         "zerolinecolor": "#E1E5ED"
        },
        "xaxis2": {
         "anchor": "y2",
         "domain": [
          0.2625,
          0.475
         ],
         "gridcolor": "#E1E5ED",
         "showgrid": false,
         "tickfont": {
          "color": "#4D5663"
         },
         "title": {
          "font": {
           "color": "#4D5663"
          },
          "text": ""
         },
         "zerolinecolor": "#E1E5ED"
        },
        "xaxis3": {
         "anchor": "y3",
         "domain": [
          0.525,
          0.7375
         ],
         "gridcolor": "#E1E5ED",
         "showgrid": false,
         "tickfont": {
          "color": "#4D5663"
         },
         "title": {
          "font": {
           "color": "#4D5663"
          },
          "text": ""
         },
         "zerolinecolor": "#E1E5ED"
        },
        "xaxis4": {
         "anchor": "y4",
         "domain": [
          0.7875,
          1
         ],
         "gridcolor": "#E1E5ED",
         "showgrid": false,
         "tickfont": {
          "color": "#4D5663"
         },
         "title": {
          "font": {
           "color": "#4D5663"
          },
          "text": ""
         },
         "zerolinecolor": "#E1E5ED"
        },
        "xaxis5": {
         "anchor": "y5",
         "domain": [
          0,
          0.2125
         ],
         "gridcolor": "#E1E5ED",
         "showgrid": false,
         "tickfont": {
          "color": "#4D5663"
         },
         "title": {
          "font": {
           "color": "#4D5663"
          },
          "text": ""
         },
         "zerolinecolor": "#E1E5ED"
        },
        "xaxis6": {
         "anchor": "y6",
         "domain": [
          0.2625,
          0.475
         ],
         "gridcolor": "#E1E5ED",
         "showgrid": false,
         "tickfont": {
          "color": "#4D5663"
         },
         "title": {
          "font": {
           "color": "#4D5663"
          },
          "text": ""
         },
         "zerolinecolor": "#E1E5ED"
        },
        "xaxis7": {
         "anchor": "y7",
         "domain": [
          0.525,
          0.7375
         ],
         "gridcolor": "#E1E5ED",
         "showgrid": false,
         "tickfont": {
          "color": "#4D5663"
         },
         "title": {
          "font": {
           "color": "#4D5663"
          },
          "text": ""
         },
         "zerolinecolor": "#E1E5ED"
        },
        "xaxis8": {
         "anchor": "y8",
         "domain": [
          0.7875,
          1
         ],
         "gridcolor": "#E1E5ED",
         "showgrid": false,
         "tickfont": {
          "color": "#4D5663"
         },
         "title": {
          "font": {
           "color": "#4D5663"
          },
          "text": ""
         },
         "zerolinecolor": "#E1E5ED"
        },
        "xaxis9": {
         "anchor": "y9",
         "domain": [
          0,
          0.2125
         ],
         "gridcolor": "#E1E5ED",
         "showgrid": false,
         "tickfont": {
          "color": "#4D5663"
         },
         "title": {
          "font": {
           "color": "#4D5663"
          },
          "text": ""
         },
         "zerolinecolor": "#E1E5ED"
        },
        "yaxis": {
         "anchor": "x",
         "domain": [
          0.8025,
          1
         ],
         "gridcolor": "#E1E5ED",
         "showgrid": false,
         "tickfont": {
          "color": "#4D5663"
         },
         "title": {
          "font": {
           "color": "#4D5663"
          },
          "text": ""
         },
         "zerolinecolor": "#E1E5ED"
        },
        "yaxis10": {
         "anchor": "x10",
         "domain": [
          0.2675,
          0.465
         ],
         "gridcolor": "#E1E5ED",
         "showgrid": false,
         "tickfont": {
          "color": "#4D5663"
         },
         "title": {
          "font": {
           "color": "#4D5663"
          },
          "text": ""
         },
         "zerolinecolor": "#E1E5ED"
        },
        "yaxis11": {
         "anchor": "x11",
         "domain": [
          0.2675,
          0.465
         ],
         "gridcolor": "#E1E5ED",
         "showgrid": false,
         "tickfont": {
          "color": "#4D5663"
         },
         "title": {
          "font": {
           "color": "#4D5663"
          },
          "text": ""
         },
         "zerolinecolor": "#E1E5ED"
        },
        "yaxis12": {
         "anchor": "x12",
         "domain": [
          0.2675,
          0.465
         ],
         "gridcolor": "#E1E5ED",
         "showgrid": false,
         "tickfont": {
          "color": "#4D5663"
         },
         "title": {
          "font": {
           "color": "#4D5663"
          },
          "text": ""
         },
         "zerolinecolor": "#E1E5ED"
        },
        "yaxis13": {
         "anchor": "x13",
         "domain": [
          0,
          0.1975
         ],
         "gridcolor": "#E1E5ED",
         "showgrid": false,
         "tickfont": {
          "color": "#4D5663"
         },
         "title": {
          "font": {
           "color": "#4D5663"
          },
          "text": ""
         },
         "zerolinecolor": "#E1E5ED"
        },
        "yaxis14": {
         "anchor": "x14",
         "domain": [
          0,
          0.1975
         ],
         "gridcolor": "#E1E5ED",
         "showgrid": false,
         "tickfont": {
          "color": "#4D5663"
         },
         "title": {
          "font": {
           "color": "#4D5663"
          },
          "text": ""
         },
         "zerolinecolor": "#E1E5ED"
        },
        "yaxis15": {
         "anchor": "x15",
         "domain": [
          0,
          0.1975
         ],
         "gridcolor": "#E1E5ED",
         "showgrid": false,
         "tickfont": {
          "color": "#4D5663"
         },
         "title": {
          "font": {
           "color": "#4D5663"
          },
          "text": ""
         },
         "zerolinecolor": "#E1E5ED"
        },
        "yaxis16": {
         "anchor": "x16",
         "domain": [
          0,
          0.1975
         ],
         "gridcolor": "#E1E5ED",
         "showgrid": false,
         "tickfont": {
          "color": "#4D5663"
         },
         "title": {
          "font": {
           "color": "#4D5663"
          },
          "text": ""
         },
         "zerolinecolor": "#E1E5ED"
        },
        "yaxis2": {
         "anchor": "x2",
         "domain": [
          0.8025,
          1
         ],
         "gridcolor": "#E1E5ED",
         "showgrid": false,
         "tickfont": {
          "color": "#4D5663"
         },
         "title": {
          "font": {
           "color": "#4D5663"
          },
          "text": ""
         },
         "zerolinecolor": "#E1E5ED"
        },
        "yaxis3": {
         "anchor": "x3",
         "domain": [
          0.8025,
          1
         ],
         "gridcolor": "#E1E5ED",
         "showgrid": false,
         "tickfont": {
          "color": "#4D5663"
         },
         "title": {
          "font": {
           "color": "#4D5663"
          },
          "text": ""
         },
         "zerolinecolor": "#E1E5ED"
        },
        "yaxis4": {
         "anchor": "x4",
         "domain": [
          0.8025,
          1
         ],
         "gridcolor": "#E1E5ED",
         "showgrid": false,
         "tickfont": {
          "color": "#4D5663"
         },
         "title": {
          "font": {
           "color": "#4D5663"
          },
          "text": ""
         },
         "zerolinecolor": "#E1E5ED"
        },
        "yaxis5": {
         "anchor": "x5",
         "domain": [
          0.535,
          0.7325
         ],
         "gridcolor": "#E1E5ED",
         "showgrid": false,
         "tickfont": {
          "color": "#4D5663"
         },
         "title": {
          "font": {
           "color": "#4D5663"
          },
          "text": ""
         },
         "zerolinecolor": "#E1E5ED"
        },
        "yaxis6": {
         "anchor": "x6",
         "domain": [
          0.535,
          0.7325
         ],
         "gridcolor": "#E1E5ED",
         "showgrid": false,
         "tickfont": {
          "color": "#4D5663"
         },
         "title": {
          "font": {
           "color": "#4D5663"
          },
          "text": ""
         },
         "zerolinecolor": "#E1E5ED"
        },
        "yaxis7": {
         "anchor": "x7",
         "domain": [
          0.535,
          0.7325
         ],
         "gridcolor": "#E1E5ED",
         "showgrid": false,
         "tickfont": {
          "color": "#4D5663"
         },
         "title": {
          "font": {
           "color": "#4D5663"
          },
          "text": ""
         },
         "zerolinecolor": "#E1E5ED"
        },
        "yaxis8": {
         "anchor": "x8",
         "domain": [
          0.535,
          0.7325
         ],
         "gridcolor": "#E1E5ED",
         "showgrid": false,
         "tickfont": {
          "color": "#4D5663"
         },
         "title": {
          "font": {
           "color": "#4D5663"
          },
          "text": ""
         },
         "zerolinecolor": "#E1E5ED"
        },
        "yaxis9": {
         "anchor": "x9",
         "domain": [
          0.2675,
          0.465
         ],
         "gridcolor": "#E1E5ED",
         "showgrid": false,
         "tickfont": {
          "color": "#4D5663"
         },
         "title": {
          "font": {
           "color": "#4D5663"
          },
          "text": ""
         },
         "zerolinecolor": "#E1E5ED"
        }
       }
      },
      "text/html": [
       "<div>                            <div id=\"ee145357-e270-49d4-a1c2-7c4c23de03fe\" class=\"plotly-graph-div\" style=\"height:525px; width:100%;\"></div>            <script type=\"text/javascript\">                require([\"plotly\"], function(Plotly) {                    window.PLOTLYENV=window.PLOTLYENV || {};\n",
       "                    window.PLOTLYENV.BASE_URL='https://plot.ly';                                    if (document.getElementById(\"ee145357-e270-49d4-a1c2-7c4c23de03fe\")) {                    Plotly.newPlot(                        \"ee145357-e270-49d4-a1c2-7c4c23de03fe\",                        [{\"histfunc\":\"count\",\"histnorm\":\"\",\"marker\":{\"color\":\"rgba(255, 153, 51, 1.0)\",\"line\":{\"color\":\"#4D5663\",\"width\":1.3}},\"name\":\"A\",\"nbinsx\":10,\"opacity\":0.8,\"orientation\":\"v\",\"x\":[0.10600372573935532,0.20749207561513944,-1.0393378694469475,-0.6836932422094264,0.3712406633159747,1.8227241947210773,-2.262207151026445,-1.8970460309624753,1.2286043953391381,-0.3574193062297222,-1.7377734024170408,0.5197339233321271,-0.06788953602198554,-0.40191529592914244,-0.43370818219860896,-1.1661124908327158,1.1909206075148222,0.4388735027552563,0.03078096636690785,1.9362836769431646,-0.37075561956492736,-0.22921069296146732,0.5688691041798098,-1.7056023477568323,0.07570934350096442,0.9263520986244222,2.110174197159889,0.07056773563634443,-1.3740931235677463,0.9831289227755879,-0.6120200206186656,0.15666800087062727,-0.01844629565827913,-1.4108549888033666,-1.0840512483666251,0.15007307789236096,0.1562200550680007,0.6715655265118765,-2.5833248405455964,-0.9396192348953979,0.30327683434061165,-0.017701326490219854,0.9946009238039645,-2.047910052190914,0.35534195799578105,0.7309389442237206,-0.018911812240188265,0.5258877279467146,-0.7578060225979669,0.021273816181194286,0.6076296020031607,-0.5912050505425559,0.6267086559935164,2.2603470912323167,-0.40959760922837896,-1.0999662078027865,-1.7244320790470604,0.6185762285561729,1.215949179679514,0.512677421517591,1.1468696837108043,0.07780582086841593,0.3581086513672768,1.101114232910788,-0.816159235634712,1.620708418607869,0.050085042836158146,0.933719368820452,-1.923699435336341,0.8298418569096968,-0.31898033207002435,-1.629422634794213,0.7937285580426178,-1.141487628713606,1.0324380703636866,1.6275267747285445,1.8828615027230835,-1.3108896433586812,-0.6231178037822507,-0.1514895671878934,0.4884180261113317,-1.244530345881232,-1.7586800032751404,0.3293062297921215,0.7329470338986954,1.9479456523338359,0.665343553005202,-0.6797658495124682,-1.4603444616505636,-0.5061330022052487,1.3255130564272948,1.2819616135045893,-0.03846990574957462,-1.0597436840005086,1.0970280388504754,-1.0605874226275647,-0.5625504969934049,1.3758715701554394,-0.30022048190267414,-1.297072370793922],\"xaxis\":\"x\",\"yaxis\":\"y\",\"type\":\"histogram\"},{\"line\":{\"color\":\"rgba(128, 128, 128, 1.0)\",\"dash\":\"solid\",\"shape\":\"linear\",\"width\":1.3},\"marker\":{\"size\":2,\"symbol\":\"circle\"},\"mode\":\"markers\",\"name\":\"A\",\"text\":\"\",\"x\":[0.4769431026012106,-0.10019126128842715,0.6113592162515342,-0.8070370418018528,0.2763978925358597,-0.10720355844112409,-0.5903615969727316,-0.13055421428039032,1.2693444378168242,0.8529892166991166,0.9325210127082194,-0.24958114969826484,0.13236018337252933,-0.5761867920069248,-0.2190615071806342,0.6637069422788028,0.18305818053502448,2.6808423224478246,-1.0654428571490364,-0.8291462865638127,0.054494391458582106,-1.2023837369074832,1.070784285243506,0.15962997085686725,0.25054171463418734,0.9451835521587554,1.430558994837546,-0.49260223389592717,0.10123049379232833,-1.4435471051098858,-0.6193153315070554,-1.156930328544975,-0.8826196284045719,1.0009977260930587,0.4544280710439374,-0.9688836385097156,1.4773761326737302,1.3773454164431693,1.1084251339689797,0.5651450676087367,0.1387848864141628,1.4264525785172326,-0.37757980864992063,0.6202853071456437,0.18004419237638297,2.129096335269589,0.04973451721719641,1.2394810276706119,0.8193637123020554,-0.05317134097489851,-0.24664799954484715,0.5331418669922314,1.3214390503174918,0.5236888999215038,0.23287917717351467,0.6006932090430144,1.0862840410571686,2.660470685844886,0.6515793111509729,0.3884324324252398,0.20721984859051978,-0.25002746247732804,1.153674982774516,0.9335273660013991,-0.349515394552551,1.5247358336307832,2.4143324819372887,1.2502741563615987,0.0893496287677241,3.034968760018631,-0.13304108425193012,-1.0038447287093142,-1.9660690740070852,-0.7380463039444887,-0.48913647757759166,-0.49736309395632505,-0.8922475224765966,1.177202339988743,0.1338660112203844,-0.18265674871739768,-0.929224229936402,0.6001450586623118,-1.3613736551788942,0.18138237038600677,-0.704074249023333,0.889338266253846,-0.7980933887078092,-0.6261537265622374,-0.6335248289426914,0.7543574951401341,-0.3631892656708778,-0.8037506822775732,0.23490382806972052,1.5398650558233888,-0.40383975283133766,0.67976087105031,-0.34859922135264265,1.441292826564418,-0.6637472409501192,0.9535293591259538],\"xaxis\":\"x2\",\"y\":[0.10600372573935532,0.20749207561513944,-1.0393378694469475,-0.6836932422094264,0.3712406633159747,1.8227241947210773,-2.262207151026445,-1.8970460309624753,1.2286043953391381,-0.3574193062297222,-1.7377734024170408,0.5197339233321271,-0.06788953602198554,-0.40191529592914244,-0.43370818219860896,-1.1661124908327158,1.1909206075148222,0.4388735027552563,0.03078096636690785,1.9362836769431646,-0.37075561956492736,-0.22921069296146732,0.5688691041798098,-1.7056023477568323,0.07570934350096442,0.9263520986244222,2.110174197159889,0.07056773563634443,-1.3740931235677463,0.9831289227755879,-0.6120200206186656,0.15666800087062727,-0.01844629565827913,-1.4108549888033666,-1.0840512483666251,0.15007307789236096,0.1562200550680007,0.6715655265118765,-2.5833248405455964,-0.9396192348953979,0.30327683434061165,-0.017701326490219854,0.9946009238039645,-2.047910052190914,0.35534195799578105,0.7309389442237206,-0.018911812240188265,0.5258877279467146,-0.7578060225979669,0.021273816181194286,0.6076296020031607,-0.5912050505425559,0.6267086559935164,2.2603470912323167,-0.40959760922837896,-1.0999662078027865,-1.7244320790470604,0.6185762285561729,1.215949179679514,0.512677421517591,1.1468696837108043,0.07780582086841593,0.3581086513672768,1.101114232910788,-0.816159235634712,1.620708418607869,0.050085042836158146,0.933719368820452,-1.923699435336341,0.8298418569096968,-0.31898033207002435,-1.629422634794213,0.7937285580426178,-1.141487628713606,1.0324380703636866,1.6275267747285445,1.8828615027230835,-1.3108896433586812,-0.6231178037822507,-0.1514895671878934,0.4884180261113317,-1.244530345881232,-1.7586800032751404,0.3293062297921215,0.7329470338986954,1.9479456523338359,0.665343553005202,-0.6797658495124682,-1.4603444616505636,-0.5061330022052487,1.3255130564272948,1.2819616135045893,-0.03846990574957462,-1.0597436840005086,1.0970280388504754,-1.0605874226275647,-0.5625504969934049,1.3758715701554394,-0.30022048190267414,-1.297072370793922],\"yaxis\":\"y2\",\"type\":\"scatter\"},{\"line\":{\"color\":\"rgba(128, 128, 128, 1.0)\",\"dash\":\"solid\",\"shape\":\"linear\",\"width\":1.3},\"marker\":{\"size\":2,\"symbol\":\"circle\"},\"mode\":\"markers\",\"name\":\"A\",\"text\":\"\",\"x\":[-0.740778391991077,-2.370788299131107,0.7705383216088945,-0.19823348254001646,0.337144393926387,-1.3791425684188143,0.9439135984128443,-1.7840069262341565,-0.3283589566067014,0.27107259678388174,-0.52425125745666,0.7385277060960397,-0.28241985290436455,0.09185725180659102,-0.6374861032981809,0.37612443404262297,0.19759112389177616,-1.4332242149976573,1.3041313529957643,-0.6700098547565597,0.8894132050046223,1.5259894128331706,1.5386910927864714,-0.6436919441576353,-0.543224218405429,0.9991337105958998,-0.04801985723525086,-0.258367778084267,-1.1276404414733174,2.725048673075478,2.029889742123843,-0.46460398854707086,-2.1345629460174274,0.4459347473133101,-0.9049059200357235,-2.4114186017782964,-1.0962268537649613,-0.3778240877249083,-0.24039646959993588,-1.0463591501115126,0.5256490146744969,0.33058340853715795,0.5846204810221787,0.002537022393166431,-0.09962215676863742,1.4447931181853835,0.8426728029581986,-1.1361817746625766,-0.008968394296665034,-0.48781204739486184,-0.9123215487337352,0.32638912950065835,-1.088452259433391,0.3173869202896083,1.69623724745932,-2.0824030478825604,0.5519254928488927,-0.21934847437350616,-0.23902776953629853,-0.08654459645164335,-2.553277039412643,0.1104212805491668,-0.7073137841830324,-2.865956399416514,2.241798588434314,0.9983683175266186,0.21542665538163305,0.9991409057372067,0.4419141165472592,-0.6333445679930504,0.8685954977918708,0.4056039746691071,0.3524190223013191,0.48706349465423615,-0.25308813918752876,-0.5222210505923375,-0.015278130373235426,0.5124490432368057,0.030975532679304512,-1.9305640851420303,0.8503886615191434,-0.7804448455150669,0.14443567782294806,-0.09092402921847724,-0.4887299581588676,-0.5287159719970687,-1.2703303662773027,-0.16503576003179435,0.46048813949652057,0.6976144180888608,0.405403328004903,-0.07909064803112702,0.675114373489502,1.0764557614830252,0.7901433020900879,-0.43326872231950847,-0.44467071332079094,-1.6627832294168092,-0.7145759651543581,-0.386882271891978],\"xaxis\":\"x3\",\"y\":[0.10600372573935532,0.20749207561513944,-1.0393378694469475,-0.6836932422094264,0.3712406633159747,1.8227241947210773,-2.262207151026445,-1.8970460309624753,1.2286043953391381,-0.3574193062297222,-1.7377734024170408,0.5197339233321271,-0.06788953602198554,-0.40191529592914244,-0.43370818219860896,-1.1661124908327158,1.1909206075148222,0.4388735027552563,0.03078096636690785,1.9362836769431646,-0.37075561956492736,-0.22921069296146732,0.5688691041798098,-1.7056023477568323,0.07570934350096442,0.9263520986244222,2.110174197159889,0.07056773563634443,-1.3740931235677463,0.9831289227755879,-0.6120200206186656,0.15666800087062727,-0.01844629565827913,-1.4108549888033666,-1.0840512483666251,0.15007307789236096,0.1562200550680007,0.6715655265118765,-2.5833248405455964,-0.9396192348953979,0.30327683434061165,-0.017701326490219854,0.9946009238039645,-2.047910052190914,0.35534195799578105,0.7309389442237206,-0.018911812240188265,0.5258877279467146,-0.7578060225979669,0.021273816181194286,0.6076296020031607,-0.5912050505425559,0.6267086559935164,2.2603470912323167,-0.40959760922837896,-1.0999662078027865,-1.7244320790470604,0.6185762285561729,1.215949179679514,0.512677421517591,1.1468696837108043,0.07780582086841593,0.3581086513672768,1.101114232910788,-0.816159235634712,1.620708418607869,0.050085042836158146,0.933719368820452,-1.923699435336341,0.8298418569096968,-0.31898033207002435,-1.629422634794213,0.7937285580426178,-1.141487628713606,1.0324380703636866,1.6275267747285445,1.8828615027230835,-1.3108896433586812,-0.6231178037822507,-0.1514895671878934,0.4884180261113317,-1.244530345881232,-1.7586800032751404,0.3293062297921215,0.7329470338986954,1.9479456523338359,0.665343553005202,-0.6797658495124682,-1.4603444616505636,-0.5061330022052487,1.3255130564272948,1.2819616135045893,-0.03846990574957462,-1.0597436840005086,1.0970280388504754,-1.0605874226275647,-0.5625504969934049,1.3758715701554394,-0.30022048190267414,-1.297072370793922],\"yaxis\":\"y3\",\"type\":\"scatter\"},{\"line\":{\"color\":\"rgba(128, 128, 128, 1.0)\",\"dash\":\"solid\",\"shape\":\"linear\",\"width\":1.3},\"marker\":{\"size\":2,\"symbol\":\"circle\"},\"mode\":\"markers\",\"name\":\"A\",\"text\":\"\",\"x\":[-0.11329342116274008,-1.3574377750489648,1.9220449619482292,-2.459575173476962,0.22799790532202172,-0.6330919663247148,0.6577347410618968,-1.636811758240445,0.24254381752850562,-0.19871070045933223,0.06705022148339189,-0.8071860394487,1.0255169386400966,0.9163675724429156,-0.36297287807831025,0.5938245988004833,1.9616114818187456,1.2219187270279168,1.89159323245367,0.9252585461058572,-0.06849918911132674,-1.7449934717307074,-1.1204986606457699,0.4109899560906177,-0.7595748608958052,-0.26830483787800213,-0.07202709747021875,0.050654569645124436,-0.24072185895746046,-1.7568108619039302,1.8725808472966645,-0.008680308534701371,1.623380280545073,0.11317833450631196,-0.6695896037160816,1.4761587780318361,0.6375767126016454,-0.5801213714353558,0.9270673557079773,-1.4718028175674562,1.097696666925897,-1.8117956205685124,0.7848247435000166,-0.29100051106013647,0.8846838193112712,1.4844705701154899,1.1689770690035524,-1.16528111485165,-1.4934832626778773,-1.1810178426436153,-1.2216892294024275,-1.036259552786968,0.41626215551337675,-1.0659658119394881,2.7405016615912112,0.2308666485169981,-0.7864739853800282,0.1379059787072001,1.2868607547453876,-0.28481278530242604,0.732481925255684,0.8308152091040132,0.06236128711802095,-0.19430247449342214,1.1073076493162546,-0.669804072634468,1.4792233884506674,0.41961258474089974,0.6215167378919153,-0.40231521782114515,-0.3632484923100821,0.1185430684370369,-0.2774648519849218,-0.3020128974515804,-0.3971863004040808,1.6287897391266177,0.8751625396431753,-0.40117917355624305,-1.581383232106049,-1.2374617413623668,2.110745170760792,-0.9500063721048858,0.58099951949188,1.0333897687603022,2.3639580399261573,-0.7304198843562436,-0.6005134255179924,-0.439250418717468,-0.9401157117773762,-1.627107684998559,-1.465614492985098,2.0313600741972158,0.3282335563938324,0.5101670130193007,0.7585699580260642,0.46536300832395544,1.5583869371530814,-0.7308106991026216,2.9587196981584105,-0.4296792353062852],\"xaxis\":\"x4\",\"y\":[0.10600372573935532,0.20749207561513944,-1.0393378694469475,-0.6836932422094264,0.3712406633159747,1.8227241947210773,-2.262207151026445,-1.8970460309624753,1.2286043953391381,-0.3574193062297222,-1.7377734024170408,0.5197339233321271,-0.06788953602198554,-0.40191529592914244,-0.43370818219860896,-1.1661124908327158,1.1909206075148222,0.4388735027552563,0.03078096636690785,1.9362836769431646,-0.37075561956492736,-0.22921069296146732,0.5688691041798098,-1.7056023477568323,0.07570934350096442,0.9263520986244222,2.110174197159889,0.07056773563634443,-1.3740931235677463,0.9831289227755879,-0.6120200206186656,0.15666800087062727,-0.01844629565827913,-1.4108549888033666,-1.0840512483666251,0.15007307789236096,0.1562200550680007,0.6715655265118765,-2.5833248405455964,-0.9396192348953979,0.30327683434061165,-0.017701326490219854,0.9946009238039645,-2.047910052190914,0.35534195799578105,0.7309389442237206,-0.018911812240188265,0.5258877279467146,-0.7578060225979669,0.021273816181194286,0.6076296020031607,-0.5912050505425559,0.6267086559935164,2.2603470912323167,-0.40959760922837896,-1.0999662078027865,-1.7244320790470604,0.6185762285561729,1.215949179679514,0.512677421517591,1.1468696837108043,0.07780582086841593,0.3581086513672768,1.101114232910788,-0.816159235634712,1.620708418607869,0.050085042836158146,0.933719368820452,-1.923699435336341,0.8298418569096968,-0.31898033207002435,-1.629422634794213,0.7937285580426178,-1.141487628713606,1.0324380703636866,1.6275267747285445,1.8828615027230835,-1.3108896433586812,-0.6231178037822507,-0.1514895671878934,0.4884180261113317,-1.244530345881232,-1.7586800032751404,0.3293062297921215,0.7329470338986954,1.9479456523338359,0.665343553005202,-0.6797658495124682,-1.4603444616505636,-0.5061330022052487,1.3255130564272948,1.2819616135045893,-0.03846990574957462,-1.0597436840005086,1.0970280388504754,-1.0605874226275647,-0.5625504969934049,1.3758715701554394,-0.30022048190267414,-1.297072370793922],\"yaxis\":\"y4\",\"type\":\"scatter\"},{\"line\":{\"color\":\"rgba(128, 128, 128, 1.0)\",\"dash\":\"solid\",\"shape\":\"linear\",\"width\":1.3},\"marker\":{\"size\":2,\"symbol\":\"circle\"},\"mode\":\"markers\",\"name\":\"B\",\"text\":\"\",\"x\":[0.10600372573935532,0.20749207561513944,-1.0393378694469475,-0.6836932422094264,0.3712406633159747,1.8227241947210773,-2.262207151026445,-1.8970460309624753,1.2286043953391381,-0.3574193062297222,-1.7377734024170408,0.5197339233321271,-0.06788953602198554,-0.40191529592914244,-0.43370818219860896,-1.1661124908327158,1.1909206075148222,0.4388735027552563,0.03078096636690785,1.9362836769431646,-0.37075561956492736,-0.22921069296146732,0.5688691041798098,-1.7056023477568323,0.07570934350096442,0.9263520986244222,2.110174197159889,0.07056773563634443,-1.3740931235677463,0.9831289227755879,-0.6120200206186656,0.15666800087062727,-0.01844629565827913,-1.4108549888033666,-1.0840512483666251,0.15007307789236096,0.1562200550680007,0.6715655265118765,-2.5833248405455964,-0.9396192348953979,0.30327683434061165,-0.017701326490219854,0.9946009238039645,-2.047910052190914,0.35534195799578105,0.7309389442237206,-0.018911812240188265,0.5258877279467146,-0.7578060225979669,0.021273816181194286,0.6076296020031607,-0.5912050505425559,0.6267086559935164,2.2603470912323167,-0.40959760922837896,-1.0999662078027865,-1.7244320790470604,0.6185762285561729,1.215949179679514,0.512677421517591,1.1468696837108043,0.07780582086841593,0.3581086513672768,1.101114232910788,-0.816159235634712,1.620708418607869,0.050085042836158146,0.933719368820452,-1.923699435336341,0.8298418569096968,-0.31898033207002435,-1.629422634794213,0.7937285580426178,-1.141487628713606,1.0324380703636866,1.6275267747285445,1.8828615027230835,-1.3108896433586812,-0.6231178037822507,-0.1514895671878934,0.4884180261113317,-1.244530345881232,-1.7586800032751404,0.3293062297921215,0.7329470338986954,1.9479456523338359,0.665343553005202,-0.6797658495124682,-1.4603444616505636,-0.5061330022052487,1.3255130564272948,1.2819616135045893,-0.03846990574957462,-1.0597436840005086,1.0970280388504754,-1.0605874226275647,-0.5625504969934049,1.3758715701554394,-0.30022048190267414,-1.297072370793922],\"xaxis\":\"x5\",\"y\":[0.4769431026012106,-0.10019126128842715,0.6113592162515342,-0.8070370418018528,0.2763978925358597,-0.10720355844112409,-0.5903615969727316,-0.13055421428039032,1.2693444378168242,0.8529892166991166,0.9325210127082194,-0.24958114969826484,0.13236018337252933,-0.5761867920069248,-0.2190615071806342,0.6637069422788028,0.18305818053502448,2.6808423224478246,-1.0654428571490364,-0.8291462865638127,0.054494391458582106,-1.2023837369074832,1.070784285243506,0.15962997085686725,0.25054171463418734,0.9451835521587554,1.430558994837546,-0.49260223389592717,0.10123049379232833,-1.4435471051098858,-0.6193153315070554,-1.156930328544975,-0.8826196284045719,1.0009977260930587,0.4544280710439374,-0.9688836385097156,1.4773761326737302,1.3773454164431693,1.1084251339689797,0.5651450676087367,0.1387848864141628,1.4264525785172326,-0.37757980864992063,0.6202853071456437,0.18004419237638297,2.129096335269589,0.04973451721719641,1.2394810276706119,0.8193637123020554,-0.05317134097489851,-0.24664799954484715,0.5331418669922314,1.3214390503174918,0.5236888999215038,0.23287917717351467,0.6006932090430144,1.0862840410571686,2.660470685844886,0.6515793111509729,0.3884324324252398,0.20721984859051978,-0.25002746247732804,1.153674982774516,0.9335273660013991,-0.349515394552551,1.5247358336307832,2.4143324819372887,1.2502741563615987,0.0893496287677241,3.034968760018631,-0.13304108425193012,-1.0038447287093142,-1.9660690740070852,-0.7380463039444887,-0.48913647757759166,-0.49736309395632505,-0.8922475224765966,1.177202339988743,0.1338660112203844,-0.18265674871739768,-0.929224229936402,0.6001450586623118,-1.3613736551788942,0.18138237038600677,-0.704074249023333,0.889338266253846,-0.7980933887078092,-0.6261537265622374,-0.6335248289426914,0.7543574951401341,-0.3631892656708778,-0.8037506822775732,0.23490382806972052,1.5398650558233888,-0.40383975283133766,0.67976087105031,-0.34859922135264265,1.441292826564418,-0.6637472409501192,0.9535293591259538],\"yaxis\":\"y5\",\"type\":\"scatter\"},{\"histfunc\":\"count\",\"histnorm\":\"\",\"marker\":{\"color\":\"rgba(55, 128, 191, 1.0)\",\"line\":{\"color\":\"#4D5663\",\"width\":1.3}},\"name\":\"B\",\"nbinsx\":10,\"opacity\":0.8,\"orientation\":\"v\",\"x\":[0.4769431026012106,-0.10019126128842715,0.6113592162515342,-0.8070370418018528,0.2763978925358597,-0.10720355844112409,-0.5903615969727316,-0.13055421428039032,1.2693444378168242,0.8529892166991166,0.9325210127082194,-0.24958114969826484,0.13236018337252933,-0.5761867920069248,-0.2190615071806342,0.6637069422788028,0.18305818053502448,2.6808423224478246,-1.0654428571490364,-0.8291462865638127,0.054494391458582106,-1.2023837369074832,1.070784285243506,0.15962997085686725,0.25054171463418734,0.9451835521587554,1.430558994837546,-0.49260223389592717,0.10123049379232833,-1.4435471051098858,-0.6193153315070554,-1.156930328544975,-0.8826196284045719,1.0009977260930587,0.4544280710439374,-0.9688836385097156,1.4773761326737302,1.3773454164431693,1.1084251339689797,0.5651450676087367,0.1387848864141628,1.4264525785172326,-0.37757980864992063,0.6202853071456437,0.18004419237638297,2.129096335269589,0.04973451721719641,1.2394810276706119,0.8193637123020554,-0.05317134097489851,-0.24664799954484715,0.5331418669922314,1.3214390503174918,0.5236888999215038,0.23287917717351467,0.6006932090430144,1.0862840410571686,2.660470685844886,0.6515793111509729,0.3884324324252398,0.20721984859051978,-0.25002746247732804,1.153674982774516,0.9335273660013991,-0.349515394552551,1.5247358336307832,2.4143324819372887,1.2502741563615987,0.0893496287677241,3.034968760018631,-0.13304108425193012,-1.0038447287093142,-1.9660690740070852,-0.7380463039444887,-0.48913647757759166,-0.49736309395632505,-0.8922475224765966,1.177202339988743,0.1338660112203844,-0.18265674871739768,-0.929224229936402,0.6001450586623118,-1.3613736551788942,0.18138237038600677,-0.704074249023333,0.889338266253846,-0.7980933887078092,-0.6261537265622374,-0.6335248289426914,0.7543574951401341,-0.3631892656708778,-0.8037506822775732,0.23490382806972052,1.5398650558233888,-0.40383975283133766,0.67976087105031,-0.34859922135264265,1.441292826564418,-0.6637472409501192,0.9535293591259538],\"xaxis\":\"x6\",\"yaxis\":\"y6\",\"type\":\"histogram\"},{\"line\":{\"color\":\"rgba(128, 128, 128, 1.0)\",\"dash\":\"solid\",\"shape\":\"linear\",\"width\":1.3},\"marker\":{\"size\":2,\"symbol\":\"circle\"},\"mode\":\"markers\",\"name\":\"B\",\"text\":\"\",\"x\":[-0.740778391991077,-2.370788299131107,0.7705383216088945,-0.19823348254001646,0.337144393926387,-1.3791425684188143,0.9439135984128443,-1.7840069262341565,-0.3283589566067014,0.27107259678388174,-0.52425125745666,0.7385277060960397,-0.28241985290436455,0.09185725180659102,-0.6374861032981809,0.37612443404262297,0.19759112389177616,-1.4332242149976573,1.3041313529957643,-0.6700098547565597,0.8894132050046223,1.5259894128331706,1.5386910927864714,-0.6436919441576353,-0.543224218405429,0.9991337105958998,-0.04801985723525086,-0.258367778084267,-1.1276404414733174,2.725048673075478,2.029889742123843,-0.46460398854707086,-2.1345629460174274,0.4459347473133101,-0.9049059200357235,-2.4114186017782964,-1.0962268537649613,-0.3778240877249083,-0.24039646959993588,-1.0463591501115126,0.5256490146744969,0.33058340853715795,0.5846204810221787,0.002537022393166431,-0.09962215676863742,1.4447931181853835,0.8426728029581986,-1.1361817746625766,-0.008968394296665034,-0.48781204739486184,-0.9123215487337352,0.32638912950065835,-1.088452259433391,0.3173869202896083,1.69623724745932,-2.0824030478825604,0.5519254928488927,-0.21934847437350616,-0.23902776953629853,-0.08654459645164335,-2.553277039412643,0.1104212805491668,-0.7073137841830324,-2.865956399416514,2.241798588434314,0.9983683175266186,0.21542665538163305,0.9991409057372067,0.4419141165472592,-0.6333445679930504,0.8685954977918708,0.4056039746691071,0.3524190223013191,0.48706349465423615,-0.25308813918752876,-0.5222210505923375,-0.015278130373235426,0.5124490432368057,0.030975532679304512,-1.9305640851420303,0.8503886615191434,-0.7804448455150669,0.14443567782294806,-0.09092402921847724,-0.4887299581588676,-0.5287159719970687,-1.2703303662773027,-0.16503576003179435,0.46048813949652057,0.6976144180888608,0.405403328004903,-0.07909064803112702,0.675114373489502,1.0764557614830252,0.7901433020900879,-0.43326872231950847,-0.44467071332079094,-1.6627832294168092,-0.7145759651543581,-0.386882271891978],\"xaxis\":\"x7\",\"y\":[0.4769431026012106,-0.10019126128842715,0.6113592162515342,-0.8070370418018528,0.2763978925358597,-0.10720355844112409,-0.5903615969727316,-0.13055421428039032,1.2693444378168242,0.8529892166991166,0.9325210127082194,-0.24958114969826484,0.13236018337252933,-0.5761867920069248,-0.2190615071806342,0.6637069422788028,0.18305818053502448,2.6808423224478246,-1.0654428571490364,-0.8291462865638127,0.054494391458582106,-1.2023837369074832,1.070784285243506,0.15962997085686725,0.25054171463418734,0.9451835521587554,1.430558994837546,-0.49260223389592717,0.10123049379232833,-1.4435471051098858,-0.6193153315070554,-1.156930328544975,-0.8826196284045719,1.0009977260930587,0.4544280710439374,-0.9688836385097156,1.4773761326737302,1.3773454164431693,1.1084251339689797,0.5651450676087367,0.1387848864141628,1.4264525785172326,-0.37757980864992063,0.6202853071456437,0.18004419237638297,2.129096335269589,0.04973451721719641,1.2394810276706119,0.8193637123020554,-0.05317134097489851,-0.24664799954484715,0.5331418669922314,1.3214390503174918,0.5236888999215038,0.23287917717351467,0.6006932090430144,1.0862840410571686,2.660470685844886,0.6515793111509729,0.3884324324252398,0.20721984859051978,-0.25002746247732804,1.153674982774516,0.9335273660013991,-0.349515394552551,1.5247358336307832,2.4143324819372887,1.2502741563615987,0.0893496287677241,3.034968760018631,-0.13304108425193012,-1.0038447287093142,-1.9660690740070852,-0.7380463039444887,-0.48913647757759166,-0.49736309395632505,-0.8922475224765966,1.177202339988743,0.1338660112203844,-0.18265674871739768,-0.929224229936402,0.6001450586623118,-1.3613736551788942,0.18138237038600677,-0.704074249023333,0.889338266253846,-0.7980933887078092,-0.6261537265622374,-0.6335248289426914,0.7543574951401341,-0.3631892656708778,-0.8037506822775732,0.23490382806972052,1.5398650558233888,-0.40383975283133766,0.67976087105031,-0.34859922135264265,1.441292826564418,-0.6637472409501192,0.9535293591259538],\"yaxis\":\"y7\",\"type\":\"scatter\"},{\"line\":{\"color\":\"rgba(128, 128, 128, 1.0)\",\"dash\":\"solid\",\"shape\":\"linear\",\"width\":1.3},\"marker\":{\"size\":2,\"symbol\":\"circle\"},\"mode\":\"markers\",\"name\":\"B\",\"text\":\"\",\"x\":[-0.11329342116274008,-1.3574377750489648,1.9220449619482292,-2.459575173476962,0.22799790532202172,-0.6330919663247148,0.6577347410618968,-1.636811758240445,0.24254381752850562,-0.19871070045933223,0.06705022148339189,-0.8071860394487,1.0255169386400966,0.9163675724429156,-0.36297287807831025,0.5938245988004833,1.9616114818187456,1.2219187270279168,1.89159323245367,0.9252585461058572,-0.06849918911132674,-1.7449934717307074,-1.1204986606457699,0.4109899560906177,-0.7595748608958052,-0.26830483787800213,-0.07202709747021875,0.050654569645124436,-0.24072185895746046,-1.7568108619039302,1.8725808472966645,-0.008680308534701371,1.623380280545073,0.11317833450631196,-0.6695896037160816,1.4761587780318361,0.6375767126016454,-0.5801213714353558,0.9270673557079773,-1.4718028175674562,1.097696666925897,-1.8117956205685124,0.7848247435000166,-0.29100051106013647,0.8846838193112712,1.4844705701154899,1.1689770690035524,-1.16528111485165,-1.4934832626778773,-1.1810178426436153,-1.2216892294024275,-1.036259552786968,0.41626215551337675,-1.0659658119394881,2.7405016615912112,0.2308666485169981,-0.7864739853800282,0.1379059787072001,1.2868607547453876,-0.28481278530242604,0.732481925255684,0.8308152091040132,0.06236128711802095,-0.19430247449342214,1.1073076493162546,-0.669804072634468,1.4792233884506674,0.41961258474089974,0.6215167378919153,-0.40231521782114515,-0.3632484923100821,0.1185430684370369,-0.2774648519849218,-0.3020128974515804,-0.3971863004040808,1.6287897391266177,0.8751625396431753,-0.40117917355624305,-1.581383232106049,-1.2374617413623668,2.110745170760792,-0.9500063721048858,0.58099951949188,1.0333897687603022,2.3639580399261573,-0.7304198843562436,-0.6005134255179924,-0.439250418717468,-0.9401157117773762,-1.627107684998559,-1.465614492985098,2.0313600741972158,0.3282335563938324,0.5101670130193007,0.7585699580260642,0.46536300832395544,1.5583869371530814,-0.7308106991026216,2.9587196981584105,-0.4296792353062852],\"xaxis\":\"x8\",\"y\":[0.4769431026012106,-0.10019126128842715,0.6113592162515342,-0.8070370418018528,0.2763978925358597,-0.10720355844112409,-0.5903615969727316,-0.13055421428039032,1.2693444378168242,0.8529892166991166,0.9325210127082194,-0.24958114969826484,0.13236018337252933,-0.5761867920069248,-0.2190615071806342,0.6637069422788028,0.18305818053502448,2.6808423224478246,-1.0654428571490364,-0.8291462865638127,0.054494391458582106,-1.2023837369074832,1.070784285243506,0.15962997085686725,0.25054171463418734,0.9451835521587554,1.430558994837546,-0.49260223389592717,0.10123049379232833,-1.4435471051098858,-0.6193153315070554,-1.156930328544975,-0.8826196284045719,1.0009977260930587,0.4544280710439374,-0.9688836385097156,1.4773761326737302,1.3773454164431693,1.1084251339689797,0.5651450676087367,0.1387848864141628,1.4264525785172326,-0.37757980864992063,0.6202853071456437,0.18004419237638297,2.129096335269589,0.04973451721719641,1.2394810276706119,0.8193637123020554,-0.05317134097489851,-0.24664799954484715,0.5331418669922314,1.3214390503174918,0.5236888999215038,0.23287917717351467,0.6006932090430144,1.0862840410571686,2.660470685844886,0.6515793111509729,0.3884324324252398,0.20721984859051978,-0.25002746247732804,1.153674982774516,0.9335273660013991,-0.349515394552551,1.5247358336307832,2.4143324819372887,1.2502741563615987,0.0893496287677241,3.034968760018631,-0.13304108425193012,-1.0038447287093142,-1.9660690740070852,-0.7380463039444887,-0.48913647757759166,-0.49736309395632505,-0.8922475224765966,1.177202339988743,0.1338660112203844,-0.18265674871739768,-0.929224229936402,0.6001450586623118,-1.3613736551788942,0.18138237038600677,-0.704074249023333,0.889338266253846,-0.7980933887078092,-0.6261537265622374,-0.6335248289426914,0.7543574951401341,-0.3631892656708778,-0.8037506822775732,0.23490382806972052,1.5398650558233888,-0.40383975283133766,0.67976087105031,-0.34859922135264265,1.441292826564418,-0.6637472409501192,0.9535293591259538],\"yaxis\":\"y8\",\"type\":\"scatter\"},{\"line\":{\"color\":\"rgba(128, 128, 128, 1.0)\",\"dash\":\"solid\",\"shape\":\"linear\",\"width\":1.3},\"marker\":{\"size\":2,\"symbol\":\"circle\"},\"mode\":\"markers\",\"name\":\"C\",\"text\":\"\",\"x\":[0.10600372573935532,0.20749207561513944,-1.0393378694469475,-0.6836932422094264,0.3712406633159747,1.8227241947210773,-2.262207151026445,-1.8970460309624753,1.2286043953391381,-0.3574193062297222,-1.7377734024170408,0.5197339233321271,-0.06788953602198554,-0.40191529592914244,-0.43370818219860896,-1.1661124908327158,1.1909206075148222,0.4388735027552563,0.03078096636690785,1.9362836769431646,-0.37075561956492736,-0.22921069296146732,0.5688691041798098,-1.7056023477568323,0.07570934350096442,0.9263520986244222,2.110174197159889,0.07056773563634443,-1.3740931235677463,0.9831289227755879,-0.6120200206186656,0.15666800087062727,-0.01844629565827913,-1.4108549888033666,-1.0840512483666251,0.15007307789236096,0.1562200550680007,0.6715655265118765,-2.5833248405455964,-0.9396192348953979,0.30327683434061165,-0.017701326490219854,0.9946009238039645,-2.047910052190914,0.35534195799578105,0.7309389442237206,-0.018911812240188265,0.5258877279467146,-0.7578060225979669,0.021273816181194286,0.6076296020031607,-0.5912050505425559,0.6267086559935164,2.2603470912323167,-0.40959760922837896,-1.0999662078027865,-1.7244320790470604,0.6185762285561729,1.215949179679514,0.512677421517591,1.1468696837108043,0.07780582086841593,0.3581086513672768,1.101114232910788,-0.816159235634712,1.620708418607869,0.050085042836158146,0.933719368820452,-1.923699435336341,0.8298418569096968,-0.31898033207002435,-1.629422634794213,0.7937285580426178,-1.141487628713606,1.0324380703636866,1.6275267747285445,1.8828615027230835,-1.3108896433586812,-0.6231178037822507,-0.1514895671878934,0.4884180261113317,-1.244530345881232,-1.7586800032751404,0.3293062297921215,0.7329470338986954,1.9479456523338359,0.665343553005202,-0.6797658495124682,-1.4603444616505636,-0.5061330022052487,1.3255130564272948,1.2819616135045893,-0.03846990574957462,-1.0597436840005086,1.0970280388504754,-1.0605874226275647,-0.5625504969934049,1.3758715701554394,-0.30022048190267414,-1.297072370793922],\"xaxis\":\"x9\",\"y\":[-0.740778391991077,-2.370788299131107,0.7705383216088945,-0.19823348254001646,0.337144393926387,-1.3791425684188143,0.9439135984128443,-1.7840069262341565,-0.3283589566067014,0.27107259678388174,-0.52425125745666,0.7385277060960397,-0.28241985290436455,0.09185725180659102,-0.6374861032981809,0.37612443404262297,0.19759112389177616,-1.4332242149976573,1.3041313529957643,-0.6700098547565597,0.8894132050046223,1.5259894128331706,1.5386910927864714,-0.6436919441576353,-0.543224218405429,0.9991337105958998,-0.04801985723525086,-0.258367778084267,-1.1276404414733174,2.725048673075478,2.029889742123843,-0.46460398854707086,-2.1345629460174274,0.4459347473133101,-0.9049059200357235,-2.4114186017782964,-1.0962268537649613,-0.3778240877249083,-0.24039646959993588,-1.0463591501115126,0.5256490146744969,0.33058340853715795,0.5846204810221787,0.002537022393166431,-0.09962215676863742,1.4447931181853835,0.8426728029581986,-1.1361817746625766,-0.008968394296665034,-0.48781204739486184,-0.9123215487337352,0.32638912950065835,-1.088452259433391,0.3173869202896083,1.69623724745932,-2.0824030478825604,0.5519254928488927,-0.21934847437350616,-0.23902776953629853,-0.08654459645164335,-2.553277039412643,0.1104212805491668,-0.7073137841830324,-2.865956399416514,2.241798588434314,0.9983683175266186,0.21542665538163305,0.9991409057372067,0.4419141165472592,-0.6333445679930504,0.8685954977918708,0.4056039746691071,0.3524190223013191,0.48706349465423615,-0.25308813918752876,-0.5222210505923375,-0.015278130373235426,0.5124490432368057,0.030975532679304512,-1.9305640851420303,0.8503886615191434,-0.7804448455150669,0.14443567782294806,-0.09092402921847724,-0.4887299581588676,-0.5287159719970687,-1.2703303662773027,-0.16503576003179435,0.46048813949652057,0.6976144180888608,0.405403328004903,-0.07909064803112702,0.675114373489502,1.0764557614830252,0.7901433020900879,-0.43326872231950847,-0.44467071332079094,-1.6627832294168092,-0.7145759651543581,-0.386882271891978],\"yaxis\":\"y9\",\"type\":\"scatter\"},{\"line\":{\"color\":\"rgba(128, 128, 128, 1.0)\",\"dash\":\"solid\",\"shape\":\"linear\",\"width\":1.3},\"marker\":{\"size\":2,\"symbol\":\"circle\"},\"mode\":\"markers\",\"name\":\"C\",\"text\":\"\",\"x\":[0.4769431026012106,-0.10019126128842715,0.6113592162515342,-0.8070370418018528,0.2763978925358597,-0.10720355844112409,-0.5903615969727316,-0.13055421428039032,1.2693444378168242,0.8529892166991166,0.9325210127082194,-0.24958114969826484,0.13236018337252933,-0.5761867920069248,-0.2190615071806342,0.6637069422788028,0.18305818053502448,2.6808423224478246,-1.0654428571490364,-0.8291462865638127,0.054494391458582106,-1.2023837369074832,1.070784285243506,0.15962997085686725,0.25054171463418734,0.9451835521587554,1.430558994837546,-0.49260223389592717,0.10123049379232833,-1.4435471051098858,-0.6193153315070554,-1.156930328544975,-0.8826196284045719,1.0009977260930587,0.4544280710439374,-0.9688836385097156,1.4773761326737302,1.3773454164431693,1.1084251339689797,0.5651450676087367,0.1387848864141628,1.4264525785172326,-0.37757980864992063,0.6202853071456437,0.18004419237638297,2.129096335269589,0.04973451721719641,1.2394810276706119,0.8193637123020554,-0.05317134097489851,-0.24664799954484715,0.5331418669922314,1.3214390503174918,0.5236888999215038,0.23287917717351467,0.6006932090430144,1.0862840410571686,2.660470685844886,0.6515793111509729,0.3884324324252398,0.20721984859051978,-0.25002746247732804,1.153674982774516,0.9335273660013991,-0.349515394552551,1.5247358336307832,2.4143324819372887,1.2502741563615987,0.0893496287677241,3.034968760018631,-0.13304108425193012,-1.0038447287093142,-1.9660690740070852,-0.7380463039444887,-0.48913647757759166,-0.49736309395632505,-0.8922475224765966,1.177202339988743,0.1338660112203844,-0.18265674871739768,-0.929224229936402,0.6001450586623118,-1.3613736551788942,0.18138237038600677,-0.704074249023333,0.889338266253846,-0.7980933887078092,-0.6261537265622374,-0.6335248289426914,0.7543574951401341,-0.3631892656708778,-0.8037506822775732,0.23490382806972052,1.5398650558233888,-0.40383975283133766,0.67976087105031,-0.34859922135264265,1.441292826564418,-0.6637472409501192,0.9535293591259538],\"xaxis\":\"x10\",\"y\":[-0.740778391991077,-2.370788299131107,0.7705383216088945,-0.19823348254001646,0.337144393926387,-1.3791425684188143,0.9439135984128443,-1.7840069262341565,-0.3283589566067014,0.27107259678388174,-0.52425125745666,0.7385277060960397,-0.28241985290436455,0.09185725180659102,-0.6374861032981809,0.37612443404262297,0.19759112389177616,-1.4332242149976573,1.3041313529957643,-0.6700098547565597,0.8894132050046223,1.5259894128331706,1.5386910927864714,-0.6436919441576353,-0.543224218405429,0.9991337105958998,-0.04801985723525086,-0.258367778084267,-1.1276404414733174,2.725048673075478,2.029889742123843,-0.46460398854707086,-2.1345629460174274,0.4459347473133101,-0.9049059200357235,-2.4114186017782964,-1.0962268537649613,-0.3778240877249083,-0.24039646959993588,-1.0463591501115126,0.5256490146744969,0.33058340853715795,0.5846204810221787,0.002537022393166431,-0.09962215676863742,1.4447931181853835,0.8426728029581986,-1.1361817746625766,-0.008968394296665034,-0.48781204739486184,-0.9123215487337352,0.32638912950065835,-1.088452259433391,0.3173869202896083,1.69623724745932,-2.0824030478825604,0.5519254928488927,-0.21934847437350616,-0.23902776953629853,-0.08654459645164335,-2.553277039412643,0.1104212805491668,-0.7073137841830324,-2.865956399416514,2.241798588434314,0.9983683175266186,0.21542665538163305,0.9991409057372067,0.4419141165472592,-0.6333445679930504,0.8685954977918708,0.4056039746691071,0.3524190223013191,0.48706349465423615,-0.25308813918752876,-0.5222210505923375,-0.015278130373235426,0.5124490432368057,0.030975532679304512,-1.9305640851420303,0.8503886615191434,-0.7804448455150669,0.14443567782294806,-0.09092402921847724,-0.4887299581588676,-0.5287159719970687,-1.2703303662773027,-0.16503576003179435,0.46048813949652057,0.6976144180888608,0.405403328004903,-0.07909064803112702,0.675114373489502,1.0764557614830252,0.7901433020900879,-0.43326872231950847,-0.44467071332079094,-1.6627832294168092,-0.7145759651543581,-0.386882271891978],\"yaxis\":\"y10\",\"type\":\"scatter\"},{\"histfunc\":\"count\",\"histnorm\":\"\",\"marker\":{\"color\":\"rgba(50, 171, 96, 1.0)\",\"line\":{\"color\":\"#4D5663\",\"width\":1.3}},\"name\":\"C\",\"nbinsx\":10,\"opacity\":0.8,\"orientation\":\"v\",\"x\":[-0.740778391991077,-2.370788299131107,0.7705383216088945,-0.19823348254001646,0.337144393926387,-1.3791425684188143,0.9439135984128443,-1.7840069262341565,-0.3283589566067014,0.27107259678388174,-0.52425125745666,0.7385277060960397,-0.28241985290436455,0.09185725180659102,-0.6374861032981809,0.37612443404262297,0.19759112389177616,-1.4332242149976573,1.3041313529957643,-0.6700098547565597,0.8894132050046223,1.5259894128331706,1.5386910927864714,-0.6436919441576353,-0.543224218405429,0.9991337105958998,-0.04801985723525086,-0.258367778084267,-1.1276404414733174,2.725048673075478,2.029889742123843,-0.46460398854707086,-2.1345629460174274,0.4459347473133101,-0.9049059200357235,-2.4114186017782964,-1.0962268537649613,-0.3778240877249083,-0.24039646959993588,-1.0463591501115126,0.5256490146744969,0.33058340853715795,0.5846204810221787,0.002537022393166431,-0.09962215676863742,1.4447931181853835,0.8426728029581986,-1.1361817746625766,-0.008968394296665034,-0.48781204739486184,-0.9123215487337352,0.32638912950065835,-1.088452259433391,0.3173869202896083,1.69623724745932,-2.0824030478825604,0.5519254928488927,-0.21934847437350616,-0.23902776953629853,-0.08654459645164335,-2.553277039412643,0.1104212805491668,-0.7073137841830324,-2.865956399416514,2.241798588434314,0.9983683175266186,0.21542665538163305,0.9991409057372067,0.4419141165472592,-0.6333445679930504,0.8685954977918708,0.4056039746691071,0.3524190223013191,0.48706349465423615,-0.25308813918752876,-0.5222210505923375,-0.015278130373235426,0.5124490432368057,0.030975532679304512,-1.9305640851420303,0.8503886615191434,-0.7804448455150669,0.14443567782294806,-0.09092402921847724,-0.4887299581588676,-0.5287159719970687,-1.2703303662773027,-0.16503576003179435,0.46048813949652057,0.6976144180888608,0.405403328004903,-0.07909064803112702,0.675114373489502,1.0764557614830252,0.7901433020900879,-0.43326872231950847,-0.44467071332079094,-1.6627832294168092,-0.7145759651543581,-0.386882271891978],\"xaxis\":\"x11\",\"yaxis\":\"y11\",\"type\":\"histogram\"},{\"line\":{\"color\":\"rgba(128, 128, 128, 1.0)\",\"dash\":\"solid\",\"shape\":\"linear\",\"width\":1.3},\"marker\":{\"size\":2,\"symbol\":\"circle\"},\"mode\":\"markers\",\"name\":\"C\",\"text\":\"\",\"x\":[-0.11329342116274008,-1.3574377750489648,1.9220449619482292,-2.459575173476962,0.22799790532202172,-0.6330919663247148,0.6577347410618968,-1.636811758240445,0.24254381752850562,-0.19871070045933223,0.06705022148339189,-0.8071860394487,1.0255169386400966,0.9163675724429156,-0.36297287807831025,0.5938245988004833,1.9616114818187456,1.2219187270279168,1.89159323245367,0.9252585461058572,-0.06849918911132674,-1.7449934717307074,-1.1204986606457699,0.4109899560906177,-0.7595748608958052,-0.26830483787800213,-0.07202709747021875,0.050654569645124436,-0.24072185895746046,-1.7568108619039302,1.8725808472966645,-0.008680308534701371,1.623380280545073,0.11317833450631196,-0.6695896037160816,1.4761587780318361,0.6375767126016454,-0.5801213714353558,0.9270673557079773,-1.4718028175674562,1.097696666925897,-1.8117956205685124,0.7848247435000166,-0.29100051106013647,0.8846838193112712,1.4844705701154899,1.1689770690035524,-1.16528111485165,-1.4934832626778773,-1.1810178426436153,-1.2216892294024275,-1.036259552786968,0.41626215551337675,-1.0659658119394881,2.7405016615912112,0.2308666485169981,-0.7864739853800282,0.1379059787072001,1.2868607547453876,-0.28481278530242604,0.732481925255684,0.8308152091040132,0.06236128711802095,-0.19430247449342214,1.1073076493162546,-0.669804072634468,1.4792233884506674,0.41961258474089974,0.6215167378919153,-0.40231521782114515,-0.3632484923100821,0.1185430684370369,-0.2774648519849218,-0.3020128974515804,-0.3971863004040808,1.6287897391266177,0.8751625396431753,-0.40117917355624305,-1.581383232106049,-1.2374617413623668,2.110745170760792,-0.9500063721048858,0.58099951949188,1.0333897687603022,2.3639580399261573,-0.7304198843562436,-0.6005134255179924,-0.439250418717468,-0.9401157117773762,-1.627107684998559,-1.465614492985098,2.0313600741972158,0.3282335563938324,0.5101670130193007,0.7585699580260642,0.46536300832395544,1.5583869371530814,-0.7308106991026216,2.9587196981584105,-0.4296792353062852],\"xaxis\":\"x12\",\"y\":[-0.740778391991077,-2.370788299131107,0.7705383216088945,-0.19823348254001646,0.337144393926387,-1.3791425684188143,0.9439135984128443,-1.7840069262341565,-0.3283589566067014,0.27107259678388174,-0.52425125745666,0.7385277060960397,-0.28241985290436455,0.09185725180659102,-0.6374861032981809,0.37612443404262297,0.19759112389177616,-1.4332242149976573,1.3041313529957643,-0.6700098547565597,0.8894132050046223,1.5259894128331706,1.5386910927864714,-0.6436919441576353,-0.543224218405429,0.9991337105958998,-0.04801985723525086,-0.258367778084267,-1.1276404414733174,2.725048673075478,2.029889742123843,-0.46460398854707086,-2.1345629460174274,0.4459347473133101,-0.9049059200357235,-2.4114186017782964,-1.0962268537649613,-0.3778240877249083,-0.24039646959993588,-1.0463591501115126,0.5256490146744969,0.33058340853715795,0.5846204810221787,0.002537022393166431,-0.09962215676863742,1.4447931181853835,0.8426728029581986,-1.1361817746625766,-0.008968394296665034,-0.48781204739486184,-0.9123215487337352,0.32638912950065835,-1.088452259433391,0.3173869202896083,1.69623724745932,-2.0824030478825604,0.5519254928488927,-0.21934847437350616,-0.23902776953629853,-0.08654459645164335,-2.553277039412643,0.1104212805491668,-0.7073137841830324,-2.865956399416514,2.241798588434314,0.9983683175266186,0.21542665538163305,0.9991409057372067,0.4419141165472592,-0.6333445679930504,0.8685954977918708,0.4056039746691071,0.3524190223013191,0.48706349465423615,-0.25308813918752876,-0.5222210505923375,-0.015278130373235426,0.5124490432368057,0.030975532679304512,-1.9305640851420303,0.8503886615191434,-0.7804448455150669,0.14443567782294806,-0.09092402921847724,-0.4887299581588676,-0.5287159719970687,-1.2703303662773027,-0.16503576003179435,0.46048813949652057,0.6976144180888608,0.405403328004903,-0.07909064803112702,0.675114373489502,1.0764557614830252,0.7901433020900879,-0.43326872231950847,-0.44467071332079094,-1.6627832294168092,-0.7145759651543581,-0.386882271891978],\"yaxis\":\"y12\",\"type\":\"scatter\"},{\"line\":{\"color\":\"rgba(128, 128, 128, 1.0)\",\"dash\":\"solid\",\"shape\":\"linear\",\"width\":1.3},\"marker\":{\"size\":2,\"symbol\":\"circle\"},\"mode\":\"markers\",\"name\":\"D\",\"text\":\"\",\"x\":[0.10600372573935532,0.20749207561513944,-1.0393378694469475,-0.6836932422094264,0.3712406633159747,1.8227241947210773,-2.262207151026445,-1.8970460309624753,1.2286043953391381,-0.3574193062297222,-1.7377734024170408,0.5197339233321271,-0.06788953602198554,-0.40191529592914244,-0.43370818219860896,-1.1661124908327158,1.1909206075148222,0.4388735027552563,0.03078096636690785,1.9362836769431646,-0.37075561956492736,-0.22921069296146732,0.5688691041798098,-1.7056023477568323,0.07570934350096442,0.9263520986244222,2.110174197159889,0.07056773563634443,-1.3740931235677463,0.9831289227755879,-0.6120200206186656,0.15666800087062727,-0.01844629565827913,-1.4108549888033666,-1.0840512483666251,0.15007307789236096,0.1562200550680007,0.6715655265118765,-2.5833248405455964,-0.9396192348953979,0.30327683434061165,-0.017701326490219854,0.9946009238039645,-2.047910052190914,0.35534195799578105,0.7309389442237206,-0.018911812240188265,0.5258877279467146,-0.7578060225979669,0.021273816181194286,0.6076296020031607,-0.5912050505425559,0.6267086559935164,2.2603470912323167,-0.40959760922837896,-1.0999662078027865,-1.7244320790470604,0.6185762285561729,1.215949179679514,0.512677421517591,1.1468696837108043,0.07780582086841593,0.3581086513672768,1.101114232910788,-0.816159235634712,1.620708418607869,0.050085042836158146,0.933719368820452,-1.923699435336341,0.8298418569096968,-0.31898033207002435,-1.629422634794213,0.7937285580426178,-1.141487628713606,1.0324380703636866,1.6275267747285445,1.8828615027230835,-1.3108896433586812,-0.6231178037822507,-0.1514895671878934,0.4884180261113317,-1.244530345881232,-1.7586800032751404,0.3293062297921215,0.7329470338986954,1.9479456523338359,0.665343553005202,-0.6797658495124682,-1.4603444616505636,-0.5061330022052487,1.3255130564272948,1.2819616135045893,-0.03846990574957462,-1.0597436840005086,1.0970280388504754,-1.0605874226275647,-0.5625504969934049,1.3758715701554394,-0.30022048190267414,-1.297072370793922],\"xaxis\":\"x13\",\"y\":[-0.11329342116274008,-1.3574377750489648,1.9220449619482292,-2.459575173476962,0.22799790532202172,-0.6330919663247148,0.6577347410618968,-1.636811758240445,0.24254381752850562,-0.19871070045933223,0.06705022148339189,-0.8071860394487,1.0255169386400966,0.9163675724429156,-0.36297287807831025,0.5938245988004833,1.9616114818187456,1.2219187270279168,1.89159323245367,0.9252585461058572,-0.06849918911132674,-1.7449934717307074,-1.1204986606457699,0.4109899560906177,-0.7595748608958052,-0.26830483787800213,-0.07202709747021875,0.050654569645124436,-0.24072185895746046,-1.7568108619039302,1.8725808472966645,-0.008680308534701371,1.623380280545073,0.11317833450631196,-0.6695896037160816,1.4761587780318361,0.6375767126016454,-0.5801213714353558,0.9270673557079773,-1.4718028175674562,1.097696666925897,-1.8117956205685124,0.7848247435000166,-0.29100051106013647,0.8846838193112712,1.4844705701154899,1.1689770690035524,-1.16528111485165,-1.4934832626778773,-1.1810178426436153,-1.2216892294024275,-1.036259552786968,0.41626215551337675,-1.0659658119394881,2.7405016615912112,0.2308666485169981,-0.7864739853800282,0.1379059787072001,1.2868607547453876,-0.28481278530242604,0.732481925255684,0.8308152091040132,0.06236128711802095,-0.19430247449342214,1.1073076493162546,-0.669804072634468,1.4792233884506674,0.41961258474089974,0.6215167378919153,-0.40231521782114515,-0.3632484923100821,0.1185430684370369,-0.2774648519849218,-0.3020128974515804,-0.3971863004040808,1.6287897391266177,0.8751625396431753,-0.40117917355624305,-1.581383232106049,-1.2374617413623668,2.110745170760792,-0.9500063721048858,0.58099951949188,1.0333897687603022,2.3639580399261573,-0.7304198843562436,-0.6005134255179924,-0.439250418717468,-0.9401157117773762,-1.627107684998559,-1.465614492985098,2.0313600741972158,0.3282335563938324,0.5101670130193007,0.7585699580260642,0.46536300832395544,1.5583869371530814,-0.7308106991026216,2.9587196981584105,-0.4296792353062852],\"yaxis\":\"y13\",\"type\":\"scatter\"},{\"line\":{\"color\":\"rgba(128, 128, 128, 1.0)\",\"dash\":\"solid\",\"shape\":\"linear\",\"width\":1.3},\"marker\":{\"size\":2,\"symbol\":\"circle\"},\"mode\":\"markers\",\"name\":\"D\",\"text\":\"\",\"x\":[0.4769431026012106,-0.10019126128842715,0.6113592162515342,-0.8070370418018528,0.2763978925358597,-0.10720355844112409,-0.5903615969727316,-0.13055421428039032,1.2693444378168242,0.8529892166991166,0.9325210127082194,-0.24958114969826484,0.13236018337252933,-0.5761867920069248,-0.2190615071806342,0.6637069422788028,0.18305818053502448,2.6808423224478246,-1.0654428571490364,-0.8291462865638127,0.054494391458582106,-1.2023837369074832,1.070784285243506,0.15962997085686725,0.25054171463418734,0.9451835521587554,1.430558994837546,-0.49260223389592717,0.10123049379232833,-1.4435471051098858,-0.6193153315070554,-1.156930328544975,-0.8826196284045719,1.0009977260930587,0.4544280710439374,-0.9688836385097156,1.4773761326737302,1.3773454164431693,1.1084251339689797,0.5651450676087367,0.1387848864141628,1.4264525785172326,-0.37757980864992063,0.6202853071456437,0.18004419237638297,2.129096335269589,0.04973451721719641,1.2394810276706119,0.8193637123020554,-0.05317134097489851,-0.24664799954484715,0.5331418669922314,1.3214390503174918,0.5236888999215038,0.23287917717351467,0.6006932090430144,1.0862840410571686,2.660470685844886,0.6515793111509729,0.3884324324252398,0.20721984859051978,-0.25002746247732804,1.153674982774516,0.9335273660013991,-0.349515394552551,1.5247358336307832,2.4143324819372887,1.2502741563615987,0.0893496287677241,3.034968760018631,-0.13304108425193012,-1.0038447287093142,-1.9660690740070852,-0.7380463039444887,-0.48913647757759166,-0.49736309395632505,-0.8922475224765966,1.177202339988743,0.1338660112203844,-0.18265674871739768,-0.929224229936402,0.6001450586623118,-1.3613736551788942,0.18138237038600677,-0.704074249023333,0.889338266253846,-0.7980933887078092,-0.6261537265622374,-0.6335248289426914,0.7543574951401341,-0.3631892656708778,-0.8037506822775732,0.23490382806972052,1.5398650558233888,-0.40383975283133766,0.67976087105031,-0.34859922135264265,1.441292826564418,-0.6637472409501192,0.9535293591259538],\"xaxis\":\"x14\",\"y\":[-0.11329342116274008,-1.3574377750489648,1.9220449619482292,-2.459575173476962,0.22799790532202172,-0.6330919663247148,0.6577347410618968,-1.636811758240445,0.24254381752850562,-0.19871070045933223,0.06705022148339189,-0.8071860394487,1.0255169386400966,0.9163675724429156,-0.36297287807831025,0.5938245988004833,1.9616114818187456,1.2219187270279168,1.89159323245367,0.9252585461058572,-0.06849918911132674,-1.7449934717307074,-1.1204986606457699,0.4109899560906177,-0.7595748608958052,-0.26830483787800213,-0.07202709747021875,0.050654569645124436,-0.24072185895746046,-1.7568108619039302,1.8725808472966645,-0.008680308534701371,1.623380280545073,0.11317833450631196,-0.6695896037160816,1.4761587780318361,0.6375767126016454,-0.5801213714353558,0.9270673557079773,-1.4718028175674562,1.097696666925897,-1.8117956205685124,0.7848247435000166,-0.29100051106013647,0.8846838193112712,1.4844705701154899,1.1689770690035524,-1.16528111485165,-1.4934832626778773,-1.1810178426436153,-1.2216892294024275,-1.036259552786968,0.41626215551337675,-1.0659658119394881,2.7405016615912112,0.2308666485169981,-0.7864739853800282,0.1379059787072001,1.2868607547453876,-0.28481278530242604,0.732481925255684,0.8308152091040132,0.06236128711802095,-0.19430247449342214,1.1073076493162546,-0.669804072634468,1.4792233884506674,0.41961258474089974,0.6215167378919153,-0.40231521782114515,-0.3632484923100821,0.1185430684370369,-0.2774648519849218,-0.3020128974515804,-0.3971863004040808,1.6287897391266177,0.8751625396431753,-0.40117917355624305,-1.581383232106049,-1.2374617413623668,2.110745170760792,-0.9500063721048858,0.58099951949188,1.0333897687603022,2.3639580399261573,-0.7304198843562436,-0.6005134255179924,-0.439250418717468,-0.9401157117773762,-1.627107684998559,-1.465614492985098,2.0313600741972158,0.3282335563938324,0.5101670130193007,0.7585699580260642,0.46536300832395544,1.5583869371530814,-0.7308106991026216,2.9587196981584105,-0.4296792353062852],\"yaxis\":\"y14\",\"type\":\"scatter\"},{\"line\":{\"color\":\"rgba(128, 128, 128, 1.0)\",\"dash\":\"solid\",\"shape\":\"linear\",\"width\":1.3},\"marker\":{\"size\":2,\"symbol\":\"circle\"},\"mode\":\"markers\",\"name\":\"D\",\"text\":\"\",\"x\":[-0.740778391991077,-2.370788299131107,0.7705383216088945,-0.19823348254001646,0.337144393926387,-1.3791425684188143,0.9439135984128443,-1.7840069262341565,-0.3283589566067014,0.27107259678388174,-0.52425125745666,0.7385277060960397,-0.28241985290436455,0.09185725180659102,-0.6374861032981809,0.37612443404262297,0.19759112389177616,-1.4332242149976573,1.3041313529957643,-0.6700098547565597,0.8894132050046223,1.5259894128331706,1.5386910927864714,-0.6436919441576353,-0.543224218405429,0.9991337105958998,-0.04801985723525086,-0.258367778084267,-1.1276404414733174,2.725048673075478,2.029889742123843,-0.46460398854707086,-2.1345629460174274,0.4459347473133101,-0.9049059200357235,-2.4114186017782964,-1.0962268537649613,-0.3778240877249083,-0.24039646959993588,-1.0463591501115126,0.5256490146744969,0.33058340853715795,0.5846204810221787,0.002537022393166431,-0.09962215676863742,1.4447931181853835,0.8426728029581986,-1.1361817746625766,-0.008968394296665034,-0.48781204739486184,-0.9123215487337352,0.32638912950065835,-1.088452259433391,0.3173869202896083,1.69623724745932,-2.0824030478825604,0.5519254928488927,-0.21934847437350616,-0.23902776953629853,-0.08654459645164335,-2.553277039412643,0.1104212805491668,-0.7073137841830324,-2.865956399416514,2.241798588434314,0.9983683175266186,0.21542665538163305,0.9991409057372067,0.4419141165472592,-0.6333445679930504,0.8685954977918708,0.4056039746691071,0.3524190223013191,0.48706349465423615,-0.25308813918752876,-0.5222210505923375,-0.015278130373235426,0.5124490432368057,0.030975532679304512,-1.9305640851420303,0.8503886615191434,-0.7804448455150669,0.14443567782294806,-0.09092402921847724,-0.4887299581588676,-0.5287159719970687,-1.2703303662773027,-0.16503576003179435,0.46048813949652057,0.6976144180888608,0.405403328004903,-0.07909064803112702,0.675114373489502,1.0764557614830252,0.7901433020900879,-0.43326872231950847,-0.44467071332079094,-1.6627832294168092,-0.7145759651543581,-0.386882271891978],\"xaxis\":\"x15\",\"y\":[-0.11329342116274008,-1.3574377750489648,1.9220449619482292,-2.459575173476962,0.22799790532202172,-0.6330919663247148,0.6577347410618968,-1.636811758240445,0.24254381752850562,-0.19871070045933223,0.06705022148339189,-0.8071860394487,1.0255169386400966,0.9163675724429156,-0.36297287807831025,0.5938245988004833,1.9616114818187456,1.2219187270279168,1.89159323245367,0.9252585461058572,-0.06849918911132674,-1.7449934717307074,-1.1204986606457699,0.4109899560906177,-0.7595748608958052,-0.26830483787800213,-0.07202709747021875,0.050654569645124436,-0.24072185895746046,-1.7568108619039302,1.8725808472966645,-0.008680308534701371,1.623380280545073,0.11317833450631196,-0.6695896037160816,1.4761587780318361,0.6375767126016454,-0.5801213714353558,0.9270673557079773,-1.4718028175674562,1.097696666925897,-1.8117956205685124,0.7848247435000166,-0.29100051106013647,0.8846838193112712,1.4844705701154899,1.1689770690035524,-1.16528111485165,-1.4934832626778773,-1.1810178426436153,-1.2216892294024275,-1.036259552786968,0.41626215551337675,-1.0659658119394881,2.7405016615912112,0.2308666485169981,-0.7864739853800282,0.1379059787072001,1.2868607547453876,-0.28481278530242604,0.732481925255684,0.8308152091040132,0.06236128711802095,-0.19430247449342214,1.1073076493162546,-0.669804072634468,1.4792233884506674,0.41961258474089974,0.6215167378919153,-0.40231521782114515,-0.3632484923100821,0.1185430684370369,-0.2774648519849218,-0.3020128974515804,-0.3971863004040808,1.6287897391266177,0.8751625396431753,-0.40117917355624305,-1.581383232106049,-1.2374617413623668,2.110745170760792,-0.9500063721048858,0.58099951949188,1.0333897687603022,2.3639580399261573,-0.7304198843562436,-0.6005134255179924,-0.439250418717468,-0.9401157117773762,-1.627107684998559,-1.465614492985098,2.0313600741972158,0.3282335563938324,0.5101670130193007,0.7585699580260642,0.46536300832395544,1.5583869371530814,-0.7308106991026216,2.9587196981584105,-0.4296792353062852],\"yaxis\":\"y15\",\"type\":\"scatter\"},{\"histfunc\":\"count\",\"histnorm\":\"\",\"marker\":{\"color\":\"rgba(128, 0, 128, 1.0)\",\"line\":{\"color\":\"#4D5663\",\"width\":1.3}},\"name\":\"D\",\"nbinsx\":10,\"opacity\":0.8,\"orientation\":\"v\",\"x\":[-0.11329342116274008,-1.3574377750489648,1.9220449619482292,-2.459575173476962,0.22799790532202172,-0.6330919663247148,0.6577347410618968,-1.636811758240445,0.24254381752850562,-0.19871070045933223,0.06705022148339189,-0.8071860394487,1.0255169386400966,0.9163675724429156,-0.36297287807831025,0.5938245988004833,1.9616114818187456,1.2219187270279168,1.89159323245367,0.9252585461058572,-0.06849918911132674,-1.7449934717307074,-1.1204986606457699,0.4109899560906177,-0.7595748608958052,-0.26830483787800213,-0.07202709747021875,0.050654569645124436,-0.24072185895746046,-1.7568108619039302,1.8725808472966645,-0.008680308534701371,1.623380280545073,0.11317833450631196,-0.6695896037160816,1.4761587780318361,0.6375767126016454,-0.5801213714353558,0.9270673557079773,-1.4718028175674562,1.097696666925897,-1.8117956205685124,0.7848247435000166,-0.29100051106013647,0.8846838193112712,1.4844705701154899,1.1689770690035524,-1.16528111485165,-1.4934832626778773,-1.1810178426436153,-1.2216892294024275,-1.036259552786968,0.41626215551337675,-1.0659658119394881,2.7405016615912112,0.2308666485169981,-0.7864739853800282,0.1379059787072001,1.2868607547453876,-0.28481278530242604,0.732481925255684,0.8308152091040132,0.06236128711802095,-0.19430247449342214,1.1073076493162546,-0.669804072634468,1.4792233884506674,0.41961258474089974,0.6215167378919153,-0.40231521782114515,-0.3632484923100821,0.1185430684370369,-0.2774648519849218,-0.3020128974515804,-0.3971863004040808,1.6287897391266177,0.8751625396431753,-0.40117917355624305,-1.581383232106049,-1.2374617413623668,2.110745170760792,-0.9500063721048858,0.58099951949188,1.0333897687603022,2.3639580399261573,-0.7304198843562436,-0.6005134255179924,-0.439250418717468,-0.9401157117773762,-1.627107684998559,-1.465614492985098,2.0313600741972158,0.3282335563938324,0.5101670130193007,0.7585699580260642,0.46536300832395544,1.5583869371530814,-0.7308106991026216,2.9587196981584105,-0.4296792353062852],\"xaxis\":\"x16\",\"yaxis\":\"y16\",\"type\":\"histogram\"}],                        {\"bargap\":0.02,\"legend\":{\"bgcolor\":\"#F5F6F9\",\"font\":{\"color\":\"#4D5663\"}},\"paper_bgcolor\":\"#F5F6F9\",\"plot_bgcolor\":\"#F5F6F9\",\"showlegend\":false,\"template\":{\"data\":{\"barpolar\":[{\"marker\":{\"line\":{\"color\":\"#E5ECF6\",\"width\":0.5},\"pattern\":{\"fillmode\":\"overlay\",\"size\":10,\"solidity\":0.2}},\"type\":\"barpolar\"}],\"bar\":[{\"error_x\":{\"color\":\"#2a3f5f\"},\"error_y\":{\"color\":\"#2a3f5f\"},\"marker\":{\"line\":{\"color\":\"#E5ECF6\",\"width\":0.5},\"pattern\":{\"fillmode\":\"overlay\",\"size\":10,\"solidity\":0.2}},\"type\":\"bar\"}],\"carpet\":[{\"aaxis\":{\"endlinecolor\":\"#2a3f5f\",\"gridcolor\":\"white\",\"linecolor\":\"white\",\"minorgridcolor\":\"white\",\"startlinecolor\":\"#2a3f5f\"},\"baxis\":{\"endlinecolor\":\"#2a3f5f\",\"gridcolor\":\"white\",\"linecolor\":\"white\",\"minorgridcolor\":\"white\",\"startlinecolor\":\"#2a3f5f\"},\"type\":\"carpet\"}],\"choropleth\":[{\"colorbar\":{\"outlinewidth\":0,\"ticks\":\"\"},\"type\":\"choropleth\"}],\"contourcarpet\":[{\"colorbar\":{\"outlinewidth\":0,\"ticks\":\"\"},\"type\":\"contourcarpet\"}],\"contour\":[{\"colorbar\":{\"outlinewidth\":0,\"ticks\":\"\"},\"colorscale\":[[0.0,\"#0d0887\"],[0.1111111111111111,\"#46039f\"],[0.2222222222222222,\"#7201a8\"],[0.3333333333333333,\"#9c179e\"],[0.4444444444444444,\"#bd3786\"],[0.5555555555555556,\"#d8576b\"],[0.6666666666666666,\"#ed7953\"],[0.7777777777777778,\"#fb9f3a\"],[0.8888888888888888,\"#fdca26\"],[1.0,\"#f0f921\"]],\"type\":\"contour\"}],\"heatmapgl\":[{\"colorbar\":{\"outlinewidth\":0,\"ticks\":\"\"},\"colorscale\":[[0.0,\"#0d0887\"],[0.1111111111111111,\"#46039f\"],[0.2222222222222222,\"#7201a8\"],[0.3333333333333333,\"#9c179e\"],[0.4444444444444444,\"#bd3786\"],[0.5555555555555556,\"#d8576b\"],[0.6666666666666666,\"#ed7953\"],[0.7777777777777778,\"#fb9f3a\"],[0.8888888888888888,\"#fdca26\"],[1.0,\"#f0f921\"]],\"type\":\"heatmapgl\"}],\"heatmap\":[{\"colorbar\":{\"outlinewidth\":0,\"ticks\":\"\"},\"colorscale\":[[0.0,\"#0d0887\"],[0.1111111111111111,\"#46039f\"],[0.2222222222222222,\"#7201a8\"],[0.3333333333333333,\"#9c179e\"],[0.4444444444444444,\"#bd3786\"],[0.5555555555555556,\"#d8576b\"],[0.6666666666666666,\"#ed7953\"],[0.7777777777777778,\"#fb9f3a\"],[0.8888888888888888,\"#fdca26\"],[1.0,\"#f0f921\"]],\"type\":\"heatmap\"}],\"histogram2dcontour\":[{\"colorbar\":{\"outlinewidth\":0,\"ticks\":\"\"},\"colorscale\":[[0.0,\"#0d0887\"],[0.1111111111111111,\"#46039f\"],[0.2222222222222222,\"#7201a8\"],[0.3333333333333333,\"#9c179e\"],[0.4444444444444444,\"#bd3786\"],[0.5555555555555556,\"#d8576b\"],[0.6666666666666666,\"#ed7953\"],[0.7777777777777778,\"#fb9f3a\"],[0.8888888888888888,\"#fdca26\"],[1.0,\"#f0f921\"]],\"type\":\"histogram2dcontour\"}],\"histogram2d\":[{\"colorbar\":{\"outlinewidth\":0,\"ticks\":\"\"},\"colorscale\":[[0.0,\"#0d0887\"],[0.1111111111111111,\"#46039f\"],[0.2222222222222222,\"#7201a8\"],[0.3333333333333333,\"#9c179e\"],[0.4444444444444444,\"#bd3786\"],[0.5555555555555556,\"#d8576b\"],[0.6666666666666666,\"#ed7953\"],[0.7777777777777778,\"#fb9f3a\"],[0.8888888888888888,\"#fdca26\"],[1.0,\"#f0f921\"]],\"type\":\"histogram2d\"}],\"histogram\":[{\"marker\":{\"pattern\":{\"fillmode\":\"overlay\",\"size\":10,\"solidity\":0.2}},\"type\":\"histogram\"}],\"mesh3d\":[{\"colorbar\":{\"outlinewidth\":0,\"ticks\":\"\"},\"type\":\"mesh3d\"}],\"parcoords\":[{\"line\":{\"colorbar\":{\"outlinewidth\":0,\"ticks\":\"\"}},\"type\":\"parcoords\"}],\"pie\":[{\"automargin\":true,\"type\":\"pie\"}],\"scatter3d\":[{\"line\":{\"colorbar\":{\"outlinewidth\":0,\"ticks\":\"\"}},\"marker\":{\"colorbar\":{\"outlinewidth\":0,\"ticks\":\"\"}},\"type\":\"scatter3d\"}],\"scattercarpet\":[{\"marker\":{\"colorbar\":{\"outlinewidth\":0,\"ticks\":\"\"}},\"type\":\"scattercarpet\"}],\"scattergeo\":[{\"marker\":{\"colorbar\":{\"outlinewidth\":0,\"ticks\":\"\"}},\"type\":\"scattergeo\"}],\"scattergl\":[{\"marker\":{\"colorbar\":{\"outlinewidth\":0,\"ticks\":\"\"}},\"type\":\"scattergl\"}],\"scattermapbox\":[{\"marker\":{\"colorbar\":{\"outlinewidth\":0,\"ticks\":\"\"}},\"type\":\"scattermapbox\"}],\"scatterpolargl\":[{\"marker\":{\"colorbar\":{\"outlinewidth\":0,\"ticks\":\"\"}},\"type\":\"scatterpolargl\"}],\"scatterpolar\":[{\"marker\":{\"colorbar\":{\"outlinewidth\":0,\"ticks\":\"\"}},\"type\":\"scatterpolar\"}],\"scatter\":[{\"fillpattern\":{\"fillmode\":\"overlay\",\"size\":10,\"solidity\":0.2},\"type\":\"scatter\"}],\"scatterternary\":[{\"marker\":{\"colorbar\":{\"outlinewidth\":0,\"ticks\":\"\"}},\"type\":\"scatterternary\"}],\"surface\":[{\"colorbar\":{\"outlinewidth\":0,\"ticks\":\"\"},\"colorscale\":[[0.0,\"#0d0887\"],[0.1111111111111111,\"#46039f\"],[0.2222222222222222,\"#7201a8\"],[0.3333333333333333,\"#9c179e\"],[0.4444444444444444,\"#bd3786\"],[0.5555555555555556,\"#d8576b\"],[0.6666666666666666,\"#ed7953\"],[0.7777777777777778,\"#fb9f3a\"],[0.8888888888888888,\"#fdca26\"],[1.0,\"#f0f921\"]],\"type\":\"surface\"}],\"table\":[{\"cells\":{\"fill\":{\"color\":\"#EBF0F8\"},\"line\":{\"color\":\"white\"}},\"header\":{\"fill\":{\"color\":\"#C8D4E3\"},\"line\":{\"color\":\"white\"}},\"type\":\"table\"}]},\"layout\":{\"annotationdefaults\":{\"arrowcolor\":\"#2a3f5f\",\"arrowhead\":0,\"arrowwidth\":1},\"autotypenumbers\":\"strict\",\"coloraxis\":{\"colorbar\":{\"outlinewidth\":0,\"ticks\":\"\"}},\"colorscale\":{\"diverging\":[[0,\"#8e0152\"],[0.1,\"#c51b7d\"],[0.2,\"#de77ae\"],[0.3,\"#f1b6da\"],[0.4,\"#fde0ef\"],[0.5,\"#f7f7f7\"],[0.6,\"#e6f5d0\"],[0.7,\"#b8e186\"],[0.8,\"#7fbc41\"],[0.9,\"#4d9221\"],[1,\"#276419\"]],\"sequential\":[[0.0,\"#0d0887\"],[0.1111111111111111,\"#46039f\"],[0.2222222222222222,\"#7201a8\"],[0.3333333333333333,\"#9c179e\"],[0.4444444444444444,\"#bd3786\"],[0.5555555555555556,\"#d8576b\"],[0.6666666666666666,\"#ed7953\"],[0.7777777777777778,\"#fb9f3a\"],[0.8888888888888888,\"#fdca26\"],[1.0,\"#f0f921\"]],\"sequentialminus\":[[0.0,\"#0d0887\"],[0.1111111111111111,\"#46039f\"],[0.2222222222222222,\"#7201a8\"],[0.3333333333333333,\"#9c179e\"],[0.4444444444444444,\"#bd3786\"],[0.5555555555555556,\"#d8576b\"],[0.6666666666666666,\"#ed7953\"],[0.7777777777777778,\"#fb9f3a\"],[0.8888888888888888,\"#fdca26\"],[1.0,\"#f0f921\"]]},\"colorway\":[\"#636efa\",\"#EF553B\",\"#00cc96\",\"#ab63fa\",\"#FFA15A\",\"#19d3f3\",\"#FF6692\",\"#B6E880\",\"#FF97FF\",\"#FECB52\"],\"font\":{\"color\":\"#2a3f5f\"},\"geo\":{\"bgcolor\":\"white\",\"lakecolor\":\"white\",\"landcolor\":\"#E5ECF6\",\"showlakes\":true,\"showland\":true,\"subunitcolor\":\"white\"},\"hoverlabel\":{\"align\":\"left\"},\"hovermode\":\"closest\",\"mapbox\":{\"style\":\"light\"},\"paper_bgcolor\":\"white\",\"plot_bgcolor\":\"#E5ECF6\",\"polar\":{\"angularaxis\":{\"gridcolor\":\"white\",\"linecolor\":\"white\",\"ticks\":\"\"},\"bgcolor\":\"#E5ECF6\",\"radialaxis\":{\"gridcolor\":\"white\",\"linecolor\":\"white\",\"ticks\":\"\"}},\"scene\":{\"xaxis\":{\"backgroundcolor\":\"#E5ECF6\",\"gridcolor\":\"white\",\"gridwidth\":2,\"linecolor\":\"white\",\"showbackground\":true,\"ticks\":\"\",\"zerolinecolor\":\"white\"},\"yaxis\":{\"backgroundcolor\":\"#E5ECF6\",\"gridcolor\":\"white\",\"gridwidth\":2,\"linecolor\":\"white\",\"showbackground\":true,\"ticks\":\"\",\"zerolinecolor\":\"white\"},\"zaxis\":{\"backgroundcolor\":\"#E5ECF6\",\"gridcolor\":\"white\",\"gridwidth\":2,\"linecolor\":\"white\",\"showbackground\":true,\"ticks\":\"\",\"zerolinecolor\":\"white\"}},\"shapedefaults\":{\"line\":{\"color\":\"#2a3f5f\"}},\"ternary\":{\"aaxis\":{\"gridcolor\":\"white\",\"linecolor\":\"white\",\"ticks\":\"\"},\"baxis\":{\"gridcolor\":\"white\",\"linecolor\":\"white\",\"ticks\":\"\"},\"bgcolor\":\"#E5ECF6\",\"caxis\":{\"gridcolor\":\"white\",\"linecolor\":\"white\",\"ticks\":\"\"}},\"title\":{\"x\":0.05},\"xaxis\":{\"automargin\":true,\"gridcolor\":\"white\",\"linecolor\":\"white\",\"ticks\":\"\",\"title\":{\"standoff\":15},\"zerolinecolor\":\"white\",\"zerolinewidth\":2},\"yaxis\":{\"automargin\":true,\"gridcolor\":\"white\",\"linecolor\":\"white\",\"ticks\":\"\",\"title\":{\"standoff\":15},\"zerolinecolor\":\"white\",\"zerolinewidth\":2}}},\"title\":{\"font\":{\"color\":\"#4D5663\"}},\"xaxis\":{\"anchor\":\"y\",\"domain\":[0.0,0.2125],\"gridcolor\":\"#E1E5ED\",\"showgrid\":false,\"tickfont\":{\"color\":\"#4D5663\"},\"title\":{\"font\":{\"color\":\"#4D5663\"},\"text\":\"\"},\"zerolinecolor\":\"#E1E5ED\"},\"yaxis\":{\"anchor\":\"x\",\"domain\":[0.8025,1.0],\"gridcolor\":\"#E1E5ED\",\"showgrid\":false,\"tickfont\":{\"color\":\"#4D5663\"},\"title\":{\"font\":{\"color\":\"#4D5663\"},\"text\":\"\"},\"zerolinecolor\":\"#E1E5ED\"},\"xaxis2\":{\"anchor\":\"y2\",\"domain\":[0.2625,0.475],\"gridcolor\":\"#E1E5ED\",\"showgrid\":false,\"tickfont\":{\"color\":\"#4D5663\"},\"title\":{\"font\":{\"color\":\"#4D5663\"},\"text\":\"\"},\"zerolinecolor\":\"#E1E5ED\"},\"yaxis2\":{\"anchor\":\"x2\",\"domain\":[0.8025,1.0],\"gridcolor\":\"#E1E5ED\",\"showgrid\":false,\"tickfont\":{\"color\":\"#4D5663\"},\"title\":{\"font\":{\"color\":\"#4D5663\"},\"text\":\"\"},\"zerolinecolor\":\"#E1E5ED\"},\"xaxis3\":{\"anchor\":\"y3\",\"domain\":[0.525,0.7375],\"gridcolor\":\"#E1E5ED\",\"showgrid\":false,\"tickfont\":{\"color\":\"#4D5663\"},\"title\":{\"font\":{\"color\":\"#4D5663\"},\"text\":\"\"},\"zerolinecolor\":\"#E1E5ED\"},\"yaxis3\":{\"anchor\":\"x3\",\"domain\":[0.8025,1.0],\"gridcolor\":\"#E1E5ED\",\"showgrid\":false,\"tickfont\":{\"color\":\"#4D5663\"},\"title\":{\"font\":{\"color\":\"#4D5663\"},\"text\":\"\"},\"zerolinecolor\":\"#E1E5ED\"},\"xaxis4\":{\"anchor\":\"y4\",\"domain\":[0.7875,1.0],\"gridcolor\":\"#E1E5ED\",\"showgrid\":false,\"tickfont\":{\"color\":\"#4D5663\"},\"title\":{\"font\":{\"color\":\"#4D5663\"},\"text\":\"\"},\"zerolinecolor\":\"#E1E5ED\"},\"yaxis4\":{\"anchor\":\"x4\",\"domain\":[0.8025,1.0],\"gridcolor\":\"#E1E5ED\",\"showgrid\":false,\"tickfont\":{\"color\":\"#4D5663\"},\"title\":{\"font\":{\"color\":\"#4D5663\"},\"text\":\"\"},\"zerolinecolor\":\"#E1E5ED\"},\"xaxis5\":{\"anchor\":\"y5\",\"domain\":[0.0,0.2125],\"gridcolor\":\"#E1E5ED\",\"showgrid\":false,\"tickfont\":{\"color\":\"#4D5663\"},\"title\":{\"font\":{\"color\":\"#4D5663\"},\"text\":\"\"},\"zerolinecolor\":\"#E1E5ED\"},\"yaxis5\":{\"anchor\":\"x5\",\"domain\":[0.535,0.7325],\"gridcolor\":\"#E1E5ED\",\"showgrid\":false,\"tickfont\":{\"color\":\"#4D5663\"},\"title\":{\"font\":{\"color\":\"#4D5663\"},\"text\":\"\"},\"zerolinecolor\":\"#E1E5ED\"},\"xaxis6\":{\"anchor\":\"y6\",\"domain\":[0.2625,0.475],\"gridcolor\":\"#E1E5ED\",\"showgrid\":false,\"tickfont\":{\"color\":\"#4D5663\"},\"title\":{\"font\":{\"color\":\"#4D5663\"},\"text\":\"\"},\"zerolinecolor\":\"#E1E5ED\"},\"yaxis6\":{\"anchor\":\"x6\",\"domain\":[0.535,0.7325],\"gridcolor\":\"#E1E5ED\",\"showgrid\":false,\"tickfont\":{\"color\":\"#4D5663\"},\"title\":{\"font\":{\"color\":\"#4D5663\"},\"text\":\"\"},\"zerolinecolor\":\"#E1E5ED\"},\"xaxis7\":{\"anchor\":\"y7\",\"domain\":[0.525,0.7375],\"gridcolor\":\"#E1E5ED\",\"showgrid\":false,\"tickfont\":{\"color\":\"#4D5663\"},\"title\":{\"font\":{\"color\":\"#4D5663\"},\"text\":\"\"},\"zerolinecolor\":\"#E1E5ED\"},\"yaxis7\":{\"anchor\":\"x7\",\"domain\":[0.535,0.7325],\"gridcolor\":\"#E1E5ED\",\"showgrid\":false,\"tickfont\":{\"color\":\"#4D5663\"},\"title\":{\"font\":{\"color\":\"#4D5663\"},\"text\":\"\"},\"zerolinecolor\":\"#E1E5ED\"},\"xaxis8\":{\"anchor\":\"y8\",\"domain\":[0.7875,1.0],\"gridcolor\":\"#E1E5ED\",\"showgrid\":false,\"tickfont\":{\"color\":\"#4D5663\"},\"title\":{\"font\":{\"color\":\"#4D5663\"},\"text\":\"\"},\"zerolinecolor\":\"#E1E5ED\"},\"yaxis8\":{\"anchor\":\"x8\",\"domain\":[0.535,0.7325],\"gridcolor\":\"#E1E5ED\",\"showgrid\":false,\"tickfont\":{\"color\":\"#4D5663\"},\"title\":{\"font\":{\"color\":\"#4D5663\"},\"text\":\"\"},\"zerolinecolor\":\"#E1E5ED\"},\"xaxis9\":{\"anchor\":\"y9\",\"domain\":[0.0,0.2125],\"gridcolor\":\"#E1E5ED\",\"showgrid\":false,\"tickfont\":{\"color\":\"#4D5663\"},\"title\":{\"font\":{\"color\":\"#4D5663\"},\"text\":\"\"},\"zerolinecolor\":\"#E1E5ED\"},\"yaxis9\":{\"anchor\":\"x9\",\"domain\":[0.2675,0.465],\"gridcolor\":\"#E1E5ED\",\"showgrid\":false,\"tickfont\":{\"color\":\"#4D5663\"},\"title\":{\"font\":{\"color\":\"#4D5663\"},\"text\":\"\"},\"zerolinecolor\":\"#E1E5ED\"},\"xaxis10\":{\"anchor\":\"y10\",\"domain\":[0.2625,0.475],\"gridcolor\":\"#E1E5ED\",\"showgrid\":false,\"tickfont\":{\"color\":\"#4D5663\"},\"title\":{\"font\":{\"color\":\"#4D5663\"},\"text\":\"\"},\"zerolinecolor\":\"#E1E5ED\"},\"yaxis10\":{\"anchor\":\"x10\",\"domain\":[0.2675,0.465],\"gridcolor\":\"#E1E5ED\",\"showgrid\":false,\"tickfont\":{\"color\":\"#4D5663\"},\"title\":{\"font\":{\"color\":\"#4D5663\"},\"text\":\"\"},\"zerolinecolor\":\"#E1E5ED\"},\"xaxis11\":{\"anchor\":\"y11\",\"domain\":[0.525,0.7375],\"gridcolor\":\"#E1E5ED\",\"showgrid\":false,\"tickfont\":{\"color\":\"#4D5663\"},\"title\":{\"font\":{\"color\":\"#4D5663\"},\"text\":\"\"},\"zerolinecolor\":\"#E1E5ED\"},\"yaxis11\":{\"anchor\":\"x11\",\"domain\":[0.2675,0.465],\"gridcolor\":\"#E1E5ED\",\"showgrid\":false,\"tickfont\":{\"color\":\"#4D5663\"},\"title\":{\"font\":{\"color\":\"#4D5663\"},\"text\":\"\"},\"zerolinecolor\":\"#E1E5ED\"},\"xaxis12\":{\"anchor\":\"y12\",\"domain\":[0.7875,1.0],\"gridcolor\":\"#E1E5ED\",\"showgrid\":false,\"tickfont\":{\"color\":\"#4D5663\"},\"title\":{\"font\":{\"color\":\"#4D5663\"},\"text\":\"\"},\"zerolinecolor\":\"#E1E5ED\"},\"yaxis12\":{\"anchor\":\"x12\",\"domain\":[0.2675,0.465],\"gridcolor\":\"#E1E5ED\",\"showgrid\":false,\"tickfont\":{\"color\":\"#4D5663\"},\"title\":{\"font\":{\"color\":\"#4D5663\"},\"text\":\"\"},\"zerolinecolor\":\"#E1E5ED\"},\"xaxis13\":{\"anchor\":\"y13\",\"domain\":[0.0,0.2125],\"gridcolor\":\"#E1E5ED\",\"showgrid\":false,\"tickfont\":{\"color\":\"#4D5663\"},\"title\":{\"font\":{\"color\":\"#4D5663\"},\"text\":\"\"},\"zerolinecolor\":\"#E1E5ED\"},\"yaxis13\":{\"anchor\":\"x13\",\"domain\":[0.0,0.1975],\"gridcolor\":\"#E1E5ED\",\"showgrid\":false,\"tickfont\":{\"color\":\"#4D5663\"},\"title\":{\"font\":{\"color\":\"#4D5663\"},\"text\":\"\"},\"zerolinecolor\":\"#E1E5ED\"},\"xaxis14\":{\"anchor\":\"y14\",\"domain\":[0.2625,0.475],\"gridcolor\":\"#E1E5ED\",\"showgrid\":false,\"tickfont\":{\"color\":\"#4D5663\"},\"title\":{\"font\":{\"color\":\"#4D5663\"},\"text\":\"\"},\"zerolinecolor\":\"#E1E5ED\"},\"yaxis14\":{\"anchor\":\"x14\",\"domain\":[0.0,0.1975],\"gridcolor\":\"#E1E5ED\",\"showgrid\":false,\"tickfont\":{\"color\":\"#4D5663\"},\"title\":{\"font\":{\"color\":\"#4D5663\"},\"text\":\"\"},\"zerolinecolor\":\"#E1E5ED\"},\"xaxis15\":{\"anchor\":\"y15\",\"domain\":[0.525,0.7375],\"gridcolor\":\"#E1E5ED\",\"showgrid\":false,\"tickfont\":{\"color\":\"#4D5663\"},\"title\":{\"font\":{\"color\":\"#4D5663\"},\"text\":\"\"},\"zerolinecolor\":\"#E1E5ED\"},\"yaxis15\":{\"anchor\":\"x15\",\"domain\":[0.0,0.1975],\"gridcolor\":\"#E1E5ED\",\"showgrid\":false,\"tickfont\":{\"color\":\"#4D5663\"},\"title\":{\"font\":{\"color\":\"#4D5663\"},\"text\":\"\"},\"zerolinecolor\":\"#E1E5ED\"},\"xaxis16\":{\"anchor\":\"y16\",\"domain\":[0.7875,1.0],\"gridcolor\":\"#E1E5ED\",\"showgrid\":false,\"tickfont\":{\"color\":\"#4D5663\"},\"title\":{\"font\":{\"color\":\"#4D5663\"},\"text\":\"\"},\"zerolinecolor\":\"#E1E5ED\"},\"yaxis16\":{\"anchor\":\"x16\",\"domain\":[0.0,0.1975],\"gridcolor\":\"#E1E5ED\",\"showgrid\":false,\"tickfont\":{\"color\":\"#4D5663\"},\"title\":{\"font\":{\"color\":\"#4D5663\"},\"text\":\"\"},\"zerolinecolor\":\"#E1E5ED\"}},                        {\"showLink\": true, \"linkText\": \"Export to plot.ly\", \"plotlyServerURL\": \"https://plot.ly\", \"responsive\": true}                    ).then(function(){\n",
       "                            \n",
       "var gd = document.getElementById('ee145357-e270-49d4-a1c2-7c4c23de03fe');\n",
       "var x = new MutationObserver(function (mutations, observer) {{\n",
       "        var display = window.getComputedStyle(gd).display;\n",
       "        if (!display || display === 'none') {{\n",
       "            console.log([gd, 'removed!']);\n",
       "            Plotly.purge(gd);\n",
       "            observer.disconnect();\n",
       "        }}\n",
       "}});\n",
       "\n",
       "// Listen for the removal of the full notebook cells\n",
       "var notebookContainer = gd.closest('#notebook-container');\n",
       "if (notebookContainer) {{\n",
       "    x.observe(notebookContainer, {childList: true});\n",
       "}}\n",
       "\n",
       "// Listen for the clearing of the current output cell\n",
       "var outputEl = gd.closest('.output');\n",
       "if (outputEl) {{\n",
       "    x.observe(outputEl, {childList: true});\n",
       "}}\n",
       "\n",
       "                        })                };                });            </script>        </div>"
      ]
     },
     "metadata": {},
     "output_type": "display_data"
    }
   ],
   "source": [
    "df.scatter_matrix()"
   ]
  },
  {
   "cell_type": "markdown",
   "metadata": {
    "collapsed": true
   },
   "source": [
    "# Great Job!"
   ]
  }
 ],
 "metadata": {
  "kernelspec": {
   "display_name": "Python 3",
   "language": "python",
   "name": "python3"
  },
  "language_info": {
   "codemirror_mode": {
    "name": "ipython",
    "version": 3
   },
   "file_extension": ".py",
   "mimetype": "text/x-python",
   "name": "python",
   "nbconvert_exporter": "python",
   "pygments_lexer": "ipython3",
   "version": "3.8.5"
  }
 },
 "nbformat": 4,
 "nbformat_minor": 1
}
